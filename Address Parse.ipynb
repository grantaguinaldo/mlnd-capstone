{
 "cells": [
  {
   "cell_type": "code",
   "execution_count": 1,
   "metadata": {
    "collapsed": true
   },
   "outputs": [],
   "source": [
    "from collections import OrderedDict, Counter\n",
    "import pandas as pd\n",
    "import usaddress"
   ]
  },
  {
   "cell_type": "code",
   "execution_count": 2,
   "metadata": {
    "collapsed": true
   },
   "outputs": [],
   "source": [
    "x = '44321 Road 80, Bakersfield, CA'\n",
    "y = '1234 North Avenue 60, Compton, CA 91000'"
   ]
  },
  {
   "cell_type": "code",
   "execution_count": 3,
   "metadata": {
    "collapsed": true
   },
   "outputs": [],
   "source": [
    "o_dict_list = [(OrderedDict([('StreetNamePreType', 'ROAD'), ('StreetName', 'Coffee')]), 'Ambiguous'),\n",
    "               (OrderedDict([('StreetNamePreType', 'AVENUE'), ('StreetName', 'Washington')]), 'Ambiguous'),\n",
    "               (OrderedDict([('StreetNamePreType', 'ROAD'), ('StreetName', 'Quartz'), ('StreetNumber', '1872')]), 'Ambiguous')]"
   ]
  },
  {
   "cell_type": "code",
   "execution_count": 4,
   "metadata": {
    "collapsed": true
   },
   "outputs": [],
   "source": [
    "o_dict_list[0][0].update({'initial_index':'3'})"
   ]
  },
  {
   "cell_type": "code",
   "execution_count": 5,
   "metadata": {},
   "outputs": [
    {
     "data": {
      "text/plain": [
       "(OrderedDict([('StreetNamePreType', 'ROAD'),\n",
       "              ('StreetName', 'Coffee'),\n",
       "              ('initial_index', '3')]),\n",
       " 'Ambiguous')"
      ]
     },
     "execution_count": 5,
     "metadata": {},
     "output_type": "execute_result"
    }
   ],
   "source": [
    "o_dict_list[0]"
   ]
  },
  {
   "cell_type": "code",
   "execution_count": 6,
   "metadata": {},
   "outputs": [],
   "source": [
    "values= []\n",
    "for i in range(len(o_dict_list)):\n",
    "    values.append(o_dict_list[i][0])\n",
    "\n",
    "dfs = pd.DataFrame(values)"
   ]
  },
  {
   "cell_type": "code",
   "execution_count": 7,
   "metadata": {
    "collapsed": true
   },
   "outputs": [],
   "source": [
    "dfs['sample_address'] = ''"
   ]
  },
  {
   "cell_type": "code",
   "execution_count": 8,
   "metadata": {},
   "outputs": [],
   "source": [
    "dfs.at[0, 'sample_address'] = '1234 North Avenue 60, Compton, CA 91000'\n",
    "dfs.at[1, 'sample_address'] = '44321 Road 80, Bakersfield, CA'\n",
    "dfs.at[2, 'sample_address'] = '1872 Road 87483, Hawaii, CA'\n",
    "dfs.at[3, 'sample_address'] = '960 Iolani Street, Los Angeles, CA'\n",
    "dfs.at[4, 'sample_address'] = '3460 Oakgate Street, Kahului, CA'"
   ]
  },
  {
   "cell_type": "code",
   "execution_count": 9,
   "metadata": {},
   "outputs": [],
   "source": [
    "dfs.at[0, 'initial_index'] = 0\n",
    "dfs.at[1, 'initial_index'] = 1\n",
    "dfs.at[2, 'initial_index'] = 2\n",
    "dfs.at[3, 'initial_index'] = 3\n",
    "dfs.at[4, 'initial_index'] = 5678990000"
   ]
  },
  {
   "cell_type": "code",
   "execution_count": 10,
   "metadata": {},
   "outputs": [
    {
     "data": {
      "text/html": [
       "<div>\n",
       "<style scoped>\n",
       "    .dataframe tbody tr th:only-of-type {\n",
       "        vertical-align: middle;\n",
       "    }\n",
       "\n",
       "    .dataframe tbody tr th {\n",
       "        vertical-align: top;\n",
       "    }\n",
       "\n",
       "    .dataframe thead th {\n",
       "        text-align: right;\n",
       "    }\n",
       "</style>\n",
       "<table border=\"1\" class=\"dataframe\">\n",
       "  <thead>\n",
       "    <tr style=\"text-align: right;\">\n",
       "      <th></th>\n",
       "      <th>StreetNamePreType</th>\n",
       "      <th>StreetName</th>\n",
       "      <th>initial_index</th>\n",
       "      <th>StreetNumber</th>\n",
       "      <th>sample_address</th>\n",
       "    </tr>\n",
       "  </thead>\n",
       "  <tbody>\n",
       "    <tr>\n",
       "      <th>0</th>\n",
       "      <td>ROAD</td>\n",
       "      <td>Coffee</td>\n",
       "      <td>0</td>\n",
       "      <td>NaN</td>\n",
       "      <td>1234 North Avenue 60, Compton, CA 91000</td>\n",
       "    </tr>\n",
       "    <tr>\n",
       "      <th>1</th>\n",
       "      <td>AVENUE</td>\n",
       "      <td>Washington</td>\n",
       "      <td>1</td>\n",
       "      <td>NaN</td>\n",
       "      <td>44321 Road 80, Bakersfield, CA</td>\n",
       "    </tr>\n",
       "    <tr>\n",
       "      <th>2</th>\n",
       "      <td>ROAD</td>\n",
       "      <td>Quartz</td>\n",
       "      <td>2</td>\n",
       "      <td>1872</td>\n",
       "      <td>1872 Road 87483, Hawaii, CA</td>\n",
       "    </tr>\n",
       "    <tr>\n",
       "      <th>3</th>\n",
       "      <td>NaN</td>\n",
       "      <td>NaN</td>\n",
       "      <td>3</td>\n",
       "      <td>NaN</td>\n",
       "      <td>960 Iolani Street, Los Angeles, CA</td>\n",
       "    </tr>\n",
       "    <tr>\n",
       "      <th>4</th>\n",
       "      <td>NaN</td>\n",
       "      <td>NaN</td>\n",
       "      <td>5678990000</td>\n",
       "      <td>NaN</td>\n",
       "      <td>3460 Oakgate Street, Kahului, CA</td>\n",
       "    </tr>\n",
       "  </tbody>\n",
       "</table>\n",
       "</div>"
      ],
      "text/plain": [
       "  StreetNamePreType  StreetName initial_index StreetNumber  \\\n",
       "0              ROAD      Coffee             0          NaN   \n",
       "1            AVENUE  Washington             1          NaN   \n",
       "2              ROAD      Quartz             2         1872   \n",
       "3               NaN         NaN             3          NaN   \n",
       "4               NaN         NaN    5678990000          NaN   \n",
       "\n",
       "                            sample_address  \n",
       "0  1234 North Avenue 60, Compton, CA 91000  \n",
       "1           44321 Road 80, Bakersfield, CA  \n",
       "2              1872 Road 87483, Hawaii, CA  \n",
       "3       960 Iolani Street, Los Angeles, CA  \n",
       "4         3460 Oakgate Street, Kahului, CA  "
      ]
     },
     "execution_count": 10,
     "metadata": {},
     "output_type": "execute_result"
    }
   ],
   "source": [
    "dfs"
   ]
  },
  {
   "cell_type": "code",
   "execution_count": 11,
   "metadata": {},
   "outputs": [],
   "source": [
    "dfs['address_parsed'] = ''\n",
    "dfs.drop(['StreetNamePreType', 'StreetName', 'StreetNumber'], axis=1, inplace=True)"
   ]
  },
  {
   "cell_type": "code",
   "execution_count": 12,
   "metadata": {},
   "outputs": [
    {
     "data": {
      "text/html": [
       "<div>\n",
       "<style scoped>\n",
       "    .dataframe tbody tr th:only-of-type {\n",
       "        vertical-align: middle;\n",
       "    }\n",
       "\n",
       "    .dataframe tbody tr th {\n",
       "        vertical-align: top;\n",
       "    }\n",
       "\n",
       "    .dataframe thead th {\n",
       "        text-align: right;\n",
       "    }\n",
       "</style>\n",
       "<table border=\"1\" class=\"dataframe\">\n",
       "  <thead>\n",
       "    <tr style=\"text-align: right;\">\n",
       "      <th></th>\n",
       "      <th>initial_index</th>\n",
       "      <th>sample_address</th>\n",
       "      <th>address_parsed</th>\n",
       "    </tr>\n",
       "  </thead>\n",
       "  <tbody>\n",
       "    <tr>\n",
       "      <th>0</th>\n",
       "      <td>0</td>\n",
       "      <td>1234 North Avenue 60, Compton, CA 91000</td>\n",
       "      <td></td>\n",
       "    </tr>\n",
       "    <tr>\n",
       "      <th>1</th>\n",
       "      <td>1</td>\n",
       "      <td>44321 Road 80, Bakersfield, CA</td>\n",
       "      <td></td>\n",
       "    </tr>\n",
       "    <tr>\n",
       "      <th>2</th>\n",
       "      <td>2</td>\n",
       "      <td>1872 Road 87483, Hawaii, CA</td>\n",
       "      <td></td>\n",
       "    </tr>\n",
       "    <tr>\n",
       "      <th>3</th>\n",
       "      <td>3</td>\n",
       "      <td>960 Iolani Street, Los Angeles, CA</td>\n",
       "      <td></td>\n",
       "    </tr>\n",
       "    <tr>\n",
       "      <th>4</th>\n",
       "      <td>5678990000</td>\n",
       "      <td>3460 Oakgate Street, Kahului, CA</td>\n",
       "      <td></td>\n",
       "    </tr>\n",
       "  </tbody>\n",
       "</table>\n",
       "</div>"
      ],
      "text/plain": [
       "  initial_index                           sample_address address_parsed\n",
       "0             0  1234 North Avenue 60, Compton, CA 91000               \n",
       "1             1           44321 Road 80, Bakersfield, CA               \n",
       "2             2              1872 Road 87483, Hawaii, CA               \n",
       "3             3       960 Iolani Street, Los Angeles, CA               \n",
       "4    5678990000         3460 Oakgate Street, Kahului, CA               "
      ]
     },
     "execution_count": 12,
     "metadata": {},
     "output_type": "execute_result"
    }
   ],
   "source": [
    "dfs"
   ]
  },
  {
   "cell_type": "code",
   "execution_count": 13,
   "metadata": {
    "collapsed": true
   },
   "outputs": [],
   "source": [
    "dfs['address_parsed_2'] = ''"
   ]
  },
  {
   "cell_type": "code",
   "execution_count": 14,
   "metadata": {},
   "outputs": [
    {
     "data": {
      "text/html": [
       "<div>\n",
       "<style scoped>\n",
       "    .dataframe tbody tr th:only-of-type {\n",
       "        vertical-align: middle;\n",
       "    }\n",
       "\n",
       "    .dataframe tbody tr th {\n",
       "        vertical-align: top;\n",
       "    }\n",
       "\n",
       "    .dataframe thead th {\n",
       "        text-align: right;\n",
       "    }\n",
       "</style>\n",
       "<table border=\"1\" class=\"dataframe\">\n",
       "  <thead>\n",
       "    <tr style=\"text-align: right;\">\n",
       "      <th></th>\n",
       "      <th>initial_index</th>\n",
       "      <th>sample_address</th>\n",
       "      <th>address_parsed</th>\n",
       "      <th>address_parsed_2</th>\n",
       "    </tr>\n",
       "  </thead>\n",
       "  <tbody>\n",
       "    <tr>\n",
       "      <th>0</th>\n",
       "      <td>0</td>\n",
       "      <td>1234 North Avenue 60, Compton, CA 91000</td>\n",
       "      <td></td>\n",
       "      <td></td>\n",
       "    </tr>\n",
       "    <tr>\n",
       "      <th>1</th>\n",
       "      <td>1</td>\n",
       "      <td>44321 Road 80, Bakersfield, CA</td>\n",
       "      <td></td>\n",
       "      <td></td>\n",
       "    </tr>\n",
       "    <tr>\n",
       "      <th>2</th>\n",
       "      <td>2</td>\n",
       "      <td>1872 Road 87483, Hawaii, CA</td>\n",
       "      <td></td>\n",
       "      <td></td>\n",
       "    </tr>\n",
       "    <tr>\n",
       "      <th>3</th>\n",
       "      <td>3</td>\n",
       "      <td>960 Iolani Street, Los Angeles, CA</td>\n",
       "      <td></td>\n",
       "      <td></td>\n",
       "    </tr>\n",
       "    <tr>\n",
       "      <th>4</th>\n",
       "      <td>5678990000</td>\n",
       "      <td>3460 Oakgate Street, Kahului, CA</td>\n",
       "      <td></td>\n",
       "      <td></td>\n",
       "    </tr>\n",
       "  </tbody>\n",
       "</table>\n",
       "</div>"
      ],
      "text/plain": [
       "  initial_index                           sample_address address_parsed  \\\n",
       "0             0  1234 North Avenue 60, Compton, CA 91000                  \n",
       "1             1           44321 Road 80, Bakersfield, CA                  \n",
       "2             2              1872 Road 87483, Hawaii, CA                  \n",
       "3             3       960 Iolani Street, Los Angeles, CA                  \n",
       "4    5678990000         3460 Oakgate Street, Kahului, CA                  \n",
       "\n",
       "  address_parsed_2  \n",
       "0                   \n",
       "1                   \n",
       "2                   \n",
       "3                   \n",
       "4                   "
      ]
     },
     "execution_count": 14,
     "metadata": {},
     "output_type": "execute_result"
    }
   ],
   "source": [
    "dfs"
   ]
  },
  {
   "cell_type": "code",
   "execution_count": 15,
   "metadata": {},
   "outputs": [
    {
     "name": "stderr",
     "output_type": "stream",
     "text": [
      "/Users/gta/anaconda3/lib/python3.6/site-packages/ipykernel_launcher.py:4: FutureWarning: set_value is deprecated and will be removed in a future release. Please use .at[] or .iat[] accessors instead\n",
      "  after removing the cwd from sys.path.\n"
     ]
    },
    {
     "data": {
      "text/plain": [
       "[]"
      ]
     },
     "execution_count": 15,
     "metadata": {},
     "output_type": "execute_result"
    }
   ],
   "source": [
    "index_ = []\n",
    "for index, row in dfs.iterrows():\n",
    "    try:\n",
    "        dfs.set_value(index, 'address_parsed', usaddress.tag(row['sample_address'])[0])\n",
    "    except:\n",
    "        index_.append(index)\n",
    "index_"
   ]
  },
  {
   "cell_type": "code",
   "execution_count": 16,
   "metadata": {},
   "outputs": [
    {
     "data": {
      "text/html": [
       "<div>\n",
       "<style scoped>\n",
       "    .dataframe tbody tr th:only-of-type {\n",
       "        vertical-align: middle;\n",
       "    }\n",
       "\n",
       "    .dataframe tbody tr th {\n",
       "        vertical-align: top;\n",
       "    }\n",
       "\n",
       "    .dataframe thead th {\n",
       "        text-align: right;\n",
       "    }\n",
       "</style>\n",
       "<table border=\"1\" class=\"dataframe\">\n",
       "  <thead>\n",
       "    <tr style=\"text-align: right;\">\n",
       "      <th></th>\n",
       "      <th>initial_index</th>\n",
       "      <th>sample_address</th>\n",
       "      <th>address_parsed</th>\n",
       "      <th>address_parsed_2</th>\n",
       "    </tr>\n",
       "  </thead>\n",
       "  <tbody>\n",
       "    <tr>\n",
       "      <th>0</th>\n",
       "      <td>0</td>\n",
       "      <td>1234 North Avenue 60, Compton, CA 91000</td>\n",
       "      <td>{'AddressNumber': '1234', 'StreetNamePreDirect...</td>\n",
       "      <td></td>\n",
       "    </tr>\n",
       "    <tr>\n",
       "      <th>1</th>\n",
       "      <td>1</td>\n",
       "      <td>44321 Road 80, Bakersfield, CA</td>\n",
       "      <td>{'AddressNumber': '44321', 'StreetNamePreType'...</td>\n",
       "      <td></td>\n",
       "    </tr>\n",
       "    <tr>\n",
       "      <th>2</th>\n",
       "      <td>2</td>\n",
       "      <td>1872 Road 87483, Hawaii, CA</td>\n",
       "      <td>{'AddressNumber': '1872', 'StreetNamePreType':...</td>\n",
       "      <td></td>\n",
       "    </tr>\n",
       "    <tr>\n",
       "      <th>3</th>\n",
       "      <td>3</td>\n",
       "      <td>960 Iolani Street, Los Angeles, CA</td>\n",
       "      <td>{'AddressNumber': '960', 'StreetName': 'Iolani...</td>\n",
       "      <td></td>\n",
       "    </tr>\n",
       "    <tr>\n",
       "      <th>4</th>\n",
       "      <td>5678990000</td>\n",
       "      <td>3460 Oakgate Street, Kahului, CA</td>\n",
       "      <td>{'AddressNumber': '3460', 'StreetName': 'Oakga...</td>\n",
       "      <td></td>\n",
       "    </tr>\n",
       "  </tbody>\n",
       "</table>\n",
       "</div>"
      ],
      "text/plain": [
       "  initial_index                           sample_address  \\\n",
       "0             0  1234 North Avenue 60, Compton, CA 91000   \n",
       "1             1           44321 Road 80, Bakersfield, CA   \n",
       "2             2              1872 Road 87483, Hawaii, CA   \n",
       "3             3       960 Iolani Street, Los Angeles, CA   \n",
       "4    5678990000         3460 Oakgate Street, Kahului, CA   \n",
       "\n",
       "                                      address_parsed address_parsed_2  \n",
       "0  {'AddressNumber': '1234', 'StreetNamePreDirect...                   \n",
       "1  {'AddressNumber': '44321', 'StreetNamePreType'...                   \n",
       "2  {'AddressNumber': '1872', 'StreetNamePreType':...                   \n",
       "3  {'AddressNumber': '960', 'StreetName': 'Iolani...                   \n",
       "4  {'AddressNumber': '3460', 'StreetName': 'Oakga...                   "
      ]
     },
     "execution_count": 16,
     "metadata": {},
     "output_type": "execute_result"
    }
   ],
   "source": [
    "dfs"
   ]
  },
  {
   "cell_type": "code",
   "execution_count": 17,
   "metadata": {},
   "outputs": [
    {
     "data": {
      "text/plain": [
       "OrderedDict([('AddressNumber', '3460'),\n",
       "             ('StreetName', 'Oakgate'),\n",
       "             ('StreetNamePostType', 'Street'),\n",
       "             ('PlaceName', 'Kahului'),\n",
       "             ('StateName', 'CA')])"
      ]
     },
     "execution_count": 17,
     "metadata": {},
     "output_type": "execute_result"
    }
   ],
   "source": [
    "dfs.loc[4]['address_parsed']"
   ]
  },
  {
   "cell_type": "code",
   "execution_count": 18,
   "metadata": {},
   "outputs": [
    {
     "name": "stderr",
     "output_type": "stream",
     "text": [
      "/Users/gta/anaconda3/lib/python3.6/site-packages/ipykernel_launcher.py:4: FutureWarning: set_value is deprecated and will be removed in a future release. Please use .at[] or .iat[] accessors instead\n",
      "  after removing the cwd from sys.path.\n"
     ]
    },
    {
     "data": {
      "text/plain": [
       "[]"
      ]
     },
     "execution_count": 18,
     "metadata": {},
     "output_type": "execute_result"
    }
   ],
   "source": [
    "index_ = []\n",
    "for index, row in dfs.iterrows():\n",
    "    try:\n",
    "        dfs.set_value(index, 'address_parsed_2', row['address_parsed'].update({'initial_index': str(row['initial_index'])}))\n",
    "    except:\n",
    "        index_.append(index)\n",
    "index_"
   ]
  },
  {
   "cell_type": "code",
   "execution_count": 19,
   "metadata": {},
   "outputs": [
    {
     "data": {
      "text/plain": [
       "OrderedDict([('AddressNumber', '3460'),\n",
       "             ('StreetName', 'Oakgate'),\n",
       "             ('StreetNamePostType', 'Street'),\n",
       "             ('PlaceName', 'Kahului'),\n",
       "             ('StateName', 'CA'),\n",
       "             ('initial_index', '5678990000')])"
      ]
     },
     "execution_count": 19,
     "metadata": {},
     "output_type": "execute_result"
    }
   ],
   "source": [
    "dfs.loc[4]['address_parsed']"
   ]
  },
  {
   "cell_type": "code",
   "execution_count": 20,
   "metadata": {},
   "outputs": [
    {
     "data": {
      "text/html": [
       "<div>\n",
       "<style scoped>\n",
       "    .dataframe tbody tr th:only-of-type {\n",
       "        vertical-align: middle;\n",
       "    }\n",
       "\n",
       "    .dataframe tbody tr th {\n",
       "        vertical-align: top;\n",
       "    }\n",
       "\n",
       "    .dataframe thead th {\n",
       "        text-align: right;\n",
       "    }\n",
       "</style>\n",
       "<table border=\"1\" class=\"dataframe\">\n",
       "  <thead>\n",
       "    <tr style=\"text-align: right;\">\n",
       "      <th></th>\n",
       "      <th>initial_index</th>\n",
       "      <th>sample_address</th>\n",
       "      <th>address_parsed</th>\n",
       "      <th>address_parsed_2</th>\n",
       "    </tr>\n",
       "  </thead>\n",
       "  <tbody>\n",
       "    <tr>\n",
       "      <th>0</th>\n",
       "      <td>0</td>\n",
       "      <td>1234 North Avenue 60, Compton, CA 91000</td>\n",
       "      <td>{'AddressNumber': '1234', 'StreetNamePreDirect...</td>\n",
       "      <td>None</td>\n",
       "    </tr>\n",
       "    <tr>\n",
       "      <th>1</th>\n",
       "      <td>1</td>\n",
       "      <td>44321 Road 80, Bakersfield, CA</td>\n",
       "      <td>{'AddressNumber': '44321', 'StreetNamePreType'...</td>\n",
       "      <td>None</td>\n",
       "    </tr>\n",
       "    <tr>\n",
       "      <th>2</th>\n",
       "      <td>2</td>\n",
       "      <td>1872 Road 87483, Hawaii, CA</td>\n",
       "      <td>{'AddressNumber': '1872', 'StreetNamePreType':...</td>\n",
       "      <td>None</td>\n",
       "    </tr>\n",
       "    <tr>\n",
       "      <th>3</th>\n",
       "      <td>3</td>\n",
       "      <td>960 Iolani Street, Los Angeles, CA</td>\n",
       "      <td>{'AddressNumber': '960', 'StreetName': 'Iolani...</td>\n",
       "      <td>None</td>\n",
       "    </tr>\n",
       "    <tr>\n",
       "      <th>4</th>\n",
       "      <td>5678990000</td>\n",
       "      <td>3460 Oakgate Street, Kahului, CA</td>\n",
       "      <td>{'AddressNumber': '3460', 'StreetName': 'Oakga...</td>\n",
       "      <td>None</td>\n",
       "    </tr>\n",
       "  </tbody>\n",
       "</table>\n",
       "</div>"
      ],
      "text/plain": [
       "  initial_index                           sample_address  \\\n",
       "0             0  1234 North Avenue 60, Compton, CA 91000   \n",
       "1             1           44321 Road 80, Bakersfield, CA   \n",
       "2             2              1872 Road 87483, Hawaii, CA   \n",
       "3             3       960 Iolani Street, Los Angeles, CA   \n",
       "4    5678990000         3460 Oakgate Street, Kahului, CA   \n",
       "\n",
       "                                      address_parsed address_parsed_2  \n",
       "0  {'AddressNumber': '1234', 'StreetNamePreDirect...             None  \n",
       "1  {'AddressNumber': '44321', 'StreetNamePreType'...             None  \n",
       "2  {'AddressNumber': '1872', 'StreetNamePreType':...             None  \n",
       "3  {'AddressNumber': '960', 'StreetName': 'Iolani...             None  \n",
       "4  {'AddressNumber': '3460', 'StreetName': 'Oakga...             None  "
      ]
     },
     "execution_count": 20,
     "metadata": {},
     "output_type": "execute_result"
    }
   ],
   "source": [
    "dfs"
   ]
  },
  {
   "cell_type": "code",
   "execution_count": 21,
   "metadata": {},
   "outputs": [
    {
     "data": {
      "text/plain": [
       "OrderedDict([('AddressNumber', '3460'),\n",
       "             ('StreetName', 'Oakgate'),\n",
       "             ('StreetNamePostType', 'Street'),\n",
       "             ('PlaceName', 'Kahului'),\n",
       "             ('StateName', 'CA'),\n",
       "             ('initial_index', '5678990000')])"
      ]
     },
     "execution_count": 21,
     "metadata": {},
     "output_type": "execute_result"
    }
   ],
   "source": [
    "dfs.loc[4]['address_parsed']"
   ]
  },
  {
   "cell_type": "code",
   "execution_count": 22,
   "metadata": {},
   "outputs": [
    {
     "data": {
      "text/plain": [
       "[OrderedDict([('AddressNumber', '1234'),\n",
       "              ('StreetNamePreDirectional', 'North'),\n",
       "              ('StreetNamePreType', 'Avenue'),\n",
       "              ('StreetName', '60'),\n",
       "              ('PlaceName', 'Compton'),\n",
       "              ('StateName', 'CA'),\n",
       "              ('ZipCode', '91000'),\n",
       "              ('initial_index', '0')]),\n",
       " OrderedDict([('AddressNumber', '44321'),\n",
       "              ('StreetNamePreType', 'Road'),\n",
       "              ('StreetName', '80'),\n",
       "              ('PlaceName', 'Bakersfield'),\n",
       "              ('StateName', 'CA'),\n",
       "              ('initial_index', '1')]),\n",
       " OrderedDict([('AddressNumber', '1872'),\n",
       "              ('StreetNamePreType', 'Road'),\n",
       "              ('StreetName', '87483'),\n",
       "              ('PlaceName', 'Hawaii'),\n",
       "              ('StateName', 'CA'),\n",
       "              ('initial_index', '2')]),\n",
       " OrderedDict([('AddressNumber', '960'),\n",
       "              ('StreetName', 'Iolani'),\n",
       "              ('StreetNamePostType', 'Street'),\n",
       "              ('PlaceName', 'Los Angeles'),\n",
       "              ('StateName', 'CA'),\n",
       "              ('initial_index', '3')]),\n",
       " OrderedDict([('AddressNumber', '3460'),\n",
       "              ('StreetName', 'Oakgate'),\n",
       "              ('StreetNamePostType', 'Street'),\n",
       "              ('PlaceName', 'Kahului'),\n",
       "              ('StateName', 'CA'),\n",
       "              ('initial_index', '5678990000')])]"
      ]
     },
     "execution_count": 22,
     "metadata": {},
     "output_type": "execute_result"
    }
   ],
   "source": [
    "dfs['address_parsed'].values.tolist()"
   ]
  },
  {
   "cell_type": "code",
   "execution_count": null,
   "metadata": {
    "collapsed": true
   },
   "outputs": [],
   "source": []
  }
 ],
 "metadata": {
  "kernelspec": {
   "display_name": "Python 3",
   "language": "python",
   "name": "python3"
  },
  "language_info": {
   "codemirror_mode": {
    "name": "ipython",
    "version": 3
   },
   "file_extension": ".py",
   "mimetype": "text/x-python",
   "name": "python",
   "nbconvert_exporter": "python",
   "pygments_lexer": "ipython3",
   "version": "3.6.3"
  }
 },
 "nbformat": 4,
 "nbformat_minor": 2
}
