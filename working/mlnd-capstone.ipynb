{
 "cells": [
  {
   "cell_type": "code",
   "execution_count": 1,
   "metadata": {
    "collapsed": true
   },
   "outputs": [],
   "source": [
    "import pandas as pd\n",
    "import seaborn as sns\n",
    "import matplotlib.pyplot as plt\n",
    "import numpy as np\n",
    "from sklearn.preprocessing import StandardScaler, OneHotEncoder\n",
    "\n",
    "%matplotlib inline"
   ]
  },
  {
   "cell_type": "code",
   "execution_count": 2,
   "metadata": {
    "collapsed": true
   },
   "outputs": [],
   "source": [
    "#https://www.ibm.com/communities/analytics/watson-analytics-blog/guide-to-sample-datasets/\n",
    "url = 'http://bit.ly/gta-mlnd-capstone'\n",
    "df = pd.read_csv(url)"
   ]
  },
  {
   "cell_type": "code",
   "execution_count": 3,
   "metadata": {},
   "outputs": [
    {
     "data": {
      "text/html": [
       "<div>\n",
       "<style>\n",
       "    .dataframe thead tr:only-child th {\n",
       "        text-align: right;\n",
       "    }\n",
       "\n",
       "    .dataframe thead th {\n",
       "        text-align: left;\n",
       "    }\n",
       "\n",
       "    .dataframe tbody tr th {\n",
       "        vertical-align: top;\n",
       "    }\n",
       "</style>\n",
       "<table border=\"1\" class=\"dataframe\">\n",
       "  <thead>\n",
       "    <tr style=\"text-align: right;\">\n",
       "      <th></th>\n",
       "      <th>customerID</th>\n",
       "      <th>gender</th>\n",
       "      <th>SeniorCitizen</th>\n",
       "      <th>Partner</th>\n",
       "      <th>Dependents</th>\n",
       "      <th>tenure</th>\n",
       "      <th>PhoneService</th>\n",
       "      <th>MultipleLines</th>\n",
       "      <th>InternetService</th>\n",
       "      <th>OnlineSecurity</th>\n",
       "      <th>...</th>\n",
       "      <th>DeviceProtection</th>\n",
       "      <th>TechSupport</th>\n",
       "      <th>StreamingTV</th>\n",
       "      <th>StreamingMovies</th>\n",
       "      <th>Contract</th>\n",
       "      <th>PaperlessBilling</th>\n",
       "      <th>PaymentMethod</th>\n",
       "      <th>MonthlyCharges</th>\n",
       "      <th>TotalCharges</th>\n",
       "      <th>Churn</th>\n",
       "    </tr>\n",
       "  </thead>\n",
       "  <tbody>\n",
       "    <tr>\n",
       "      <th>0</th>\n",
       "      <td>7590-VHVEG</td>\n",
       "      <td>Female</td>\n",
       "      <td>0</td>\n",
       "      <td>Yes</td>\n",
       "      <td>No</td>\n",
       "      <td>1</td>\n",
       "      <td>No</td>\n",
       "      <td>No phone service</td>\n",
       "      <td>DSL</td>\n",
       "      <td>No</td>\n",
       "      <td>...</td>\n",
       "      <td>No</td>\n",
       "      <td>No</td>\n",
       "      <td>No</td>\n",
       "      <td>No</td>\n",
       "      <td>Month-to-month</td>\n",
       "      <td>Yes</td>\n",
       "      <td>Electronic check</td>\n",
       "      <td>29.85</td>\n",
       "      <td>29.85</td>\n",
       "      <td>No</td>\n",
       "    </tr>\n",
       "    <tr>\n",
       "      <th>1</th>\n",
       "      <td>5575-GNVDE</td>\n",
       "      <td>Male</td>\n",
       "      <td>0</td>\n",
       "      <td>No</td>\n",
       "      <td>No</td>\n",
       "      <td>34</td>\n",
       "      <td>Yes</td>\n",
       "      <td>No</td>\n",
       "      <td>DSL</td>\n",
       "      <td>Yes</td>\n",
       "      <td>...</td>\n",
       "      <td>Yes</td>\n",
       "      <td>No</td>\n",
       "      <td>No</td>\n",
       "      <td>No</td>\n",
       "      <td>One year</td>\n",
       "      <td>No</td>\n",
       "      <td>Mailed check</td>\n",
       "      <td>56.95</td>\n",
       "      <td>1889.5</td>\n",
       "      <td>No</td>\n",
       "    </tr>\n",
       "    <tr>\n",
       "      <th>2</th>\n",
       "      <td>3668-QPYBK</td>\n",
       "      <td>Male</td>\n",
       "      <td>0</td>\n",
       "      <td>No</td>\n",
       "      <td>No</td>\n",
       "      <td>2</td>\n",
       "      <td>Yes</td>\n",
       "      <td>No</td>\n",
       "      <td>DSL</td>\n",
       "      <td>Yes</td>\n",
       "      <td>...</td>\n",
       "      <td>No</td>\n",
       "      <td>No</td>\n",
       "      <td>No</td>\n",
       "      <td>No</td>\n",
       "      <td>Month-to-month</td>\n",
       "      <td>Yes</td>\n",
       "      <td>Mailed check</td>\n",
       "      <td>53.85</td>\n",
       "      <td>108.15</td>\n",
       "      <td>Yes</td>\n",
       "    </tr>\n",
       "    <tr>\n",
       "      <th>3</th>\n",
       "      <td>7795-CFOCW</td>\n",
       "      <td>Male</td>\n",
       "      <td>0</td>\n",
       "      <td>No</td>\n",
       "      <td>No</td>\n",
       "      <td>45</td>\n",
       "      <td>No</td>\n",
       "      <td>No phone service</td>\n",
       "      <td>DSL</td>\n",
       "      <td>Yes</td>\n",
       "      <td>...</td>\n",
       "      <td>Yes</td>\n",
       "      <td>Yes</td>\n",
       "      <td>No</td>\n",
       "      <td>No</td>\n",
       "      <td>One year</td>\n",
       "      <td>No</td>\n",
       "      <td>Bank transfer (automatic)</td>\n",
       "      <td>42.30</td>\n",
       "      <td>1840.75</td>\n",
       "      <td>No</td>\n",
       "    </tr>\n",
       "    <tr>\n",
       "      <th>4</th>\n",
       "      <td>9237-HQITU</td>\n",
       "      <td>Female</td>\n",
       "      <td>0</td>\n",
       "      <td>No</td>\n",
       "      <td>No</td>\n",
       "      <td>2</td>\n",
       "      <td>Yes</td>\n",
       "      <td>No</td>\n",
       "      <td>Fiber optic</td>\n",
       "      <td>No</td>\n",
       "      <td>...</td>\n",
       "      <td>No</td>\n",
       "      <td>No</td>\n",
       "      <td>No</td>\n",
       "      <td>No</td>\n",
       "      <td>Month-to-month</td>\n",
       "      <td>Yes</td>\n",
       "      <td>Electronic check</td>\n",
       "      <td>70.70</td>\n",
       "      <td>151.65</td>\n",
       "      <td>Yes</td>\n",
       "    </tr>\n",
       "  </tbody>\n",
       "</table>\n",
       "<p>5 rows × 21 columns</p>\n",
       "</div>"
      ],
      "text/plain": [
       "   customerID  gender  SeniorCitizen Partner Dependents  tenure PhoneService  \\\n",
       "0  7590-VHVEG  Female              0     Yes         No       1           No   \n",
       "1  5575-GNVDE    Male              0      No         No      34          Yes   \n",
       "2  3668-QPYBK    Male              0      No         No       2          Yes   \n",
       "3  7795-CFOCW    Male              0      No         No      45           No   \n",
       "4  9237-HQITU  Female              0      No         No       2          Yes   \n",
       "\n",
       "      MultipleLines InternetService OnlineSecurity  ...  DeviceProtection  \\\n",
       "0  No phone service             DSL             No  ...                No   \n",
       "1                No             DSL            Yes  ...               Yes   \n",
       "2                No             DSL            Yes  ...                No   \n",
       "3  No phone service             DSL            Yes  ...               Yes   \n",
       "4                No     Fiber optic             No  ...                No   \n",
       "\n",
       "  TechSupport StreamingTV StreamingMovies        Contract PaperlessBilling  \\\n",
       "0          No          No              No  Month-to-month              Yes   \n",
       "1          No          No              No        One year               No   \n",
       "2          No          No              No  Month-to-month              Yes   \n",
       "3         Yes          No              No        One year               No   \n",
       "4          No          No              No  Month-to-month              Yes   \n",
       "\n",
       "               PaymentMethod MonthlyCharges  TotalCharges Churn  \n",
       "0           Electronic check          29.85         29.85    No  \n",
       "1               Mailed check          56.95        1889.5    No  \n",
       "2               Mailed check          53.85        108.15   Yes  \n",
       "3  Bank transfer (automatic)          42.30       1840.75    No  \n",
       "4           Electronic check          70.70        151.65   Yes  \n",
       "\n",
       "[5 rows x 21 columns]"
      ]
     },
     "execution_count": 3,
     "metadata": {},
     "output_type": "execute_result"
    }
   ],
   "source": [
    "df.head()"
   ]
  },
  {
   "cell_type": "code",
   "execution_count": 4,
   "metadata": {},
   "outputs": [
    {
     "data": {
      "text/plain": [
       "(7043, 21)"
      ]
     },
     "execution_count": 4,
     "metadata": {},
     "output_type": "execute_result"
    }
   ],
   "source": [
    "df.shape"
   ]
  },
  {
   "cell_type": "code",
   "execution_count": 5,
   "metadata": {},
   "outputs": [
    {
     "name": "stdout",
     "output_type": "stream",
     "text": [
      "<class 'pandas.core.frame.DataFrame'>\n",
      "RangeIndex: 7043 entries, 0 to 7042\n",
      "Data columns (total 21 columns):\n",
      "customerID          7043 non-null object\n",
      "gender              7043 non-null object\n",
      "SeniorCitizen       7043 non-null int64\n",
      "Partner             7043 non-null object\n",
      "Dependents          7043 non-null object\n",
      "tenure              7043 non-null int64\n",
      "PhoneService        7043 non-null object\n",
      "MultipleLines       7043 non-null object\n",
      "InternetService     7043 non-null object\n",
      "OnlineSecurity      7043 non-null object\n",
      "OnlineBackup        7043 non-null object\n",
      "DeviceProtection    7043 non-null object\n",
      "TechSupport         7043 non-null object\n",
      "StreamingTV         7043 non-null object\n",
      "StreamingMovies     7043 non-null object\n",
      "Contract            7043 non-null object\n",
      "PaperlessBilling    7043 non-null object\n",
      "PaymentMethod       7043 non-null object\n",
      "MonthlyCharges      7043 non-null float64\n",
      "TotalCharges        7043 non-null object\n",
      "Churn               7043 non-null object\n",
      "dtypes: float64(1), int64(2), object(18)\n",
      "memory usage: 1.1+ MB\n"
     ]
    }
   ],
   "source": [
    "df.info()"
   ]
  },
  {
   "cell_type": "code",
   "execution_count": 6,
   "metadata": {
    "collapsed": true
   },
   "outputs": [],
   "source": [
    "df['TotalCharges'] = pd.to_numeric(df['TotalCharges'], errors = 'coerce')\n",
    "\n",
    "#By setting errors to 'coerce' a 'NaN will be inserted when there is an error.\n",
    "#https://pandas.pydata.org/pandas-docs/stable/generated/pandas.to_numeric.html"
   ]
  },
  {
   "cell_type": "code",
   "execution_count": 7,
   "metadata": {},
   "outputs": [
    {
     "data": {
      "text/plain": [
       "0"
      ]
     },
     "execution_count": 7,
     "metadata": {},
     "output_type": "execute_result"
    }
   ],
   "source": [
    "df['MonthlyCharges'].isnull().sum()"
   ]
  },
  {
   "cell_type": "code",
   "execution_count": 8,
   "metadata": {},
   "outputs": [
    {
     "data": {
      "text/plain": [
       "11"
      ]
     },
     "execution_count": 8,
     "metadata": {},
     "output_type": "execute_result"
    }
   ],
   "source": [
    "df['TotalCharges'].isnull().sum()"
   ]
  },
  {
   "cell_type": "code",
   "execution_count": 9,
   "metadata": {},
   "outputs": [
    {
     "data": {
      "text/html": [
       "<div>\n",
       "<style>\n",
       "    .dataframe thead tr:only-child th {\n",
       "        text-align: right;\n",
       "    }\n",
       "\n",
       "    .dataframe thead th {\n",
       "        text-align: left;\n",
       "    }\n",
       "\n",
       "    .dataframe tbody tr th {\n",
       "        vertical-align: top;\n",
       "    }\n",
       "</style>\n",
       "<table border=\"1\" class=\"dataframe\">\n",
       "  <thead>\n",
       "    <tr style=\"text-align: right;\">\n",
       "      <th></th>\n",
       "      <th>customerID</th>\n",
       "      <th>gender</th>\n",
       "      <th>SeniorCitizen</th>\n",
       "      <th>Partner</th>\n",
       "      <th>Dependents</th>\n",
       "      <th>tenure</th>\n",
       "      <th>PhoneService</th>\n",
       "      <th>MultipleLines</th>\n",
       "      <th>InternetService</th>\n",
       "      <th>OnlineSecurity</th>\n",
       "      <th>...</th>\n",
       "      <th>DeviceProtection</th>\n",
       "      <th>TechSupport</th>\n",
       "      <th>StreamingTV</th>\n",
       "      <th>StreamingMovies</th>\n",
       "      <th>Contract</th>\n",
       "      <th>PaperlessBilling</th>\n",
       "      <th>PaymentMethod</th>\n",
       "      <th>MonthlyCharges</th>\n",
       "      <th>TotalCharges</th>\n",
       "      <th>Churn</th>\n",
       "    </tr>\n",
       "  </thead>\n",
       "  <tbody>\n",
       "    <tr>\n",
       "      <th>488</th>\n",
       "      <td>4472-LVYGI</td>\n",
       "      <td>Female</td>\n",
       "      <td>0</td>\n",
       "      <td>Yes</td>\n",
       "      <td>Yes</td>\n",
       "      <td>0</td>\n",
       "      <td>No</td>\n",
       "      <td>No phone service</td>\n",
       "      <td>DSL</td>\n",
       "      <td>Yes</td>\n",
       "      <td>...</td>\n",
       "      <td>Yes</td>\n",
       "      <td>Yes</td>\n",
       "      <td>Yes</td>\n",
       "      <td>No</td>\n",
       "      <td>Two year</td>\n",
       "      <td>Yes</td>\n",
       "      <td>Bank transfer (automatic)</td>\n",
       "      <td>52.55</td>\n",
       "      <td>NaN</td>\n",
       "      <td>No</td>\n",
       "    </tr>\n",
       "    <tr>\n",
       "      <th>753</th>\n",
       "      <td>3115-CZMZD</td>\n",
       "      <td>Male</td>\n",
       "      <td>0</td>\n",
       "      <td>No</td>\n",
       "      <td>Yes</td>\n",
       "      <td>0</td>\n",
       "      <td>Yes</td>\n",
       "      <td>No</td>\n",
       "      <td>No</td>\n",
       "      <td>No internet service</td>\n",
       "      <td>...</td>\n",
       "      <td>No internet service</td>\n",
       "      <td>No internet service</td>\n",
       "      <td>No internet service</td>\n",
       "      <td>No internet service</td>\n",
       "      <td>Two year</td>\n",
       "      <td>No</td>\n",
       "      <td>Mailed check</td>\n",
       "      <td>20.25</td>\n",
       "      <td>NaN</td>\n",
       "      <td>No</td>\n",
       "    </tr>\n",
       "    <tr>\n",
       "      <th>936</th>\n",
       "      <td>5709-LVOEQ</td>\n",
       "      <td>Female</td>\n",
       "      <td>0</td>\n",
       "      <td>Yes</td>\n",
       "      <td>Yes</td>\n",
       "      <td>0</td>\n",
       "      <td>Yes</td>\n",
       "      <td>No</td>\n",
       "      <td>DSL</td>\n",
       "      <td>Yes</td>\n",
       "      <td>...</td>\n",
       "      <td>Yes</td>\n",
       "      <td>No</td>\n",
       "      <td>Yes</td>\n",
       "      <td>Yes</td>\n",
       "      <td>Two year</td>\n",
       "      <td>No</td>\n",
       "      <td>Mailed check</td>\n",
       "      <td>80.85</td>\n",
       "      <td>NaN</td>\n",
       "      <td>No</td>\n",
       "    </tr>\n",
       "    <tr>\n",
       "      <th>1082</th>\n",
       "      <td>4367-NUYAO</td>\n",
       "      <td>Male</td>\n",
       "      <td>0</td>\n",
       "      <td>Yes</td>\n",
       "      <td>Yes</td>\n",
       "      <td>0</td>\n",
       "      <td>Yes</td>\n",
       "      <td>Yes</td>\n",
       "      <td>No</td>\n",
       "      <td>No internet service</td>\n",
       "      <td>...</td>\n",
       "      <td>No internet service</td>\n",
       "      <td>No internet service</td>\n",
       "      <td>No internet service</td>\n",
       "      <td>No internet service</td>\n",
       "      <td>Two year</td>\n",
       "      <td>No</td>\n",
       "      <td>Mailed check</td>\n",
       "      <td>25.75</td>\n",
       "      <td>NaN</td>\n",
       "      <td>No</td>\n",
       "    </tr>\n",
       "    <tr>\n",
       "      <th>1340</th>\n",
       "      <td>1371-DWPAZ</td>\n",
       "      <td>Female</td>\n",
       "      <td>0</td>\n",
       "      <td>Yes</td>\n",
       "      <td>Yes</td>\n",
       "      <td>0</td>\n",
       "      <td>No</td>\n",
       "      <td>No phone service</td>\n",
       "      <td>DSL</td>\n",
       "      <td>Yes</td>\n",
       "      <td>...</td>\n",
       "      <td>Yes</td>\n",
       "      <td>Yes</td>\n",
       "      <td>Yes</td>\n",
       "      <td>No</td>\n",
       "      <td>Two year</td>\n",
       "      <td>No</td>\n",
       "      <td>Credit card (automatic)</td>\n",
       "      <td>56.05</td>\n",
       "      <td>NaN</td>\n",
       "      <td>No</td>\n",
       "    </tr>\n",
       "    <tr>\n",
       "      <th>3331</th>\n",
       "      <td>7644-OMVMY</td>\n",
       "      <td>Male</td>\n",
       "      <td>0</td>\n",
       "      <td>Yes</td>\n",
       "      <td>Yes</td>\n",
       "      <td>0</td>\n",
       "      <td>Yes</td>\n",
       "      <td>No</td>\n",
       "      <td>No</td>\n",
       "      <td>No internet service</td>\n",
       "      <td>...</td>\n",
       "      <td>No internet service</td>\n",
       "      <td>No internet service</td>\n",
       "      <td>No internet service</td>\n",
       "      <td>No internet service</td>\n",
       "      <td>Two year</td>\n",
       "      <td>No</td>\n",
       "      <td>Mailed check</td>\n",
       "      <td>19.85</td>\n",
       "      <td>NaN</td>\n",
       "      <td>No</td>\n",
       "    </tr>\n",
       "    <tr>\n",
       "      <th>3826</th>\n",
       "      <td>3213-VVOLG</td>\n",
       "      <td>Male</td>\n",
       "      <td>0</td>\n",
       "      <td>Yes</td>\n",
       "      <td>Yes</td>\n",
       "      <td>0</td>\n",
       "      <td>Yes</td>\n",
       "      <td>Yes</td>\n",
       "      <td>No</td>\n",
       "      <td>No internet service</td>\n",
       "      <td>...</td>\n",
       "      <td>No internet service</td>\n",
       "      <td>No internet service</td>\n",
       "      <td>No internet service</td>\n",
       "      <td>No internet service</td>\n",
       "      <td>Two year</td>\n",
       "      <td>No</td>\n",
       "      <td>Mailed check</td>\n",
       "      <td>25.35</td>\n",
       "      <td>NaN</td>\n",
       "      <td>No</td>\n",
       "    </tr>\n",
       "    <tr>\n",
       "      <th>4380</th>\n",
       "      <td>2520-SGTTA</td>\n",
       "      <td>Female</td>\n",
       "      <td>0</td>\n",
       "      <td>Yes</td>\n",
       "      <td>Yes</td>\n",
       "      <td>0</td>\n",
       "      <td>Yes</td>\n",
       "      <td>No</td>\n",
       "      <td>No</td>\n",
       "      <td>No internet service</td>\n",
       "      <td>...</td>\n",
       "      <td>No internet service</td>\n",
       "      <td>No internet service</td>\n",
       "      <td>No internet service</td>\n",
       "      <td>No internet service</td>\n",
       "      <td>Two year</td>\n",
       "      <td>No</td>\n",
       "      <td>Mailed check</td>\n",
       "      <td>20.00</td>\n",
       "      <td>NaN</td>\n",
       "      <td>No</td>\n",
       "    </tr>\n",
       "    <tr>\n",
       "      <th>5218</th>\n",
       "      <td>2923-ARZLG</td>\n",
       "      <td>Male</td>\n",
       "      <td>0</td>\n",
       "      <td>Yes</td>\n",
       "      <td>Yes</td>\n",
       "      <td>0</td>\n",
       "      <td>Yes</td>\n",
       "      <td>No</td>\n",
       "      <td>No</td>\n",
       "      <td>No internet service</td>\n",
       "      <td>...</td>\n",
       "      <td>No internet service</td>\n",
       "      <td>No internet service</td>\n",
       "      <td>No internet service</td>\n",
       "      <td>No internet service</td>\n",
       "      <td>One year</td>\n",
       "      <td>Yes</td>\n",
       "      <td>Mailed check</td>\n",
       "      <td>19.70</td>\n",
       "      <td>NaN</td>\n",
       "      <td>No</td>\n",
       "    </tr>\n",
       "    <tr>\n",
       "      <th>6670</th>\n",
       "      <td>4075-WKNIU</td>\n",
       "      <td>Female</td>\n",
       "      <td>0</td>\n",
       "      <td>Yes</td>\n",
       "      <td>Yes</td>\n",
       "      <td>0</td>\n",
       "      <td>Yes</td>\n",
       "      <td>Yes</td>\n",
       "      <td>DSL</td>\n",
       "      <td>No</td>\n",
       "      <td>...</td>\n",
       "      <td>Yes</td>\n",
       "      <td>Yes</td>\n",
       "      <td>Yes</td>\n",
       "      <td>No</td>\n",
       "      <td>Two year</td>\n",
       "      <td>No</td>\n",
       "      <td>Mailed check</td>\n",
       "      <td>73.35</td>\n",
       "      <td>NaN</td>\n",
       "      <td>No</td>\n",
       "    </tr>\n",
       "    <tr>\n",
       "      <th>6754</th>\n",
       "      <td>2775-SEFEE</td>\n",
       "      <td>Male</td>\n",
       "      <td>0</td>\n",
       "      <td>No</td>\n",
       "      <td>Yes</td>\n",
       "      <td>0</td>\n",
       "      <td>Yes</td>\n",
       "      <td>Yes</td>\n",
       "      <td>DSL</td>\n",
       "      <td>Yes</td>\n",
       "      <td>...</td>\n",
       "      <td>No</td>\n",
       "      <td>Yes</td>\n",
       "      <td>No</td>\n",
       "      <td>No</td>\n",
       "      <td>Two year</td>\n",
       "      <td>Yes</td>\n",
       "      <td>Bank transfer (automatic)</td>\n",
       "      <td>61.90</td>\n",
       "      <td>NaN</td>\n",
       "      <td>No</td>\n",
       "    </tr>\n",
       "  </tbody>\n",
       "</table>\n",
       "<p>11 rows × 21 columns</p>\n",
       "</div>"
      ],
      "text/plain": [
       "      customerID  gender  SeniorCitizen Partner Dependents  tenure  \\\n",
       "488   4472-LVYGI  Female              0     Yes        Yes       0   \n",
       "753   3115-CZMZD    Male              0      No        Yes       0   \n",
       "936   5709-LVOEQ  Female              0     Yes        Yes       0   \n",
       "1082  4367-NUYAO    Male              0     Yes        Yes       0   \n",
       "1340  1371-DWPAZ  Female              0     Yes        Yes       0   \n",
       "3331  7644-OMVMY    Male              0     Yes        Yes       0   \n",
       "3826  3213-VVOLG    Male              0     Yes        Yes       0   \n",
       "4380  2520-SGTTA  Female              0     Yes        Yes       0   \n",
       "5218  2923-ARZLG    Male              0     Yes        Yes       0   \n",
       "6670  4075-WKNIU  Female              0     Yes        Yes       0   \n",
       "6754  2775-SEFEE    Male              0      No        Yes       0   \n",
       "\n",
       "     PhoneService     MultipleLines InternetService       OnlineSecurity  \\\n",
       "488            No  No phone service             DSL                  Yes   \n",
       "753           Yes                No              No  No internet service   \n",
       "936           Yes                No             DSL                  Yes   \n",
       "1082          Yes               Yes              No  No internet service   \n",
       "1340           No  No phone service             DSL                  Yes   \n",
       "3331          Yes                No              No  No internet service   \n",
       "3826          Yes               Yes              No  No internet service   \n",
       "4380          Yes                No              No  No internet service   \n",
       "5218          Yes                No              No  No internet service   \n",
       "6670          Yes               Yes             DSL                   No   \n",
       "6754          Yes               Yes             DSL                  Yes   \n",
       "\n",
       "      ...       DeviceProtection          TechSupport          StreamingTV  \\\n",
       "488   ...                    Yes                  Yes                  Yes   \n",
       "753   ...    No internet service  No internet service  No internet service   \n",
       "936   ...                    Yes                   No                  Yes   \n",
       "1082  ...    No internet service  No internet service  No internet service   \n",
       "1340  ...                    Yes                  Yes                  Yes   \n",
       "3331  ...    No internet service  No internet service  No internet service   \n",
       "3826  ...    No internet service  No internet service  No internet service   \n",
       "4380  ...    No internet service  No internet service  No internet service   \n",
       "5218  ...    No internet service  No internet service  No internet service   \n",
       "6670  ...                    Yes                  Yes                  Yes   \n",
       "6754  ...                     No                  Yes                   No   \n",
       "\n",
       "          StreamingMovies  Contract PaperlessBilling  \\\n",
       "488                    No  Two year              Yes   \n",
       "753   No internet service  Two year               No   \n",
       "936                   Yes  Two year               No   \n",
       "1082  No internet service  Two year               No   \n",
       "1340                   No  Two year               No   \n",
       "3331  No internet service  Two year               No   \n",
       "3826  No internet service  Two year               No   \n",
       "4380  No internet service  Two year               No   \n",
       "5218  No internet service  One year              Yes   \n",
       "6670                   No  Two year               No   \n",
       "6754                   No  Two year              Yes   \n",
       "\n",
       "                  PaymentMethod MonthlyCharges  TotalCharges  Churn  \n",
       "488   Bank transfer (automatic)          52.55           NaN     No  \n",
       "753                Mailed check          20.25           NaN     No  \n",
       "936                Mailed check          80.85           NaN     No  \n",
       "1082               Mailed check          25.75           NaN     No  \n",
       "1340    Credit card (automatic)          56.05           NaN     No  \n",
       "3331               Mailed check          19.85           NaN     No  \n",
       "3826               Mailed check          25.35           NaN     No  \n",
       "4380               Mailed check          20.00           NaN     No  \n",
       "5218               Mailed check          19.70           NaN     No  \n",
       "6670               Mailed check          73.35           NaN     No  \n",
       "6754  Bank transfer (automatic)          61.90           NaN     No  \n",
       "\n",
       "[11 rows x 21 columns]"
      ]
     },
     "execution_count": 9,
     "metadata": {},
     "output_type": "execute_result"
    }
   ],
   "source": [
    "df[df['TotalCharges'].isnull()]"
   ]
  },
  {
   "cell_type": "code",
   "execution_count": 10,
   "metadata": {},
   "outputs": [
    {
     "name": "stdout",
     "output_type": "stream",
     "text": [
      "488\n",
      "753\n",
      "936\n",
      "1082\n",
      "1340\n",
      "3331\n",
      "3826\n",
      "4380\n",
      "5218\n",
      "6670\n",
      "6754\n"
     ]
    }
   ],
   "source": [
    "index_row = []\n",
    "for index, row in df.iterrows():\n",
    "    try:\n",
    "        if pd.isnull(row['TotalCharges']):\n",
    "            df.set_value(index, 'TotalCharges', row['MonthlyCharges'])\n",
    "            print(index)\n",
    "    except:\n",
    "        index_row.append(row)"
   ]
  },
  {
   "cell_type": "code",
   "execution_count": 11,
   "metadata": {},
   "outputs": [
    {
     "data": {
      "text/plain": [
       "0"
      ]
     },
     "execution_count": 11,
     "metadata": {},
     "output_type": "execute_result"
    }
   ],
   "source": [
    "len(index_row)"
   ]
  },
  {
   "cell_type": "code",
   "execution_count": 12,
   "metadata": {},
   "outputs": [
    {
     "data": {
      "text/html": [
       "<div>\n",
       "<style>\n",
       "    .dataframe thead tr:only-child th {\n",
       "        text-align: right;\n",
       "    }\n",
       "\n",
       "    .dataframe thead th {\n",
       "        text-align: left;\n",
       "    }\n",
       "\n",
       "    .dataframe tbody tr th {\n",
       "        vertical-align: top;\n",
       "    }\n",
       "</style>\n",
       "<table border=\"1\" class=\"dataframe\">\n",
       "  <thead>\n",
       "    <tr style=\"text-align: right;\">\n",
       "      <th></th>\n",
       "      <th>customerID</th>\n",
       "      <th>gender</th>\n",
       "      <th>SeniorCitizen</th>\n",
       "      <th>Partner</th>\n",
       "      <th>Dependents</th>\n",
       "      <th>tenure</th>\n",
       "      <th>PhoneService</th>\n",
       "      <th>MultipleLines</th>\n",
       "      <th>InternetService</th>\n",
       "      <th>OnlineSecurity</th>\n",
       "      <th>...</th>\n",
       "      <th>DeviceProtection</th>\n",
       "      <th>TechSupport</th>\n",
       "      <th>StreamingTV</th>\n",
       "      <th>StreamingMovies</th>\n",
       "      <th>Contract</th>\n",
       "      <th>PaperlessBilling</th>\n",
       "      <th>PaymentMethod</th>\n",
       "      <th>MonthlyCharges</th>\n",
       "      <th>TotalCharges</th>\n",
       "      <th>Churn</th>\n",
       "    </tr>\n",
       "  </thead>\n",
       "  <tbody>\n",
       "  </tbody>\n",
       "</table>\n",
       "<p>0 rows × 21 columns</p>\n",
       "</div>"
      ],
      "text/plain": [
       "Empty DataFrame\n",
       "Columns: [customerID, gender, SeniorCitizen, Partner, Dependents, tenure, PhoneService, MultipleLines, InternetService, OnlineSecurity, OnlineBackup, DeviceProtection, TechSupport, StreamingTV, StreamingMovies, Contract, PaperlessBilling, PaymentMethod, MonthlyCharges, TotalCharges, Churn]\n",
       "Index: []\n",
       "\n",
       "[0 rows x 21 columns]"
      ]
     },
     "execution_count": 12,
     "metadata": {},
     "output_type": "execute_result"
    }
   ],
   "source": [
    "df[df['TotalCharges'].isnull()]"
   ]
  },
  {
   "cell_type": "code",
   "execution_count": 13,
   "metadata": {},
   "outputs": [
    {
     "name": "stdout",
     "output_type": "stream",
     "text": [
      "<class 'pandas.core.frame.DataFrame'>\n",
      "RangeIndex: 7043 entries, 0 to 7042\n",
      "Data columns (total 21 columns):\n",
      "customerID          7043 non-null object\n",
      "gender              7043 non-null object\n",
      "SeniorCitizen       7043 non-null int64\n",
      "Partner             7043 non-null object\n",
      "Dependents          7043 non-null object\n",
      "tenure              7043 non-null int64\n",
      "PhoneService        7043 non-null object\n",
      "MultipleLines       7043 non-null object\n",
      "InternetService     7043 non-null object\n",
      "OnlineSecurity      7043 non-null object\n",
      "OnlineBackup        7043 non-null object\n",
      "DeviceProtection    7043 non-null object\n",
      "TechSupport         7043 non-null object\n",
      "StreamingTV         7043 non-null object\n",
      "StreamingMovies     7043 non-null object\n",
      "Contract            7043 non-null object\n",
      "PaperlessBilling    7043 non-null object\n",
      "PaymentMethod       7043 non-null object\n",
      "MonthlyCharges      7043 non-null float64\n",
      "TotalCharges        7043 non-null float64\n",
      "Churn               7043 non-null object\n",
      "dtypes: float64(2), int64(2), object(17)\n",
      "memory usage: 1.1+ MB\n"
     ]
    }
   ],
   "source": [
    "df.info()"
   ]
  },
  {
   "cell_type": "code",
   "execution_count": null,
   "metadata": {
    "collapsed": true
   },
   "outputs": [],
   "source": []
  },
  {
   "cell_type": "code",
   "execution_count": 14,
   "metadata": {},
   "outputs": [
    {
     "data": {
      "text/html": [
       "<div>\n",
       "<style>\n",
       "    .dataframe thead tr:only-child th {\n",
       "        text-align: right;\n",
       "    }\n",
       "\n",
       "    .dataframe thead th {\n",
       "        text-align: left;\n",
       "    }\n",
       "\n",
       "    .dataframe tbody tr th {\n",
       "        vertical-align: top;\n",
       "    }\n",
       "</style>\n",
       "<table border=\"1\" class=\"dataframe\">\n",
       "  <thead>\n",
       "    <tr style=\"text-align: right;\">\n",
       "      <th></th>\n",
       "      <th>customerID</th>\n",
       "      <th>gender</th>\n",
       "      <th>SeniorCitizen</th>\n",
       "      <th>Partner</th>\n",
       "      <th>Dependents</th>\n",
       "      <th>tenure</th>\n",
       "      <th>PhoneService</th>\n",
       "      <th>MultipleLines</th>\n",
       "      <th>InternetService</th>\n",
       "      <th>OnlineSecurity</th>\n",
       "      <th>...</th>\n",
       "      <th>DeviceProtection</th>\n",
       "      <th>TechSupport</th>\n",
       "      <th>StreamingTV</th>\n",
       "      <th>StreamingMovies</th>\n",
       "      <th>Contract</th>\n",
       "      <th>PaperlessBilling</th>\n",
       "      <th>PaymentMethod</th>\n",
       "      <th>MonthlyCharges</th>\n",
       "      <th>TotalCharges</th>\n",
       "      <th>Churn</th>\n",
       "    </tr>\n",
       "  </thead>\n",
       "  <tbody>\n",
       "    <tr>\n",
       "      <th>0</th>\n",
       "      <td>7590-VHVEG</td>\n",
       "      <td>Female</td>\n",
       "      <td>0</td>\n",
       "      <td>Yes</td>\n",
       "      <td>No</td>\n",
       "      <td>1</td>\n",
       "      <td>No</td>\n",
       "      <td>No phone service</td>\n",
       "      <td>DSL</td>\n",
       "      <td>No</td>\n",
       "      <td>...</td>\n",
       "      <td>No</td>\n",
       "      <td>No</td>\n",
       "      <td>No</td>\n",
       "      <td>No</td>\n",
       "      <td>Month-to-month</td>\n",
       "      <td>Yes</td>\n",
       "      <td>Electronic check</td>\n",
       "      <td>29.85</td>\n",
       "      <td>29.85</td>\n",
       "      <td>No</td>\n",
       "    </tr>\n",
       "    <tr>\n",
       "      <th>20</th>\n",
       "      <td>8779-QRDMV</td>\n",
       "      <td>Male</td>\n",
       "      <td>1</td>\n",
       "      <td>No</td>\n",
       "      <td>No</td>\n",
       "      <td>1</td>\n",
       "      <td>No</td>\n",
       "      <td>No phone service</td>\n",
       "      <td>DSL</td>\n",
       "      <td>No</td>\n",
       "      <td>...</td>\n",
       "      <td>Yes</td>\n",
       "      <td>No</td>\n",
       "      <td>No</td>\n",
       "      <td>Yes</td>\n",
       "      <td>Month-to-month</td>\n",
       "      <td>Yes</td>\n",
       "      <td>Electronic check</td>\n",
       "      <td>39.65</td>\n",
       "      <td>39.65</td>\n",
       "      <td>Yes</td>\n",
       "    </tr>\n",
       "    <tr>\n",
       "      <th>22</th>\n",
       "      <td>1066-JKSGK</td>\n",
       "      <td>Male</td>\n",
       "      <td>0</td>\n",
       "      <td>No</td>\n",
       "      <td>No</td>\n",
       "      <td>1</td>\n",
       "      <td>Yes</td>\n",
       "      <td>No</td>\n",
       "      <td>No</td>\n",
       "      <td>No internet service</td>\n",
       "      <td>...</td>\n",
       "      <td>No internet service</td>\n",
       "      <td>No internet service</td>\n",
       "      <td>No internet service</td>\n",
       "      <td>No internet service</td>\n",
       "      <td>Month-to-month</td>\n",
       "      <td>No</td>\n",
       "      <td>Mailed check</td>\n",
       "      <td>20.15</td>\n",
       "      <td>20.15</td>\n",
       "      <td>Yes</td>\n",
       "    </tr>\n",
       "  </tbody>\n",
       "</table>\n",
       "<p>3 rows × 21 columns</p>\n",
       "</div>"
      ],
      "text/plain": [
       "    customerID  gender  SeniorCitizen Partner Dependents  tenure PhoneService  \\\n",
       "0   7590-VHVEG  Female              0     Yes         No       1           No   \n",
       "20  8779-QRDMV    Male              1      No         No       1           No   \n",
       "22  1066-JKSGK    Male              0      No         No       1          Yes   \n",
       "\n",
       "       MultipleLines InternetService       OnlineSecurity  ...    \\\n",
       "0   No phone service             DSL                   No  ...     \n",
       "20  No phone service             DSL                   No  ...     \n",
       "22                No              No  No internet service  ...     \n",
       "\n",
       "       DeviceProtection          TechSupport          StreamingTV  \\\n",
       "0                    No                   No                   No   \n",
       "20                  Yes                   No                   No   \n",
       "22  No internet service  No internet service  No internet service   \n",
       "\n",
       "        StreamingMovies        Contract PaperlessBilling     PaymentMethod  \\\n",
       "0                    No  Month-to-month              Yes  Electronic check   \n",
       "20                  Yes  Month-to-month              Yes  Electronic check   \n",
       "22  No internet service  Month-to-month               No      Mailed check   \n",
       "\n",
       "   MonthlyCharges  TotalCharges  Churn  \n",
       "0           29.85         29.85     No  \n",
       "20          39.65         39.65    Yes  \n",
       "22          20.15         20.15    Yes  \n",
       "\n",
       "[3 rows x 21 columns]"
      ]
     },
     "execution_count": 14,
     "metadata": {},
     "output_type": "execute_result"
    }
   ],
   "source": [
    "df[df['tenure'] == 1].head(3)"
   ]
  },
  {
   "cell_type": "code",
   "execution_count": 15,
   "metadata": {
    "collapsed": true
   },
   "outputs": [],
   "source": [
    "df['ratio'] = df['TotalCharges'] / df['MonthlyCharges']"
   ]
  },
  {
   "cell_type": "code",
   "execution_count": 16,
   "metadata": {},
   "outputs": [
    {
     "data": {
      "text/html": [
       "<div>\n",
       "<style>\n",
       "    .dataframe thead tr:only-child th {\n",
       "        text-align: right;\n",
       "    }\n",
       "\n",
       "    .dataframe thead th {\n",
       "        text-align: left;\n",
       "    }\n",
       "\n",
       "    .dataframe tbody tr th {\n",
       "        vertical-align: top;\n",
       "    }\n",
       "</style>\n",
       "<table border=\"1\" class=\"dataframe\">\n",
       "  <thead>\n",
       "    <tr style=\"text-align: right;\">\n",
       "      <th></th>\n",
       "      <th>customerID</th>\n",
       "      <th>gender</th>\n",
       "      <th>SeniorCitizen</th>\n",
       "      <th>Partner</th>\n",
       "      <th>Dependents</th>\n",
       "      <th>tenure</th>\n",
       "      <th>PhoneService</th>\n",
       "      <th>MultipleLines</th>\n",
       "      <th>InternetService</th>\n",
       "      <th>OnlineSecurity</th>\n",
       "      <th>...</th>\n",
       "      <th>TechSupport</th>\n",
       "      <th>StreamingTV</th>\n",
       "      <th>StreamingMovies</th>\n",
       "      <th>Contract</th>\n",
       "      <th>PaperlessBilling</th>\n",
       "      <th>PaymentMethod</th>\n",
       "      <th>MonthlyCharges</th>\n",
       "      <th>TotalCharges</th>\n",
       "      <th>Churn</th>\n",
       "      <th>ratio</th>\n",
       "    </tr>\n",
       "  </thead>\n",
       "  <tbody>\n",
       "    <tr>\n",
       "      <th>0</th>\n",
       "      <td>7590-VHVEG</td>\n",
       "      <td>Female</td>\n",
       "      <td>0</td>\n",
       "      <td>Yes</td>\n",
       "      <td>No</td>\n",
       "      <td>1</td>\n",
       "      <td>No</td>\n",
       "      <td>No phone service</td>\n",
       "      <td>DSL</td>\n",
       "      <td>No</td>\n",
       "      <td>...</td>\n",
       "      <td>No</td>\n",
       "      <td>No</td>\n",
       "      <td>No</td>\n",
       "      <td>Month-to-month</td>\n",
       "      <td>Yes</td>\n",
       "      <td>Electronic check</td>\n",
       "      <td>29.85</td>\n",
       "      <td>29.85</td>\n",
       "      <td>No</td>\n",
       "      <td>1.0</td>\n",
       "    </tr>\n",
       "    <tr>\n",
       "      <th>20</th>\n",
       "      <td>8779-QRDMV</td>\n",
       "      <td>Male</td>\n",
       "      <td>1</td>\n",
       "      <td>No</td>\n",
       "      <td>No</td>\n",
       "      <td>1</td>\n",
       "      <td>No</td>\n",
       "      <td>No phone service</td>\n",
       "      <td>DSL</td>\n",
       "      <td>No</td>\n",
       "      <td>...</td>\n",
       "      <td>No</td>\n",
       "      <td>No</td>\n",
       "      <td>Yes</td>\n",
       "      <td>Month-to-month</td>\n",
       "      <td>Yes</td>\n",
       "      <td>Electronic check</td>\n",
       "      <td>39.65</td>\n",
       "      <td>39.65</td>\n",
       "      <td>Yes</td>\n",
       "      <td>1.0</td>\n",
       "    </tr>\n",
       "    <tr>\n",
       "      <th>22</th>\n",
       "      <td>1066-JKSGK</td>\n",
       "      <td>Male</td>\n",
       "      <td>0</td>\n",
       "      <td>No</td>\n",
       "      <td>No</td>\n",
       "      <td>1</td>\n",
       "      <td>Yes</td>\n",
       "      <td>No</td>\n",
       "      <td>No</td>\n",
       "      <td>No internet service</td>\n",
       "      <td>...</td>\n",
       "      <td>No internet service</td>\n",
       "      <td>No internet service</td>\n",
       "      <td>No internet service</td>\n",
       "      <td>Month-to-month</td>\n",
       "      <td>No</td>\n",
       "      <td>Mailed check</td>\n",
       "      <td>20.15</td>\n",
       "      <td>20.15</td>\n",
       "      <td>Yes</td>\n",
       "      <td>1.0</td>\n",
       "    </tr>\n",
       "    <tr>\n",
       "      <th>27</th>\n",
       "      <td>8665-UTDHZ</td>\n",
       "      <td>Male</td>\n",
       "      <td>0</td>\n",
       "      <td>Yes</td>\n",
       "      <td>Yes</td>\n",
       "      <td>1</td>\n",
       "      <td>No</td>\n",
       "      <td>No phone service</td>\n",
       "      <td>DSL</td>\n",
       "      <td>No</td>\n",
       "      <td>...</td>\n",
       "      <td>No</td>\n",
       "      <td>No</td>\n",
       "      <td>No</td>\n",
       "      <td>Month-to-month</td>\n",
       "      <td>No</td>\n",
       "      <td>Electronic check</td>\n",
       "      <td>30.20</td>\n",
       "      <td>30.20</td>\n",
       "      <td>Yes</td>\n",
       "      <td>1.0</td>\n",
       "    </tr>\n",
       "    <tr>\n",
       "      <th>33</th>\n",
       "      <td>7310-EGVHZ</td>\n",
       "      <td>Male</td>\n",
       "      <td>0</td>\n",
       "      <td>No</td>\n",
       "      <td>No</td>\n",
       "      <td>1</td>\n",
       "      <td>Yes</td>\n",
       "      <td>No</td>\n",
       "      <td>No</td>\n",
       "      <td>No internet service</td>\n",
       "      <td>...</td>\n",
       "      <td>No internet service</td>\n",
       "      <td>No internet service</td>\n",
       "      <td>No internet service</td>\n",
       "      <td>Month-to-month</td>\n",
       "      <td>No</td>\n",
       "      <td>Bank transfer (automatic)</td>\n",
       "      <td>20.20</td>\n",
       "      <td>20.20</td>\n",
       "      <td>No</td>\n",
       "      <td>1.0</td>\n",
       "    </tr>\n",
       "    <tr>\n",
       "      <th>34</th>\n",
       "      <td>3413-BMNZE</td>\n",
       "      <td>Male</td>\n",
       "      <td>1</td>\n",
       "      <td>No</td>\n",
       "      <td>No</td>\n",
       "      <td>1</td>\n",
       "      <td>Yes</td>\n",
       "      <td>No</td>\n",
       "      <td>DSL</td>\n",
       "      <td>No</td>\n",
       "      <td>...</td>\n",
       "      <td>No</td>\n",
       "      <td>No</td>\n",
       "      <td>No</td>\n",
       "      <td>Month-to-month</td>\n",
       "      <td>No</td>\n",
       "      <td>Bank transfer (automatic)</td>\n",
       "      <td>45.25</td>\n",
       "      <td>45.25</td>\n",
       "      <td>No</td>\n",
       "      <td>1.0</td>\n",
       "    </tr>\n",
       "    <tr>\n",
       "      <th>70</th>\n",
       "      <td>2273-QCKXA</td>\n",
       "      <td>Male</td>\n",
       "      <td>0</td>\n",
       "      <td>No</td>\n",
       "      <td>No</td>\n",
       "      <td>1</td>\n",
       "      <td>Yes</td>\n",
       "      <td>No</td>\n",
       "      <td>DSL</td>\n",
       "      <td>No</td>\n",
       "      <td>...</td>\n",
       "      <td>Yes</td>\n",
       "      <td>No</td>\n",
       "      <td>No</td>\n",
       "      <td>Month-to-month</td>\n",
       "      <td>No</td>\n",
       "      <td>Mailed check</td>\n",
       "      <td>49.05</td>\n",
       "      <td>49.05</td>\n",
       "      <td>No</td>\n",
       "      <td>1.0</td>\n",
       "    </tr>\n",
       "    <tr>\n",
       "      <th>80</th>\n",
       "      <td>5919-TMRGD</td>\n",
       "      <td>Female</td>\n",
       "      <td>0</td>\n",
       "      <td>No</td>\n",
       "      <td>Yes</td>\n",
       "      <td>1</td>\n",
       "      <td>Yes</td>\n",
       "      <td>No</td>\n",
       "      <td>Fiber optic</td>\n",
       "      <td>No</td>\n",
       "      <td>...</td>\n",
       "      <td>No</td>\n",
       "      <td>Yes</td>\n",
       "      <td>No</td>\n",
       "      <td>Month-to-month</td>\n",
       "      <td>Yes</td>\n",
       "      <td>Electronic check</td>\n",
       "      <td>79.35</td>\n",
       "      <td>79.35</td>\n",
       "      <td>Yes</td>\n",
       "      <td>1.0</td>\n",
       "    </tr>\n",
       "    <tr>\n",
       "      <th>91</th>\n",
       "      <td>2424-WVHPL</td>\n",
       "      <td>Male</td>\n",
       "      <td>1</td>\n",
       "      <td>No</td>\n",
       "      <td>No</td>\n",
       "      <td>1</td>\n",
       "      <td>Yes</td>\n",
       "      <td>No</td>\n",
       "      <td>Fiber optic</td>\n",
       "      <td>No</td>\n",
       "      <td>...</td>\n",
       "      <td>Yes</td>\n",
       "      <td>No</td>\n",
       "      <td>No</td>\n",
       "      <td>Month-to-month</td>\n",
       "      <td>No</td>\n",
       "      <td>Electronic check</td>\n",
       "      <td>74.70</td>\n",
       "      <td>74.70</td>\n",
       "      <td>No</td>\n",
       "      <td>1.0</td>\n",
       "    </tr>\n",
       "    <tr>\n",
       "      <th>100</th>\n",
       "      <td>6380-ARCEH</td>\n",
       "      <td>Male</td>\n",
       "      <td>0</td>\n",
       "      <td>No</td>\n",
       "      <td>No</td>\n",
       "      <td>1</td>\n",
       "      <td>Yes</td>\n",
       "      <td>No</td>\n",
       "      <td>No</td>\n",
       "      <td>No internet service</td>\n",
       "      <td>...</td>\n",
       "      <td>No internet service</td>\n",
       "      <td>No internet service</td>\n",
       "      <td>No internet service</td>\n",
       "      <td>Month-to-month</td>\n",
       "      <td>No</td>\n",
       "      <td>Mailed check</td>\n",
       "      <td>20.20</td>\n",
       "      <td>20.20</td>\n",
       "      <td>No</td>\n",
       "      <td>1.0</td>\n",
       "    </tr>\n",
       "  </tbody>\n",
       "</table>\n",
       "<p>10 rows × 22 columns</p>\n",
       "</div>"
      ],
      "text/plain": [
       "     customerID  gender  SeniorCitizen Partner Dependents  tenure  \\\n",
       "0    7590-VHVEG  Female              0     Yes         No       1   \n",
       "20   8779-QRDMV    Male              1      No         No       1   \n",
       "22   1066-JKSGK    Male              0      No         No       1   \n",
       "27   8665-UTDHZ    Male              0     Yes        Yes       1   \n",
       "33   7310-EGVHZ    Male              0      No         No       1   \n",
       "34   3413-BMNZE    Male              1      No         No       1   \n",
       "70   2273-QCKXA    Male              0      No         No       1   \n",
       "80   5919-TMRGD  Female              0      No        Yes       1   \n",
       "91   2424-WVHPL    Male              1      No         No       1   \n",
       "100  6380-ARCEH    Male              0      No         No       1   \n",
       "\n",
       "    PhoneService     MultipleLines InternetService       OnlineSecurity  \\\n",
       "0             No  No phone service             DSL                   No   \n",
       "20            No  No phone service             DSL                   No   \n",
       "22           Yes                No              No  No internet service   \n",
       "27            No  No phone service             DSL                   No   \n",
       "33           Yes                No              No  No internet service   \n",
       "34           Yes                No             DSL                   No   \n",
       "70           Yes                No             DSL                   No   \n",
       "80           Yes                No     Fiber optic                   No   \n",
       "91           Yes                No     Fiber optic                   No   \n",
       "100          Yes                No              No  No internet service   \n",
       "\n",
       "     ...            TechSupport          StreamingTV      StreamingMovies  \\\n",
       "0    ...                     No                   No                   No   \n",
       "20   ...                     No                   No                  Yes   \n",
       "22   ...    No internet service  No internet service  No internet service   \n",
       "27   ...                     No                   No                   No   \n",
       "33   ...    No internet service  No internet service  No internet service   \n",
       "34   ...                     No                   No                   No   \n",
       "70   ...                    Yes                   No                   No   \n",
       "80   ...                     No                  Yes                   No   \n",
       "91   ...                    Yes                   No                   No   \n",
       "100  ...    No internet service  No internet service  No internet service   \n",
       "\n",
       "           Contract PaperlessBilling              PaymentMethod  \\\n",
       "0    Month-to-month              Yes           Electronic check   \n",
       "20   Month-to-month              Yes           Electronic check   \n",
       "22   Month-to-month               No               Mailed check   \n",
       "27   Month-to-month               No           Electronic check   \n",
       "33   Month-to-month               No  Bank transfer (automatic)   \n",
       "34   Month-to-month               No  Bank transfer (automatic)   \n",
       "70   Month-to-month               No               Mailed check   \n",
       "80   Month-to-month              Yes           Electronic check   \n",
       "91   Month-to-month               No           Electronic check   \n",
       "100  Month-to-month               No               Mailed check   \n",
       "\n",
       "    MonthlyCharges TotalCharges  Churn  ratio  \n",
       "0            29.85        29.85     No    1.0  \n",
       "20           39.65        39.65    Yes    1.0  \n",
       "22           20.15        20.15    Yes    1.0  \n",
       "27           30.20        30.20    Yes    1.0  \n",
       "33           20.20        20.20     No    1.0  \n",
       "34           45.25        45.25     No    1.0  \n",
       "70           49.05        49.05     No    1.0  \n",
       "80           79.35        79.35    Yes    1.0  \n",
       "91           74.70        74.70     No    1.0  \n",
       "100          20.20        20.20     No    1.0  \n",
       "\n",
       "[10 rows x 22 columns]"
      ]
     },
     "execution_count": 16,
     "metadata": {},
     "output_type": "execute_result"
    }
   ],
   "source": [
    "df_1 = df[df['tenure'] == 1]\n",
    "df_1.head(10)"
   ]
  },
  {
   "cell_type": "code",
   "execution_count": 17,
   "metadata": {},
   "outputs": [
    {
     "data": {
      "text/html": [
       "<div>\n",
       "<style>\n",
       "    .dataframe thead tr:only-child th {\n",
       "        text-align: right;\n",
       "    }\n",
       "\n",
       "    .dataframe thead th {\n",
       "        text-align: left;\n",
       "    }\n",
       "\n",
       "    .dataframe tbody tr th {\n",
       "        vertical-align: top;\n",
       "    }\n",
       "</style>\n",
       "<table border=\"1\" class=\"dataframe\">\n",
       "  <thead>\n",
       "    <tr style=\"text-align: right;\">\n",
       "      <th></th>\n",
       "      <th>customerID</th>\n",
       "      <th>gender</th>\n",
       "      <th>SeniorCitizen</th>\n",
       "      <th>Partner</th>\n",
       "      <th>Dependents</th>\n",
       "      <th>tenure</th>\n",
       "      <th>PhoneService</th>\n",
       "      <th>MultipleLines</th>\n",
       "      <th>InternetService</th>\n",
       "      <th>OnlineSecurity</th>\n",
       "      <th>...</th>\n",
       "      <th>TechSupport</th>\n",
       "      <th>StreamingTV</th>\n",
       "      <th>StreamingMovies</th>\n",
       "      <th>Contract</th>\n",
       "      <th>PaperlessBilling</th>\n",
       "      <th>PaymentMethod</th>\n",
       "      <th>MonthlyCharges</th>\n",
       "      <th>TotalCharges</th>\n",
       "      <th>Churn</th>\n",
       "      <th>ratio</th>\n",
       "    </tr>\n",
       "  </thead>\n",
       "  <tbody>\n",
       "    <tr>\n",
       "      <th>2</th>\n",
       "      <td>3668-QPYBK</td>\n",
       "      <td>Male</td>\n",
       "      <td>0</td>\n",
       "      <td>No</td>\n",
       "      <td>No</td>\n",
       "      <td>2</td>\n",
       "      <td>Yes</td>\n",
       "      <td>No</td>\n",
       "      <td>DSL</td>\n",
       "      <td>Yes</td>\n",
       "      <td>...</td>\n",
       "      <td>No</td>\n",
       "      <td>No</td>\n",
       "      <td>No</td>\n",
       "      <td>Month-to-month</td>\n",
       "      <td>Yes</td>\n",
       "      <td>Mailed check</td>\n",
       "      <td>53.85</td>\n",
       "      <td>108.15</td>\n",
       "      <td>Yes</td>\n",
       "      <td>2.008357</td>\n",
       "    </tr>\n",
       "    <tr>\n",
       "      <th>4</th>\n",
       "      <td>9237-HQITU</td>\n",
       "      <td>Female</td>\n",
       "      <td>0</td>\n",
       "      <td>No</td>\n",
       "      <td>No</td>\n",
       "      <td>2</td>\n",
       "      <td>Yes</td>\n",
       "      <td>No</td>\n",
       "      <td>Fiber optic</td>\n",
       "      <td>No</td>\n",
       "      <td>...</td>\n",
       "      <td>No</td>\n",
       "      <td>No</td>\n",
       "      <td>No</td>\n",
       "      <td>Month-to-month</td>\n",
       "      <td>Yes</td>\n",
       "      <td>Electronic check</td>\n",
       "      <td>70.70</td>\n",
       "      <td>151.65</td>\n",
       "      <td>Yes</td>\n",
       "      <td>2.144979</td>\n",
       "    </tr>\n",
       "    <tr>\n",
       "      <th>31</th>\n",
       "      <td>4929-XIHVW</td>\n",
       "      <td>Male</td>\n",
       "      <td>1</td>\n",
       "      <td>Yes</td>\n",
       "      <td>No</td>\n",
       "      <td>2</td>\n",
       "      <td>Yes</td>\n",
       "      <td>No</td>\n",
       "      <td>Fiber optic</td>\n",
       "      <td>No</td>\n",
       "      <td>...</td>\n",
       "      <td>No</td>\n",
       "      <td>Yes</td>\n",
       "      <td>Yes</td>\n",
       "      <td>Month-to-month</td>\n",
       "      <td>Yes</td>\n",
       "      <td>Credit card (automatic)</td>\n",
       "      <td>95.50</td>\n",
       "      <td>181.65</td>\n",
       "      <td>No</td>\n",
       "      <td>1.902094</td>\n",
       "    </tr>\n",
       "  </tbody>\n",
       "</table>\n",
       "<p>3 rows × 22 columns</p>\n",
       "</div>"
      ],
      "text/plain": [
       "    customerID  gender  SeniorCitizen Partner Dependents  tenure PhoneService  \\\n",
       "2   3668-QPYBK    Male              0      No         No       2          Yes   \n",
       "4   9237-HQITU  Female              0      No         No       2          Yes   \n",
       "31  4929-XIHVW    Male              1     Yes         No       2          Yes   \n",
       "\n",
       "   MultipleLines InternetService OnlineSecurity    ...    TechSupport  \\\n",
       "2             No             DSL            Yes    ...             No   \n",
       "4             No     Fiber optic             No    ...             No   \n",
       "31            No     Fiber optic             No    ...             No   \n",
       "\n",
       "   StreamingTV StreamingMovies        Contract PaperlessBilling  \\\n",
       "2           No              No  Month-to-month              Yes   \n",
       "4           No              No  Month-to-month              Yes   \n",
       "31         Yes             Yes  Month-to-month              Yes   \n",
       "\n",
       "              PaymentMethod MonthlyCharges TotalCharges  Churn     ratio  \n",
       "2              Mailed check          53.85       108.15    Yes  2.008357  \n",
       "4          Electronic check          70.70       151.65    Yes  2.144979  \n",
       "31  Credit card (automatic)          95.50       181.65     No  1.902094  \n",
       "\n",
       "[3 rows x 22 columns]"
      ]
     },
     "execution_count": 17,
     "metadata": {},
     "output_type": "execute_result"
    }
   ],
   "source": [
    "df[df['tenure'] == 2].head(3)"
   ]
  },
  {
   "cell_type": "code",
   "execution_count": 18,
   "metadata": {},
   "outputs": [
    {
     "data": {
      "text/plain": [
       "141.40000000000001"
      ]
     },
     "execution_count": 18,
     "metadata": {},
     "output_type": "execute_result"
    }
   ],
   "source": [
    "df.iloc[4]['MonthlyCharges'] * df.iloc[4]['tenure'] "
   ]
  },
  {
   "cell_type": "code",
   "execution_count": 19,
   "metadata": {},
   "outputs": [
    {
     "data": {
      "text/html": [
       "<div>\n",
       "<style>\n",
       "    .dataframe thead tr:only-child th {\n",
       "        text-align: right;\n",
       "    }\n",
       "\n",
       "    .dataframe thead th {\n",
       "        text-align: left;\n",
       "    }\n",
       "\n",
       "    .dataframe tbody tr th {\n",
       "        vertical-align: top;\n",
       "    }\n",
       "</style>\n",
       "<table border=\"1\" class=\"dataframe\">\n",
       "  <thead>\n",
       "    <tr style=\"text-align: right;\">\n",
       "      <th></th>\n",
       "      <th>SeniorCitizen</th>\n",
       "      <th>tenure</th>\n",
       "      <th>MonthlyCharges</th>\n",
       "      <th>TotalCharges</th>\n",
       "      <th>ratio</th>\n",
       "    </tr>\n",
       "  </thead>\n",
       "  <tbody>\n",
       "    <tr>\n",
       "      <th>count</th>\n",
       "      <td>7043.000000</td>\n",
       "      <td>7043.000000</td>\n",
       "      <td>7043.000000</td>\n",
       "      <td>7043.000000</td>\n",
       "      <td>7043.000000</td>\n",
       "    </tr>\n",
       "    <tr>\n",
       "      <th>mean</th>\n",
       "      <td>0.162147</td>\n",
       "      <td>32.371149</td>\n",
       "      <td>64.761692</td>\n",
       "      <td>2279.798992</td>\n",
       "      <td>32.374993</td>\n",
       "    </tr>\n",
       "    <tr>\n",
       "      <th>std</th>\n",
       "      <td>0.368612</td>\n",
       "      <td>24.559481</td>\n",
       "      <td>30.090047</td>\n",
       "      <td>2266.730170</td>\n",
       "      <td>24.593918</td>\n",
       "    </tr>\n",
       "    <tr>\n",
       "      <th>min</th>\n",
       "      <td>0.000000</td>\n",
       "      <td>0.000000</td>\n",
       "      <td>18.250000</td>\n",
       "      <td>18.800000</td>\n",
       "      <td>1.000000</td>\n",
       "    </tr>\n",
       "    <tr>\n",
       "      <th>25%</th>\n",
       "      <td>0.000000</td>\n",
       "      <td>9.000000</td>\n",
       "      <td>35.500000</td>\n",
       "      <td>398.550000</td>\n",
       "      <td>8.717230</td>\n",
       "    </tr>\n",
       "    <tr>\n",
       "      <th>50%</th>\n",
       "      <td>0.000000</td>\n",
       "      <td>29.000000</td>\n",
       "      <td>70.350000</td>\n",
       "      <td>1394.550000</td>\n",
       "      <td>28.673115</td>\n",
       "    </tr>\n",
       "    <tr>\n",
       "      <th>75%</th>\n",
       "      <td>0.000000</td>\n",
       "      <td>55.000000</td>\n",
       "      <td>89.850000</td>\n",
       "      <td>3786.600000</td>\n",
       "      <td>55.244460</td>\n",
       "    </tr>\n",
       "    <tr>\n",
       "      <th>max</th>\n",
       "      <td>1.000000</td>\n",
       "      <td>72.000000</td>\n",
       "      <td>118.750000</td>\n",
       "      <td>8684.800000</td>\n",
       "      <td>79.341772</td>\n",
       "    </tr>\n",
       "  </tbody>\n",
       "</table>\n",
       "</div>"
      ],
      "text/plain": [
       "       SeniorCitizen       tenure  MonthlyCharges  TotalCharges        ratio\n",
       "count    7043.000000  7043.000000     7043.000000   7043.000000  7043.000000\n",
       "mean        0.162147    32.371149       64.761692   2279.798992    32.374993\n",
       "std         0.368612    24.559481       30.090047   2266.730170    24.593918\n",
       "min         0.000000     0.000000       18.250000     18.800000     1.000000\n",
       "25%         0.000000     9.000000       35.500000    398.550000     8.717230\n",
       "50%         0.000000    29.000000       70.350000   1394.550000    28.673115\n",
       "75%         0.000000    55.000000       89.850000   3786.600000    55.244460\n",
       "max         1.000000    72.000000      118.750000   8684.800000    79.341772"
      ]
     },
     "execution_count": 19,
     "metadata": {},
     "output_type": "execute_result"
    }
   ],
   "source": [
    "df.describe()"
   ]
  },
  {
   "cell_type": "code",
   "execution_count": 20,
   "metadata": {},
   "outputs": [
    {
     "data": {
      "text/plain": [
       "<matplotlib.axes._subplots.AxesSubplot at 0x1170ce588>"
      ]
     },
     "execution_count": 20,
     "metadata": {},
     "output_type": "execute_result"
    },
    {
     "data": {
      "image/png": "[encoded data removed]",
      "text/plain": [
       "<matplotlib.figure.Figure at 0x116fac7f0>"
      ]
     },
     "metadata": {},
     "output_type": "display_data"
    }
   ],
   "source": [
    "fig, (ax1, ax2, ax3) = plt.subplots(ncols=3, sharey=False)\n",
    "sns.violinplot(x=df['tenure'], ax=ax1)\n",
    "sns.violinplot(x=df['MonthlyCharges'], ax=ax2)\n",
    "sns.violinplot(x=df['TotalCharges'], ax=ax3)"
   ]
  },
  {
   "cell_type": "code",
   "execution_count": 21,
   "metadata": {},
   "outputs": [
    {
     "data": {
      "text/plain": [
       "No     5174\n",
       "Yes    1869\n",
       "Name: Churn, dtype: int64"
      ]
     },
     "execution_count": 21,
     "metadata": {},
     "output_type": "execute_result"
    }
   ],
   "source": [
    "df['Churn'].value_counts()"
   ]
  },
  {
   "cell_type": "code",
   "execution_count": 22,
   "metadata": {},
   "outputs": [
    {
     "data": {
      "text/plain": [
       "Male      3555\n",
       "Female    3488\n",
       "Name: gender, dtype: int64"
      ]
     },
     "execution_count": 22,
     "metadata": {},
     "output_type": "execute_result"
    }
   ],
   "source": [
    "df['gender'].value_counts()"
   ]
  },
  {
   "cell_type": "code",
   "execution_count": 23,
   "metadata": {},
   "outputs": [
    {
     "data": {
      "text/plain": [
       "0    5901\n",
       "1    1142\n",
       "Name: SeniorCitizen, dtype: int64"
      ]
     },
     "execution_count": 23,
     "metadata": {},
     "output_type": "execute_result"
    }
   ],
   "source": [
    "df['SeniorCitizen'].value_counts()"
   ]
  },
  {
   "cell_type": "markdown",
   "metadata": {},
   "source": [
    "### Outlier Analysis"
   ]
  },
  {
   "cell_type": "code",
   "execution_count": 24,
   "metadata": {},
   "outputs": [
    {
     "name": "stdout",
     "output_type": "stream",
     "text": [
      "25%: 35.5\n",
      "75%: 89.85\n",
      "1.5 * IQR: 81.52499999999999\n",
      "-46.025\n",
      "171.375\n",
      "118.75\n",
      "18.8\n"
     ]
    }
   ],
   "source": [
    "Q1 = np.percentile(df['MonthlyCharges'], 25)\n",
    "Q3 = np.percentile(df['MonthlyCharges'], 75)\n",
    "\n",
    "step = 1.5 * (Q3 - Q1)\n",
    "    \n",
    "print('25%: {}'.format(Q1))\n",
    "print('75%: {}'.format(Q3))\n",
    "print(\"1.5 * IQR: {}\" .format(step))\n",
    "\n",
    "print(Q1 - step)\n",
    "print(Q3 + step)\n",
    "print(df['MonthlyCharges'].max())\n",
    "print(df['TotalCharges'].min())"
   ]
  },
  {
   "cell_type": "code",
   "execution_count": 25,
   "metadata": {},
   "outputs": [
    {
     "name": "stdout",
     "output_type": "stream",
     "text": [
      "25%: 398.55\n",
      "75%: 3786.6\n",
      "1.5 * IQR: 5082.075\n",
      "-4683.525\n",
      "8868.675\n",
      "8684.8\n",
      "18.8\n"
     ]
    }
   ],
   "source": [
    "Q1 = np.percentile(df['TotalCharges'], 25)\n",
    "Q3 = np.percentile(df['TotalCharges'], 75)\n",
    "\n",
    "step = 1.5 * (Q3 - Q1)\n",
    "    \n",
    "print('25%: {}'.format(Q1))\n",
    "print('75%: {}'.format(Q3))\n",
    "print(\"1.5 * IQR: {}\" .format(step))\n",
    "\n",
    "print(Q1 - step)\n",
    "print(Q3 + step)\n",
    "print(df['TotalCharges'].max())\n",
    "print(df['TotalCharges'].min())"
   ]
  },
  {
   "cell_type": "markdown",
   "metadata": {
    "collapsed": true
   },
   "source": [
    "### Tukey Fences\n",
    "\n",
    "There are several methods for determining outliers in a sample. A very popular method is based on the following:\n",
    "\n",
    "Outliers are values below Q1-1.5(Q3-Q1) or above Q3+1.5(Q3-Q1) or equivalently, values below Q1-1.5 IQR or above Q3+1.5 IQR.\n",
    "\n",
    "These are referred to as Tukey fences.6  For the diastolic blood pressures, the lower limit is 64 - 1.5(77-64) = 44.5 and the upper limit is 77 + 1.5(77-64) = 96.5.  The diastolic blood pressures range from 62 to 81. Therefore there are no outliers.  The best summary of a typical diastolic blood pressure is the mean (in this case 71.3) and the best summary of variability is given by the standard deviation (s=7.2).\n",
    "\n",
    "http://sphweb.bumc.bu.edu/otlt/mph-modules/bs/bs704_summarizingdata/bs704_summarizingdata7.html"
   ]
  },
  {
   "cell_type": "code",
   "execution_count": 26,
   "metadata": {},
   "outputs": [
    {
     "data": {
      "text/plain": [
       "['customerID',\n",
       " 'gender',\n",
       " 'SeniorCitizen',\n",
       " 'Partner',\n",
       " 'Dependents',\n",
       " 'tenure',\n",
       " 'PhoneService',\n",
       " 'MultipleLines',\n",
       " 'InternetService',\n",
       " 'OnlineSecurity',\n",
       " 'OnlineBackup',\n",
       " 'DeviceProtection',\n",
       " 'TechSupport',\n",
       " 'StreamingTV',\n",
       " 'StreamingMovies',\n",
       " 'Contract',\n",
       " 'PaperlessBilling',\n",
       " 'PaymentMethod',\n",
       " 'MonthlyCharges',\n",
       " 'TotalCharges',\n",
       " 'Churn',\n",
       " 'ratio']"
      ]
     },
     "execution_count": 26,
     "metadata": {},
     "output_type": "execute_result"
    }
   ],
   "source": [
    "df.columns.tolist()"
   ]
  },
  {
   "cell_type": "code",
   "execution_count": 27,
   "metadata": {
    "collapsed": true
   },
   "outputs": [],
   "source": [
    "features = df[[\n",
    " 'Partner',\n",
    " 'Dependents',\n",
    " 'PhoneService',\n",
    " 'MultipleLines',\n",
    " 'InternetService',\n",
    " 'OnlineSecurity',\n",
    " 'OnlineBackup',\n",
    " 'DeviceProtection',\n",
    " 'TechSupport',\n",
    " 'StreamingTV',\n",
    " 'StreamingMovies',\n",
    " 'Contract',\n",
    " 'PaperlessBilling',\n",
    " 'PaymentMethod']]"
   ]
  },
  {
   "cell_type": "code",
   "execution_count": 28,
   "metadata": {},
   "outputs": [
    {
     "name": "stdout",
     "output_type": "stream",
     "text": [
      "<class 'pandas.core.frame.DataFrame'>\n",
      "RangeIndex: 7043 entries, 0 to 7042\n",
      "Data columns (total 14 columns):\n",
      "Partner             7043 non-null object\n",
      "Dependents          7043 non-null object\n",
      "PhoneService        7043 non-null object\n",
      "MultipleLines       7043 non-null object\n",
      "InternetService     7043 non-null object\n",
      "OnlineSecurity      7043 non-null object\n",
      "OnlineBackup        7043 non-null object\n",
      "DeviceProtection    7043 non-null object\n",
      "TechSupport         7043 non-null object\n",
      "StreamingTV         7043 non-null object\n",
      "StreamingMovies     7043 non-null object\n",
      "Contract            7043 non-null object\n",
      "PaperlessBilling    7043 non-null object\n",
      "PaymentMethod       7043 non-null object\n",
      "dtypes: object(14)\n",
      "memory usage: 770.4+ KB\n"
     ]
    }
   ],
   "source": [
    "features.info()"
   ]
  },
  {
   "cell_type": "code",
   "execution_count": 29,
   "metadata": {},
   "outputs": [
    {
     "data": {
      "image/png": "[encoded data removed]",
      "text/plain": [
       "<matplotlib.figure.Figure at 0x11c243550>"
      ]
     },
     "metadata": {},
     "output_type": "display_data"
    }
   ],
   "source": [
    "sns.distplot(df[df['Churn'] == 'Yes']['MonthlyCharges'])\n",
    "plt.title('Histogram of Customers Who Churn by Monthly Charges')\n",
    "plt.show()"
   ]
  },
  {
   "cell_type": "code",
   "execution_count": 30,
   "metadata": {},
   "outputs": [
    {
     "data": {
      "image/png": "[encoded data removed]",
      "text/plain": [
       "<matplotlib.figure.Figure at 0x11c4937b8>"
      ]
     },
     "metadata": {},
     "output_type": "display_data"
    }
   ],
   "source": [
    "sns.distplot(df[df['Churn'] == 'Yes']['tenure'])\n",
    "plt.title('Histogram of Customers Who Churn by Tenure')\n",
    "plt.show()"
   ]
  },
  {
   "cell_type": "code",
   "execution_count": 31,
   "metadata": {},
   "outputs": [
    {
     "data": {
      "image/png": "[encoded data removed]",
      "text/plain": [
       "<matplotlib.figure.Figure at 0x1170d6d68>"
      ]
     },
     "metadata": {},
     "output_type": "display_data"
    }
   ],
   "source": [
    "sns.distplot(df[df['Churn'] == 'No']['MonthlyCharges'])\n",
    "plt.title('Histogram of Customers Do Not Churn by Monthly Charges')\n",
    "plt.show()"
   ]
  },
  {
   "cell_type": "code",
   "execution_count": 32,
   "metadata": {},
   "outputs": [
    {
     "data": {
      "image/png": "[encoded data removed]",
      "text/plain": [
       "<matplotlib.figure.Figure at 0x116fac240>"
      ]
     },
     "metadata": {},
     "output_type": "display_data"
    }
   ],
   "source": [
    "sns.distplot(df[df['Churn'] == 'No']['tenure'])\n",
    "plt.title('Histogram of Customers Who Do Not Churn by Tenure')\n",
    "plt.show()"
   ]
  },
  {
   "cell_type": "code",
   "execution_count": 33,
   "metadata": {
    "collapsed": true
   },
   "outputs": [],
   "source": [
    "#https://blog.myyellowroad.com/using-categorical-data-in-machine-learning-with-python-from-dummy-variables-to-deep-category-66041f734512"
   ]
  },
  {
   "cell_type": "code",
   "execution_count": 34,
   "metadata": {},
   "outputs": [
    {
     "data": {
      "text/plain": [
       "['customerID',\n",
       " 'gender',\n",
       " 'SeniorCitizen',\n",
       " 'Partner',\n",
       " 'Dependents',\n",
       " 'tenure',\n",
       " 'PhoneService',\n",
       " 'MultipleLines',\n",
       " 'InternetService',\n",
       " 'OnlineSecurity',\n",
       " 'OnlineBackup',\n",
       " 'DeviceProtection',\n",
       " 'TechSupport',\n",
       " 'StreamingTV',\n",
       " 'StreamingMovies',\n",
       " 'Contract',\n",
       " 'PaperlessBilling',\n",
       " 'PaymentMethod',\n",
       " 'MonthlyCharges',\n",
       " 'TotalCharges',\n",
       " 'Churn',\n",
       " 'ratio']"
      ]
     },
     "execution_count": 34,
     "metadata": {},
     "output_type": "execute_result"
    }
   ],
   "source": [
    "columns_list = df.columns.tolist()\n",
    "columns_list\n",
    "columns_list"
   ]
  },
  {
   "cell_type": "code",
   "execution_count": 35,
   "metadata": {
    "collapsed": true
   },
   "outputs": [],
   "source": [
    "sub_index = [1, 2, 3, 4, 6, 7, 8, 9, 10, 11, 12, 13, 14, 15, 16, 17, 20]\n",
    "sub_list = [columns_list[x] for x in sub_index]"
   ]
  },
  {
   "cell_type": "code",
   "execution_count": 36,
   "metadata": {},
   "outputs": [
    {
     "data": {
      "text/plain": [
       "list"
      ]
     },
     "execution_count": 36,
     "metadata": {},
     "output_type": "execute_result"
    }
   ],
   "source": [
    "unique_ = []\n",
    "for i in sub_list:\n",
    "    unique_.append(df[i].unique())\n",
    "type(unique_)"
   ]
  },
  {
   "cell_type": "code",
   "execution_count": 37,
   "metadata": {},
   "outputs": [
    {
     "data": {
      "text/html": [
       "<div>\n",
       "<style>\n",
       "    .dataframe thead tr:only-child th {\n",
       "        text-align: right;\n",
       "    }\n",
       "\n",
       "    .dataframe thead th {\n",
       "        text-align: left;\n",
       "    }\n",
       "\n",
       "    .dataframe tbody tr th {\n",
       "        vertical-align: top;\n",
       "    }\n",
       "</style>\n",
       "<table border=\"1\" class=\"dataframe\">\n",
       "  <thead>\n",
       "    <tr style=\"text-align: right;\">\n",
       "      <th></th>\n",
       "      <th>Column_Header</th>\n",
       "      <th>Initial_Index</th>\n",
       "      <th>Unique_Fields</th>\n",
       "    </tr>\n",
       "  </thead>\n",
       "  <tbody>\n",
       "    <tr>\n",
       "      <th>0</th>\n",
       "      <td>gender</td>\n",
       "      <td>1</td>\n",
       "      <td>[Female, Male]</td>\n",
       "    </tr>\n",
       "    <tr>\n",
       "      <th>1</th>\n",
       "      <td>SeniorCitizen</td>\n",
       "      <td>2</td>\n",
       "      <td>[0, 1]</td>\n",
       "    </tr>\n",
       "    <tr>\n",
       "      <th>2</th>\n",
       "      <td>Partner</td>\n",
       "      <td>3</td>\n",
       "      <td>[Yes, No]</td>\n",
       "    </tr>\n",
       "    <tr>\n",
       "      <th>3</th>\n",
       "      <td>Dependents</td>\n",
       "      <td>4</td>\n",
       "      <td>[No, Yes]</td>\n",
       "    </tr>\n",
       "    <tr>\n",
       "      <th>4</th>\n",
       "      <td>PhoneService</td>\n",
       "      <td>6</td>\n",
       "      <td>[No, Yes]</td>\n",
       "    </tr>\n",
       "    <tr>\n",
       "      <th>5</th>\n",
       "      <td>MultipleLines</td>\n",
       "      <td>7</td>\n",
       "      <td>[No phone service, No, Yes]</td>\n",
       "    </tr>\n",
       "    <tr>\n",
       "      <th>6</th>\n",
       "      <td>InternetService</td>\n",
       "      <td>8</td>\n",
       "      <td>[DSL, Fiber optic, No]</td>\n",
       "    </tr>\n",
       "    <tr>\n",
       "      <th>7</th>\n",
       "      <td>OnlineSecurity</td>\n",
       "      <td>9</td>\n",
       "      <td>[No, Yes, No internet service]</td>\n",
       "    </tr>\n",
       "    <tr>\n",
       "      <th>8</th>\n",
       "      <td>OnlineBackup</td>\n",
       "      <td>10</td>\n",
       "      <td>[Yes, No, No internet service]</td>\n",
       "    </tr>\n",
       "    <tr>\n",
       "      <th>9</th>\n",
       "      <td>DeviceProtection</td>\n",
       "      <td>11</td>\n",
       "      <td>[No, Yes, No internet service]</td>\n",
       "    </tr>\n",
       "    <tr>\n",
       "      <th>10</th>\n",
       "      <td>TechSupport</td>\n",
       "      <td>12</td>\n",
       "      <td>[No, Yes, No internet service]</td>\n",
       "    </tr>\n",
       "    <tr>\n",
       "      <th>11</th>\n",
       "      <td>StreamingTV</td>\n",
       "      <td>13</td>\n",
       "      <td>[No, Yes, No internet service]</td>\n",
       "    </tr>\n",
       "    <tr>\n",
       "      <th>12</th>\n",
       "      <td>StreamingMovies</td>\n",
       "      <td>14</td>\n",
       "      <td>[No, Yes, No internet service]</td>\n",
       "    </tr>\n",
       "    <tr>\n",
       "      <th>13</th>\n",
       "      <td>Contract</td>\n",
       "      <td>15</td>\n",
       "      <td>[Month-to-month, One year, Two year]</td>\n",
       "    </tr>\n",
       "    <tr>\n",
       "      <th>14</th>\n",
       "      <td>PaperlessBilling</td>\n",
       "      <td>16</td>\n",
       "      <td>[Yes, No]</td>\n",
       "    </tr>\n",
       "    <tr>\n",
       "      <th>15</th>\n",
       "      <td>PaymentMethod</td>\n",
       "      <td>17</td>\n",
       "      <td>[Electronic check, Mailed check, Bank transfer...</td>\n",
       "    </tr>\n",
       "    <tr>\n",
       "      <th>16</th>\n",
       "      <td>Churn</td>\n",
       "      <td>20</td>\n",
       "      <td>[No, Yes]</td>\n",
       "    </tr>\n",
       "  </tbody>\n",
       "</table>\n",
       "</div>"
      ],
      "text/plain": [
       "       Column_Header  Initial_Index  \\\n",
       "0             gender              1   \n",
       "1      SeniorCitizen              2   \n",
       "2            Partner              3   \n",
       "3         Dependents              4   \n",
       "4       PhoneService              6   \n",
       "5      MultipleLines              7   \n",
       "6    InternetService              8   \n",
       "7     OnlineSecurity              9   \n",
       "8       OnlineBackup             10   \n",
       "9   DeviceProtection             11   \n",
       "10       TechSupport             12   \n",
       "11       StreamingTV             13   \n",
       "12   StreamingMovies             14   \n",
       "13          Contract             15   \n",
       "14  PaperlessBilling             16   \n",
       "15     PaymentMethod             17   \n",
       "16             Churn             20   \n",
       "\n",
       "                                        Unique_Fields  \n",
       "0                                      [Female, Male]  \n",
       "1                                              [0, 1]  \n",
       "2                                           [Yes, No]  \n",
       "3                                           [No, Yes]  \n",
       "4                                           [No, Yes]  \n",
       "5                         [No phone service, No, Yes]  \n",
       "6                              [DSL, Fiber optic, No]  \n",
       "7                      [No, Yes, No internet service]  \n",
       "8                      [Yes, No, No internet service]  \n",
       "9                      [No, Yes, No internet service]  \n",
       "10                     [No, Yes, No internet service]  \n",
       "11                     [No, Yes, No internet service]  \n",
       "12                     [No, Yes, No internet service]  \n",
       "13               [Month-to-month, One year, Two year]  \n",
       "14                                          [Yes, No]  \n",
       "15  [Electronic check, Mailed check, Bank transfer...  \n",
       "16                                          [No, Yes]  "
      ]
     },
     "execution_count": 37,
     "metadata": {},
     "output_type": "execute_result"
    }
   ],
   "source": [
    "df_col_summary = pd.DataFrame({'Column_Header' : sub_list, 'Initial_Index': sub_index, 'Unique_Fields' : unique_})   \n",
    "df_col_summary"
   ]
  },
  {
   "cell_type": "code",
   "execution_count": 38,
   "metadata": {},
   "outputs": [
    {
     "data": {
      "text/plain": [
       "['Electronic check',\n",
       " 'Mailed check',\n",
       " 'Bank transfer (automatic)',\n",
       " 'Credit card (automatic)']"
      ]
     },
     "execution_count": 38,
     "metadata": {},
     "output_type": "execute_result"
    }
   ],
   "source": [
    "df_col_summary.iloc[15]['Unique_Fields'].tolist()"
   ]
  },
  {
   "cell_type": "code",
   "execution_count": 39,
   "metadata": {
    "collapsed": true
   },
   "outputs": [],
   "source": [
    "df['gender'] = df['gender'].map({'Male': 0, 'Female': 1})\n",
    "df['Partner'] = df['Partner'].map({'No': 0, 'Yes': 1})\n",
    "df['Dependents'] = df['Dependents'].map({'No': 0, 'Yes': 1})\n",
    "df['PhoneService'] = df['PhoneService'].map({'No': 0, 'Yes': 1})\n",
    "df['MultipleLines'] = df['MultipleLines'].map({'No phone service': 0, 'No': 1, 'Yes': 2})\n",
    "df['InternetService'] = df['InternetService'].map({'DSL': 0, 'Fiber optic': 1, 'No': 2})\n",
    "df['OnlineSecurity'] = df['OnlineSecurity'].map({'No internet service': 0, 'No': 1, 'Yes': 2})\n",
    "df['OnlineBackup'] = df['OnlineBackup'].map({'No internet service': 0, 'No': 1, 'Yes': 2})\n",
    "df['DeviceProtection'] = df['DeviceProtection'].map({'No internet service': 0, 'No': 1, 'Yes': 2})\n",
    "df['TechSupport'] = df['TechSupport'].map({'No internet service': 0, 'No': 1, 'Yes': 2})\n",
    "df['StreamingTV'] = df['StreamingTV'].map({'No internet service': 0, 'No': 1, 'Yes': 2})\n",
    "df['StreamingMovies'] = df['StreamingMovies'].map({'No internet service': 0, 'No': 1, 'Yes': 2})\n",
    "df['Contract'] = df['Contract'].map({'Month-to-month': 0, 'One year': 1, 'Two year': 2})\n",
    "df['PaperlessBilling'] = df['PaperlessBilling'].map({'No': 0, 'Yes': 1})\n",
    "df['PaymentMethod'] = df['PaymentMethod'].map({'Electronic check': 0, 'Mailed check': 1, 'Bank transfer (automatic)': 2, 'Credit card (automatic)': 3})\n",
    "df['Churn'] = df['Churn'].map({'No': 0, 'Yes': 1})"
   ]
  },
  {
   "cell_type": "code",
   "execution_count": 40,
   "metadata": {},
   "outputs": [
    {
     "data": {
      "text/html": [
       "<div>\n",
       "<style>\n",
       "    .dataframe thead tr:only-child th {\n",
       "        text-align: right;\n",
       "    }\n",
       "\n",
       "    .dataframe thead th {\n",
       "        text-align: left;\n",
       "    }\n",
       "\n",
       "    .dataframe tbody tr th {\n",
       "        vertical-align: top;\n",
       "    }\n",
       "</style>\n",
       "<table border=\"1\" class=\"dataframe\">\n",
       "  <thead>\n",
       "    <tr style=\"text-align: right;\">\n",
       "      <th></th>\n",
       "      <th>customerID</th>\n",
       "      <th>gender</th>\n",
       "      <th>SeniorCitizen</th>\n",
       "      <th>Partner</th>\n",
       "      <th>Dependents</th>\n",
       "      <th>tenure</th>\n",
       "      <th>PhoneService</th>\n",
       "      <th>MultipleLines</th>\n",
       "      <th>InternetService</th>\n",
       "      <th>OnlineSecurity</th>\n",
       "      <th>...</th>\n",
       "      <th>TechSupport</th>\n",
       "      <th>StreamingTV</th>\n",
       "      <th>StreamingMovies</th>\n",
       "      <th>Contract</th>\n",
       "      <th>PaperlessBilling</th>\n",
       "      <th>PaymentMethod</th>\n",
       "      <th>MonthlyCharges</th>\n",
       "      <th>TotalCharges</th>\n",
       "      <th>Churn</th>\n",
       "      <th>ratio</th>\n",
       "    </tr>\n",
       "  </thead>\n",
       "  <tbody>\n",
       "    <tr>\n",
       "      <th>0</th>\n",
       "      <td>7590-VHVEG</td>\n",
       "      <td>1</td>\n",
       "      <td>0</td>\n",
       "      <td>1</td>\n",
       "      <td>0</td>\n",
       "      <td>1</td>\n",
       "      <td>0</td>\n",
       "      <td>0</td>\n",
       "      <td>0</td>\n",
       "      <td>1</td>\n",
       "      <td>...</td>\n",
       "      <td>1</td>\n",
       "      <td>1</td>\n",
       "      <td>1</td>\n",
       "      <td>0</td>\n",
       "      <td>1</td>\n",
       "      <td>0</td>\n",
       "      <td>29.85</td>\n",
       "      <td>29.85</td>\n",
       "      <td>0</td>\n",
       "      <td>1.000000</td>\n",
       "    </tr>\n",
       "    <tr>\n",
       "      <th>1</th>\n",
       "      <td>5575-GNVDE</td>\n",
       "      <td>0</td>\n",
       "      <td>0</td>\n",
       "      <td>0</td>\n",
       "      <td>0</td>\n",
       "      <td>34</td>\n",
       "      <td>1</td>\n",
       "      <td>1</td>\n",
       "      <td>0</td>\n",
       "      <td>2</td>\n",
       "      <td>...</td>\n",
       "      <td>1</td>\n",
       "      <td>1</td>\n",
       "      <td>1</td>\n",
       "      <td>1</td>\n",
       "      <td>0</td>\n",
       "      <td>1</td>\n",
       "      <td>56.95</td>\n",
       "      <td>1889.50</td>\n",
       "      <td>0</td>\n",
       "      <td>33.178227</td>\n",
       "    </tr>\n",
       "    <tr>\n",
       "      <th>2</th>\n",
       "      <td>3668-QPYBK</td>\n",
       "      <td>0</td>\n",
       "      <td>0</td>\n",
       "      <td>0</td>\n",
       "      <td>0</td>\n",
       "      <td>2</td>\n",
       "      <td>1</td>\n",
       "      <td>1</td>\n",
       "      <td>0</td>\n",
       "      <td>2</td>\n",
       "      <td>...</td>\n",
       "      <td>1</td>\n",
       "      <td>1</td>\n",
       "      <td>1</td>\n",
       "      <td>0</td>\n",
       "      <td>1</td>\n",
       "      <td>1</td>\n",
       "      <td>53.85</td>\n",
       "      <td>108.15</td>\n",
       "      <td>1</td>\n",
       "      <td>2.008357</td>\n",
       "    </tr>\n",
       "    <tr>\n",
       "      <th>3</th>\n",
       "      <td>7795-CFOCW</td>\n",
       "      <td>0</td>\n",
       "      <td>0</td>\n",
       "      <td>0</td>\n",
       "      <td>0</td>\n",
       "      <td>45</td>\n",
       "      <td>0</td>\n",
       "      <td>0</td>\n",
       "      <td>0</td>\n",
       "      <td>2</td>\n",
       "      <td>...</td>\n",
       "      <td>2</td>\n",
       "      <td>1</td>\n",
       "      <td>1</td>\n",
       "      <td>1</td>\n",
       "      <td>0</td>\n",
       "      <td>2</td>\n",
       "      <td>42.30</td>\n",
       "      <td>1840.75</td>\n",
       "      <td>0</td>\n",
       "      <td>43.516548</td>\n",
       "    </tr>\n",
       "    <tr>\n",
       "      <th>4</th>\n",
       "      <td>9237-HQITU</td>\n",
       "      <td>1</td>\n",
       "      <td>0</td>\n",
       "      <td>0</td>\n",
       "      <td>0</td>\n",
       "      <td>2</td>\n",
       "      <td>1</td>\n",
       "      <td>1</td>\n",
       "      <td>1</td>\n",
       "      <td>1</td>\n",
       "      <td>...</td>\n",
       "      <td>1</td>\n",
       "      <td>1</td>\n",
       "      <td>1</td>\n",
       "      <td>0</td>\n",
       "      <td>1</td>\n",
       "      <td>0</td>\n",
       "      <td>70.70</td>\n",
       "      <td>151.65</td>\n",
       "      <td>1</td>\n",
       "      <td>2.144979</td>\n",
       "    </tr>\n",
       "  </tbody>\n",
       "</table>\n",
       "<p>5 rows × 22 columns</p>\n",
       "</div>"
      ],
      "text/plain": [
       "   customerID  gender  SeniorCitizen  Partner  Dependents  tenure  \\\n",
       "0  7590-VHVEG       1              0        1           0       1   \n",
       "1  5575-GNVDE       0              0        0           0      34   \n",
       "2  3668-QPYBK       0              0        0           0       2   \n",
       "3  7795-CFOCW       0              0        0           0      45   \n",
       "4  9237-HQITU       1              0        0           0       2   \n",
       "\n",
       "   PhoneService  MultipleLines  InternetService  OnlineSecurity    ...      \\\n",
       "0             0              0                0               1    ...       \n",
       "1             1              1                0               2    ...       \n",
       "2             1              1                0               2    ...       \n",
       "3             0              0                0               2    ...       \n",
       "4             1              1                1               1    ...       \n",
       "\n",
       "   TechSupport  StreamingTV  StreamingMovies  Contract  PaperlessBilling  \\\n",
       "0            1            1                1         0                 1   \n",
       "1            1            1                1         1                 0   \n",
       "2            1            1                1         0                 1   \n",
       "3            2            1                1         1                 0   \n",
       "4            1            1                1         0                 1   \n",
       "\n",
       "   PaymentMethod  MonthlyCharges  TotalCharges  Churn      ratio  \n",
       "0              0           29.85         29.85      0   1.000000  \n",
       "1              1           56.95       1889.50      0  33.178227  \n",
       "2              1           53.85        108.15      1   2.008357  \n",
       "3              2           42.30       1840.75      0  43.516548  \n",
       "4              0           70.70        151.65      1   2.144979  \n",
       "\n",
       "[5 rows x 22 columns]"
      ]
     },
     "execution_count": 40,
     "metadata": {},
     "output_type": "execute_result"
    }
   ],
   "source": [
    "df.head()"
   ]
  },
  {
   "cell_type": "code",
   "execution_count": 41,
   "metadata": {
    "collapsed": true
   },
   "outputs": [],
   "source": [
    "df_vect = df.drop(['customerID', 'ratio', 'MonthlyCharges'], axis=1)"
   ]
  },
  {
   "cell_type": "code",
   "execution_count": 42,
   "metadata": {},
   "outputs": [
    {
     "data": {
      "text/html": [
       "<div>\n",
       "<style>\n",
       "    .dataframe thead tr:only-child th {\n",
       "        text-align: right;\n",
       "    }\n",
       "\n",
       "    .dataframe thead th {\n",
       "        text-align: left;\n",
       "    }\n",
       "\n",
       "    .dataframe tbody tr th {\n",
       "        vertical-align: top;\n",
       "    }\n",
       "</style>\n",
       "<table border=\"1\" class=\"dataframe\">\n",
       "  <thead>\n",
       "    <tr style=\"text-align: right;\">\n",
       "      <th></th>\n",
       "      <th>gender</th>\n",
       "      <th>SeniorCitizen</th>\n",
       "      <th>Partner</th>\n",
       "      <th>Dependents</th>\n",
       "      <th>tenure</th>\n",
       "      <th>PhoneService</th>\n",
       "      <th>MultipleLines</th>\n",
       "      <th>InternetService</th>\n",
       "      <th>OnlineSecurity</th>\n",
       "      <th>OnlineBackup</th>\n",
       "      <th>DeviceProtection</th>\n",
       "      <th>TechSupport</th>\n",
       "      <th>StreamingTV</th>\n",
       "      <th>StreamingMovies</th>\n",
       "      <th>Contract</th>\n",
       "      <th>PaperlessBilling</th>\n",
       "      <th>PaymentMethod</th>\n",
       "      <th>TotalCharges</th>\n",
       "      <th>Churn</th>\n",
       "    </tr>\n",
       "  </thead>\n",
       "  <tbody>\n",
       "    <tr>\n",
       "      <th>0</th>\n",
       "      <td>1</td>\n",
       "      <td>0</td>\n",
       "      <td>1</td>\n",
       "      <td>0</td>\n",
       "      <td>1</td>\n",
       "      <td>0</td>\n",
       "      <td>0</td>\n",
       "      <td>0</td>\n",
       "      <td>1</td>\n",
       "      <td>2</td>\n",
       "      <td>1</td>\n",
       "      <td>1</td>\n",
       "      <td>1</td>\n",
       "      <td>1</td>\n",
       "      <td>0</td>\n",
       "      <td>1</td>\n",
       "      <td>0</td>\n",
       "      <td>29.85</td>\n",
       "      <td>0</td>\n",
       "    </tr>\n",
       "    <tr>\n",
       "      <th>1</th>\n",
       "      <td>0</td>\n",
       "      <td>0</td>\n",
       "      <td>0</td>\n",
       "      <td>0</td>\n",
       "      <td>34</td>\n",
       "      <td>1</td>\n",
       "      <td>1</td>\n",
       "      <td>0</td>\n",
       "      <td>2</td>\n",
       "      <td>1</td>\n",
       "      <td>2</td>\n",
       "      <td>1</td>\n",
       "      <td>1</td>\n",
       "      <td>1</td>\n",
       "      <td>1</td>\n",
       "      <td>0</td>\n",
       "      <td>1</td>\n",
       "      <td>1889.50</td>\n",
       "      <td>0</td>\n",
       "    </tr>\n",
       "    <tr>\n",
       "      <th>2</th>\n",
       "      <td>0</td>\n",
       "      <td>0</td>\n",
       "      <td>0</td>\n",
       "      <td>0</td>\n",
       "      <td>2</td>\n",
       "      <td>1</td>\n",
       "      <td>1</td>\n",
       "      <td>0</td>\n",
       "      <td>2</td>\n",
       "      <td>2</td>\n",
       "      <td>1</td>\n",
       "      <td>1</td>\n",
       "      <td>1</td>\n",
       "      <td>1</td>\n",
       "      <td>0</td>\n",
       "      <td>1</td>\n",
       "      <td>1</td>\n",
       "      <td>108.15</td>\n",
       "      <td>1</td>\n",
       "    </tr>\n",
       "    <tr>\n",
       "      <th>3</th>\n",
       "      <td>0</td>\n",
       "      <td>0</td>\n",
       "      <td>0</td>\n",
       "      <td>0</td>\n",
       "      <td>45</td>\n",
       "      <td>0</td>\n",
       "      <td>0</td>\n",
       "      <td>0</td>\n",
       "      <td>2</td>\n",
       "      <td>1</td>\n",
       "      <td>2</td>\n",
       "      <td>2</td>\n",
       "      <td>1</td>\n",
       "      <td>1</td>\n",
       "      <td>1</td>\n",
       "      <td>0</td>\n",
       "      <td>2</td>\n",
       "      <td>1840.75</td>\n",
       "      <td>0</td>\n",
       "    </tr>\n",
       "    <tr>\n",
       "      <th>4</th>\n",
       "      <td>1</td>\n",
       "      <td>0</td>\n",
       "      <td>0</td>\n",
       "      <td>0</td>\n",
       "      <td>2</td>\n",
       "      <td>1</td>\n",
       "      <td>1</td>\n",
       "      <td>1</td>\n",
       "      <td>1</td>\n",
       "      <td>1</td>\n",
       "      <td>1</td>\n",
       "      <td>1</td>\n",
       "      <td>1</td>\n",
       "      <td>1</td>\n",
       "      <td>0</td>\n",
       "      <td>1</td>\n",
       "      <td>0</td>\n",
       "      <td>151.65</td>\n",
       "      <td>1</td>\n",
       "    </tr>\n",
       "  </tbody>\n",
       "</table>\n",
       "</div>"
      ],
      "text/plain": [
       "   gender  SeniorCitizen  Partner  Dependents  tenure  PhoneService  \\\n",
       "0       1              0        1           0       1             0   \n",
       "1       0              0        0           0      34             1   \n",
       "2       0              0        0           0       2             1   \n",
       "3       0              0        0           0      45             0   \n",
       "4       1              0        0           0       2             1   \n",
       "\n",
       "   MultipleLines  InternetService  OnlineSecurity  OnlineBackup  \\\n",
       "0              0                0               1             2   \n",
       "1              1                0               2             1   \n",
       "2              1                0               2             2   \n",
       "3              0                0               2             1   \n",
       "4              1                1               1             1   \n",
       "\n",
       "   DeviceProtection  TechSupport  StreamingTV  StreamingMovies  Contract  \\\n",
       "0                 1            1            1                1         0   \n",
       "1                 2            1            1                1         1   \n",
       "2                 1            1            1                1         0   \n",
       "3                 2            2            1                1         1   \n",
       "4                 1            1            1                1         0   \n",
       "\n",
       "   PaperlessBilling  PaymentMethod  TotalCharges  Churn  \n",
       "0                 1              0         29.85      0  \n",
       "1                 0              1       1889.50      0  \n",
       "2                 1              1        108.15      1  \n",
       "3                 0              2       1840.75      0  \n",
       "4                 1              0        151.65      1  "
      ]
     },
     "execution_count": 42,
     "metadata": {},
     "output_type": "execute_result"
    }
   ],
   "source": [
    "df_vect.head()"
   ]
  },
  {
   "cell_type": "code",
   "execution_count": 43,
   "metadata": {},
   "outputs": [
    {
     "data": {
      "text/plain": [
       "(7043, 19)"
      ]
     },
     "execution_count": 43,
     "metadata": {},
     "output_type": "execute_result"
    }
   ],
   "source": [
    "df_vect.shape"
   ]
  },
  {
   "cell_type": "code",
   "execution_count": 44,
   "metadata": {
    "collapsed": true
   },
   "outputs": [],
   "source": [
    "#https://chrisalbon.com/machine_learning/model_evaluation/split_data_into_training_and_test_sets/\n",
    "#Tl;dr: Split the data set using train_test_split first then apply standard scaler. "
   ]
  },
  {
   "cell_type": "code",
   "execution_count": 45,
   "metadata": {},
   "outputs": [
    {
     "name": "stderr",
     "output_type": "stream",
     "text": [
      "/Users/gta/anaconda3/lib/python3.6/site-packages/sklearn/cross_validation.py:41: DeprecationWarning: This module was deprecated in version 0.18 in favor of the model_selection module into which all the refactored classes and functions are moved. Also note that the interface of the new CV iterators are different from that of this module. This module will be removed in 0.20.\n",
      "  \"This module will be removed in 0.20.\", DeprecationWarning)\n"
     ]
    }
   ],
   "source": [
    "from sklearn.preprocessing import StandardScaler\n",
    "from sklearn.model_selection import train_test_split\n",
    "from sklearn.linear_model import LogisticRegression\n",
    "from sklearn.metrics import confusion_matrix\n",
    "from sklearn.cross_validation import cross_val_score\n",
    "from sklearn.metrics import roc_auc_score\n",
    "from sklearn.metrics import roc_curve\n",
    "from sklearn.model_selection import learning_curve\n",
    "from sklearn.model_selection import StratifiedShuffleSplit\n",
    "from sklearn.model_selection import GridSearchCV\n",
    "from sklearn.metrics import classification_report\n",
    "\n",
    "X = df_vect.drop('Churn', axis=1)\n",
    "y = df_vect['Churn']"
   ]
  },
  {
   "cell_type": "code",
   "execution_count": 46,
   "metadata": {
    "collapsed": true
   },
   "outputs": [],
   "source": [
    "X_train, X_test, y_train, y_test = train_test_split(X, y, test_size=0.33, random_state=42)"
   ]
  },
  {
   "cell_type": "code",
   "execution_count": 47,
   "metadata": {},
   "outputs": [
    {
     "name": "stdout",
     "output_type": "stream",
     "text": [
      "StandardScaler(copy=True, with_mean=True, with_std=True)\n"
     ]
    }
   ],
   "source": [
    "scaler = StandardScaler(copy=True, with_mean=True, with_std=True)\n",
    "scaler.fit(X_train)\n",
    "X_train_std = scaler.transform(X_train)\n",
    "X_test_std = scaler.transform(X_test)\n",
    "print(scaler)"
   ]
  },
  {
   "cell_type": "code",
   "execution_count": 48,
   "metadata": {},
   "outputs": [
    {
     "name": "stdout",
     "output_type": "stream",
     "text": [
      "Shape of X_train: (4718, 18)\n",
      "Shape of X_test: (2325, 18)\n",
      "Shape of y_train: (4718,)\n",
      "Shape of y_test: (2325,)\n"
     ]
    }
   ],
   "source": [
    "print(\"Shape of X_train: {}\".format(X_train.shape))\n",
    "print(\"Shape of X_test: {}\".format(X_test.shape))\n",
    "print(\"Shape of y_train: {}\".format(y_train.shape))\n",
    "print(\"Shape of y_test: {}\".format(y_test.shape))"
   ]
  },
  {
   "cell_type": "code",
   "execution_count": 49,
   "metadata": {},
   "outputs": [
    {
     "data": {
      "text/plain": [
       "0.79334463755828744"
      ]
     },
     "execution_count": 49,
     "metadata": {},
     "output_type": "execute_result"
    }
   ],
   "source": [
    "lr = LogisticRegression(random_state=42)\n",
    "lr.fit(X_train, y_train)\n",
    "y_pred_class = lr.predict(X_test)\n",
    "lr.score(X_train, y_train)"
   ]
  },
  {
   "cell_type": "code",
   "execution_count": 50,
   "metadata": {},
   "outputs": [
    {
     "data": {
      "text/plain": [
       "array([[1543,  154],\n",
       "       [ 299,  329]])"
      ]
     },
     "execution_count": 50,
     "metadata": {},
     "output_type": "execute_result"
    }
   ],
   "source": [
    "confusion_matrix(y_test, y_pred_class)"
   ]
  },
  {
   "cell_type": "code",
   "execution_count": 51,
   "metadata": {},
   "outputs": [
    {
     "data": {
      "image/png": "[encoded data removed]",
      "text/plain": [
       "<matplotlib.figure.Figure at 0x11c94b780>"
      ]
     },
     "metadata": {},
     "output_type": "display_data"
    }
   ],
   "source": [
    "lr_roc_auc = roc_auc_score(y_test, y_pred_class)\n",
    "fpr, tpr, thresholds = roc_curve(y_test, lr.predict_proba(X_test)[:,1])\n",
    "\n",
    "plt.figure()\n",
    "plt.plot(fpr, tpr, label='Logistic Regression (area = %0.2f)' % lr_roc_auc)\n",
    "\n",
    "plt.plot([0, 1], [0, 1],'r--')\n",
    "plt.xlim([0.0, 1.0])\n",
    "plt.ylim([0.0, 1.05])\n",
    "\n",
    "plt.xlabel('False Positive Rate')\n",
    "plt.ylabel('True Positive Rate')\n",
    "plt.title('Receiver operating characteristic')\n",
    "plt.legend(loc=\"lower right\")\n",
    "plt.show()"
   ]
  },
  {
   "cell_type": "code",
   "execution_count": 52,
   "metadata": {},
   "outputs": [
    {
     "data": {
      "image/png": "[encoded data removed]",
      "text/plain": [
       "<matplotlib.figure.Figure at 0x1a211661d0>"
      ]
     },
     "metadata": {},
     "output_type": "display_data"
    }
   ],
   "source": [
    "plt.figure()\n",
    "\n",
    "plt.xlabel(\"Training examples\")\n",
    "plt.ylabel(\"Score\")\n",
    "\n",
    "train_sizes, train_scores, test_scores = learning_curve(lr, X_train, y_train, cv=10)\n",
    "\n",
    "plt.title(\"Learning Curves (Logistic Regression)\")\n",
    "\n",
    "train_scores_mean = np.mean(train_scores, axis=1)\n",
    "train_scores_std = np.std(train_scores, axis=1)\n",
    "test_scores_mean = np.mean(test_scores, axis=1)\n",
    "test_scores_std = np.std(test_scores, axis=1)\n",
    "\n",
    "plt.grid()\n",
    "\n",
    "plt.fill_between(train_sizes, \n",
    "                 train_scores_mean - train_scores_std,\n",
    "                 train_scores_mean + train_scores_std, \n",
    "                 alpha=0.1,\n",
    "                 color=\"r\")\n",
    "\n",
    "plt.fill_between(train_sizes, \n",
    "                 test_scores_mean - test_scores_std,\n",
    "                 test_scores_mean + test_scores_std, \n",
    "                 alpha=0.1, color=\"b\")\n",
    "\n",
    "plt.plot(train_sizes, \n",
    "         train_scores_mean, \n",
    "         'o-', \n",
    "         color=\"r\", \n",
    "         label=\"Training score\")\n",
    "\n",
    "plt.plot(train_sizes, \n",
    "         test_scores_mean, \n",
    "         'o-', color=\"b\", \n",
    "         label=\"Cross-validation score\")\n",
    "\n",
    "plt.ylim([0.7, 0.85])\n",
    "plt.legend(loc=\"best\")\n",
    "plt.show()"
   ]
  },
  {
   "cell_type": "code",
   "execution_count": 53,
   "metadata": {},
   "outputs": [
    {
     "data": {
      "text/plain": [
       "0.79525809767903588"
      ]
     },
     "execution_count": 53,
     "metadata": {},
     "output_type": "execute_result"
    }
   ],
   "source": [
    "#http://scikit-learn.org/0.15/modules/generated/sklearn.cross_validation.cross_val_score.html#sklearn.cross_validation.cross_val_score\n",
    "scores = cross_val_score(lr, X, y)\n",
    "scores.mean()"
   ]
  },
  {
   "cell_type": "code",
   "execution_count": null,
   "metadata": {
    "collapsed": true
   },
   "outputs": [],
   "source": []
  },
  {
   "cell_type": "code",
   "execution_count": 54,
   "metadata": {
    "collapsed": true
   },
   "outputs": [],
   "source": [
    "from sklearn.model_selection import StratifiedShuffleSplit\n",
    "sss = StratifiedShuffleSplit(n_splits=2, test_size=0.25, random_state=42)"
   ]
  },
  {
   "cell_type": "code",
   "execution_count": 55,
   "metadata": {
    "collapsed": true
   },
   "outputs": [],
   "source": [
    "for train_idx, test_idx in sss.split(X, y):\n",
    "    #https://stackoverflow.com/questions/51852551/key-error-not-in-index-while-cross-validation\n",
    "    X_train, X_test = X.iloc[train_idx], X.iloc[test_idx]\n",
    "    y_train, y_test = y.iloc[train_idx], y.iloc[test_idx]"
   ]
  },
  {
   "cell_type": "code",
   "execution_count": 56,
   "metadata": {},
   "outputs": [
    {
     "name": "stdout",
     "output_type": "stream",
     "text": [
      "StandardScaler(copy=True, with_mean=True, with_std=True)\n"
     ]
    }
   ],
   "source": [
    "scaler = StandardScaler(copy=True, with_mean=True, with_std=True)\n",
    "scaler.fit(X_train)\n",
    "X_train_std = scaler.transform(X_train)\n",
    "X_test_std = scaler.transform(X_test)\n",
    "print(scaler)"
   ]
  },
  {
   "cell_type": "code",
   "execution_count": 57,
   "metadata": {},
   "outputs": [
    {
     "name": "stdout",
     "output_type": "stream",
     "text": [
      "Shape of X_train: (5282, 18)\n",
      "Shape of X_test: (1761, 18)\n",
      "Shape of y_train: (5282,)\n",
      "Shape of y_test: (1761,)\n"
     ]
    }
   ],
   "source": [
    "print(\"Shape of X_train: {}\".format(X_train.shape))\n",
    "print(\"Shape of X_test: {}\".format(X_test.shape))\n",
    "print(\"Shape of y_train: {}\".format(y_train.shape))\n",
    "print(\"Shape of y_test: {}\".format(y_test.shape))"
   ]
  },
  {
   "cell_type": "code",
   "execution_count": 58,
   "metadata": {},
   "outputs": [
    {
     "data": {
      "text/plain": [
       "0.79912911775842488"
      ]
     },
     "execution_count": 58,
     "metadata": {},
     "output_type": "execute_result"
    }
   ],
   "source": [
    "lr = LogisticRegression(random_state=42)\n",
    "lr.fit(X_train, y_train)\n",
    "y_pred_class = lr.predict(X_test)\n",
    "lr.score(X_train, y_train)"
   ]
  },
  {
   "cell_type": "code",
   "execution_count": 59,
   "metadata": {},
   "outputs": [
    {
     "data": {
      "text/plain": [
       "array([[1176,  118],\n",
       "       [ 243,  224]])"
      ]
     },
     "execution_count": 59,
     "metadata": {},
     "output_type": "execute_result"
    }
   ],
   "source": [
    "confusion_matrix(y_test, y_pred_class)"
   ]
  },
  {
   "cell_type": "code",
   "execution_count": 60,
   "metadata": {
    "collapsed": true
   },
   "outputs": [],
   "source": [
    "lr = LogisticRegression(random_state = 42)\n",
    "penalty = ['l1', 'l2']\n",
    "C = np.logspace(0, 1, 10, 100)\n",
    "hyperparameters = dict(C=C, penalty=penalty)\n",
    "grid = GridSearchCV(lr, hyperparameters, verbose=3, cv=10)"
   ]
  },
  {
   "cell_type": "code",
   "execution_count": 61,
   "metadata": {},
   "outputs": [
    {
     "name": "stdout",
     "output_type": "stream",
     "text": [
      "Fitting 10 folds for each of 20 candidates, totalling 200 fits\n",
      "[CV] C=1.0, penalty=l1 ...............................................\n",
      "[CV] ...... C=1.0, penalty=l1, score=0.8166351606805293, total=   0.1s\n",
      "[CV] C=1.0, penalty=l1 ...............................................\n",
      "[CV] ....... C=1.0, penalty=l1, score=0.780718336483932, total=   0.0s\n",
      "[CV] C=1.0, penalty=l1 ...............................................\n"
     ]
    },
    {
     "name": "stderr",
     "output_type": "stream",
     "text": [
      "[Parallel(n_jobs=1)]: Done   1 out of   1 | elapsed:    0.1s remaining:    0.0s\n",
      "[Parallel(n_jobs=1)]: Done   2 out of   2 | elapsed:    0.1s remaining:    0.0s\n"
     ]
    },
    {
     "name": "stdout",
     "output_type": "stream",
     "text": [
      "[CV] ...... C=1.0, penalty=l1, score=0.8238636363636364, total=   0.1s\n",
      "[CV] C=1.0, penalty=l1 ...............................................\n",
      "[CV] ...... C=1.0, penalty=l1, score=0.8143939393939394, total=   0.1s\n",
      "[CV] C=1.0, penalty=l1 ...............................................\n",
      "[CV] ...... C=1.0, penalty=l1, score=0.7954545454545454, total=   0.0s\n",
      "[CV] C=1.0, penalty=l1 ...............................................\n",
      "[CV] ...... C=1.0, penalty=l1, score=0.8049242424242424, total=   0.1s\n",
      "[CV] C=1.0, penalty=l1 ...............................................\n",
      "[CV] ...... C=1.0, penalty=l1, score=0.7992424242424242, total=   0.1s\n",
      "[CV] C=1.0, penalty=l1 ...............................................\n",
      "[CV] ...... C=1.0, penalty=l1, score=0.7632575757575758, total=   0.1s\n",
      "[CV] C=1.0, penalty=l1 ...............................................\n",
      "[CV] ...... C=1.0, penalty=l1, score=0.7727272727272727, total=   0.1s\n",
      "[CV] C=1.0, penalty=l1 ...............................................\n",
      "[CV] ...... C=1.0, penalty=l1, score=0.8106060606060606, total=   0.1s\n",
      "[CV] C=1.0, penalty=l2 ...............................................\n",
      "[CV] ...... C=1.0, penalty=l2, score=0.8090737240075614, total=   0.0s\n",
      "[CV] C=1.0, penalty=l2 ...............................................\n",
      "[CV] ...... C=1.0, penalty=l2, score=0.7844990548204159, total=   0.0s\n",
      "[CV] C=1.0, penalty=l2 ...............................................\n",
      "[CV] ....... C=1.0, penalty=l2, score=0.821969696969697, total=   0.0s\n",
      "[CV] C=1.0, penalty=l2 ...............................................\n",
      "[CV] ...... C=1.0, penalty=l2, score=0.8087121212121212, total=   0.0s\n",
      "[CV] C=1.0, penalty=l2 ...............................................\n",
      "[CV] ...... C=1.0, penalty=l2, score=0.7840909090909091, total=   0.0s\n",
      "[CV] C=1.0, penalty=l2 ...............................................\n",
      "[CV] ...... C=1.0, penalty=l2, score=0.8068181818181818, total=   0.0s\n",
      "[CV] C=1.0, penalty=l2 ...............................................\n",
      "[CV] ...... C=1.0, penalty=l2, score=0.8087121212121212, total=   0.0s\n",
      "[CV] C=1.0, penalty=l2 ...............................................\n",
      "[CV] ...... C=1.0, penalty=l2, score=0.7651515151515151, total=   0.0s\n",
      "[CV] C=1.0, penalty=l2 ...............................................\n",
      "[CV] ...... C=1.0, penalty=l2, score=0.7689393939393939, total=   0.0s\n",
      "[CV] C=1.0, penalty=l2 ...............................................\n",
      "[CV] ...... C=1.0, penalty=l2, score=0.8068181818181818, total=   0.0s\n",
      "[CV] C=1.29154966501, penalty=l1 .....................................\n",
      "[CV]  C=1.29154966501, penalty=l1, score=0.8166351606805293, total=   0.1s\n",
      "[CV] C=1.29154966501, penalty=l1 .....................................\n",
      "[CV]  C=1.29154966501, penalty=l1, score=0.780718336483932, total=   0.0s\n",
      "[CV] C=1.29154966501, penalty=l1 .....................................\n",
      "[CV]  C=1.29154966501, penalty=l1, score=0.8238636363636364, total=   0.1s\n",
      "[CV] C=1.29154966501, penalty=l1 .....................................\n",
      "[CV]  C=1.29154966501, penalty=l1, score=0.8143939393939394, total=   0.1s\n",
      "[CV] C=1.29154966501, penalty=l1 .....................................\n",
      "[CV]  C=1.29154966501, penalty=l1, score=0.7954545454545454, total=   0.0s\n",
      "[CV] C=1.29154966501, penalty=l1 .....................................\n",
      "[CV]  C=1.29154966501, penalty=l1, score=0.8049242424242424, total=   0.1s\n",
      "[CV] C=1.29154966501, penalty=l1 .....................................\n",
      "[CV]  C=1.29154966501, penalty=l1, score=0.8011363636363636, total=   0.1s\n",
      "[CV] C=1.29154966501, penalty=l1 .....................................\n",
      "[CV]  C=1.29154966501, penalty=l1, score=0.7632575757575758, total=   0.1s\n",
      "[CV] C=1.29154966501, penalty=l1 .....................................\n",
      "[CV]  C=1.29154966501, penalty=l1, score=0.7727272727272727, total=   0.1s\n",
      "[CV] C=1.29154966501, penalty=l1 .....................................\n",
      "[CV] ........ C=1.29154966501, penalty=l1, score=0.8125, total=   0.1s\n",
      "[CV] C=1.29154966501, penalty=l2 .....................................\n",
      "[CV]  C=1.29154966501, penalty=l2, score=0.8090737240075614, total=   0.0s\n",
      "[CV] C=1.29154966501, penalty=l2 .....................................\n",
      "[CV]  C=1.29154966501, penalty=l2, score=0.780718336483932, total=   0.0s\n",
      "[CV] C=1.29154966501, penalty=l2 .....................................\n",
      "[CV]  C=1.29154966501, penalty=l2, score=0.821969696969697, total=   0.0s\n",
      "[CV] C=1.29154966501, penalty=l2 .....................................\n",
      "[CV]  C=1.29154966501, penalty=l2, score=0.8106060606060606, total=   0.0s\n",
      "[CV] C=1.29154966501, penalty=l2 .....................................\n",
      "[CV]  C=1.29154966501, penalty=l2, score=0.7954545454545454, total=   0.0s\n",
      "[CV] C=1.29154966501, penalty=l2 .....................................\n",
      "[CV]  C=1.29154966501, penalty=l2, score=0.8068181818181818, total=   0.0s\n",
      "[CV] C=1.29154966501, penalty=l2 .....................................\n",
      "[CV]  C=1.29154966501, penalty=l2, score=0.8087121212121212, total=   0.0s\n",
      "[CV] C=1.29154966501, penalty=l2 .....................................\n",
      "[CV]  C=1.29154966501, penalty=l2, score=0.7670454545454546, total=   0.0s\n",
      "[CV] C=1.29154966501, penalty=l2 .....................................\n",
      "[CV]  C=1.29154966501, penalty=l2, score=0.7670454545454546, total=   0.0s\n",
      "[CV] C=1.29154966501, penalty=l2 .....................................\n",
      "[CV]  C=1.29154966501, penalty=l2, score=0.8068181818181818, total=   0.0s\n",
      "[CV] C=1.6681005372, penalty=l1 ......................................\n",
      "[CV]  C=1.6681005372, penalty=l1, score=0.8147448015122873, total=   0.1s\n",
      "[CV] C=1.6681005372, penalty=l1 ......................................\n",
      "[CV]  C=1.6681005372, penalty=l1, score=0.780718336483932, total=   0.0s\n",
      "[CV] C=1.6681005372, penalty=l1 ......................................\n",
      "[CV]  C=1.6681005372, penalty=l1, score=0.8238636363636364, total=   0.1s\n",
      "[CV] C=1.6681005372, penalty=l1 ......................................\n",
      "[CV]  C=1.6681005372, penalty=l1, score=0.8143939393939394, total=   0.1s\n",
      "[CV] C=1.6681005372, penalty=l1 ......................................\n",
      "[CV]  C=1.6681005372, penalty=l1, score=0.7954545454545454, total=   0.0s\n",
      "[CV] C=1.6681005372, penalty=l1 ......................................\n",
      "[CV]  C=1.6681005372, penalty=l1, score=0.8049242424242424, total=   0.1s\n",
      "[CV] C=1.6681005372, penalty=l1 ......................................\n",
      "[CV]  C=1.6681005372, penalty=l1, score=0.803030303030303, total=   0.1s\n",
      "[CV] C=1.6681005372, penalty=l1 ......................................\n",
      "[CV]  C=1.6681005372, penalty=l1, score=0.7651515151515151, total=   0.1s\n",
      "[CV] C=1.6681005372, penalty=l1 ......................................\n",
      "[CV]  C=1.6681005372, penalty=l1, score=0.7727272727272727, total=   0.1s\n",
      "[CV] C=1.6681005372, penalty=l1 ......................................\n",
      "[CV]  C=1.6681005372, penalty=l1, score=0.8143939393939394, total=   0.1s\n",
      "[CV] C=1.6681005372, penalty=l2 ......................................\n",
      "[CV]  C=1.6681005372, penalty=l2, score=0.8090737240075614, total=   0.1s\n",
      "[CV] C=1.6681005372, penalty=l2 ......................................\n",
      "[CV]  C=1.6681005372, penalty=l2, score=0.780718336483932, total=   0.0s\n",
      "[CV] C=1.6681005372, penalty=l2 ......................................\n",
      "[CV]  C=1.6681005372, penalty=l2, score=0.821969696969697, total=   0.0s\n",
      "[CV] C=1.6681005372, penalty=l2 ......................................\n",
      "[CV]  C=1.6681005372, penalty=l2, score=0.8087121212121212, total=   0.0s\n",
      "[CV] C=1.6681005372, penalty=l2 ......................................\n",
      "[CV]  C=1.6681005372, penalty=l2, score=0.7954545454545454, total=   0.0s\n",
      "[CV] C=1.6681005372, penalty=l2 ......................................\n",
      "[CV]  C=1.6681005372, penalty=l2, score=0.8068181818181818, total=   0.0s\n",
      "[CV] C=1.6681005372, penalty=l2 ......................................\n",
      "[CV]  C=1.6681005372, penalty=l2, score=0.803030303030303, total=   0.0s\n",
      "[CV] C=1.6681005372, penalty=l2 ......................................\n",
      "[CV]  C=1.6681005372, penalty=l2, score=0.7670454545454546, total=   0.0s\n",
      "[CV] C=1.6681005372, penalty=l2 ......................................\n",
      "[CV]  C=1.6681005372, penalty=l2, score=0.7670454545454546, total=   0.0s\n",
      "[CV] C=1.6681005372, penalty=l2 ......................................\n",
      "[CV]  C=1.6681005372, penalty=l2, score=0.8068181818181818, total=   0.0s\n",
      "[CV] C=2.15443469003, penalty=l1 .....................................\n",
      "[CV]  C=2.15443469003, penalty=l1, score=0.8166351606805293, total=   0.0s\n",
      "[CV] C=2.15443469003, penalty=l1 .....................................\n"
     ]
    },
    {
     "name": "stdout",
     "output_type": "stream",
     "text": [
      "[CV]  C=2.15443469003, penalty=l1, score=0.780718336483932, total=   0.0s\n",
      "[CV] C=2.15443469003, penalty=l1 .....................................\n",
      "[CV]  C=2.15443469003, penalty=l1, score=0.8238636363636364, total=   0.1s\n",
      "[CV] C=2.15443469003, penalty=l1 .....................................\n",
      "[CV]  C=2.15443469003, penalty=l1, score=0.8143939393939394, total=   0.1s\n",
      "[CV] C=2.15443469003, penalty=l1 .....................................\n",
      "[CV]  C=2.15443469003, penalty=l1, score=0.7954545454545454, total=   0.0s\n",
      "[CV] C=2.15443469003, penalty=l1 .....................................\n",
      "[CV]  C=2.15443469003, penalty=l1, score=0.8049242424242424, total=   0.1s\n",
      "[CV] C=2.15443469003, penalty=l1 .....................................\n",
      "[CV]  C=2.15443469003, penalty=l1, score=0.803030303030303, total=   0.1s\n",
      "[CV] C=2.15443469003, penalty=l1 .....................................\n",
      "[CV]  C=2.15443469003, penalty=l1, score=0.7651515151515151, total=   0.0s\n",
      "[CV] C=2.15443469003, penalty=l1 .....................................\n",
      "[CV]  C=2.15443469003, penalty=l1, score=0.7708333333333334, total=   0.1s\n",
      "[CV] C=2.15443469003, penalty=l1 .....................................\n",
      "[CV]  C=2.15443469003, penalty=l1, score=0.8162878787878788, total=   0.1s\n",
      "[CV] C=2.15443469003, penalty=l2 .....................................\n",
      "[CV]  C=2.15443469003, penalty=l2, score=0.8015122873345936, total=   0.0s\n",
      "[CV] C=2.15443469003, penalty=l2 .....................................\n",
      "[CV]  C=2.15443469003, penalty=l2, score=0.780718336483932, total=   0.0s\n",
      "[CV] C=2.15443469003, penalty=l2 .....................................\n",
      "[CV]  C=2.15443469003, penalty=l2, score=0.821969696969697, total=   0.0s\n",
      "[CV] C=2.15443469003, penalty=l2 .....................................\n",
      "[CV]  C=2.15443469003, penalty=l2, score=0.8087121212121212, total=   0.0s\n",
      "[CV] C=2.15443469003, penalty=l2 .....................................\n",
      "[CV]  C=2.15443469003, penalty=l2, score=0.7935606060606061, total=   0.0s\n",
      "[CV] C=2.15443469003, penalty=l2 .....................................\n",
      "[CV]  C=2.15443469003, penalty=l2, score=0.8068181818181818, total=   0.0s\n",
      "[CV] C=2.15443469003, penalty=l2 .....................................\n",
      "[CV]  C=2.15443469003, penalty=l2, score=0.8087121212121212, total=   0.0s\n",
      "[CV] C=2.15443469003, penalty=l2 .....................................\n",
      "[CV]  C=2.15443469003, penalty=l2, score=0.7689393939393939, total=   0.0s\n",
      "[CV] C=2.15443469003, penalty=l2 .....................................\n",
      "[CV]  C=2.15443469003, penalty=l2, score=0.7689393939393939, total=   0.0s\n",
      "[CV] C=2.15443469003, penalty=l2 .....................................\n",
      "[CV]  C=2.15443469003, penalty=l2, score=0.8068181818181818, total=   0.0s\n",
      "[CV] C=2.78255940221, penalty=l1 .....................................\n",
      "[CV]  C=2.78255940221, penalty=l1, score=0.8166351606805293, total=   0.0s\n",
      "[CV] C=2.78255940221, penalty=l1 .....................................\n",
      "[CV]  C=2.78255940221, penalty=l1, score=0.780718336483932, total=   0.0s\n",
      "[CV] C=2.78255940221, penalty=l1 .....................................\n",
      "[CV]  C=2.78255940221, penalty=l1, score=0.8238636363636364, total=   0.1s\n",
      "[CV] C=2.78255940221, penalty=l1 .....................................\n",
      "[CV]  C=2.78255940221, penalty=l1, score=0.8143939393939394, total=   0.1s\n",
      "[CV] C=2.78255940221, penalty=l1 .....................................\n",
      "[CV]  C=2.78255940221, penalty=l1, score=0.7954545454545454, total=   0.0s\n",
      "[CV] C=2.78255940221, penalty=l1 .....................................\n",
      "[CV]  C=2.78255940221, penalty=l1, score=0.8049242424242424, total=   0.1s\n",
      "[CV] C=2.78255940221, penalty=l1 .....................................\n",
      "[CV]  C=2.78255940221, penalty=l1, score=0.803030303030303, total=   0.1s\n",
      "[CV] C=2.78255940221, penalty=l1 .....................................\n",
      "[CV]  C=2.78255940221, penalty=l1, score=0.7651515151515151, total=   0.0s\n",
      "[CV] C=2.78255940221, penalty=l1 .....................................\n",
      "[CV]  C=2.78255940221, penalty=l1, score=0.7708333333333334, total=   0.1s\n",
      "[CV] C=2.78255940221, penalty=l1 .....................................\n",
      "[CV]  C=2.78255940221, penalty=l1, score=0.8162878787878788, total=   0.1s\n",
      "[CV] C=2.78255940221, penalty=l2 .....................................\n",
      "[CV]  C=2.78255940221, penalty=l2, score=0.8090737240075614, total=   0.0s\n",
      "[CV] C=2.78255940221, penalty=l2 .....................................\n",
      "[CV]  C=2.78255940221, penalty=l2, score=0.780718336483932, total=   0.0s\n",
      "[CV] C=2.78255940221, penalty=l2 .....................................\n",
      "[CV]  C=2.78255940221, penalty=l2, score=0.821969696969697, total=   0.0s\n",
      "[CV] C=2.78255940221, penalty=l2 .....................................\n",
      "[CV]  C=2.78255940221, penalty=l2, score=0.8087121212121212, total=   0.0s\n",
      "[CV] C=2.78255940221, penalty=l2 .....................................\n",
      "[CV]  C=2.78255940221, penalty=l2, score=0.7840909090909091, total=   0.0s\n",
      "[CV] C=2.78255940221, penalty=l2 .....................................\n",
      "[CV]  C=2.78255940221, penalty=l2, score=0.8068181818181818, total=   0.0s\n",
      "[CV] C=2.78255940221, penalty=l2 .....................................\n",
      "[CV]  C=2.78255940221, penalty=l2, score=0.8087121212121212, total=   0.0s\n",
      "[CV] C=2.78255940221, penalty=l2 .....................................\n",
      "[CV]  C=2.78255940221, penalty=l2, score=0.7689393939393939, total=   0.0s\n",
      "[CV] C=2.78255940221, penalty=l2 .....................................\n",
      "[CV]  C=2.78255940221, penalty=l2, score=0.7689393939393939, total=   0.0s\n",
      "[CV] C=2.78255940221, penalty=l2 .....................................\n",
      "[CV]  C=2.78255940221, penalty=l2, score=0.8068181818181818, total=   0.0s\n",
      "[CV] C=3.5938136638, penalty=l1 ......................................\n",
      "[CV]  C=3.5938136638, penalty=l1, score=0.8166351606805293, total=   0.0s\n",
      "[CV] C=3.5938136638, penalty=l1 ......................................\n",
      "[CV]  C=3.5938136638, penalty=l1, score=0.780718336483932, total=   0.0s\n",
      "[CV] C=3.5938136638, penalty=l1 ......................................\n",
      "[CV]  C=3.5938136638, penalty=l1, score=0.8238636363636364, total=   0.0s\n",
      "[CV] C=3.5938136638, penalty=l1 ......................................\n",
      "[CV]  C=3.5938136638, penalty=l1, score=0.8143939393939394, total=   0.0s\n",
      "[CV] C=3.5938136638, penalty=l1 ......................................\n",
      "[CV]  C=3.5938136638, penalty=l1, score=0.7954545454545454, total=   0.0s\n",
      "[CV] C=3.5938136638, penalty=l1 ......................................\n",
      "[CV]  C=3.5938136638, penalty=l1, score=0.8049242424242424, total=   0.1s\n",
      "[CV] C=3.5938136638, penalty=l1 ......................................\n",
      "[CV]  C=3.5938136638, penalty=l1, score=0.803030303030303, total=   0.1s\n",
      "[CV] C=3.5938136638, penalty=l1 ......................................\n",
      "[CV]  C=3.5938136638, penalty=l1, score=0.7651515151515151, total=   0.0s\n",
      "[CV] C=3.5938136638, penalty=l1 ......................................\n",
      "[CV]  C=3.5938136638, penalty=l1, score=0.7708333333333334, total=   0.1s\n",
      "[CV] C=3.5938136638, penalty=l1 ......................................\n",
      "[CV]  C=3.5938136638, penalty=l1, score=0.8162878787878788, total=   0.1s\n",
      "[CV] C=3.5938136638, penalty=l2 ......................................\n",
      "[CV]  C=3.5938136638, penalty=l2, score=0.8090737240075614, total=   0.0s\n",
      "[CV] C=3.5938136638, penalty=l2 ......................................\n",
      "[CV]  C=3.5938136638, penalty=l2, score=0.780718336483932, total=   0.0s\n",
      "[CV] C=3.5938136638, penalty=l2 ......................................\n",
      "[CV]  C=3.5938136638, penalty=l2, score=0.821969696969697, total=   0.0s\n",
      "[CV] C=3.5938136638, penalty=l2 ......................................\n",
      "[CV]  C=3.5938136638, penalty=l2, score=0.8087121212121212, total=   0.0s\n",
      "[CV] C=3.5938136638, penalty=l2 ......................................\n",
      "[CV]  C=3.5938136638, penalty=l2, score=0.7897727272727273, total=   0.0s\n",
      "[CV] C=3.5938136638, penalty=l2 ......................................\n",
      "[CV]  C=3.5938136638, penalty=l2, score=0.8068181818181818, total=   0.0s\n",
      "[CV] C=3.5938136638, penalty=l2 ......................................\n",
      "[CV]  C=3.5938136638, penalty=l2, score=0.8087121212121212, total=   0.0s\n",
      "[CV] C=3.5938136638, penalty=l2 ......................................\n",
      "[CV]  C=3.5938136638, penalty=l2, score=0.7670454545454546, total=   0.0s\n",
      "[CV] C=3.5938136638, penalty=l2 ......................................\n"
     ]
    },
    {
     "name": "stdout",
     "output_type": "stream",
     "text": [
      "[CV]  C=3.5938136638, penalty=l2, score=0.7727272727272727, total=   0.0s\n",
      "[CV] C=3.5938136638, penalty=l2 ......................................\n",
      "[CV]  C=3.5938136638, penalty=l2, score=0.8068181818181818, total=   0.0s\n",
      "[CV] C=4.64158883361, penalty=l1 .....................................\n",
      "[CV]  C=4.64158883361, penalty=l1, score=0.8166351606805293, total=   0.0s\n",
      "[CV] C=4.64158883361, penalty=l1 .....................................\n",
      "[CV]  C=4.64158883361, penalty=l1, score=0.780718336483932, total=   0.0s\n",
      "[CV] C=4.64158883361, penalty=l1 .....................................\n",
      "[CV]  C=4.64158883361, penalty=l1, score=0.8238636363636364, total=   0.1s\n",
      "[CV] C=4.64158883361, penalty=l1 .....................................\n",
      "[CV]  C=4.64158883361, penalty=l1, score=0.8143939393939394, total=   0.1s\n",
      "[CV] C=4.64158883361, penalty=l1 .....................................\n",
      "[CV]  C=4.64158883361, penalty=l1, score=0.7954545454545454, total=   0.0s\n",
      "[CV] C=4.64158883361, penalty=l1 .....................................\n",
      "[CV]  C=4.64158883361, penalty=l1, score=0.8049242424242424, total=   0.1s\n",
      "[CV] C=4.64158883361, penalty=l1 .....................................\n",
      "[CV]  C=4.64158883361, penalty=l1, score=0.803030303030303, total=   0.1s\n",
      "[CV] C=4.64158883361, penalty=l1 .....................................\n",
      "[CV]  C=4.64158883361, penalty=l1, score=0.7651515151515151, total=   0.1s\n",
      "[CV] C=4.64158883361, penalty=l1 .....................................\n",
      "[CV]  C=4.64158883361, penalty=l1, score=0.7708333333333334, total=   0.1s\n",
      "[CV] C=4.64158883361, penalty=l1 .....................................\n",
      "[CV]  C=4.64158883361, penalty=l1, score=0.8162878787878788, total=   0.1s\n",
      "[CV] C=4.64158883361, penalty=l2 .....................................\n",
      "[CV]  C=4.64158883361, penalty=l2, score=0.8090737240075614, total=   0.0s\n",
      "[CV] C=4.64158883361, penalty=l2 .....................................\n",
      "[CV]  C=4.64158883361, penalty=l2, score=0.780718336483932, total=   0.0s\n",
      "[CV] C=4.64158883361, penalty=l2 .....................................\n",
      "[CV]  C=4.64158883361, penalty=l2, score=0.821969696969697, total=   0.0s\n",
      "[CV] C=4.64158883361, penalty=l2 .....................................\n",
      "[CV]  C=4.64158883361, penalty=l2, score=0.8106060606060606, total=   0.0s\n",
      "[CV] C=4.64158883361, penalty=l2 .....................................\n",
      "[CV]  C=4.64158883361, penalty=l2, score=0.7821969696969697, total=   0.0s\n",
      "[CV] C=4.64158883361, penalty=l2 .....................................\n",
      "[CV]  C=4.64158883361, penalty=l2, score=0.8068181818181818, total=   0.0s\n",
      "[CV] C=4.64158883361, penalty=l2 .....................................\n",
      "[CV]  C=4.64158883361, penalty=l2, score=0.8087121212121212, total=   0.0s\n",
      "[CV] C=4.64158883361, penalty=l2 .....................................\n",
      "[CV]  C=4.64158883361, penalty=l2, score=0.7670454545454546, total=   0.0s\n",
      "[CV] C=4.64158883361, penalty=l2 .....................................\n",
      "[CV]  C=4.64158883361, penalty=l2, score=0.7727272727272727, total=   0.0s\n",
      "[CV] C=4.64158883361, penalty=l2 .....................................\n",
      "[CV]  C=4.64158883361, penalty=l2, score=0.8068181818181818, total=   0.0s\n",
      "[CV] C=5.99484250319, penalty=l1 .....................................\n",
      "[CV]  C=5.99484250319, penalty=l1, score=0.8166351606805293, total=   0.0s\n",
      "[CV] C=5.99484250319, penalty=l1 .....................................\n",
      "[CV]  C=5.99484250319, penalty=l1, score=0.780718336483932, total=   0.0s\n",
      "[CV] C=5.99484250319, penalty=l1 .....................................\n",
      "[CV]  C=5.99484250319, penalty=l1, score=0.8238636363636364, total=   0.0s\n",
      "[CV] C=5.99484250319, penalty=l1 .....................................\n",
      "[CV]  C=5.99484250319, penalty=l1, score=0.8143939393939394, total=   0.0s\n",
      "[CV] C=5.99484250319, penalty=l1 .....................................\n",
      "[CV]  C=5.99484250319, penalty=l1, score=0.7954545454545454, total=   0.0s\n",
      "[CV] C=5.99484250319, penalty=l1 .....................................\n",
      "[CV]  C=5.99484250319, penalty=l1, score=0.8049242424242424, total=   0.1s\n",
      "[CV] C=5.99484250319, penalty=l1 .....................................\n",
      "[CV]  C=5.99484250319, penalty=l1, score=0.803030303030303, total=   0.1s\n",
      "[CV] C=5.99484250319, penalty=l1 .....................................\n",
      "[CV]  C=5.99484250319, penalty=l1, score=0.7651515151515151, total=   0.0s\n",
      "[CV] C=5.99484250319, penalty=l1 .....................................\n",
      "[CV]  C=5.99484250319, penalty=l1, score=0.7708333333333334, total=   0.1s\n",
      "[CV] C=5.99484250319, penalty=l1 .....................................\n",
      "[CV]  C=5.99484250319, penalty=l1, score=0.8162878787878788, total=   0.1s\n",
      "[CV] C=5.99484250319, penalty=l2 .....................................\n",
      "[CV]  C=5.99484250319, penalty=l2, score=0.8090737240075614, total=   0.0s\n",
      "[CV] C=5.99484250319, penalty=l2 .....................................\n",
      "[CV]  C=5.99484250319, penalty=l2, score=0.780718336483932, total=   0.0s\n",
      "[CV] C=5.99484250319, penalty=l2 .....................................\n",
      "[CV]  C=5.99484250319, penalty=l2, score=0.821969696969697, total=   0.0s\n",
      "[CV] C=5.99484250319, penalty=l2 .....................................\n",
      "[CV]  C=5.99484250319, penalty=l2, score=0.8087121212121212, total=   0.0s\n",
      "[CV] C=5.99484250319, penalty=l2 .....................................\n",
      "[CV]  C=5.99484250319, penalty=l2, score=0.7821969696969697, total=   0.0s\n",
      "[CV] C=5.99484250319, penalty=l2 .....................................\n",
      "[CV]  C=5.99484250319, penalty=l2, score=0.8068181818181818, total=   0.0s\n",
      "[CV] C=5.99484250319, penalty=l2 .....................................\n",
      "[CV]  C=5.99484250319, penalty=l2, score=0.8087121212121212, total=   0.0s\n",
      "[CV] C=5.99484250319, penalty=l2 .....................................\n",
      "[CV]  C=5.99484250319, penalty=l2, score=0.7670454545454546, total=   0.0s\n",
      "[CV] C=5.99484250319, penalty=l2 .....................................\n",
      "[CV]  C=5.99484250319, penalty=l2, score=0.7670454545454546, total=   0.0s\n",
      "[CV] C=5.99484250319, penalty=l2 .....................................\n",
      "[CV]  C=5.99484250319, penalty=l2, score=0.8068181818181818, total=   0.0s\n",
      "[CV] C=7.74263682681, penalty=l1 .....................................\n",
      "[CV]  C=7.74263682681, penalty=l1, score=0.8166351606805293, total=   0.0s\n",
      "[CV] C=7.74263682681, penalty=l1 .....................................\n",
      "[CV]  C=7.74263682681, penalty=l1, score=0.780718336483932, total=   0.0s\n",
      "[CV] C=7.74263682681, penalty=l1 .....................................\n",
      "[CV]  C=7.74263682681, penalty=l1, score=0.8238636363636364, total=   0.0s\n",
      "[CV] C=7.74263682681, penalty=l1 .....................................\n",
      "[CV]  C=7.74263682681, penalty=l1, score=0.8143939393939394, total=   0.0s\n",
      "[CV] C=7.74263682681, penalty=l1 .....................................\n",
      "[CV]  C=7.74263682681, penalty=l1, score=0.7954545454545454, total=   0.0s\n",
      "[CV] C=7.74263682681, penalty=l1 .....................................\n",
      "[CV]  C=7.74263682681, penalty=l1, score=0.8049242424242424, total=   0.1s\n",
      "[CV] C=7.74263682681, penalty=l1 .....................................\n",
      "[CV]  C=7.74263682681, penalty=l1, score=0.803030303030303, total=   0.1s\n",
      "[CV] C=7.74263682681, penalty=l1 .....................................\n",
      "[CV]  C=7.74263682681, penalty=l1, score=0.7651515151515151, total=   0.1s\n",
      "[CV] C=7.74263682681, penalty=l1 .....................................\n",
      "[CV]  C=7.74263682681, penalty=l1, score=0.7708333333333334, total=   0.1s\n",
      "[CV] C=7.74263682681, penalty=l1 .....................................\n",
      "[CV]  C=7.74263682681, penalty=l1, score=0.8162878787878788, total=   0.1s\n",
      "[CV] C=7.74263682681, penalty=l2 .....................................\n",
      "[CV]  C=7.74263682681, penalty=l2, score=0.8090737240075614, total=   0.0s\n",
      "[CV] C=7.74263682681, penalty=l2 .....................................\n",
      "[CV]  C=7.74263682681, penalty=l2, score=0.780718336483932, total=   0.0s\n",
      "[CV] C=7.74263682681, penalty=l2 .....................................\n",
      "[CV]  C=7.74263682681, penalty=l2, score=0.8238636363636364, total=   0.0s\n",
      "[CV] C=7.74263682681, penalty=l2 .....................................\n",
      "[CV]  C=7.74263682681, penalty=l2, score=0.8087121212121212, total=   0.0s\n",
      "[CV] C=7.74263682681, penalty=l2 .....................................\n",
      "[CV]  C=7.74263682681, penalty=l2, score=0.7840909090909091, total=   0.0s\n",
      "[CV] C=7.74263682681, penalty=l2 .....................................\n",
      "[CV]  C=7.74263682681, penalty=l2, score=0.8068181818181818, total=   0.0s\n",
      "[CV] C=7.74263682681, penalty=l2 .....................................\n",
      "[CV]  C=7.74263682681, penalty=l2, score=0.8087121212121212, total=   0.0s\n",
      "[CV] C=7.74263682681, penalty=l2 .....................................\n"
     ]
    },
    {
     "name": "stdout",
     "output_type": "stream",
     "text": [
      "[CV]  C=7.74263682681, penalty=l2, score=0.7670454545454546, total=   0.0s\n",
      "[CV] C=7.74263682681, penalty=l2 .....................................\n",
      "[CV]  C=7.74263682681, penalty=l2, score=0.7670454545454546, total=   0.0s\n",
      "[CV] C=7.74263682681, penalty=l2 .....................................\n",
      "[CV]  C=7.74263682681, penalty=l2, score=0.8068181818181818, total=   0.0s\n",
      "[CV] C=10.0, penalty=l1 ..............................................\n",
      "[CV] ..... C=10.0, penalty=l1, score=0.8166351606805293, total=   0.0s\n",
      "[CV] C=10.0, penalty=l1 ..............................................\n",
      "[CV] ...... C=10.0, penalty=l1, score=0.780718336483932, total=   0.0s\n",
      "[CV] C=10.0, penalty=l1 ..............................................\n",
      "[CV] ..... C=10.0, penalty=l1, score=0.8238636363636364, total=   0.0s\n",
      "[CV] C=10.0, penalty=l1 ..............................................\n",
      "[CV] ..... C=10.0, penalty=l1, score=0.8143939393939394, total=   0.1s\n",
      "[CV] C=10.0, penalty=l1 ..............................................\n",
      "[CV] ..... C=10.0, penalty=l1, score=0.7954545454545454, total=   0.0s\n",
      "[CV] C=10.0, penalty=l1 ..............................................\n",
      "[CV] ..... C=10.0, penalty=l1, score=0.8049242424242424, total=   0.1s\n",
      "[CV] C=10.0, penalty=l1 ..............................................\n",
      "[CV] ...... C=10.0, penalty=l1, score=0.803030303030303, total=   0.1s\n",
      "[CV] C=10.0, penalty=l1 ..............................................\n",
      "[CV] ..... C=10.0, penalty=l1, score=0.7651515151515151, total=   0.0s\n",
      "[CV] C=10.0, penalty=l1 ..............................................\n",
      "[CV] ..... C=10.0, penalty=l1, score=0.7708333333333334, total=   0.1s\n",
      "[CV] C=10.0, penalty=l1 ..............................................\n",
      "[CV] ..... C=10.0, penalty=l1, score=0.8162878787878788, total=   0.1s\n",
      "[CV] C=10.0, penalty=l2 ..............................................\n",
      "[CV] ..... C=10.0, penalty=l2, score=0.8109640831758034, total=   0.0s\n",
      "[CV] C=10.0, penalty=l2 ..............................................\n",
      "[CV] ...... C=10.0, penalty=l2, score=0.780718336483932, total=   0.0s\n",
      "[CV] C=10.0, penalty=l2 ..............................................\n",
      "[CV] ..... C=10.0, penalty=l2, score=0.8238636363636364, total=   0.0s\n",
      "[CV] C=10.0, penalty=l2 ..............................................\n",
      "[CV] ..... C=10.0, penalty=l2, score=0.8087121212121212, total=   0.0s\n",
      "[CV] C=10.0, penalty=l2 ..............................................\n",
      "[CV] ..... C=10.0, penalty=l2, score=0.7840909090909091, total=   0.0s\n",
      "[CV] C=10.0, penalty=l2 ..............................................\n",
      "[CV] ..... C=10.0, penalty=l2, score=0.8068181818181818, total=   0.0s\n",
      "[CV] C=10.0, penalty=l2 ..............................................\n",
      "[CV] ..... C=10.0, penalty=l2, score=0.8087121212121212, total=   0.0s\n",
      "[CV] C=10.0, penalty=l2 ..............................................\n",
      "[CV] ..... C=10.0, penalty=l2, score=0.7670454545454546, total=   0.0s\n",
      "[CV] C=10.0, penalty=l2 ..............................................\n",
      "[CV] ..... C=10.0, penalty=l2, score=0.7708333333333334, total=   0.0s\n",
      "[CV] C=10.0, penalty=l2 ..............................................\n",
      "[CV] ..... C=10.0, penalty=l2, score=0.8068181818181818, total=   0.0s\n"
     ]
    },
    {
     "name": "stderr",
     "output_type": "stream",
     "text": [
      "[Parallel(n_jobs=1)]: Done 200 out of 200 | elapsed:    8.9s finished\n"
     ]
    },
    {
     "data": {
      "text/plain": [
       "GridSearchCV(cv=10, error_score='raise',\n",
       "       estimator=LogisticRegression(C=1.0, class_weight=None, dual=False, fit_intercept=True,\n",
       "          intercept_scaling=1, max_iter=100, multi_class='ovr', n_jobs=1,\n",
       "          penalty='l2', random_state=42, solver='liblinear', tol=0.0001,\n",
       "          verbose=0, warm_start=False),\n",
       "       fit_params=None, iid=True, n_jobs=1,\n",
       "       param_grid={'C': array([  1.     ,   1.29155,   1.6681 ,   2.15443,   2.78256,   3.59381,\n",
       "         4.64159,   5.99484,   7.74264,  10.     ]), 'penalty': ['l1', 'l2']},\n",
       "       pre_dispatch='2*n_jobs', refit=True, return_train_score='warn',\n",
       "       scoring=None, verbose=3)"
      ]
     },
     "execution_count": 61,
     "metadata": {},
     "output_type": "execute_result"
    }
   ],
   "source": [
    "grid.fit(X_train, y_train)"
   ]
  },
  {
   "cell_type": "code",
   "execution_count": 62,
   "metadata": {},
   "outputs": [
    {
     "name": "stdout",
     "output_type": "stream",
     "text": [
      "{'C': 2.1544346900318838, 'penalty': 'l1'}\n"
     ]
    }
   ],
   "source": [
    "print(grid.best_params_)"
   ]
  },
  {
   "cell_type": "code",
   "execution_count": 63,
   "metadata": {},
   "outputs": [
    {
     "name": "stdout",
     "output_type": "stream",
     "text": [
      "0.799129117758\n"
     ]
    }
   ],
   "source": [
    "print(grid.best_score_)"
   ]
  },
  {
   "cell_type": "code",
   "execution_count": 64,
   "metadata": {},
   "outputs": [
    {
     "name": "stdout",
     "output_type": "stream",
     "text": [
      "             precision    recall  f1-score   support\n",
      "\n",
      "         No       0.83      0.91      0.87      1294\n",
      "        Yes       0.65      0.47      0.54       467\n",
      "\n",
      "avg / total       0.78      0.79      0.78      1761\n",
      "\n"
     ]
    }
   ],
   "source": [
    "y_pred_class = grid.predict(X_test)\n",
    "\n",
    "print(classification_report(y_test, y_pred_class,\n",
    "                            target_names=[\"No\", \"Yes\"]))"
   ]
  },
  {
   "cell_type": "code",
   "execution_count": 65,
   "metadata": {},
   "outputs": [
    {
     "data": {
      "text/plain": [
       "0.80121166224914808"
      ]
     },
     "execution_count": 65,
     "metadata": {},
     "output_type": "execute_result"
    }
   ],
   "source": [
    "lr = LogisticRegression(random_state=42, C=2.1544346900318838, penalty='l1')\n",
    "lr.fit(X_train, y_train)\n",
    "y_pred_class = lr.predict(X_test)\n",
    "lr.score(X_train, y_train)"
   ]
  },
  {
   "cell_type": "code",
   "execution_count": 66,
   "metadata": {},
   "outputs": [
    {
     "data": {
      "text/plain": [
       "array([[1176,  118],\n",
       "       [ 248,  219]])"
      ]
     },
     "execution_count": 66,
     "metadata": {},
     "output_type": "execute_result"
    }
   ],
   "source": [
    "confusion_matrix(y_test, y_pred_class)"
   ]
  },
  {
   "cell_type": "code",
   "execution_count": 67,
   "metadata": {},
   "outputs": [
    {
     "data": {
      "image/png": "[encoded data removed]",
      "text/plain": [
       "<matplotlib.figure.Figure at 0x11c5bfe80>"
      ]
     },
     "metadata": {},
     "output_type": "display_data"
    }
   ],
   "source": [
    "lr_roc_auc = roc_auc_score(y_test, y_pred_class)\n",
    "fpr, tpr, thresholds = roc_curve(y_test, lr.predict_proba(X_test)[:,1])\n",
    "\n",
    "plt.figure()\n",
    "plt.plot(fpr, tpr, label='Logistic Regression (area = %0.2f)' % lr_roc_auc)\n",
    "\n",
    "plt.plot([0, 1], [0, 1],'r--')\n",
    "plt.xlim([0.0, 1.0])\n",
    "plt.ylim([0.0, 1.05])\n",
    "\n",
    "plt.xlabel('False Positive Rate')\n",
    "plt.ylabel('True Positive Rate')\n",
    "plt.title('Receiver operating characteristic')\n",
    "plt.legend(loc=\"lower right\")\n",
    "plt.show()"
   ]
  },
  {
   "cell_type": "code",
   "execution_count": 68,
   "metadata": {},
   "outputs": [
    {
     "data": {
      "image/png": "[encoded data removed]",
      "text/plain": [
       "<matplotlib.figure.Figure at 0x1a21176e10>"
      ]
     },
     "metadata": {},
     "output_type": "display_data"
    }
   ],
   "source": [
    "plt.figure()\n",
    "\n",
    "plt.xlabel(\"Training examples\")\n",
    "plt.ylabel(\"Score\")\n",
    "\n",
    "train_sizes, train_scores, test_scores = learning_curve(lr, X_train, y_train, cv=10)\n",
    "\n",
    "plt.title(\"Learning Curves (Logistic Regression)\")\n",
    "\n",
    "train_scores_mean = np.mean(train_scores, axis=1)\n",
    "train_scores_std = np.std(train_scores, axis=1)\n",
    "test_scores_mean = np.mean(test_scores, axis=1)\n",
    "test_scores_std = np.std(test_scores, axis=1)\n",
    "\n",
    "plt.grid()\n",
    "\n",
    "plt.fill_between(train_sizes, \n",
    "                 train_scores_mean - train_scores_std,\n",
    "                 train_scores_mean + train_scores_std, \n",
    "                 alpha=0.1,\n",
    "                 color=\"r\")\n",
    "\n",
    "plt.fill_between(train_sizes, \n",
    "                 test_scores_mean - test_scores_std,\n",
    "                 test_scores_mean + test_scores_std, \n",
    "                 alpha=0.1, color=\"b\")\n",
    "\n",
    "plt.plot(train_sizes, \n",
    "         train_scores_mean, \n",
    "         'o-', \n",
    "         color=\"r\", \n",
    "         label=\"Training score\")\n",
    "\n",
    "plt.plot(train_sizes, \n",
    "         test_scores_mean, \n",
    "         'o-', color=\"b\", \n",
    "         label=\"Cross-validation score\")\n",
    "\n",
    "plt.ylim([0.7, 0.85])\n",
    "plt.legend(loc=\"best\")\n",
    "plt.show()"
   ]
  },
  {
   "cell_type": "code",
   "execution_count": 69,
   "metadata": {},
   "outputs": [
    {
     "data": {
      "text/plain": [
       "0.79307080651268458"
      ]
     },
     "execution_count": 69,
     "metadata": {},
     "output_type": "execute_result"
    }
   ],
   "source": [
    "from sklearn.svm import SVC \n",
    "model = SVC(random_state=42, kernel='linear', C=0.75)\n",
    "\n",
    "model.fit(X_train, y_train)\n",
    "y_pred_class = model.predict(X_test)\n",
    "model.score(X_train, y_train)"
   ]
  },
  {
   "cell_type": "code",
   "execution_count": 70,
   "metadata": {},
   "outputs": [
    {
     "name": "stdout",
     "output_type": "stream",
     "text": [
      "The Model Score is: 0.9115865202574782\n",
      "Elapsed time: 7.076040983200073\n"
     ]
    }
   ],
   "source": [
    "import time\n",
    "start = time.time()\n",
    "\n",
    "model = SVC(probability=True)\n",
    "model.fit(X_train, y_train)\n",
    "y_pred_class = model.predict(X_test)\n",
    "print(\"The Model Score is: {}\".format(model.score(X_train, y_train)))\n",
    "\n",
    "end = time.time()\n",
    "print('Elapsed time: {}'.format(end-start))"
   ]
  },
  {
   "cell_type": "code",
   "execution_count": 71,
   "metadata": {},
   "outputs": [
    {
     "data": {
      "image/png": "[encoded data removed]",
      "text/plain": [
       "<matplotlib.figure.Figure at 0x1a21280208>"
      ]
     },
     "metadata": {},
     "output_type": "display_data"
    }
   ],
   "source": [
    "svm_roc_auc  = roc_auc_score(y_test, model.predict(X_test))\n",
    "fpr, tpr, thresholds = roc_curve(y_test, model.predict_proba(X_test)[:,1])\n",
    "plt.figure()\n",
    "\n",
    "plt.plot(fpr, tpr, label='SVC (area = %0.2f)' % svm_roc_auc)\n",
    "plt.plot([0, 1], [0, 1],'r--')\n",
    "plt.xlim([0.0, 1.0])\n",
    "plt.ylim([0.0, 1.05])\n",
    "\n",
    "plt.xlabel('False Positive Rate')\n",
    "plt.ylabel('True Positive Rate')\n",
    "plt.title('Receiver operating characteristic')\n",
    "plt.legend(loc=\"lower right\")\n",
    "plt.show()"
   ]
  },
  {
   "cell_type": "code",
   "execution_count": 72,
   "metadata": {},
   "outputs": [
    {
     "data": {
      "image/png": "[encoded data removed]",
      "text/plain": [
       "<matplotlib.figure.Figure at 0x1a20c608d0>"
      ]
     },
     "metadata": {},
     "output_type": "display_data"
    }
   ],
   "source": [
    "plt.figure()\n",
    "\n",
    "plt.xlabel(\"Training examples\")\n",
    "plt.ylabel(\"Score\")\n",
    "\n",
    "train_sizes, train_scores, test_scores = learning_curve(model, X_train, y_train, cv=10)\n",
    "\n",
    "plt.title(\"Learning Curves (SVM)\")\n",
    "\n",
    "train_scores_mean = np.mean(train_scores, axis=1)\n",
    "train_scores_std = np.std(train_scores, axis=1)\n",
    "test_scores_mean = np.mean(test_scores, axis=1)\n",
    "test_scores_std = np.std(test_scores, axis=1)\n",
    "\n",
    "plt.grid()\n",
    "\n",
    "plt.fill_between(train_sizes, \n",
    "                 train_scores_mean - train_scores_std,\n",
    "                 train_scores_mean + train_scores_std, \n",
    "                 alpha=0.1,\n",
    "                 color=\"r\")\n",
    "\n",
    "plt.fill_between(train_sizes, \n",
    "                 test_scores_mean - test_scores_std,\n",
    "                 test_scores_mean + test_scores_std, \n",
    "                 alpha=0.1, color=\"b\")\n",
    "\n",
    "plt.plot(train_sizes, \n",
    "         train_scores_mean, \n",
    "         'o-', \n",
    "         color=\"r\", \n",
    "         label=\"Training score\")\n",
    "\n",
    "plt.plot(train_sizes, \n",
    "         test_scores_mean, \n",
    "         'o-', color=\"b\", \n",
    "         label=\"Cross-validation score\")\n",
    "\n",
    "plt.ylim([0.0, 1.25])\n",
    "plt.legend(loc=\"best\")\n",
    "plt.show()"
   ]
  },
  {
   "cell_type": "code",
   "execution_count": 73,
   "metadata": {
    "collapsed": true
   },
   "outputs": [],
   "source": [
    "from xgboost import XGBClassifier\n",
    "from sklearn.metrics import accuracy_score\n",
    "#https://machinelearningmastery.com/develop-first-xgboost-model-python-scikit-learn/\n",
    "#https://github.com/dmlc/xgboost/tree/master/demo/guide-python"
   ]
  },
  {
   "cell_type": "code",
   "execution_count": 74,
   "metadata": {},
   "outputs": [
    {
     "data": {
      "text/plain": [
       "XGBClassifier(base_score=0.5, booster='gbtree', colsample_bylevel=1,\n",
       "       colsample_bytree=1, gamma=0, learning_rate=0.1, max_delta_step=0,\n",
       "       max_depth=3, min_child_weight=1, missing=None, n_estimators=100,\n",
       "       n_jobs=1, nthread=None, objective='binary:logistic',\n",
       "       random_state=42, reg_alpha=0, reg_lambda=1, scale_pos_weight=1,\n",
       "       seed=None, silent=True, subsample=1)"
      ]
     },
     "execution_count": 74,
     "metadata": {},
     "output_type": "execute_result"
    }
   ],
   "source": [
    "xgb_model = XGBClassifier(random_state=42)\n",
    "xgb_model.fit(X_train, y_train)"
   ]
  },
  {
   "cell_type": "code",
   "execution_count": 75,
   "metadata": {},
   "outputs": [],
   "source": [
    "y_pred_prob = xgb_model.predict(X_test)\n",
    "y_pred_class = [round(each) for each in y_pred_prob]"
   ]
  },
  {
   "cell_type": "code",
   "execution_count": 76,
   "metadata": {},
   "outputs": [
    {
     "data": {
      "text/plain": [
       "0.80522430437251558"
      ]
     },
     "execution_count": 76,
     "metadata": {},
     "output_type": "execute_result"
    }
   ],
   "source": [
    "accuracy = accuracy_score(y_test, y_pred_class)\n",
    "accuracy"
   ]
  },
  {
   "cell_type": "code",
   "execution_count": 77,
   "metadata": {},
   "outputs": [
    {
     "data": {
      "image/png": "[encoded data removed]",
      "text/plain": [
       "<matplotlib.figure.Figure at 0x1a20d28320>"
      ]
     },
     "metadata": {},
     "output_type": "display_data"
    }
   ],
   "source": [
    "plt.figure()\n",
    "\n",
    "plt.xlabel(\"Training examples\")\n",
    "plt.ylabel(\"Score\")\n",
    "\n",
    "train_sizes, train_scores, test_scores = learning_curve(xgb_model, X_train, y_train, cv=10)\n",
    "\n",
    "plt.title(\"XGBClassifier\")\n",
    "\n",
    "train_scores_mean = np.mean(train_scores, axis=1)\n",
    "train_scores_std = np.std(train_scores, axis=1)\n",
    "test_scores_mean = np.mean(test_scores, axis=1)\n",
    "test_scores_std = np.std(test_scores, axis=1)\n",
    "\n",
    "plt.grid()\n",
    "\n",
    "plt.fill_between(train_sizes, \n",
    "                 train_scores_mean - train_scores_std,\n",
    "                 train_scores_mean + train_scores_std, \n",
    "                 alpha=0.1,\n",
    "                 color=\"r\")\n",
    "\n",
    "plt.fill_between(train_sizes, \n",
    "                 test_scores_mean - test_scores_std,\n",
    "                 test_scores_mean + test_scores_std, \n",
    "                 alpha=0.1, color=\"b\")\n",
    "\n",
    "plt.plot(train_sizes, \n",
    "         train_scores_mean, \n",
    "         'o-', \n",
    "         color=\"r\", \n",
    "         label=\"Training score\")\n",
    "\n",
    "plt.plot(train_sizes, \n",
    "         test_scores_mean, \n",
    "         'o-', color=\"b\", \n",
    "         label=\"Cross-validation score\")\n",
    "\n",
    "plt.ylim([0.0, 1.25])\n",
    "plt.legend(loc=\"best\")\n",
    "plt.show()"
   ]
  },
  {
   "cell_type": "code",
   "execution_count": 78,
   "metadata": {},
   "outputs": [
    {
     "data": {
      "image/png": "[encoded data removed]",
      "text/plain": [
       "<matplotlib.figure.Figure at 0x1a20ca99b0>"
      ]
     },
     "metadata": {},
     "output_type": "display_data"
    }
   ],
   "source": [
    "xgb_roc_auc  = roc_auc_score(y_test, xgb_model.predict(X_test))\n",
    "fpr, tpr, thresholds = roc_curve(y_test, xgb_model.predict_proba(X_test)[:,1])\n",
    "plt.figure()\n",
    "\n",
    "plt.plot(fpr, tpr, label='XGBClassifier (area = %0.2f)' % svm_roc_auc)\n",
    "plt.plot([0, 1], [0, 1],'r--')\n",
    "plt.xlim([0.0, 1.0])\n",
    "plt.ylim([0.0, 1.05])\n",
    "\n",
    "plt.xlabel('False Positive Rate')\n",
    "plt.ylabel('True Positive Rate')\n",
    "plt.title('Receiver operating characteristic')\n",
    "plt.legend(loc=\"lower right\")\n",
    "plt.show()"
   ]
  },
  {
   "cell_type": "code",
   "execution_count": null,
   "metadata": {
    "collapsed": true
   },
   "outputs": [],
   "source": []
  }
 ],
 "metadata": {
  "kernelspec": {
   "display_name": "Python 3",
   "language": "python",
   "name": "python3"
  },
  "language_info": {
   "codemirror_mode": {
    "name": "ipython",
    "version": 3
   },
   "file_extension": ".py",
   "mimetype": "text/x-python",
   "name": "python",
   "nbconvert_exporter": "python",
   "pygments_lexer": "ipython3",
   "version": "3.6.3"
  }
 },
 "nbformat": 4,
 "nbformat_minor": 2
}
