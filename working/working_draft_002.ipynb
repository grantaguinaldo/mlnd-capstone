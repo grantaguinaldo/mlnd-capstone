{
 "cells": [
  {
   "cell_type": "code",
   "execution_count": 1,
   "metadata": {},
   "outputs": [
    {
     "name": "stderr",
     "output_type": "stream",
     "text": [
      "/Users/gta/anaconda3/lib/python3.6/site-packages/sklearn/cross_validation.py:41: DeprecationWarning: This module was deprecated in version 0.18 in favor of the model_selection module into which all the refactored classes and functions are moved. Also note that the interface of the new CV iterators are different from that of this module. This module will be removed in 0.20.\n",
      "  \"This module will be removed in 0.20.\", DeprecationWarning)\n"
     ]
    }
   ],
   "source": [
    "import pandas as pd\n",
    "import seaborn as sns\n",
    "import matplotlib.pyplot as plt\n",
    "import numpy as np\n",
    "import time\n",
    "from xgboost import XGBClassifier\n",
    "from sklearn.preprocessing import StandardScaler, MinMaxScaler, scale\n",
    "from sklearn.linear_model import LogisticRegression\n",
    "from sklearn.metrics import confusion_matrix, accuracy_score\n",
    "from sklearn.cross_validation import cross_val_score\n",
    "from sklearn.metrics import roc_auc_score, roc_curve, classification_report\n",
    "from sklearn.model_selection import learning_curve, StratifiedShuffleSplit, GridSearchCV, train_test_split\n",
    "from sklearn.decomposition import PCA\n",
    "from sklearn.svm import SVC\n",
    "\n",
    "%matplotlib inline"
   ]
  },
  {
   "cell_type": "markdown",
   "metadata": {},
   "source": [
    "# Data Preprocessing "
   ]
  },
  {
   "cell_type": "markdown",
   "metadata": {},
   "source": [
    "Data for this project was obtained from IBM."
   ]
  },
  {
   "cell_type": "code",
   "execution_count": 2,
   "metadata": {
    "collapsed": true
   },
   "outputs": [],
   "source": [
    "#https://www.ibm.com/communities/analytics/watson-analytics-blog/guide-to-sample-datasets/\n",
    "url = 'http://bit.ly/gta-mlnd-capstone'\n",
    "df = pd.read_csv(url)"
   ]
  },
  {
   "cell_type": "code",
   "execution_count": 3,
   "metadata": {},
   "outputs": [
    {
     "data": {
      "text/html": [
       "<div>\n",
       "<style>\n",
       "    .dataframe thead tr:only-child th {\n",
       "        text-align: right;\n",
       "    }\n",
       "\n",
       "    .dataframe thead th {\n",
       "        text-align: left;\n",
       "    }\n",
       "\n",
       "    .dataframe tbody tr th {\n",
       "        vertical-align: top;\n",
       "    }\n",
       "</style>\n",
       "<table border=\"1\" class=\"dataframe\">\n",
       "  <thead>\n",
       "    <tr style=\"text-align: right;\">\n",
       "      <th></th>\n",
       "      <th>customerID</th>\n",
       "      <th>gender</th>\n",
       "      <th>SeniorCitizen</th>\n",
       "      <th>Partner</th>\n",
       "      <th>Dependents</th>\n",
       "      <th>tenure</th>\n",
       "      <th>PhoneService</th>\n",
       "      <th>MultipleLines</th>\n",
       "      <th>InternetService</th>\n",
       "      <th>OnlineSecurity</th>\n",
       "      <th>...</th>\n",
       "      <th>DeviceProtection</th>\n",
       "      <th>TechSupport</th>\n",
       "      <th>StreamingTV</th>\n",
       "      <th>StreamingMovies</th>\n",
       "      <th>Contract</th>\n",
       "      <th>PaperlessBilling</th>\n",
       "      <th>PaymentMethod</th>\n",
       "      <th>MonthlyCharges</th>\n",
       "      <th>TotalCharges</th>\n",
       "      <th>Churn</th>\n",
       "    </tr>\n",
       "  </thead>\n",
       "  <tbody>\n",
       "    <tr>\n",
       "      <th>0</th>\n",
       "      <td>7590-VHVEG</td>\n",
       "      <td>Female</td>\n",
       "      <td>0</td>\n",
       "      <td>Yes</td>\n",
       "      <td>No</td>\n",
       "      <td>1</td>\n",
       "      <td>No</td>\n",
       "      <td>No phone service</td>\n",
       "      <td>DSL</td>\n",
       "      <td>No</td>\n",
       "      <td>...</td>\n",
       "      <td>No</td>\n",
       "      <td>No</td>\n",
       "      <td>No</td>\n",
       "      <td>No</td>\n",
       "      <td>Month-to-month</td>\n",
       "      <td>Yes</td>\n",
       "      <td>Electronic check</td>\n",
       "      <td>29.85</td>\n",
       "      <td>29.85</td>\n",
       "      <td>No</td>\n",
       "    </tr>\n",
       "    <tr>\n",
       "      <th>1</th>\n",
       "      <td>5575-GNVDE</td>\n",
       "      <td>Male</td>\n",
       "      <td>0</td>\n",
       "      <td>No</td>\n",
       "      <td>No</td>\n",
       "      <td>34</td>\n",
       "      <td>Yes</td>\n",
       "      <td>No</td>\n",
       "      <td>DSL</td>\n",
       "      <td>Yes</td>\n",
       "      <td>...</td>\n",
       "      <td>Yes</td>\n",
       "      <td>No</td>\n",
       "      <td>No</td>\n",
       "      <td>No</td>\n",
       "      <td>One year</td>\n",
       "      <td>No</td>\n",
       "      <td>Mailed check</td>\n",
       "      <td>56.95</td>\n",
       "      <td>1889.5</td>\n",
       "      <td>No</td>\n",
       "    </tr>\n",
       "    <tr>\n",
       "      <th>2</th>\n",
       "      <td>3668-QPYBK</td>\n",
       "      <td>Male</td>\n",
       "      <td>0</td>\n",
       "      <td>No</td>\n",
       "      <td>No</td>\n",
       "      <td>2</td>\n",
       "      <td>Yes</td>\n",
       "      <td>No</td>\n",
       "      <td>DSL</td>\n",
       "      <td>Yes</td>\n",
       "      <td>...</td>\n",
       "      <td>No</td>\n",
       "      <td>No</td>\n",
       "      <td>No</td>\n",
       "      <td>No</td>\n",
       "      <td>Month-to-month</td>\n",
       "      <td>Yes</td>\n",
       "      <td>Mailed check</td>\n",
       "      <td>53.85</td>\n",
       "      <td>108.15</td>\n",
       "      <td>Yes</td>\n",
       "    </tr>\n",
       "    <tr>\n",
       "      <th>3</th>\n",
       "      <td>7795-CFOCW</td>\n",
       "      <td>Male</td>\n",
       "      <td>0</td>\n",
       "      <td>No</td>\n",
       "      <td>No</td>\n",
       "      <td>45</td>\n",
       "      <td>No</td>\n",
       "      <td>No phone service</td>\n",
       "      <td>DSL</td>\n",
       "      <td>Yes</td>\n",
       "      <td>...</td>\n",
       "      <td>Yes</td>\n",
       "      <td>Yes</td>\n",
       "      <td>No</td>\n",
       "      <td>No</td>\n",
       "      <td>One year</td>\n",
       "      <td>No</td>\n",
       "      <td>Bank transfer (automatic)</td>\n",
       "      <td>42.30</td>\n",
       "      <td>1840.75</td>\n",
       "      <td>No</td>\n",
       "    </tr>\n",
       "    <tr>\n",
       "      <th>4</th>\n",
       "      <td>9237-HQITU</td>\n",
       "      <td>Female</td>\n",
       "      <td>0</td>\n",
       "      <td>No</td>\n",
       "      <td>No</td>\n",
       "      <td>2</td>\n",
       "      <td>Yes</td>\n",
       "      <td>No</td>\n",
       "      <td>Fiber optic</td>\n",
       "      <td>No</td>\n",
       "      <td>...</td>\n",
       "      <td>No</td>\n",
       "      <td>No</td>\n",
       "      <td>No</td>\n",
       "      <td>No</td>\n",
       "      <td>Month-to-month</td>\n",
       "      <td>Yes</td>\n",
       "      <td>Electronic check</td>\n",
       "      <td>70.70</td>\n",
       "      <td>151.65</td>\n",
       "      <td>Yes</td>\n",
       "    </tr>\n",
       "  </tbody>\n",
       "</table>\n",
       "<p>5 rows × 21 columns</p>\n",
       "</div>"
      ],
      "text/plain": [
       "   customerID  gender  SeniorCitizen Partner Dependents  tenure PhoneService  \\\n",
       "0  7590-VHVEG  Female              0     Yes         No       1           No   \n",
       "1  5575-GNVDE    Male              0      No         No      34          Yes   \n",
       "2  3668-QPYBK    Male              0      No         No       2          Yes   \n",
       "3  7795-CFOCW    Male              0      No         No      45           No   \n",
       "4  9237-HQITU  Female              0      No         No       2          Yes   \n",
       "\n",
       "      MultipleLines InternetService OnlineSecurity  ...  DeviceProtection  \\\n",
       "0  No phone service             DSL             No  ...                No   \n",
       "1                No             DSL            Yes  ...               Yes   \n",
       "2                No             DSL            Yes  ...                No   \n",
       "3  No phone service             DSL            Yes  ...               Yes   \n",
       "4                No     Fiber optic             No  ...                No   \n",
       "\n",
       "  TechSupport StreamingTV StreamingMovies        Contract PaperlessBilling  \\\n",
       "0          No          No              No  Month-to-month              Yes   \n",
       "1          No          No              No        One year               No   \n",
       "2          No          No              No  Month-to-month              Yes   \n",
       "3         Yes          No              No        One year               No   \n",
       "4          No          No              No  Month-to-month              Yes   \n",
       "\n",
       "               PaymentMethod MonthlyCharges  TotalCharges Churn  \n",
       "0           Electronic check          29.85         29.85    No  \n",
       "1               Mailed check          56.95        1889.5    No  \n",
       "2               Mailed check          53.85        108.15   Yes  \n",
       "3  Bank transfer (automatic)          42.30       1840.75    No  \n",
       "4           Electronic check          70.70        151.65   Yes  \n",
       "\n",
       "[5 rows x 21 columns]"
      ]
     },
     "execution_count": 3,
     "metadata": {},
     "output_type": "execute_result"
    }
   ],
   "source": [
    "df.head()"
   ]
  },
  {
   "cell_type": "code",
   "execution_count": 4,
   "metadata": {},
   "outputs": [
    {
     "data": {
      "text/plain": [
       "(7043, 21)"
      ]
     },
     "execution_count": 4,
     "metadata": {},
     "output_type": "execute_result"
    }
   ],
   "source": [
    "df.shape"
   ]
  },
  {
   "cell_type": "code",
   "execution_count": 5,
   "metadata": {},
   "outputs": [
    {
     "name": "stdout",
     "output_type": "stream",
     "text": [
      "<class 'pandas.core.frame.DataFrame'>\n",
      "RangeIndex: 7043 entries, 0 to 7042\n",
      "Data columns (total 21 columns):\n",
      "customerID          7043 non-null object\n",
      "gender              7043 non-null object\n",
      "SeniorCitizen       7043 non-null int64\n",
      "Partner             7043 non-null object\n",
      "Dependents          7043 non-null object\n",
      "tenure              7043 non-null int64\n",
      "PhoneService        7043 non-null object\n",
      "MultipleLines       7043 non-null object\n",
      "InternetService     7043 non-null object\n",
      "OnlineSecurity      7043 non-null object\n",
      "OnlineBackup        7043 non-null object\n",
      "DeviceProtection    7043 non-null object\n",
      "TechSupport         7043 non-null object\n",
      "StreamingTV         7043 non-null object\n",
      "StreamingMovies     7043 non-null object\n",
      "Contract            7043 non-null object\n",
      "PaperlessBilling    7043 non-null object\n",
      "PaymentMethod       7043 non-null object\n",
      "MonthlyCharges      7043 non-null float64\n",
      "TotalCharges        7043 non-null object\n",
      "Churn               7043 non-null object\n",
      "dtypes: float64(1), int64(2), object(18)\n",
      "memory usage: 1.1+ MB\n"
     ]
    }
   ],
   "source": [
    "df.info()"
   ]
  },
  {
   "cell_type": "code",
   "execution_count": 6,
   "metadata": {
    "collapsed": true
   },
   "outputs": [],
   "source": [
    "#By setting errors to 'coerce' a 'NaN will be inserted when there is an error.\n",
    "#https://pandas.pydata.org/pandas-docs/stable/generated/pandas.to_numeric.html\n",
    "\n",
    "df['TotalCharges'] = pd.to_numeric(df['TotalCharges'], errors = 'coerce')"
   ]
  },
  {
   "cell_type": "code",
   "execution_count": 7,
   "metadata": {},
   "outputs": [
    {
     "data": {
      "text/plain": [
       "0"
      ]
     },
     "execution_count": 7,
     "metadata": {},
     "output_type": "execute_result"
    }
   ],
   "source": [
    "df['MonthlyCharges'].isnull().sum()"
   ]
  },
  {
   "cell_type": "code",
   "execution_count": 8,
   "metadata": {},
   "outputs": [
    {
     "data": {
      "text/plain": [
       "11"
      ]
     },
     "execution_count": 8,
     "metadata": {},
     "output_type": "execute_result"
    }
   ],
   "source": [
    "df['TotalCharges'].isnull().sum()"
   ]
  },
  {
   "cell_type": "code",
   "execution_count": 9,
   "metadata": {},
   "outputs": [
    {
     "data": {
      "text/html": [
       "<div>\n",
       "<style>\n",
       "    .dataframe thead tr:only-child th {\n",
       "        text-align: right;\n",
       "    }\n",
       "\n",
       "    .dataframe thead th {\n",
       "        text-align: left;\n",
       "    }\n",
       "\n",
       "    .dataframe tbody tr th {\n",
       "        vertical-align: top;\n",
       "    }\n",
       "</style>\n",
       "<table border=\"1\" class=\"dataframe\">\n",
       "  <thead>\n",
       "    <tr style=\"text-align: right;\">\n",
       "      <th></th>\n",
       "      <th>customerID</th>\n",
       "      <th>gender</th>\n",
       "      <th>SeniorCitizen</th>\n",
       "      <th>Partner</th>\n",
       "      <th>Dependents</th>\n",
       "      <th>tenure</th>\n",
       "      <th>PhoneService</th>\n",
       "      <th>MultipleLines</th>\n",
       "      <th>InternetService</th>\n",
       "      <th>OnlineSecurity</th>\n",
       "      <th>...</th>\n",
       "      <th>DeviceProtection</th>\n",
       "      <th>TechSupport</th>\n",
       "      <th>StreamingTV</th>\n",
       "      <th>StreamingMovies</th>\n",
       "      <th>Contract</th>\n",
       "      <th>PaperlessBilling</th>\n",
       "      <th>PaymentMethod</th>\n",
       "      <th>MonthlyCharges</th>\n",
       "      <th>TotalCharges</th>\n",
       "      <th>Churn</th>\n",
       "    </tr>\n",
       "  </thead>\n",
       "  <tbody>\n",
       "    <tr>\n",
       "      <th>488</th>\n",
       "      <td>4472-LVYGI</td>\n",
       "      <td>Female</td>\n",
       "      <td>0</td>\n",
       "      <td>Yes</td>\n",
       "      <td>Yes</td>\n",
       "      <td>0</td>\n",
       "      <td>No</td>\n",
       "      <td>No phone service</td>\n",
       "      <td>DSL</td>\n",
       "      <td>Yes</td>\n",
       "      <td>...</td>\n",
       "      <td>Yes</td>\n",
       "      <td>Yes</td>\n",
       "      <td>Yes</td>\n",
       "      <td>No</td>\n",
       "      <td>Two year</td>\n",
       "      <td>Yes</td>\n",
       "      <td>Bank transfer (automatic)</td>\n",
       "      <td>52.55</td>\n",
       "      <td>NaN</td>\n",
       "      <td>No</td>\n",
       "    </tr>\n",
       "    <tr>\n",
       "      <th>753</th>\n",
       "      <td>3115-CZMZD</td>\n",
       "      <td>Male</td>\n",
       "      <td>0</td>\n",
       "      <td>No</td>\n",
       "      <td>Yes</td>\n",
       "      <td>0</td>\n",
       "      <td>Yes</td>\n",
       "      <td>No</td>\n",
       "      <td>No</td>\n",
       "      <td>No internet service</td>\n",
       "      <td>...</td>\n",
       "      <td>No internet service</td>\n",
       "      <td>No internet service</td>\n",
       "      <td>No internet service</td>\n",
       "      <td>No internet service</td>\n",
       "      <td>Two year</td>\n",
       "      <td>No</td>\n",
       "      <td>Mailed check</td>\n",
       "      <td>20.25</td>\n",
       "      <td>NaN</td>\n",
       "      <td>No</td>\n",
       "    </tr>\n",
       "    <tr>\n",
       "      <th>936</th>\n",
       "      <td>5709-LVOEQ</td>\n",
       "      <td>Female</td>\n",
       "      <td>0</td>\n",
       "      <td>Yes</td>\n",
       "      <td>Yes</td>\n",
       "      <td>0</td>\n",
       "      <td>Yes</td>\n",
       "      <td>No</td>\n",
       "      <td>DSL</td>\n",
       "      <td>Yes</td>\n",
       "      <td>...</td>\n",
       "      <td>Yes</td>\n",
       "      <td>No</td>\n",
       "      <td>Yes</td>\n",
       "      <td>Yes</td>\n",
       "      <td>Two year</td>\n",
       "      <td>No</td>\n",
       "      <td>Mailed check</td>\n",
       "      <td>80.85</td>\n",
       "      <td>NaN</td>\n",
       "      <td>No</td>\n",
       "    </tr>\n",
       "    <tr>\n",
       "      <th>1082</th>\n",
       "      <td>4367-NUYAO</td>\n",
       "      <td>Male</td>\n",
       "      <td>0</td>\n",
       "      <td>Yes</td>\n",
       "      <td>Yes</td>\n",
       "      <td>0</td>\n",
       "      <td>Yes</td>\n",
       "      <td>Yes</td>\n",
       "      <td>No</td>\n",
       "      <td>No internet service</td>\n",
       "      <td>...</td>\n",
       "      <td>No internet service</td>\n",
       "      <td>No internet service</td>\n",
       "      <td>No internet service</td>\n",
       "      <td>No internet service</td>\n",
       "      <td>Two year</td>\n",
       "      <td>No</td>\n",
       "      <td>Mailed check</td>\n",
       "      <td>25.75</td>\n",
       "      <td>NaN</td>\n",
       "      <td>No</td>\n",
       "    </tr>\n",
       "    <tr>\n",
       "      <th>1340</th>\n",
       "      <td>1371-DWPAZ</td>\n",
       "      <td>Female</td>\n",
       "      <td>0</td>\n",
       "      <td>Yes</td>\n",
       "      <td>Yes</td>\n",
       "      <td>0</td>\n",
       "      <td>No</td>\n",
       "      <td>No phone service</td>\n",
       "      <td>DSL</td>\n",
       "      <td>Yes</td>\n",
       "      <td>...</td>\n",
       "      <td>Yes</td>\n",
       "      <td>Yes</td>\n",
       "      <td>Yes</td>\n",
       "      <td>No</td>\n",
       "      <td>Two year</td>\n",
       "      <td>No</td>\n",
       "      <td>Credit card (automatic)</td>\n",
       "      <td>56.05</td>\n",
       "      <td>NaN</td>\n",
       "      <td>No</td>\n",
       "    </tr>\n",
       "    <tr>\n",
       "      <th>3331</th>\n",
       "      <td>7644-OMVMY</td>\n",
       "      <td>Male</td>\n",
       "      <td>0</td>\n",
       "      <td>Yes</td>\n",
       "      <td>Yes</td>\n",
       "      <td>0</td>\n",
       "      <td>Yes</td>\n",
       "      <td>No</td>\n",
       "      <td>No</td>\n",
       "      <td>No internet service</td>\n",
       "      <td>...</td>\n",
       "      <td>No internet service</td>\n",
       "      <td>No internet service</td>\n",
       "      <td>No internet service</td>\n",
       "      <td>No internet service</td>\n",
       "      <td>Two year</td>\n",
       "      <td>No</td>\n",
       "      <td>Mailed check</td>\n",
       "      <td>19.85</td>\n",
       "      <td>NaN</td>\n",
       "      <td>No</td>\n",
       "    </tr>\n",
       "    <tr>\n",
       "      <th>3826</th>\n",
       "      <td>3213-VVOLG</td>\n",
       "      <td>Male</td>\n",
       "      <td>0</td>\n",
       "      <td>Yes</td>\n",
       "      <td>Yes</td>\n",
       "      <td>0</td>\n",
       "      <td>Yes</td>\n",
       "      <td>Yes</td>\n",
       "      <td>No</td>\n",
       "      <td>No internet service</td>\n",
       "      <td>...</td>\n",
       "      <td>No internet service</td>\n",
       "      <td>No internet service</td>\n",
       "      <td>No internet service</td>\n",
       "      <td>No internet service</td>\n",
       "      <td>Two year</td>\n",
       "      <td>No</td>\n",
       "      <td>Mailed check</td>\n",
       "      <td>25.35</td>\n",
       "      <td>NaN</td>\n",
       "      <td>No</td>\n",
       "    </tr>\n",
       "    <tr>\n",
       "      <th>4380</th>\n",
       "      <td>2520-SGTTA</td>\n",
       "      <td>Female</td>\n",
       "      <td>0</td>\n",
       "      <td>Yes</td>\n",
       "      <td>Yes</td>\n",
       "      <td>0</td>\n",
       "      <td>Yes</td>\n",
       "      <td>No</td>\n",
       "      <td>No</td>\n",
       "      <td>No internet service</td>\n",
       "      <td>...</td>\n",
       "      <td>No internet service</td>\n",
       "      <td>No internet service</td>\n",
       "      <td>No internet service</td>\n",
       "      <td>No internet service</td>\n",
       "      <td>Two year</td>\n",
       "      <td>No</td>\n",
       "      <td>Mailed check</td>\n",
       "      <td>20.00</td>\n",
       "      <td>NaN</td>\n",
       "      <td>No</td>\n",
       "    </tr>\n",
       "    <tr>\n",
       "      <th>5218</th>\n",
       "      <td>2923-ARZLG</td>\n",
       "      <td>Male</td>\n",
       "      <td>0</td>\n",
       "      <td>Yes</td>\n",
       "      <td>Yes</td>\n",
       "      <td>0</td>\n",
       "      <td>Yes</td>\n",
       "      <td>No</td>\n",
       "      <td>No</td>\n",
       "      <td>No internet service</td>\n",
       "      <td>...</td>\n",
       "      <td>No internet service</td>\n",
       "      <td>No internet service</td>\n",
       "      <td>No internet service</td>\n",
       "      <td>No internet service</td>\n",
       "      <td>One year</td>\n",
       "      <td>Yes</td>\n",
       "      <td>Mailed check</td>\n",
       "      <td>19.70</td>\n",
       "      <td>NaN</td>\n",
       "      <td>No</td>\n",
       "    </tr>\n",
       "    <tr>\n",
       "      <th>6670</th>\n",
       "      <td>4075-WKNIU</td>\n",
       "      <td>Female</td>\n",
       "      <td>0</td>\n",
       "      <td>Yes</td>\n",
       "      <td>Yes</td>\n",
       "      <td>0</td>\n",
       "      <td>Yes</td>\n",
       "      <td>Yes</td>\n",
       "      <td>DSL</td>\n",
       "      <td>No</td>\n",
       "      <td>...</td>\n",
       "      <td>Yes</td>\n",
       "      <td>Yes</td>\n",
       "      <td>Yes</td>\n",
       "      <td>No</td>\n",
       "      <td>Two year</td>\n",
       "      <td>No</td>\n",
       "      <td>Mailed check</td>\n",
       "      <td>73.35</td>\n",
       "      <td>NaN</td>\n",
       "      <td>No</td>\n",
       "    </tr>\n",
       "    <tr>\n",
       "      <th>6754</th>\n",
       "      <td>2775-SEFEE</td>\n",
       "      <td>Male</td>\n",
       "      <td>0</td>\n",
       "      <td>No</td>\n",
       "      <td>Yes</td>\n",
       "      <td>0</td>\n",
       "      <td>Yes</td>\n",
       "      <td>Yes</td>\n",
       "      <td>DSL</td>\n",
       "      <td>Yes</td>\n",
       "      <td>...</td>\n",
       "      <td>No</td>\n",
       "      <td>Yes</td>\n",
       "      <td>No</td>\n",
       "      <td>No</td>\n",
       "      <td>Two year</td>\n",
       "      <td>Yes</td>\n",
       "      <td>Bank transfer (automatic)</td>\n",
       "      <td>61.90</td>\n",
       "      <td>NaN</td>\n",
       "      <td>No</td>\n",
       "    </tr>\n",
       "  </tbody>\n",
       "</table>\n",
       "<p>11 rows × 21 columns</p>\n",
       "</div>"
      ],
      "text/plain": [
       "      customerID  gender  SeniorCitizen Partner Dependents  tenure  \\\n",
       "488   4472-LVYGI  Female              0     Yes        Yes       0   \n",
       "753   3115-CZMZD    Male              0      No        Yes       0   \n",
       "936   5709-LVOEQ  Female              0     Yes        Yes       0   \n",
       "1082  4367-NUYAO    Male              0     Yes        Yes       0   \n",
       "1340  1371-DWPAZ  Female              0     Yes        Yes       0   \n",
       "3331  7644-OMVMY    Male              0     Yes        Yes       0   \n",
       "3826  3213-VVOLG    Male              0     Yes        Yes       0   \n",
       "4380  2520-SGTTA  Female              0     Yes        Yes       0   \n",
       "5218  2923-ARZLG    Male              0     Yes        Yes       0   \n",
       "6670  4075-WKNIU  Female              0     Yes        Yes       0   \n",
       "6754  2775-SEFEE    Male              0      No        Yes       0   \n",
       "\n",
       "     PhoneService     MultipleLines InternetService       OnlineSecurity  \\\n",
       "488            No  No phone service             DSL                  Yes   \n",
       "753           Yes                No              No  No internet service   \n",
       "936           Yes                No             DSL                  Yes   \n",
       "1082          Yes               Yes              No  No internet service   \n",
       "1340           No  No phone service             DSL                  Yes   \n",
       "3331          Yes                No              No  No internet service   \n",
       "3826          Yes               Yes              No  No internet service   \n",
       "4380          Yes                No              No  No internet service   \n",
       "5218          Yes                No              No  No internet service   \n",
       "6670          Yes               Yes             DSL                   No   \n",
       "6754          Yes               Yes             DSL                  Yes   \n",
       "\n",
       "      ...       DeviceProtection          TechSupport          StreamingTV  \\\n",
       "488   ...                    Yes                  Yes                  Yes   \n",
       "753   ...    No internet service  No internet service  No internet service   \n",
       "936   ...                    Yes                   No                  Yes   \n",
       "1082  ...    No internet service  No internet service  No internet service   \n",
       "1340  ...                    Yes                  Yes                  Yes   \n",
       "3331  ...    No internet service  No internet service  No internet service   \n",
       "3826  ...    No internet service  No internet service  No internet service   \n",
       "4380  ...    No internet service  No internet service  No internet service   \n",
       "5218  ...    No internet service  No internet service  No internet service   \n",
       "6670  ...                    Yes                  Yes                  Yes   \n",
       "6754  ...                     No                  Yes                   No   \n",
       "\n",
       "          StreamingMovies  Contract PaperlessBilling  \\\n",
       "488                    No  Two year              Yes   \n",
       "753   No internet service  Two year               No   \n",
       "936                   Yes  Two year               No   \n",
       "1082  No internet service  Two year               No   \n",
       "1340                   No  Two year               No   \n",
       "3331  No internet service  Two year               No   \n",
       "3826  No internet service  Two year               No   \n",
       "4380  No internet service  Two year               No   \n",
       "5218  No internet service  One year              Yes   \n",
       "6670                   No  Two year               No   \n",
       "6754                   No  Two year              Yes   \n",
       "\n",
       "                  PaymentMethod MonthlyCharges  TotalCharges  Churn  \n",
       "488   Bank transfer (automatic)          52.55           NaN     No  \n",
       "753                Mailed check          20.25           NaN     No  \n",
       "936                Mailed check          80.85           NaN     No  \n",
       "1082               Mailed check          25.75           NaN     No  \n",
       "1340    Credit card (automatic)          56.05           NaN     No  \n",
       "3331               Mailed check          19.85           NaN     No  \n",
       "3826               Mailed check          25.35           NaN     No  \n",
       "4380               Mailed check          20.00           NaN     No  \n",
       "5218               Mailed check          19.70           NaN     No  \n",
       "6670               Mailed check          73.35           NaN     No  \n",
       "6754  Bank transfer (automatic)          61.90           NaN     No  \n",
       "\n",
       "[11 rows x 21 columns]"
      ]
     },
     "execution_count": 9,
     "metadata": {},
     "output_type": "execute_result"
    }
   ],
   "source": [
    "df[df['TotalCharges'].isnull()]"
   ]
  },
  {
   "cell_type": "code",
   "execution_count": 10,
   "metadata": {},
   "outputs": [
    {
     "name": "stdout",
     "output_type": "stream",
     "text": [
      "488\n",
      "753\n",
      "936\n",
      "1082\n",
      "1340\n",
      "3331\n",
      "3826\n",
      "4380\n",
      "5218\n",
      "6670\n",
      "6754\n"
     ]
    }
   ],
   "source": [
    "index_row = []\n",
    "for index, row in df.iterrows():\n",
    "    try:\n",
    "        if pd.isnull(row['TotalCharges']):\n",
    "            df.set_value(index, 'TotalCharges', row['MonthlyCharges'])\n",
    "            print(index)\n",
    "    except:\n",
    "        index_row.append(row)"
   ]
  },
  {
   "cell_type": "code",
   "execution_count": 11,
   "metadata": {},
   "outputs": [
    {
     "data": {
      "text/plain": [
       "0"
      ]
     },
     "execution_count": 11,
     "metadata": {},
     "output_type": "execute_result"
    }
   ],
   "source": [
    "len(index_row)"
   ]
  },
  {
   "cell_type": "code",
   "execution_count": 12,
   "metadata": {},
   "outputs": [
    {
     "data": {
      "text/html": [
       "<div>\n",
       "<style>\n",
       "    .dataframe thead tr:only-child th {\n",
       "        text-align: right;\n",
       "    }\n",
       "\n",
       "    .dataframe thead th {\n",
       "        text-align: left;\n",
       "    }\n",
       "\n",
       "    .dataframe tbody tr th {\n",
       "        vertical-align: top;\n",
       "    }\n",
       "</style>\n",
       "<table border=\"1\" class=\"dataframe\">\n",
       "  <thead>\n",
       "    <tr style=\"text-align: right;\">\n",
       "      <th></th>\n",
       "      <th>customerID</th>\n",
       "      <th>gender</th>\n",
       "      <th>SeniorCitizen</th>\n",
       "      <th>Partner</th>\n",
       "      <th>Dependents</th>\n",
       "      <th>tenure</th>\n",
       "      <th>PhoneService</th>\n",
       "      <th>MultipleLines</th>\n",
       "      <th>InternetService</th>\n",
       "      <th>OnlineSecurity</th>\n",
       "      <th>...</th>\n",
       "      <th>DeviceProtection</th>\n",
       "      <th>TechSupport</th>\n",
       "      <th>StreamingTV</th>\n",
       "      <th>StreamingMovies</th>\n",
       "      <th>Contract</th>\n",
       "      <th>PaperlessBilling</th>\n",
       "      <th>PaymentMethod</th>\n",
       "      <th>MonthlyCharges</th>\n",
       "      <th>TotalCharges</th>\n",
       "      <th>Churn</th>\n",
       "    </tr>\n",
       "  </thead>\n",
       "  <tbody>\n",
       "    <tr>\n",
       "      <th>0</th>\n",
       "      <td>7590-VHVEG</td>\n",
       "      <td>Female</td>\n",
       "      <td>0</td>\n",
       "      <td>Yes</td>\n",
       "      <td>No</td>\n",
       "      <td>1</td>\n",
       "      <td>No</td>\n",
       "      <td>No phone service</td>\n",
       "      <td>DSL</td>\n",
       "      <td>No</td>\n",
       "      <td>...</td>\n",
       "      <td>No</td>\n",
       "      <td>No</td>\n",
       "      <td>No</td>\n",
       "      <td>No</td>\n",
       "      <td>Month-to-month</td>\n",
       "      <td>Yes</td>\n",
       "      <td>Electronic check</td>\n",
       "      <td>29.85</td>\n",
       "      <td>29.85</td>\n",
       "      <td>No</td>\n",
       "    </tr>\n",
       "    <tr>\n",
       "      <th>20</th>\n",
       "      <td>8779-QRDMV</td>\n",
       "      <td>Male</td>\n",
       "      <td>1</td>\n",
       "      <td>No</td>\n",
       "      <td>No</td>\n",
       "      <td>1</td>\n",
       "      <td>No</td>\n",
       "      <td>No phone service</td>\n",
       "      <td>DSL</td>\n",
       "      <td>No</td>\n",
       "      <td>...</td>\n",
       "      <td>Yes</td>\n",
       "      <td>No</td>\n",
       "      <td>No</td>\n",
       "      <td>Yes</td>\n",
       "      <td>Month-to-month</td>\n",
       "      <td>Yes</td>\n",
       "      <td>Electronic check</td>\n",
       "      <td>39.65</td>\n",
       "      <td>39.65</td>\n",
       "      <td>Yes</td>\n",
       "    </tr>\n",
       "    <tr>\n",
       "      <th>22</th>\n",
       "      <td>1066-JKSGK</td>\n",
       "      <td>Male</td>\n",
       "      <td>0</td>\n",
       "      <td>No</td>\n",
       "      <td>No</td>\n",
       "      <td>1</td>\n",
       "      <td>Yes</td>\n",
       "      <td>No</td>\n",
       "      <td>No</td>\n",
       "      <td>No internet service</td>\n",
       "      <td>...</td>\n",
       "      <td>No internet service</td>\n",
       "      <td>No internet service</td>\n",
       "      <td>No internet service</td>\n",
       "      <td>No internet service</td>\n",
       "      <td>Month-to-month</td>\n",
       "      <td>No</td>\n",
       "      <td>Mailed check</td>\n",
       "      <td>20.15</td>\n",
       "      <td>20.15</td>\n",
       "      <td>Yes</td>\n",
       "    </tr>\n",
       "  </tbody>\n",
       "</table>\n",
       "<p>3 rows × 21 columns</p>\n",
       "</div>"
      ],
      "text/plain": [
       "    customerID  gender  SeniorCitizen Partner Dependents  tenure PhoneService  \\\n",
       "0   7590-VHVEG  Female              0     Yes         No       1           No   \n",
       "20  8779-QRDMV    Male              1      No         No       1           No   \n",
       "22  1066-JKSGK    Male              0      No         No       1          Yes   \n",
       "\n",
       "       MultipleLines InternetService       OnlineSecurity  ...    \\\n",
       "0   No phone service             DSL                   No  ...     \n",
       "20  No phone service             DSL                   No  ...     \n",
       "22                No              No  No internet service  ...     \n",
       "\n",
       "       DeviceProtection          TechSupport          StreamingTV  \\\n",
       "0                    No                   No                   No   \n",
       "20                  Yes                   No                   No   \n",
       "22  No internet service  No internet service  No internet service   \n",
       "\n",
       "        StreamingMovies        Contract PaperlessBilling     PaymentMethod  \\\n",
       "0                    No  Month-to-month              Yes  Electronic check   \n",
       "20                  Yes  Month-to-month              Yes  Electronic check   \n",
       "22  No internet service  Month-to-month               No      Mailed check   \n",
       "\n",
       "   MonthlyCharges  TotalCharges  Churn  \n",
       "0           29.85         29.85     No  \n",
       "20          39.65         39.65    Yes  \n",
       "22          20.15         20.15    Yes  \n",
       "\n",
       "[3 rows x 21 columns]"
      ]
     },
     "execution_count": 12,
     "metadata": {},
     "output_type": "execute_result"
    }
   ],
   "source": [
    "df[df['tenure'] == 1].head(3)"
   ]
  },
  {
   "cell_type": "code",
   "execution_count": 13,
   "metadata": {
    "collapsed": true
   },
   "outputs": [],
   "source": [
    "df['ratio'] = df['TotalCharges'] / df['MonthlyCharges']"
   ]
  },
  {
   "cell_type": "code",
   "execution_count": 14,
   "metadata": {},
   "outputs": [
    {
     "data": {
      "text/html": [
       "<div>\n",
       "<style>\n",
       "    .dataframe thead tr:only-child th {\n",
       "        text-align: right;\n",
       "    }\n",
       "\n",
       "    .dataframe thead th {\n",
       "        text-align: left;\n",
       "    }\n",
       "\n",
       "    .dataframe tbody tr th {\n",
       "        vertical-align: top;\n",
       "    }\n",
       "</style>\n",
       "<table border=\"1\" class=\"dataframe\">\n",
       "  <thead>\n",
       "    <tr style=\"text-align: right;\">\n",
       "      <th></th>\n",
       "      <th>customerID</th>\n",
       "      <th>gender</th>\n",
       "      <th>SeniorCitizen</th>\n",
       "      <th>Partner</th>\n",
       "      <th>Dependents</th>\n",
       "      <th>tenure</th>\n",
       "      <th>PhoneService</th>\n",
       "      <th>MultipleLines</th>\n",
       "      <th>InternetService</th>\n",
       "      <th>OnlineSecurity</th>\n",
       "      <th>...</th>\n",
       "      <th>TechSupport</th>\n",
       "      <th>StreamingTV</th>\n",
       "      <th>StreamingMovies</th>\n",
       "      <th>Contract</th>\n",
       "      <th>PaperlessBilling</th>\n",
       "      <th>PaymentMethod</th>\n",
       "      <th>MonthlyCharges</th>\n",
       "      <th>TotalCharges</th>\n",
       "      <th>Churn</th>\n",
       "      <th>ratio</th>\n",
       "    </tr>\n",
       "  </thead>\n",
       "  <tbody>\n",
       "    <tr>\n",
       "      <th>0</th>\n",
       "      <td>7590-VHVEG</td>\n",
       "      <td>Female</td>\n",
       "      <td>0</td>\n",
       "      <td>Yes</td>\n",
       "      <td>No</td>\n",
       "      <td>1</td>\n",
       "      <td>No</td>\n",
       "      <td>No phone service</td>\n",
       "      <td>DSL</td>\n",
       "      <td>No</td>\n",
       "      <td>...</td>\n",
       "      <td>No</td>\n",
       "      <td>No</td>\n",
       "      <td>No</td>\n",
       "      <td>Month-to-month</td>\n",
       "      <td>Yes</td>\n",
       "      <td>Electronic check</td>\n",
       "      <td>29.85</td>\n",
       "      <td>29.85</td>\n",
       "      <td>No</td>\n",
       "      <td>1.0</td>\n",
       "    </tr>\n",
       "    <tr>\n",
       "      <th>20</th>\n",
       "      <td>8779-QRDMV</td>\n",
       "      <td>Male</td>\n",
       "      <td>1</td>\n",
       "      <td>No</td>\n",
       "      <td>No</td>\n",
       "      <td>1</td>\n",
       "      <td>No</td>\n",
       "      <td>No phone service</td>\n",
       "      <td>DSL</td>\n",
       "      <td>No</td>\n",
       "      <td>...</td>\n",
       "      <td>No</td>\n",
       "      <td>No</td>\n",
       "      <td>Yes</td>\n",
       "      <td>Month-to-month</td>\n",
       "      <td>Yes</td>\n",
       "      <td>Electronic check</td>\n",
       "      <td>39.65</td>\n",
       "      <td>39.65</td>\n",
       "      <td>Yes</td>\n",
       "      <td>1.0</td>\n",
       "    </tr>\n",
       "    <tr>\n",
       "      <th>22</th>\n",
       "      <td>1066-JKSGK</td>\n",
       "      <td>Male</td>\n",
       "      <td>0</td>\n",
       "      <td>No</td>\n",
       "      <td>No</td>\n",
       "      <td>1</td>\n",
       "      <td>Yes</td>\n",
       "      <td>No</td>\n",
       "      <td>No</td>\n",
       "      <td>No internet service</td>\n",
       "      <td>...</td>\n",
       "      <td>No internet service</td>\n",
       "      <td>No internet service</td>\n",
       "      <td>No internet service</td>\n",
       "      <td>Month-to-month</td>\n",
       "      <td>No</td>\n",
       "      <td>Mailed check</td>\n",
       "      <td>20.15</td>\n",
       "      <td>20.15</td>\n",
       "      <td>Yes</td>\n",
       "      <td>1.0</td>\n",
       "    </tr>\n",
       "    <tr>\n",
       "      <th>27</th>\n",
       "      <td>8665-UTDHZ</td>\n",
       "      <td>Male</td>\n",
       "      <td>0</td>\n",
       "      <td>Yes</td>\n",
       "      <td>Yes</td>\n",
       "      <td>1</td>\n",
       "      <td>No</td>\n",
       "      <td>No phone service</td>\n",
       "      <td>DSL</td>\n",
       "      <td>No</td>\n",
       "      <td>...</td>\n",
       "      <td>No</td>\n",
       "      <td>No</td>\n",
       "      <td>No</td>\n",
       "      <td>Month-to-month</td>\n",
       "      <td>No</td>\n",
       "      <td>Electronic check</td>\n",
       "      <td>30.20</td>\n",
       "      <td>30.20</td>\n",
       "      <td>Yes</td>\n",
       "      <td>1.0</td>\n",
       "    </tr>\n",
       "    <tr>\n",
       "      <th>33</th>\n",
       "      <td>7310-EGVHZ</td>\n",
       "      <td>Male</td>\n",
       "      <td>0</td>\n",
       "      <td>No</td>\n",
       "      <td>No</td>\n",
       "      <td>1</td>\n",
       "      <td>Yes</td>\n",
       "      <td>No</td>\n",
       "      <td>No</td>\n",
       "      <td>No internet service</td>\n",
       "      <td>...</td>\n",
       "      <td>No internet service</td>\n",
       "      <td>No internet service</td>\n",
       "      <td>No internet service</td>\n",
       "      <td>Month-to-month</td>\n",
       "      <td>No</td>\n",
       "      <td>Bank transfer (automatic)</td>\n",
       "      <td>20.20</td>\n",
       "      <td>20.20</td>\n",
       "      <td>No</td>\n",
       "      <td>1.0</td>\n",
       "    </tr>\n",
       "    <tr>\n",
       "      <th>34</th>\n",
       "      <td>3413-BMNZE</td>\n",
       "      <td>Male</td>\n",
       "      <td>1</td>\n",
       "      <td>No</td>\n",
       "      <td>No</td>\n",
       "      <td>1</td>\n",
       "      <td>Yes</td>\n",
       "      <td>No</td>\n",
       "      <td>DSL</td>\n",
       "      <td>No</td>\n",
       "      <td>...</td>\n",
       "      <td>No</td>\n",
       "      <td>No</td>\n",
       "      <td>No</td>\n",
       "      <td>Month-to-month</td>\n",
       "      <td>No</td>\n",
       "      <td>Bank transfer (automatic)</td>\n",
       "      <td>45.25</td>\n",
       "      <td>45.25</td>\n",
       "      <td>No</td>\n",
       "      <td>1.0</td>\n",
       "    </tr>\n",
       "    <tr>\n",
       "      <th>70</th>\n",
       "      <td>2273-QCKXA</td>\n",
       "      <td>Male</td>\n",
       "      <td>0</td>\n",
       "      <td>No</td>\n",
       "      <td>No</td>\n",
       "      <td>1</td>\n",
       "      <td>Yes</td>\n",
       "      <td>No</td>\n",
       "      <td>DSL</td>\n",
       "      <td>No</td>\n",
       "      <td>...</td>\n",
       "      <td>Yes</td>\n",
       "      <td>No</td>\n",
       "      <td>No</td>\n",
       "      <td>Month-to-month</td>\n",
       "      <td>No</td>\n",
       "      <td>Mailed check</td>\n",
       "      <td>49.05</td>\n",
       "      <td>49.05</td>\n",
       "      <td>No</td>\n",
       "      <td>1.0</td>\n",
       "    </tr>\n",
       "    <tr>\n",
       "      <th>80</th>\n",
       "      <td>5919-TMRGD</td>\n",
       "      <td>Female</td>\n",
       "      <td>0</td>\n",
       "      <td>No</td>\n",
       "      <td>Yes</td>\n",
       "      <td>1</td>\n",
       "      <td>Yes</td>\n",
       "      <td>No</td>\n",
       "      <td>Fiber optic</td>\n",
       "      <td>No</td>\n",
       "      <td>...</td>\n",
       "      <td>No</td>\n",
       "      <td>Yes</td>\n",
       "      <td>No</td>\n",
       "      <td>Month-to-month</td>\n",
       "      <td>Yes</td>\n",
       "      <td>Electronic check</td>\n",
       "      <td>79.35</td>\n",
       "      <td>79.35</td>\n",
       "      <td>Yes</td>\n",
       "      <td>1.0</td>\n",
       "    </tr>\n",
       "    <tr>\n",
       "      <th>91</th>\n",
       "      <td>2424-WVHPL</td>\n",
       "      <td>Male</td>\n",
       "      <td>1</td>\n",
       "      <td>No</td>\n",
       "      <td>No</td>\n",
       "      <td>1</td>\n",
       "      <td>Yes</td>\n",
       "      <td>No</td>\n",
       "      <td>Fiber optic</td>\n",
       "      <td>No</td>\n",
       "      <td>...</td>\n",
       "      <td>Yes</td>\n",
       "      <td>No</td>\n",
       "      <td>No</td>\n",
       "      <td>Month-to-month</td>\n",
       "      <td>No</td>\n",
       "      <td>Electronic check</td>\n",
       "      <td>74.70</td>\n",
       "      <td>74.70</td>\n",
       "      <td>No</td>\n",
       "      <td>1.0</td>\n",
       "    </tr>\n",
       "    <tr>\n",
       "      <th>100</th>\n",
       "      <td>6380-ARCEH</td>\n",
       "      <td>Male</td>\n",
       "      <td>0</td>\n",
       "      <td>No</td>\n",
       "      <td>No</td>\n",
       "      <td>1</td>\n",
       "      <td>Yes</td>\n",
       "      <td>No</td>\n",
       "      <td>No</td>\n",
       "      <td>No internet service</td>\n",
       "      <td>...</td>\n",
       "      <td>No internet service</td>\n",
       "      <td>No internet service</td>\n",
       "      <td>No internet service</td>\n",
       "      <td>Month-to-month</td>\n",
       "      <td>No</td>\n",
       "      <td>Mailed check</td>\n",
       "      <td>20.20</td>\n",
       "      <td>20.20</td>\n",
       "      <td>No</td>\n",
       "      <td>1.0</td>\n",
       "    </tr>\n",
       "  </tbody>\n",
       "</table>\n",
       "<p>10 rows × 22 columns</p>\n",
       "</div>"
      ],
      "text/plain": [
       "     customerID  gender  SeniorCitizen Partner Dependents  tenure  \\\n",
       "0    7590-VHVEG  Female              0     Yes         No       1   \n",
       "20   8779-QRDMV    Male              1      No         No       1   \n",
       "22   1066-JKSGK    Male              0      No         No       1   \n",
       "27   8665-UTDHZ    Male              0     Yes        Yes       1   \n",
       "33   7310-EGVHZ    Male              0      No         No       1   \n",
       "34   3413-BMNZE    Male              1      No         No       1   \n",
       "70   2273-QCKXA    Male              0      No         No       1   \n",
       "80   5919-TMRGD  Female              0      No        Yes       1   \n",
       "91   2424-WVHPL    Male              1      No         No       1   \n",
       "100  6380-ARCEH    Male              0      No         No       1   \n",
       "\n",
       "    PhoneService     MultipleLines InternetService       OnlineSecurity  \\\n",
       "0             No  No phone service             DSL                   No   \n",
       "20            No  No phone service             DSL                   No   \n",
       "22           Yes                No              No  No internet service   \n",
       "27            No  No phone service             DSL                   No   \n",
       "33           Yes                No              No  No internet service   \n",
       "34           Yes                No             DSL                   No   \n",
       "70           Yes                No             DSL                   No   \n",
       "80           Yes                No     Fiber optic                   No   \n",
       "91           Yes                No     Fiber optic                   No   \n",
       "100          Yes                No              No  No internet service   \n",
       "\n",
       "     ...            TechSupport          StreamingTV      StreamingMovies  \\\n",
       "0    ...                     No                   No                   No   \n",
       "20   ...                     No                   No                  Yes   \n",
       "22   ...    No internet service  No internet service  No internet service   \n",
       "27   ...                     No                   No                   No   \n",
       "33   ...    No internet service  No internet service  No internet service   \n",
       "34   ...                     No                   No                   No   \n",
       "70   ...                    Yes                   No                   No   \n",
       "80   ...                     No                  Yes                   No   \n",
       "91   ...                    Yes                   No                   No   \n",
       "100  ...    No internet service  No internet service  No internet service   \n",
       "\n",
       "           Contract PaperlessBilling              PaymentMethod  \\\n",
       "0    Month-to-month              Yes           Electronic check   \n",
       "20   Month-to-month              Yes           Electronic check   \n",
       "22   Month-to-month               No               Mailed check   \n",
       "27   Month-to-month               No           Electronic check   \n",
       "33   Month-to-month               No  Bank transfer (automatic)   \n",
       "34   Month-to-month               No  Bank transfer (automatic)   \n",
       "70   Month-to-month               No               Mailed check   \n",
       "80   Month-to-month              Yes           Electronic check   \n",
       "91   Month-to-month               No           Electronic check   \n",
       "100  Month-to-month               No               Mailed check   \n",
       "\n",
       "    MonthlyCharges TotalCharges  Churn  ratio  \n",
       "0            29.85        29.85     No    1.0  \n",
       "20           39.65        39.65    Yes    1.0  \n",
       "22           20.15        20.15    Yes    1.0  \n",
       "27           30.20        30.20    Yes    1.0  \n",
       "33           20.20        20.20     No    1.0  \n",
       "34           45.25        45.25     No    1.0  \n",
       "70           49.05        49.05     No    1.0  \n",
       "80           79.35        79.35    Yes    1.0  \n",
       "91           74.70        74.70     No    1.0  \n",
       "100          20.20        20.20     No    1.0  \n",
       "\n",
       "[10 rows x 22 columns]"
      ]
     },
     "execution_count": 14,
     "metadata": {},
     "output_type": "execute_result"
    }
   ],
   "source": [
    "df_tenure_1 = df[df['tenure'] == 1]\n",
    "df_tenure_1.head(10)"
   ]
  },
  {
   "cell_type": "code",
   "execution_count": 15,
   "metadata": {},
   "outputs": [
    {
     "data": {
      "text/html": [
       "<div>\n",
       "<style>\n",
       "    .dataframe thead tr:only-child th {\n",
       "        text-align: right;\n",
       "    }\n",
       "\n",
       "    .dataframe thead th {\n",
       "        text-align: left;\n",
       "    }\n",
       "\n",
       "    .dataframe tbody tr th {\n",
       "        vertical-align: top;\n",
       "    }\n",
       "</style>\n",
       "<table border=\"1\" class=\"dataframe\">\n",
       "  <thead>\n",
       "    <tr style=\"text-align: right;\">\n",
       "      <th></th>\n",
       "      <th>customerID</th>\n",
       "      <th>gender</th>\n",
       "      <th>SeniorCitizen</th>\n",
       "      <th>Partner</th>\n",
       "      <th>Dependents</th>\n",
       "      <th>tenure</th>\n",
       "      <th>PhoneService</th>\n",
       "      <th>MultipleLines</th>\n",
       "      <th>InternetService</th>\n",
       "      <th>OnlineSecurity</th>\n",
       "      <th>...</th>\n",
       "      <th>TechSupport</th>\n",
       "      <th>StreamingTV</th>\n",
       "      <th>StreamingMovies</th>\n",
       "      <th>Contract</th>\n",
       "      <th>PaperlessBilling</th>\n",
       "      <th>PaymentMethod</th>\n",
       "      <th>MonthlyCharges</th>\n",
       "      <th>TotalCharges</th>\n",
       "      <th>Churn</th>\n",
       "      <th>ratio</th>\n",
       "    </tr>\n",
       "  </thead>\n",
       "  <tbody>\n",
       "    <tr>\n",
       "      <th>2</th>\n",
       "      <td>3668-QPYBK</td>\n",
       "      <td>Male</td>\n",
       "      <td>0</td>\n",
       "      <td>No</td>\n",
       "      <td>No</td>\n",
       "      <td>2</td>\n",
       "      <td>Yes</td>\n",
       "      <td>No</td>\n",
       "      <td>DSL</td>\n",
       "      <td>Yes</td>\n",
       "      <td>...</td>\n",
       "      <td>No</td>\n",
       "      <td>No</td>\n",
       "      <td>No</td>\n",
       "      <td>Month-to-month</td>\n",
       "      <td>Yes</td>\n",
       "      <td>Mailed check</td>\n",
       "      <td>53.85</td>\n",
       "      <td>108.15</td>\n",
       "      <td>Yes</td>\n",
       "      <td>2.008357</td>\n",
       "    </tr>\n",
       "    <tr>\n",
       "      <th>4</th>\n",
       "      <td>9237-HQITU</td>\n",
       "      <td>Female</td>\n",
       "      <td>0</td>\n",
       "      <td>No</td>\n",
       "      <td>No</td>\n",
       "      <td>2</td>\n",
       "      <td>Yes</td>\n",
       "      <td>No</td>\n",
       "      <td>Fiber optic</td>\n",
       "      <td>No</td>\n",
       "      <td>...</td>\n",
       "      <td>No</td>\n",
       "      <td>No</td>\n",
       "      <td>No</td>\n",
       "      <td>Month-to-month</td>\n",
       "      <td>Yes</td>\n",
       "      <td>Electronic check</td>\n",
       "      <td>70.70</td>\n",
       "      <td>151.65</td>\n",
       "      <td>Yes</td>\n",
       "      <td>2.144979</td>\n",
       "    </tr>\n",
       "    <tr>\n",
       "      <th>31</th>\n",
       "      <td>4929-XIHVW</td>\n",
       "      <td>Male</td>\n",
       "      <td>1</td>\n",
       "      <td>Yes</td>\n",
       "      <td>No</td>\n",
       "      <td>2</td>\n",
       "      <td>Yes</td>\n",
       "      <td>No</td>\n",
       "      <td>Fiber optic</td>\n",
       "      <td>No</td>\n",
       "      <td>...</td>\n",
       "      <td>No</td>\n",
       "      <td>Yes</td>\n",
       "      <td>Yes</td>\n",
       "      <td>Month-to-month</td>\n",
       "      <td>Yes</td>\n",
       "      <td>Credit card (automatic)</td>\n",
       "      <td>95.50</td>\n",
       "      <td>181.65</td>\n",
       "      <td>No</td>\n",
       "      <td>1.902094</td>\n",
       "    </tr>\n",
       "  </tbody>\n",
       "</table>\n",
       "<p>3 rows × 22 columns</p>\n",
       "</div>"
      ],
      "text/plain": [
       "    customerID  gender  SeniorCitizen Partner Dependents  tenure PhoneService  \\\n",
       "2   3668-QPYBK    Male              0      No         No       2          Yes   \n",
       "4   9237-HQITU  Female              0      No         No       2          Yes   \n",
       "31  4929-XIHVW    Male              1     Yes         No       2          Yes   \n",
       "\n",
       "   MultipleLines InternetService OnlineSecurity    ...    TechSupport  \\\n",
       "2             No             DSL            Yes    ...             No   \n",
       "4             No     Fiber optic             No    ...             No   \n",
       "31            No     Fiber optic             No    ...             No   \n",
       "\n",
       "   StreamingTV StreamingMovies        Contract PaperlessBilling  \\\n",
       "2           No              No  Month-to-month              Yes   \n",
       "4           No              No  Month-to-month              Yes   \n",
       "31         Yes             Yes  Month-to-month              Yes   \n",
       "\n",
       "              PaymentMethod MonthlyCharges TotalCharges  Churn     ratio  \n",
       "2              Mailed check          53.85       108.15    Yes  2.008357  \n",
       "4          Electronic check          70.70       151.65    Yes  2.144979  \n",
       "31  Credit card (automatic)          95.50       181.65     No  1.902094  \n",
       "\n",
       "[3 rows x 22 columns]"
      ]
     },
     "execution_count": 15,
     "metadata": {},
     "output_type": "execute_result"
    }
   ],
   "source": [
    "df[df['tenure'] == 2].head(3)"
   ]
  },
  {
   "cell_type": "code",
   "execution_count": 16,
   "metadata": {},
   "outputs": [
    {
     "data": {
      "text/plain": [
       "141.40000000000001"
      ]
     },
     "execution_count": 16,
     "metadata": {},
     "output_type": "execute_result"
    }
   ],
   "source": [
    "df.iloc[4]['MonthlyCharges'] * df.iloc[4]['tenure'] "
   ]
  },
  {
   "cell_type": "code",
   "execution_count": 17,
   "metadata": {},
   "outputs": [
    {
     "data": {
      "text/html": [
       "<div>\n",
       "<style>\n",
       "    .dataframe thead tr:only-child th {\n",
       "        text-align: right;\n",
       "    }\n",
       "\n",
       "    .dataframe thead th {\n",
       "        text-align: left;\n",
       "    }\n",
       "\n",
       "    .dataframe tbody tr th {\n",
       "        vertical-align: top;\n",
       "    }\n",
       "</style>\n",
       "<table border=\"1\" class=\"dataframe\">\n",
       "  <thead>\n",
       "    <tr style=\"text-align: right;\">\n",
       "      <th></th>\n",
       "      <th>SeniorCitizen</th>\n",
       "      <th>tenure</th>\n",
       "      <th>MonthlyCharges</th>\n",
       "      <th>TotalCharges</th>\n",
       "      <th>ratio</th>\n",
       "    </tr>\n",
       "  </thead>\n",
       "  <tbody>\n",
       "    <tr>\n",
       "      <th>count</th>\n",
       "      <td>7043.000000</td>\n",
       "      <td>7043.000000</td>\n",
       "      <td>7043.000000</td>\n",
       "      <td>7043.000000</td>\n",
       "      <td>7043.000000</td>\n",
       "    </tr>\n",
       "    <tr>\n",
       "      <th>mean</th>\n",
       "      <td>0.162147</td>\n",
       "      <td>32.371149</td>\n",
       "      <td>64.761692</td>\n",
       "      <td>2279.798992</td>\n",
       "      <td>32.374993</td>\n",
       "    </tr>\n",
       "    <tr>\n",
       "      <th>std</th>\n",
       "      <td>0.368612</td>\n",
       "      <td>24.559481</td>\n",
       "      <td>30.090047</td>\n",
       "      <td>2266.730170</td>\n",
       "      <td>24.593918</td>\n",
       "    </tr>\n",
       "    <tr>\n",
       "      <th>min</th>\n",
       "      <td>0.000000</td>\n",
       "      <td>0.000000</td>\n",
       "      <td>18.250000</td>\n",
       "      <td>18.800000</td>\n",
       "      <td>1.000000</td>\n",
       "    </tr>\n",
       "    <tr>\n",
       "      <th>25%</th>\n",
       "      <td>0.000000</td>\n",
       "      <td>9.000000</td>\n",
       "      <td>35.500000</td>\n",
       "      <td>398.550000</td>\n",
       "      <td>8.717230</td>\n",
       "    </tr>\n",
       "    <tr>\n",
       "      <th>50%</th>\n",
       "      <td>0.000000</td>\n",
       "      <td>29.000000</td>\n",
       "      <td>70.350000</td>\n",
       "      <td>1394.550000</td>\n",
       "      <td>28.673115</td>\n",
       "    </tr>\n",
       "    <tr>\n",
       "      <th>75%</th>\n",
       "      <td>0.000000</td>\n",
       "      <td>55.000000</td>\n",
       "      <td>89.850000</td>\n",
       "      <td>3786.600000</td>\n",
       "      <td>55.244460</td>\n",
       "    </tr>\n",
       "    <tr>\n",
       "      <th>max</th>\n",
       "      <td>1.000000</td>\n",
       "      <td>72.000000</td>\n",
       "      <td>118.750000</td>\n",
       "      <td>8684.800000</td>\n",
       "      <td>79.341772</td>\n",
       "    </tr>\n",
       "  </tbody>\n",
       "</table>\n",
       "</div>"
      ],
      "text/plain": [
       "       SeniorCitizen       tenure  MonthlyCharges  TotalCharges        ratio\n",
       "count    7043.000000  7043.000000     7043.000000   7043.000000  7043.000000\n",
       "mean        0.162147    32.371149       64.761692   2279.798992    32.374993\n",
       "std         0.368612    24.559481       30.090047   2266.730170    24.593918\n",
       "min         0.000000     0.000000       18.250000     18.800000     1.000000\n",
       "25%         0.000000     9.000000       35.500000    398.550000     8.717230\n",
       "50%         0.000000    29.000000       70.350000   1394.550000    28.673115\n",
       "75%         0.000000    55.000000       89.850000   3786.600000    55.244460\n",
       "max         1.000000    72.000000      118.750000   8684.800000    79.341772"
      ]
     },
     "execution_count": 17,
     "metadata": {},
     "output_type": "execute_result"
    }
   ],
   "source": [
    "df.describe()"
   ]
  },
  {
   "cell_type": "code",
   "execution_count": 18,
   "metadata": {},
   "outputs": [
    {
     "name": "stdout",
     "output_type": "stream",
     "text": [
      "The total number of customers who did not churn: 5174\n",
      "The total number of customers who did churn: 1869\n"
     ]
    }
   ],
   "source": [
    "print('The total number of customers who did not churn: {}' .format(df['Churn'].value_counts()[0]))\n",
    "print('The total number of customers who did churn: {}' .format(df['Churn'].value_counts()[1]))"
   ]
  },
  {
   "cell_type": "code",
   "execution_count": 19,
   "metadata": {},
   "outputs": [
    {
     "name": "stdout",
     "output_type": "stream",
     "text": [
      "The 25% quartile: 35.5\n",
      "The 75% quartile: 89.85\n",
      "1.5 * IQR: 81.52499999999999\n",
      "-46.025\n",
      "171.375\n",
      "118.75\n",
      "18.8\n"
     ]
    }
   ],
   "source": [
    "Q1 = np.percentile(df['MonthlyCharges'], 25)\n",
    "Q3 = np.percentile(df['MonthlyCharges'], 75)\n",
    "\n",
    "step = 1.5 * (Q3 - Q1)\n",
    "    \n",
    "print('The 25% quartile: {}'.format(format(Q1)))\n",
    "print('The 75% quartile: {}'.format(format(Q3)))\n",
    "print(\"1.5 * IQR: {}\" .format(step))\n",
    "\n",
    "print(Q1 - step)\n",
    "print(Q3 + step)\n",
    "print(df['MonthlyCharges'].max())\n",
    "print(df['TotalCharges'].min())"
   ]
  },
  {
   "cell_type": "code",
   "execution_count": 20,
   "metadata": {},
   "outputs": [
    {
     "name": "stdout",
     "output_type": "stream",
     "text": [
      "25%: 398.55\n",
      "75%: 3786.6\n",
      "1.5 * IQR: 5082.075\n",
      "-4683.525\n",
      "8868.675\n",
      "8684.8\n",
      "18.8\n"
     ]
    }
   ],
   "source": [
    "Q1 = np.percentile(df['TotalCharges'], 25)\n",
    "Q3 = np.percentile(df['TotalCharges'], 75)\n",
    "\n",
    "step = 1.5 * (Q3 - Q1)\n",
    "    \n",
    "print('25%: {}'.format(Q1))\n",
    "print('75%: {}'.format(Q3))\n",
    "print(\"1.5 * IQR: {}\" .format(step))\n",
    "\n",
    "print(Q1 - step)\n",
    "print(Q3 + step)\n",
    "print(df['TotalCharges'].max())\n",
    "print(df['TotalCharges'].min())"
   ]
  },
  {
   "cell_type": "code",
   "execution_count": 21,
   "metadata": {},
   "outputs": [
    {
     "data": {
      "text/plain": [
       "['customerID',\n",
       " 'gender',\n",
       " 'SeniorCitizen',\n",
       " 'Partner',\n",
       " 'Dependents',\n",
       " 'tenure',\n",
       " 'PhoneService',\n",
       " 'MultipleLines',\n",
       " 'InternetService',\n",
       " 'OnlineSecurity',\n",
       " 'OnlineBackup',\n",
       " 'DeviceProtection',\n",
       " 'TechSupport',\n",
       " 'StreamingTV',\n",
       " 'StreamingMovies',\n",
       " 'Contract',\n",
       " 'PaperlessBilling',\n",
       " 'PaymentMethod',\n",
       " 'MonthlyCharges',\n",
       " 'TotalCharges',\n",
       " 'Churn',\n",
       " 'ratio']"
      ]
     },
     "execution_count": 21,
     "metadata": {},
     "output_type": "execute_result"
    }
   ],
   "source": [
    "df.columns.tolist()"
   ]
  },
  {
   "cell_type": "code",
   "execution_count": 22,
   "metadata": {
    "collapsed": true
   },
   "outputs": [],
   "source": [
    "features = df[[\n",
    " 'Partner',\n",
    " 'Dependents',\n",
    " 'PhoneService',\n",
    " 'MultipleLines',\n",
    " 'InternetService',\n",
    " 'OnlineSecurity',\n",
    " 'OnlineBackup',\n",
    " 'DeviceProtection',\n",
    " 'TechSupport',\n",
    " 'StreamingTV',\n",
    " 'StreamingMovies',\n",
    " 'Contract',\n",
    " 'PaperlessBilling',\n",
    " 'PaymentMethod']]"
   ]
  },
  {
   "cell_type": "code",
   "execution_count": 23,
   "metadata": {},
   "outputs": [
    {
     "name": "stdout",
     "output_type": "stream",
     "text": [
      "<class 'pandas.core.frame.DataFrame'>\n",
      "RangeIndex: 7043 entries, 0 to 7042\n",
      "Data columns (total 14 columns):\n",
      "Partner             7043 non-null object\n",
      "Dependents          7043 non-null object\n",
      "PhoneService        7043 non-null object\n",
      "MultipleLines       7043 non-null object\n",
      "InternetService     7043 non-null object\n",
      "OnlineSecurity      7043 non-null object\n",
      "OnlineBackup        7043 non-null object\n",
      "DeviceProtection    7043 non-null object\n",
      "TechSupport         7043 non-null object\n",
      "StreamingTV         7043 non-null object\n",
      "StreamingMovies     7043 non-null object\n",
      "Contract            7043 non-null object\n",
      "PaperlessBilling    7043 non-null object\n",
      "PaymentMethod       7043 non-null object\n",
      "dtypes: object(14)\n",
      "memory usage: 770.4+ KB\n"
     ]
    }
   ],
   "source": [
    "features.info()"
   ]
  },
  {
   "cell_type": "code",
   "execution_count": 24,
   "metadata": {
    "collapsed": true
   },
   "outputs": [],
   "source": [
    "columns_list = df.columns.tolist()"
   ]
  },
  {
   "cell_type": "code",
   "execution_count": 25,
   "metadata": {
    "collapsed": true
   },
   "outputs": [],
   "source": [
    "sub_index = [1, 2, 3, 4, 6, 7, 8, 9, 10, 11, 12, 13, 14, 15, 16, 17, 20]\n",
    "sub_list = [columns_list[x] for x in sub_index]"
   ]
  },
  {
   "cell_type": "code",
   "execution_count": 26,
   "metadata": {},
   "outputs": [
    {
     "data": {
      "text/plain": [
       "list"
      ]
     },
     "execution_count": 26,
     "metadata": {},
     "output_type": "execute_result"
    }
   ],
   "source": [
    "unique_ = []\n",
    "for i in sub_list:\n",
    "    unique_.append(df[i].unique())\n",
    "type(unique_)"
   ]
  },
  {
   "cell_type": "code",
   "execution_count": 27,
   "metadata": {},
   "outputs": [
    {
     "data": {
      "text/html": [
       "<div>\n",
       "<style>\n",
       "    .dataframe thead tr:only-child th {\n",
       "        text-align: right;\n",
       "    }\n",
       "\n",
       "    .dataframe thead th {\n",
       "        text-align: left;\n",
       "    }\n",
       "\n",
       "    .dataframe tbody tr th {\n",
       "        vertical-align: top;\n",
       "    }\n",
       "</style>\n",
       "<table border=\"1\" class=\"dataframe\">\n",
       "  <thead>\n",
       "    <tr style=\"text-align: right;\">\n",
       "      <th></th>\n",
       "      <th>Column_Header</th>\n",
       "      <th>Initial_Index</th>\n",
       "      <th>Unique_Fields</th>\n",
       "    </tr>\n",
       "  </thead>\n",
       "  <tbody>\n",
       "    <tr>\n",
       "      <th>0</th>\n",
       "      <td>gender</td>\n",
       "      <td>1</td>\n",
       "      <td>[Female, Male]</td>\n",
       "    </tr>\n",
       "    <tr>\n",
       "      <th>1</th>\n",
       "      <td>SeniorCitizen</td>\n",
       "      <td>2</td>\n",
       "      <td>[0, 1]</td>\n",
       "    </tr>\n",
       "    <tr>\n",
       "      <th>2</th>\n",
       "      <td>Partner</td>\n",
       "      <td>3</td>\n",
       "      <td>[Yes, No]</td>\n",
       "    </tr>\n",
       "    <tr>\n",
       "      <th>3</th>\n",
       "      <td>Dependents</td>\n",
       "      <td>4</td>\n",
       "      <td>[No, Yes]</td>\n",
       "    </tr>\n",
       "    <tr>\n",
       "      <th>4</th>\n",
       "      <td>PhoneService</td>\n",
       "      <td>6</td>\n",
       "      <td>[No, Yes]</td>\n",
       "    </tr>\n",
       "    <tr>\n",
       "      <th>5</th>\n",
       "      <td>MultipleLines</td>\n",
       "      <td>7</td>\n",
       "      <td>[No phone service, No, Yes]</td>\n",
       "    </tr>\n",
       "    <tr>\n",
       "      <th>6</th>\n",
       "      <td>InternetService</td>\n",
       "      <td>8</td>\n",
       "      <td>[DSL, Fiber optic, No]</td>\n",
       "    </tr>\n",
       "    <tr>\n",
       "      <th>7</th>\n",
       "      <td>OnlineSecurity</td>\n",
       "      <td>9</td>\n",
       "      <td>[No, Yes, No internet service]</td>\n",
       "    </tr>\n",
       "    <tr>\n",
       "      <th>8</th>\n",
       "      <td>OnlineBackup</td>\n",
       "      <td>10</td>\n",
       "      <td>[Yes, No, No internet service]</td>\n",
       "    </tr>\n",
       "    <tr>\n",
       "      <th>9</th>\n",
       "      <td>DeviceProtection</td>\n",
       "      <td>11</td>\n",
       "      <td>[No, Yes, No internet service]</td>\n",
       "    </tr>\n",
       "    <tr>\n",
       "      <th>10</th>\n",
       "      <td>TechSupport</td>\n",
       "      <td>12</td>\n",
       "      <td>[No, Yes, No internet service]</td>\n",
       "    </tr>\n",
       "    <tr>\n",
       "      <th>11</th>\n",
       "      <td>StreamingTV</td>\n",
       "      <td>13</td>\n",
       "      <td>[No, Yes, No internet service]</td>\n",
       "    </tr>\n",
       "    <tr>\n",
       "      <th>12</th>\n",
       "      <td>StreamingMovies</td>\n",
       "      <td>14</td>\n",
       "      <td>[No, Yes, No internet service]</td>\n",
       "    </tr>\n",
       "    <tr>\n",
       "      <th>13</th>\n",
       "      <td>Contract</td>\n",
       "      <td>15</td>\n",
       "      <td>[Month-to-month, One year, Two year]</td>\n",
       "    </tr>\n",
       "    <tr>\n",
       "      <th>14</th>\n",
       "      <td>PaperlessBilling</td>\n",
       "      <td>16</td>\n",
       "      <td>[Yes, No]</td>\n",
       "    </tr>\n",
       "    <tr>\n",
       "      <th>15</th>\n",
       "      <td>PaymentMethod</td>\n",
       "      <td>17</td>\n",
       "      <td>[Electronic check, Mailed check, Bank transfer...</td>\n",
       "    </tr>\n",
       "    <tr>\n",
       "      <th>16</th>\n",
       "      <td>Churn</td>\n",
       "      <td>20</td>\n",
       "      <td>[No, Yes]</td>\n",
       "    </tr>\n",
       "  </tbody>\n",
       "</table>\n",
       "</div>"
      ],
      "text/plain": [
       "       Column_Header  Initial_Index  \\\n",
       "0             gender              1   \n",
       "1      SeniorCitizen              2   \n",
       "2            Partner              3   \n",
       "3         Dependents              4   \n",
       "4       PhoneService              6   \n",
       "5      MultipleLines              7   \n",
       "6    InternetService              8   \n",
       "7     OnlineSecurity              9   \n",
       "8       OnlineBackup             10   \n",
       "9   DeviceProtection             11   \n",
       "10       TechSupport             12   \n",
       "11       StreamingTV             13   \n",
       "12   StreamingMovies             14   \n",
       "13          Contract             15   \n",
       "14  PaperlessBilling             16   \n",
       "15     PaymentMethod             17   \n",
       "16             Churn             20   \n",
       "\n",
       "                                        Unique_Fields  \n",
       "0                                      [Female, Male]  \n",
       "1                                              [0, 1]  \n",
       "2                                           [Yes, No]  \n",
       "3                                           [No, Yes]  \n",
       "4                                           [No, Yes]  \n",
       "5                         [No phone service, No, Yes]  \n",
       "6                              [DSL, Fiber optic, No]  \n",
       "7                      [No, Yes, No internet service]  \n",
       "8                      [Yes, No, No internet service]  \n",
       "9                      [No, Yes, No internet service]  \n",
       "10                     [No, Yes, No internet service]  \n",
       "11                     [No, Yes, No internet service]  \n",
       "12                     [No, Yes, No internet service]  \n",
       "13               [Month-to-month, One year, Two year]  \n",
       "14                                          [Yes, No]  \n",
       "15  [Electronic check, Mailed check, Bank transfer...  \n",
       "16                                          [No, Yes]  "
      ]
     },
     "execution_count": 27,
     "metadata": {},
     "output_type": "execute_result"
    }
   ],
   "source": [
    "df_col_summary = pd.DataFrame({'Column_Header' : sub_list, 'Initial_Index': sub_index, 'Unique_Fields' : unique_})   \n",
    "df_col_summary"
   ]
  },
  {
   "cell_type": "code",
   "execution_count": 28,
   "metadata": {},
   "outputs": [
    {
     "data": {
      "text/plain": [
       "['Electronic check',\n",
       " 'Mailed check',\n",
       " 'Bank transfer (automatic)',\n",
       " 'Credit card (automatic)']"
      ]
     },
     "execution_count": 28,
     "metadata": {},
     "output_type": "execute_result"
    }
   ],
   "source": [
    "df_col_summary.iloc[15]['Unique_Fields'].tolist()"
   ]
  },
  {
   "cell_type": "code",
   "execution_count": 29,
   "metadata": {
    "collapsed": true
   },
   "outputs": [],
   "source": [
    "df['gender'] = df['gender'].map({'Male': 0, 'Female': 1})\n",
    "df['Partner'] = df['Partner'].map({'No': 0, 'Yes': 1})\n",
    "df['Dependents'] = df['Dependents'].map({'No': 0, 'Yes': 1})\n",
    "df['PhoneService'] = df['PhoneService'].map({'No': 0, 'Yes': 1})\n",
    "df['MultipleLines'] = df['MultipleLines'].map({'No phone service': 0, 'No': 1, 'Yes': 2})\n",
    "df['InternetService'] = df['InternetService'].map({'DSL': 0, 'Fiber optic': 1, 'No': 2})\n",
    "df['OnlineSecurity'] = df['OnlineSecurity'].map({'No internet service': 0, 'No': 1, 'Yes': 2})\n",
    "df['OnlineBackup'] = df['OnlineBackup'].map({'No internet service': 0, 'No': 1, 'Yes': 2})\n",
    "df['DeviceProtection'] = df['DeviceProtection'].map({'No internet service': 0, 'No': 1, 'Yes': 2})\n",
    "df['TechSupport'] = df['TechSupport'].map({'No internet service': 0, 'No': 1, 'Yes': 2})\n",
    "df['StreamingTV'] = df['StreamingTV'].map({'No internet service': 0, 'No': 1, 'Yes': 2})\n",
    "df['StreamingMovies'] = df['StreamingMovies'].map({'No internet service': 0, 'No': 1, 'Yes': 2})\n",
    "df['Contract'] = df['Contract'].map({'Month-to-month': 0, 'One year': 1, 'Two year': 2})\n",
    "df['PaperlessBilling'] = df['PaperlessBilling'].map({'No': 0, 'Yes': 1})\n",
    "df['PaymentMethod'] = df['PaymentMethod'].map({'Electronic check': 0, 'Mailed check': 1, 'Bank transfer (automatic)': 2, 'Credit card (automatic)': 3})\n",
    "df['Churn'] = df['Churn'].map({'No': 0, 'Yes': 1})"
   ]
  },
  {
   "cell_type": "code",
   "execution_count": 30,
   "metadata": {},
   "outputs": [
    {
     "data": {
      "text/html": [
       "<div>\n",
       "<style>\n",
       "    .dataframe thead tr:only-child th {\n",
       "        text-align: right;\n",
       "    }\n",
       "\n",
       "    .dataframe thead th {\n",
       "        text-align: left;\n",
       "    }\n",
       "\n",
       "    .dataframe tbody tr th {\n",
       "        vertical-align: top;\n",
       "    }\n",
       "</style>\n",
       "<table border=\"1\" class=\"dataframe\">\n",
       "  <thead>\n",
       "    <tr style=\"text-align: right;\">\n",
       "      <th></th>\n",
       "      <th>customerID</th>\n",
       "      <th>gender</th>\n",
       "      <th>SeniorCitizen</th>\n",
       "      <th>Partner</th>\n",
       "      <th>Dependents</th>\n",
       "      <th>tenure</th>\n",
       "      <th>PhoneService</th>\n",
       "      <th>MultipleLines</th>\n",
       "      <th>InternetService</th>\n",
       "      <th>OnlineSecurity</th>\n",
       "      <th>...</th>\n",
       "      <th>TechSupport</th>\n",
       "      <th>StreamingTV</th>\n",
       "      <th>StreamingMovies</th>\n",
       "      <th>Contract</th>\n",
       "      <th>PaperlessBilling</th>\n",
       "      <th>PaymentMethod</th>\n",
       "      <th>MonthlyCharges</th>\n",
       "      <th>TotalCharges</th>\n",
       "      <th>Churn</th>\n",
       "      <th>ratio</th>\n",
       "    </tr>\n",
       "  </thead>\n",
       "  <tbody>\n",
       "    <tr>\n",
       "      <th>0</th>\n",
       "      <td>7590-VHVEG</td>\n",
       "      <td>1</td>\n",
       "      <td>0</td>\n",
       "      <td>1</td>\n",
       "      <td>0</td>\n",
       "      <td>1</td>\n",
       "      <td>0</td>\n",
       "      <td>0</td>\n",
       "      <td>0</td>\n",
       "      <td>1</td>\n",
       "      <td>...</td>\n",
       "      <td>1</td>\n",
       "      <td>1</td>\n",
       "      <td>1</td>\n",
       "      <td>0</td>\n",
       "      <td>1</td>\n",
       "      <td>0</td>\n",
       "      <td>29.85</td>\n",
       "      <td>29.85</td>\n",
       "      <td>0</td>\n",
       "      <td>1.000000</td>\n",
       "    </tr>\n",
       "    <tr>\n",
       "      <th>1</th>\n",
       "      <td>5575-GNVDE</td>\n",
       "      <td>0</td>\n",
       "      <td>0</td>\n",
       "      <td>0</td>\n",
       "      <td>0</td>\n",
       "      <td>34</td>\n",
       "      <td>1</td>\n",
       "      <td>1</td>\n",
       "      <td>0</td>\n",
       "      <td>2</td>\n",
       "      <td>...</td>\n",
       "      <td>1</td>\n",
       "      <td>1</td>\n",
       "      <td>1</td>\n",
       "      <td>1</td>\n",
       "      <td>0</td>\n",
       "      <td>1</td>\n",
       "      <td>56.95</td>\n",
       "      <td>1889.50</td>\n",
       "      <td>0</td>\n",
       "      <td>33.178227</td>\n",
       "    </tr>\n",
       "    <tr>\n",
       "      <th>2</th>\n",
       "      <td>3668-QPYBK</td>\n",
       "      <td>0</td>\n",
       "      <td>0</td>\n",
       "      <td>0</td>\n",
       "      <td>0</td>\n",
       "      <td>2</td>\n",
       "      <td>1</td>\n",
       "      <td>1</td>\n",
       "      <td>0</td>\n",
       "      <td>2</td>\n",
       "      <td>...</td>\n",
       "      <td>1</td>\n",
       "      <td>1</td>\n",
       "      <td>1</td>\n",
       "      <td>0</td>\n",
       "      <td>1</td>\n",
       "      <td>1</td>\n",
       "      <td>53.85</td>\n",
       "      <td>108.15</td>\n",
       "      <td>1</td>\n",
       "      <td>2.008357</td>\n",
       "    </tr>\n",
       "    <tr>\n",
       "      <th>3</th>\n",
       "      <td>7795-CFOCW</td>\n",
       "      <td>0</td>\n",
       "      <td>0</td>\n",
       "      <td>0</td>\n",
       "      <td>0</td>\n",
       "      <td>45</td>\n",
       "      <td>0</td>\n",
       "      <td>0</td>\n",
       "      <td>0</td>\n",
       "      <td>2</td>\n",
       "      <td>...</td>\n",
       "      <td>2</td>\n",
       "      <td>1</td>\n",
       "      <td>1</td>\n",
       "      <td>1</td>\n",
       "      <td>0</td>\n",
       "      <td>2</td>\n",
       "      <td>42.30</td>\n",
       "      <td>1840.75</td>\n",
       "      <td>0</td>\n",
       "      <td>43.516548</td>\n",
       "    </tr>\n",
       "    <tr>\n",
       "      <th>4</th>\n",
       "      <td>9237-HQITU</td>\n",
       "      <td>1</td>\n",
       "      <td>0</td>\n",
       "      <td>0</td>\n",
       "      <td>0</td>\n",
       "      <td>2</td>\n",
       "      <td>1</td>\n",
       "      <td>1</td>\n",
       "      <td>1</td>\n",
       "      <td>1</td>\n",
       "      <td>...</td>\n",
       "      <td>1</td>\n",
       "      <td>1</td>\n",
       "      <td>1</td>\n",
       "      <td>0</td>\n",
       "      <td>1</td>\n",
       "      <td>0</td>\n",
       "      <td>70.70</td>\n",
       "      <td>151.65</td>\n",
       "      <td>1</td>\n",
       "      <td>2.144979</td>\n",
       "    </tr>\n",
       "  </tbody>\n",
       "</table>\n",
       "<p>5 rows × 22 columns</p>\n",
       "</div>"
      ],
      "text/plain": [
       "   customerID  gender  SeniorCitizen  Partner  Dependents  tenure  \\\n",
       "0  7590-VHVEG       1              0        1           0       1   \n",
       "1  5575-GNVDE       0              0        0           0      34   \n",
       "2  3668-QPYBK       0              0        0           0       2   \n",
       "3  7795-CFOCW       0              0        0           0      45   \n",
       "4  9237-HQITU       1              0        0           0       2   \n",
       "\n",
       "   PhoneService  MultipleLines  InternetService  OnlineSecurity    ...      \\\n",
       "0             0              0                0               1    ...       \n",
       "1             1              1                0               2    ...       \n",
       "2             1              1                0               2    ...       \n",
       "3             0              0                0               2    ...       \n",
       "4             1              1                1               1    ...       \n",
       "\n",
       "   TechSupport  StreamingTV  StreamingMovies  Contract  PaperlessBilling  \\\n",
       "0            1            1                1         0                 1   \n",
       "1            1            1                1         1                 0   \n",
       "2            1            1                1         0                 1   \n",
       "3            2            1                1         1                 0   \n",
       "4            1            1                1         0                 1   \n",
       "\n",
       "   PaymentMethod  MonthlyCharges  TotalCharges  Churn      ratio  \n",
       "0              0           29.85         29.85      0   1.000000  \n",
       "1              1           56.95       1889.50      0  33.178227  \n",
       "2              1           53.85        108.15      1   2.008357  \n",
       "3              2           42.30       1840.75      0  43.516548  \n",
       "4              0           70.70        151.65      1   2.144979  \n",
       "\n",
       "[5 rows x 22 columns]"
      ]
     },
     "execution_count": 30,
     "metadata": {},
     "output_type": "execute_result"
    }
   ],
   "source": [
    "df.head()"
   ]
  },
  {
   "cell_type": "code",
   "execution_count": 31,
   "metadata": {
    "collapsed": true
   },
   "outputs": [],
   "source": [
    "df_vect = df.drop(['customerID', 'ratio', 'MonthlyCharges'], axis=1)"
   ]
  },
  {
   "cell_type": "code",
   "execution_count": 32,
   "metadata": {},
   "outputs": [
    {
     "data": {
      "text/html": [
       "<div>\n",
       "<style>\n",
       "    .dataframe thead tr:only-child th {\n",
       "        text-align: right;\n",
       "    }\n",
       "\n",
       "    .dataframe thead th {\n",
       "        text-align: left;\n",
       "    }\n",
       "\n",
       "    .dataframe tbody tr th {\n",
       "        vertical-align: top;\n",
       "    }\n",
       "</style>\n",
       "<table border=\"1\" class=\"dataframe\">\n",
       "  <thead>\n",
       "    <tr style=\"text-align: right;\">\n",
       "      <th></th>\n",
       "      <th>gender</th>\n",
       "      <th>SeniorCitizen</th>\n",
       "      <th>Partner</th>\n",
       "      <th>Dependents</th>\n",
       "      <th>tenure</th>\n",
       "      <th>PhoneService</th>\n",
       "      <th>MultipleLines</th>\n",
       "      <th>InternetService</th>\n",
       "      <th>OnlineSecurity</th>\n",
       "      <th>OnlineBackup</th>\n",
       "      <th>DeviceProtection</th>\n",
       "      <th>TechSupport</th>\n",
       "      <th>StreamingTV</th>\n",
       "      <th>StreamingMovies</th>\n",
       "      <th>Contract</th>\n",
       "      <th>PaperlessBilling</th>\n",
       "      <th>PaymentMethod</th>\n",
       "      <th>TotalCharges</th>\n",
       "      <th>Churn</th>\n",
       "    </tr>\n",
       "  </thead>\n",
       "  <tbody>\n",
       "    <tr>\n",
       "      <th>0</th>\n",
       "      <td>1</td>\n",
       "      <td>0</td>\n",
       "      <td>1</td>\n",
       "      <td>0</td>\n",
       "      <td>1</td>\n",
       "      <td>0</td>\n",
       "      <td>0</td>\n",
       "      <td>0</td>\n",
       "      <td>1</td>\n",
       "      <td>2</td>\n",
       "      <td>1</td>\n",
       "      <td>1</td>\n",
       "      <td>1</td>\n",
       "      <td>1</td>\n",
       "      <td>0</td>\n",
       "      <td>1</td>\n",
       "      <td>0</td>\n",
       "      <td>29.85</td>\n",
       "      <td>0</td>\n",
       "    </tr>\n",
       "    <tr>\n",
       "      <th>1</th>\n",
       "      <td>0</td>\n",
       "      <td>0</td>\n",
       "      <td>0</td>\n",
       "      <td>0</td>\n",
       "      <td>34</td>\n",
       "      <td>1</td>\n",
       "      <td>1</td>\n",
       "      <td>0</td>\n",
       "      <td>2</td>\n",
       "      <td>1</td>\n",
       "      <td>2</td>\n",
       "      <td>1</td>\n",
       "      <td>1</td>\n",
       "      <td>1</td>\n",
       "      <td>1</td>\n",
       "      <td>0</td>\n",
       "      <td>1</td>\n",
       "      <td>1889.50</td>\n",
       "      <td>0</td>\n",
       "    </tr>\n",
       "    <tr>\n",
       "      <th>2</th>\n",
       "      <td>0</td>\n",
       "      <td>0</td>\n",
       "      <td>0</td>\n",
       "      <td>0</td>\n",
       "      <td>2</td>\n",
       "      <td>1</td>\n",
       "      <td>1</td>\n",
       "      <td>0</td>\n",
       "      <td>2</td>\n",
       "      <td>2</td>\n",
       "      <td>1</td>\n",
       "      <td>1</td>\n",
       "      <td>1</td>\n",
       "      <td>1</td>\n",
       "      <td>0</td>\n",
       "      <td>1</td>\n",
       "      <td>1</td>\n",
       "      <td>108.15</td>\n",
       "      <td>1</td>\n",
       "    </tr>\n",
       "    <tr>\n",
       "      <th>3</th>\n",
       "      <td>0</td>\n",
       "      <td>0</td>\n",
       "      <td>0</td>\n",
       "      <td>0</td>\n",
       "      <td>45</td>\n",
       "      <td>0</td>\n",
       "      <td>0</td>\n",
       "      <td>0</td>\n",
       "      <td>2</td>\n",
       "      <td>1</td>\n",
       "      <td>2</td>\n",
       "      <td>2</td>\n",
       "      <td>1</td>\n",
       "      <td>1</td>\n",
       "      <td>1</td>\n",
       "      <td>0</td>\n",
       "      <td>2</td>\n",
       "      <td>1840.75</td>\n",
       "      <td>0</td>\n",
       "    </tr>\n",
       "    <tr>\n",
       "      <th>4</th>\n",
       "      <td>1</td>\n",
       "      <td>0</td>\n",
       "      <td>0</td>\n",
       "      <td>0</td>\n",
       "      <td>2</td>\n",
       "      <td>1</td>\n",
       "      <td>1</td>\n",
       "      <td>1</td>\n",
       "      <td>1</td>\n",
       "      <td>1</td>\n",
       "      <td>1</td>\n",
       "      <td>1</td>\n",
       "      <td>1</td>\n",
       "      <td>1</td>\n",
       "      <td>0</td>\n",
       "      <td>1</td>\n",
       "      <td>0</td>\n",
       "      <td>151.65</td>\n",
       "      <td>1</td>\n",
       "    </tr>\n",
       "  </tbody>\n",
       "</table>\n",
       "</div>"
      ],
      "text/plain": [
       "   gender  SeniorCitizen  Partner  Dependents  tenure  PhoneService  \\\n",
       "0       1              0        1           0       1             0   \n",
       "1       0              0        0           0      34             1   \n",
       "2       0              0        0           0       2             1   \n",
       "3       0              0        0           0      45             0   \n",
       "4       1              0        0           0       2             1   \n",
       "\n",
       "   MultipleLines  InternetService  OnlineSecurity  OnlineBackup  \\\n",
       "0              0                0               1             2   \n",
       "1              1                0               2             1   \n",
       "2              1                0               2             2   \n",
       "3              0                0               2             1   \n",
       "4              1                1               1             1   \n",
       "\n",
       "   DeviceProtection  TechSupport  StreamingTV  StreamingMovies  Contract  \\\n",
       "0                 1            1            1                1         0   \n",
       "1                 2            1            1                1         1   \n",
       "2                 1            1            1                1         0   \n",
       "3                 2            2            1                1         1   \n",
       "4                 1            1            1                1         0   \n",
       "\n",
       "   PaperlessBilling  PaymentMethod  TotalCharges  Churn  \n",
       "0                 1              0         29.85      0  \n",
       "1                 0              1       1889.50      0  \n",
       "2                 1              1        108.15      1  \n",
       "3                 0              2       1840.75      0  \n",
       "4                 1              0        151.65      1  "
      ]
     },
     "execution_count": 32,
     "metadata": {},
     "output_type": "execute_result"
    }
   ],
   "source": [
    "df_vect.head()"
   ]
  },
  {
   "cell_type": "code",
   "execution_count": 33,
   "metadata": {},
   "outputs": [
    {
     "data": {
      "text/plain": [
       "(7043, 19)"
      ]
     },
     "execution_count": 33,
     "metadata": {},
     "output_type": "execute_result"
    }
   ],
   "source": [
    "df_vect.shape"
   ]
  },
  {
   "cell_type": "code",
   "execution_count": 34,
   "metadata": {
    "collapsed": true
   },
   "outputs": [],
   "source": [
    "X = df_vect.drop('Churn', axis=1)\n",
    "y = df_vect['Churn']"
   ]
  },
  {
   "cell_type": "code",
   "execution_count": 35,
   "metadata": {},
   "outputs": [
    {
     "data": {
      "text/plain": [
       "Index(['gender', 'SeniorCitizen', 'Partner', 'Dependents', 'tenure',\n",
       "       'PhoneService', 'MultipleLines', 'InternetService', 'OnlineSecurity',\n",
       "       'OnlineBackup', 'DeviceProtection', 'TechSupport', 'StreamingTV',\n",
       "       'StreamingMovies', 'Contract', 'PaperlessBilling', 'PaymentMethod',\n",
       "       'TotalCharges'],\n",
       "      dtype='object')"
      ]
     },
     "execution_count": 35,
     "metadata": {},
     "output_type": "execute_result"
    }
   ],
   "source": [
    "X.keys()"
   ]
  },
  {
   "cell_type": "code",
   "execution_count": 36,
   "metadata": {},
   "outputs": [
    {
     "data": {
      "text/plain": [
       "['gender',\n",
       " 'SeniorCitizen',\n",
       " 'Partner',\n",
       " 'Dependents',\n",
       " 'tenure',\n",
       " 'PhoneService',\n",
       " 'MultipleLines',\n",
       " 'InternetService',\n",
       " 'OnlineSecurity',\n",
       " 'OnlineBackup',\n",
       " 'DeviceProtection',\n",
       " 'TechSupport',\n",
       " 'StreamingTV',\n",
       " 'StreamingMovies',\n",
       " 'Contract',\n",
       " 'PaperlessBilling',\n",
       " 'PaymentMethod',\n",
       " 'TotalCharges']"
      ]
     },
     "execution_count": 36,
     "metadata": {},
     "output_type": "execute_result"
    }
   ],
   "source": [
    "X.columns.tolist()"
   ]
  },
  {
   "cell_type": "code",
   "execution_count": 37,
   "metadata": {
    "collapsed": true
   },
   "outputs": [],
   "source": [
    "def learning_curves(model, X_training_data, y_training_data, model_name, num_k):\n",
    "    '''\n",
    "    This function creates testing and cross validation learning curves that can be used\n",
    "    to assess the performance of a given model.\n",
    "    \n",
    "    Inputs:\n",
    "    model: This is the model object being used. \n",
    "    X_training_data: This is the training data that is used for the model training.\n",
    "    y_training_data: This is the actual response values for the training set.\n",
    "    model_name: This is the name of the model, as a text string.\n",
    "    num_k: This is the number of folks to use during the cross validation phase.\n",
    "    '''\n",
    "    plt.figure()\n",
    "\n",
    "    plt.xlabel(\"Training examples\")\n",
    "    plt.ylabel(\"Score\")\n",
    "\n",
    "    train_sizes, train_scores, test_scores = learning_curve(model, X_training_data, y_training_data, cv=num_k)\n",
    "\n",
    "    plt.title(\"Learning Curves: \" + model_name + \" With Standard Scaler\")\n",
    "\n",
    "    train_scores_mean = np.mean(train_scores, axis=1)\n",
    "    train_scores_std = np.std(train_scores, axis=1)\n",
    "    test_scores_mean = np.mean(test_scores, axis=1)\n",
    "    test_scores_std = np.std(test_scores, axis=1)\n",
    "\n",
    "    plt.grid()\n",
    "\n",
    "    plt.fill_between(train_sizes, \n",
    "                     train_scores_mean - train_scores_std,\n",
    "                     train_scores_mean + train_scores_std, \n",
    "                     alpha=0.1,\n",
    "                     color=\"r\")\n",
    "\n",
    "    plt.fill_between(train_sizes, \n",
    "                     test_scores_mean - test_scores_std,\n",
    "                     test_scores_mean + test_scores_std, \n",
    "                     alpha=0.1, color=\"b\")\n",
    "\n",
    "    plt.plot(train_sizes, \n",
    "             train_scores_mean, \n",
    "             'o-', \n",
    "             color=\"r\", \n",
    "             label=\"Training score\")\n",
    "\n",
    "    plt.plot(train_sizes, \n",
    "             test_scores_mean, \n",
    "             'o-', color=\"b\", \n",
    "             label=\"Cross-validation score\")\n",
    "\n",
    "    plt.ylim([0.0, 1.25])\n",
    "    plt.legend(loc=\"best\")\n",
    "    return plt.show()"
   ]
  },
  {
   "cell_type": "code",
   "execution_count": 38,
   "metadata": {
    "collapsed": true
   },
   "outputs": [],
   "source": [
    "def auc_roc_curves(model, X_test_data_, y_test_data_, model_name):\n",
    "    \n",
    "    roc_auc  = roc_auc_score(y_test_data_, model.predict(X_test_data_))\n",
    "    fpr, tpr, thresholds = roc_curve(y_test, model.predict_proba(X_test_data_)[:,1])\n",
    "    \n",
    "    plt.figure()\n",
    "\n",
    "    plt.plot(fpr, tpr, label= model_name + ' (area = %0.2f)' % roc_auc)\n",
    "    plt.plot([0, 1], [0, 1],'r--')\n",
    "    plt.xlim([0.0, 1.0])\n",
    "    plt.ylim([0.0, 1.05])\n",
    "\n",
    "    plt.xlabel('False Positive Rate')\n",
    "    plt.ylabel('True Positive Rate')\n",
    "    plt.title('Receiver operating characteristic: ' + model_name)\n",
    "    plt.legend(loc=\"lower right\")\n",
    "    return plt.show()"
   ]
  },
  {
   "cell_type": "code",
   "execution_count": 39,
   "metadata": {
    "collapsed": true
   },
   "outputs": [],
   "source": [
    "def lr_coef_curves(model, X_data):\n",
    "    per_var = np.round(model.coef_[0], decimals = 1)\n",
    "#     labels = X_data.columns.tolist()\n",
    "    plt.bar(x = range(1, len(per_var)+1), height=per_var, tick_label = X_data.columns.tolist())\n",
    "    plt.xlabel('Feature', fontsize = 14)\n",
    "    plt.ylabel('LR Coefficient Value', fontsize = 14)\n",
    "    plt.title('LR Coefficient Values', fontsize = 14)\n",
    "    plt.xticks(rotation=90)\n",
    "    plt.grid(True)\n",
    "    return plt.show()"
   ]
  },
  {
   "cell_type": "code",
   "execution_count": 40,
   "metadata": {
    "collapsed": true
   },
   "outputs": [],
   "source": [
    "def pca_results_(good_data, pca):\n",
    "    '''\n",
    "    Create a DataFrame of the PCA results\n",
    "    Includes dimension feature weights and explained variance\n",
    "    Visualizes the PCA results\n",
    "    '''\n",
    "\n",
    "    # Dimension indexing\n",
    "    dimensions = dimensions = ['Dimension {}'.format(i) for i in range(1,len(pca.components_)+1)]\n",
    "\n",
    "    # PCA components\n",
    "    components = pd.DataFrame(np.round(pca.components_, 4), columns = list(good_data.keys()))\n",
    "    components.index = dimensions\n",
    "    \n",
    "    # PCA explained variance\n",
    "    ratios = pca.explained_variance_ratio_.reshape(len(pca.components_), 1)\n",
    "    variance_ratios = pd.DataFrame(np.round(ratios, 4), columns = ['Explained Variance'])\n",
    "    variance_ratios.index = dimensions\n",
    "\n",
    "    # Create a bar plot visualization\n",
    "    fig, ax = plt.subplots(figsize = (14,8))\n",
    "\n",
    "    # Plot the feature weights as a function of the components\n",
    "    components.plot(ax = ax, kind = 'bar');\n",
    "    ax.set_ylabel(\"Feature Weights\")\n",
    "    ax.set_xticklabels(dimensions, rotation=0)\n",
    "\n",
    "    # Display the explained variance ratios\n",
    "    for i, ev in enumerate(pca.explained_variance_ratio_):\n",
    "        ax.text(i-0.40, ax.get_ylim()[1] + 0.05, \"Explained Variance\\n          %.4f\"%(ev))\n",
    "\n",
    "    # Return a concatenated DataFrame\n",
    "    return pd.concat([variance_ratios, components], axis = 1)\n",
    "\n",
    "def biplot(good_data, reduced_data, pca):\n",
    "    '''\n",
    "    Produce a biplot that shows a scatterplot of the reduced\n",
    "    data and the projections of the original features.\n",
    "    \n",
    "    good_data: original data, before transformation.\n",
    "               Needs to be a pandas dataframe with valid column names\n",
    "    reduced_data: the reduced data (the first two dimensions are plotted)\n",
    "    pca: pca object that contains the components_ attribute\n",
    "    return: a matplotlib AxesSubplot object (for any additional customization)\n",
    "    \n",
    "    This procedure is inspired by the script:\n",
    "    https://github.com/teddyroland/python-biplot\n",
    "    '''\n",
    "\n",
    "    fig, ax = plt.subplots(figsize = (14,8))\n",
    "    # scatterplot of the reduced data    \n",
    "    ax.scatter(x=reduced_data.loc[:, 'Dimension_1'], y=reduced_data.loc[:, 'Dimension_2'], \n",
    "        facecolors='b', edgecolors='b', s=70, alpha=0.005)\n",
    "    \n",
    "    feature_vectors = pca.components_.T\n",
    "\n",
    "    # we use scaling factors to make the arrows easier to see\n",
    "    arrow_size, text_pos = 7.0, 8.0,\n",
    "\n",
    "    # projections of the original features\n",
    "    for i, v in enumerate(feature_vectors):\n",
    "        ax.arrow(0, 0, arrow_size*v[0], arrow_size*v[1], \n",
    "                  head_width=0.2, head_length=0.2, linewidth=2, color='red')\n",
    "        ax.text(v[0]*text_pos, v[1]*text_pos, good_data.columns[i], color='black', \n",
    "                 ha='center', va='center', fontsize=18)\n",
    "\n",
    "    ax.set_xlabel(\"Dimension 1\", fontsize=14)\n",
    "    ax.set_ylabel(\"Dimension 2\", fontsize=14)\n",
    "    ax.set_title(\"Principal Component Plane With Original Feature Projections.\", fontsize=16);\n",
    "    return ax"
   ]
  },
  {
   "cell_type": "markdown",
   "metadata": {},
   "source": [
    "# Data Scaling Using `StandardScaler`."
   ]
  },
  {
   "cell_type": "code",
   "execution_count": 41,
   "metadata": {
    "collapsed": true
   },
   "outputs": [],
   "source": [
    "standard_scaler = StandardScaler()"
   ]
  },
  {
   "cell_type": "code",
   "execution_count": 42,
   "metadata": {},
   "outputs": [
    {
     "name": "stdout",
     "output_type": "stream",
     "text": [
      "StandardScaler(copy=True, with_mean=True, with_std=True)\n"
     ]
    }
   ],
   "source": [
    "print(standard_scaler.fit(X))\n",
    "X_std = standard_scaler.transform(X)"
   ]
  },
  {
   "cell_type": "code",
   "execution_count": 43,
   "metadata": {
    "collapsed": true
   },
   "outputs": [],
   "source": [
    "#https://chrisalbon.com/machine_learning/model_evaluation/split_data_into_training_and_test_sets/\n",
    "#Tl;dr: Split the data set using train_test_split first then apply standard scaler. "
   ]
  },
  {
   "cell_type": "code",
   "execution_count": 44,
   "metadata": {
    "collapsed": true
   },
   "outputs": [],
   "source": [
    "X_train, X_test, y_train, y_test = train_test_split(X, y, \n",
    "                                                    test_size=0.25, \n",
    "                                                    random_state=42, \n",
    "                                                    shuffle=True, \n",
    "                                                    stratify=y)\n",
    "#http://scikit-learn.org/stable/modules/generated/sklearn.model_selection.train_test_split.html\n",
    "#This means that we don't need to run Stratified_Shuffle_Split."
   ]
  },
  {
   "cell_type": "code",
   "execution_count": 45,
   "metadata": {},
   "outputs": [
    {
     "name": "stdout",
     "output_type": "stream",
     "text": [
      "StandardScaler(copy=True, with_mean=True, with_std=True)\n"
     ]
    }
   ],
   "source": [
    "print(standard_scaler.fit(X_train))\n",
    "X_train_std_df = standard_scaler.transform(X_train)\n",
    "X_test_std_df = standard_scaler.transform(X_test)"
   ]
  },
  {
   "cell_type": "code",
   "execution_count": 46,
   "metadata": {},
   "outputs": [
    {
     "name": "stdout",
     "output_type": "stream",
     "text": [
      "Shape of X_train: (5282, 18)\n",
      "Shape of X_test: (1761, 18)\n",
      "Shape of y_train: (5282,)\n",
      "Shape of y_test: (1761,)\n"
     ]
    }
   ],
   "source": [
    "print(\"Shape of X_train: {}\".format(X_train.shape))\n",
    "print(\"Shape of X_test: {}\".format(X_test.shape))\n",
    "print(\"Shape of y_train: {}\".format(y_train.shape))\n",
    "print(\"Shape of y_test: {}\".format(y_test.shape))"
   ]
  },
  {
   "cell_type": "markdown",
   "metadata": {},
   "source": [
    "# Part 1: Model development and tuning using `LogisticRegression`."
   ]
  },
  {
   "cell_type": "code",
   "execution_count": 47,
   "metadata": {},
   "outputs": [
    {
     "name": "stdout",
     "output_type": "stream",
     "text": [
      "ROC_AUC Score: 0.6912632509126293\n",
      "---\n",
      "LR coef: [ -3.73715679e-03   1.02975760e-01  -3.27718440e-04  -1.25109994e-01\n",
      "  -1.29442465e+00  -1.96507745e-01   2.39603312e-01   2.52829161e-01\n",
      "  -1.06240353e-01   7.80504003e-02   1.44087412e-01  -1.24317158e-01\n",
      "   3.29782938e-01   3.65977981e-01  -7.43149777e-01   2.50241056e-01\n",
      "  -1.93105121e-01   4.59159117e-01]\n",
      "---\n",
      "Confusion Matrix:\n",
      "[[1160  134]\n",
      " [ 240  227]]\n"
     ]
    }
   ],
   "source": [
    "#LR base with standard scaler\n",
    "lr = LogisticRegression(random_state=42)\n",
    "lr.fit(X_train_std_df, y_train)\n",
    "y_pred_class = lr.predict(X_test_std_df)\n",
    "\n",
    "print('ROC_AUC Score: {}'. format(roc_auc_score(y_test, y_pred_class)))\n",
    "print('---')\n",
    "print('LR coef: {}' .format(lr.coef_[0]))\n",
    "print('---')\n",
    "print('Confusion Matrix:')\n",
    "print('{}'.format(confusion_matrix(y_test, y_pred_class)))"
   ]
  },
  {
   "cell_type": "code",
   "execution_count": 48,
   "metadata": {},
   "outputs": [
    {
     "data": {
      "image/png": "[encoded data removed]",
      "text/plain": [
       "<matplotlib.figure.Figure at 0x1a0a9260f0>"
      ]
     },
     "metadata": {},
     "output_type": "display_data"
    }
   ],
   "source": [
    "lr_coef_curves(lr, X)"
   ]
  },
  {
   "cell_type": "code",
   "execution_count": 49,
   "metadata": {},
   "outputs": [
    {
     "data": {
      "image/png": "[encoded data removed]",
      "text/plain": [
       "<matplotlib.figure.Figure at 0x1a1028cf60>"
      ]
     },
     "metadata": {},
     "output_type": "display_data"
    }
   ],
   "source": [
    "auc_roc_curves(lr, X_test_std_df, y_test, 'Logistic Regression')"
   ]
  },
  {
   "cell_type": "code",
   "execution_count": 50,
   "metadata": {},
   "outputs": [
    {
     "data": {
      "image/png": "[encoded data removed]",
      "text/plain": [
       "<matplotlib.figure.Figure at 0x1a1355f780>"
      ]
     },
     "metadata": {},
     "output_type": "display_data"
    }
   ],
   "source": [
    "learning_curves(lr, X_train_std_df, y_train, 'Logistic Regression', 10)"
   ]
  },
  {
   "cell_type": "code",
   "execution_count": 51,
   "metadata": {},
   "outputs": [
    {
     "data": {
      "text/plain": [
       "array([ 0.83573184,  0.85950695,  0.83409039,  0.85863977,  0.83285926,\n",
       "        0.81409096,  0.842427  ,  0.82853567,  0.83858956,  0.82808178])"
      ]
     },
     "execution_count": 51,
     "metadata": {},
     "output_type": "execute_result"
    }
   ],
   "source": [
    "#http://scikit-learn.org/0.15/modules/generated/sklearn.cross_validation.cross_val_score.html#sklearn.cross_validation.cross_val_score\n",
    "lr_std_scores = cross_val_score(lr, X_std, y, cv=10, scoring='roc_auc')\n",
    "lr_std_scores"
   ]
  },
  {
   "cell_type": "code",
   "execution_count": 52,
   "metadata": {},
   "outputs": [
    {
     "name": "stdout",
     "output_type": "stream",
     "text": [
      "Fitting 10 folds for each of 20 candidates, totalling 200 fits\n",
      "[CV] C=1.0, penalty=l1 ...............................................\n",
      "[CV] ...... C=1.0, penalty=l1, score=0.8494827081962418, total=   0.0s\n",
      "[CV] C=1.0, penalty=l1 ...............................................\n",
      "[CV] ...... C=1.0, penalty=l1, score=0.8021495942092565, total=   0.1s\n",
      "[CV] C=1.0, penalty=l1 ...............................................\n",
      "[CV] ....... C=1.0, penalty=l1, score=0.855798969072165, total=   0.0s\n",
      "[CV] C=1.0, penalty=l1 ...............................................\n"
     ]
    },
    {
     "name": "stderr",
     "output_type": "stream",
     "text": [
      "[Parallel(n_jobs=1)]: Done   1 out of   1 | elapsed:    0.1s remaining:    0.0s\n",
      "[Parallel(n_jobs=1)]: Done   2 out of   2 | elapsed:    0.1s remaining:    0.0s\n"
     ]
    },
    {
     "name": "stdout",
     "output_type": "stream",
     "text": [
      "[CV] ...... C=1.0, penalty=l1, score=0.8807437407952872, total=   0.0s\n",
      "[CV] C=1.0, penalty=l1 ...............................................\n",
      "[CV] ...... C=1.0, penalty=l1, score=0.8276969808541974, total=   0.0s\n",
      "[CV] C=1.0, penalty=l1 ...............................................\n",
      "[CV] ...... C=1.0, penalty=l1, score=0.8282952871870397, total=   0.1s\n",
      "[CV] C=1.0, penalty=l1 ...............................................\n",
      "[CV] ...... C=1.0, penalty=l1, score=0.8393777614138439, total=   0.0s\n",
      "[CV] C=1.0, penalty=l1 ...............................................\n",
      "[CV] ...... C=1.0, penalty=l1, score=0.8132731958762887, total=   0.0s\n",
      "[CV] C=1.0, penalty=l1 ...............................................\n",
      "[CV] ...... C=1.0, penalty=l1, score=0.8581185567010309, total=   0.0s\n",
      "[CV] C=1.0, penalty=l1 ...............................................\n",
      "[CV] ...... C=1.0, penalty=l1, score=0.8065629602356408, total=   0.0s\n",
      "[CV] C=1.0, penalty=l2 ...............................................\n",
      "[CV] ...... C=1.0, penalty=l2, score=0.8493913138846239, total=   0.0s\n",
      "[CV] C=1.0, penalty=l2 ...............................................\n",
      "[CV] ...... C=1.0, penalty=l2, score=0.8021861519339036, total=   0.0s\n",
      "[CV] C=1.0, penalty=l2 ...............................................\n",
      "[CV] ...... C=1.0, penalty=l2, score=0.8557805596465391, total=   0.0s\n",
      "[CV] C=1.0, penalty=l2 ...............................................\n",
      "[CV] ...... C=1.0, penalty=l2, score=0.8806148748159058, total=   0.0s\n",
      "[CV] C=1.0, penalty=l2 ...............................................\n",
      "[CV] ...... C=1.0, penalty=l2, score=0.8272551546391753, total=   0.0s\n",
      "[CV] C=1.0, penalty=l2 ...............................................\n",
      "[CV] ...... C=1.0, penalty=l2, score=0.8286818851251841, total=   0.0s\n",
      "[CV] C=1.0, penalty=l2 ...............................................\n",
      "[CV] ...... C=1.0, penalty=l2, score=0.8393041237113402, total=   0.0s\n",
      "[CV] C=1.0, penalty=l2 ...............................................\n",
      "[CV] ...... C=1.0, penalty=l2, score=0.8132179675994109, total=   0.0s\n",
      "[CV] C=1.0, penalty=l2 ...............................................\n",
      "[CV] ...... C=1.0, penalty=l2, score=0.8581921944035346, total=   0.0s\n",
      "[CV] C=1.0, penalty=l2 ...............................................\n",
      "[CV] ...... C=1.0, penalty=l2, score=0.8065261413843888, total=   0.0s\n",
      "[CV] C=1.29154966501, penalty=l1 .....................................\n",
      "[CV]  C=1.29154966501, penalty=l1, score=0.8494461504715947, total=   0.0s\n",
      "[CV] C=1.29154966501, penalty=l1 .....................................\n",
      "[CV]  C=1.29154966501, penalty=l1, score=0.8022409885208744, total=   0.1s\n",
      "[CV] C=1.29154966501, penalty=l1 .....................................\n",
      "[CV]  C=1.29154966501, penalty=l1, score=0.8558173784977909, total=   0.0s\n",
      "[CV] C=1.29154966501, penalty=l1 .....................................\n",
      "[CV]  C=1.29154966501, penalty=l1, score=0.8807069219440353, total=   0.0s\n",
      "[CV] C=1.29154966501, penalty=l1 .....................................\n",
      "[CV]  C=1.29154966501, penalty=l1, score=0.8276049337260678, total=   0.0s\n",
      "[CV] C=1.29154966501, penalty=l1 .....................................\n",
      "[CV]  C=1.29154966501, penalty=l1, score=0.8284977908689249, total=   0.0s\n",
      "[CV] C=1.29154966501, penalty=l1 .....................................\n",
      "[CV]  C=1.29154966501, penalty=l1, score=0.8394698085419736, total=   0.0s\n",
      "[CV] C=1.29154966501, penalty=l1 .....................................\n",
      "[CV]  C=1.29154966501, penalty=l1, score=0.813199558173785, total=   0.1s\n",
      "[CV] C=1.29154966501, penalty=l1 .....................................\n",
      "[CV]  C=1.29154966501, penalty=l1, score=0.858100147275405, total=   0.0s\n",
      "[CV] C=1.29154966501, penalty=l1 .....................................\n",
      "[CV]  C=1.29154966501, penalty=l1, score=0.8067654639175258, total=   0.0s\n",
      "[CV] C=1.29154966501, penalty=l2 .....................................\n",
      "[CV]  C=1.29154966501, penalty=l2, score=0.8494095927469475, total=   0.0s\n",
      "[CV] C=1.29154966501, penalty=l2 .....................................\n",
      "[CV]  C=1.29154966501, penalty=l2, score=0.8022775462455216, total=   0.0s\n",
      "[CV] C=1.29154966501, penalty=l2 .....................................\n",
      "[CV]  C=1.29154966501, penalty=l2, score=0.8557069219440354, total=   0.0s\n",
      "[CV] C=1.29154966501, penalty=l2 .....................................\n",
      "[CV]  C=1.29154966501, penalty=l2, score=0.8806332842415318, total=   0.0s\n",
      "[CV] C=1.29154966501, penalty=l2 .....................................\n",
      "[CV]  C=1.29154966501, penalty=l2, score=0.8273472017673049, total=   0.0s\n",
      "[CV] C=1.29154966501, penalty=l2 .....................................\n",
      "[CV]  C=1.29154966501, penalty=l2, score=0.828718703976436, total=   0.0s\n",
      "[CV] C=1.29154966501, penalty=l2 .....................................\n",
      "[CV]  C=1.29154966501, penalty=l2, score=0.839377761413844, total=   0.0s\n",
      "[CV] C=1.29154966501, penalty=l2 .....................................\n",
      "[CV]  C=1.29154966501, penalty=l2, score=0.8130338733431517, total=   0.0s\n",
      "[CV] C=1.29154966501, penalty=l2 .....................................\n",
      "[CV]  C=1.29154966501, penalty=l2, score=0.8583210603829161, total=   0.0s\n",
      "[CV] C=1.29154966501, penalty=l2 .....................................\n",
      "[CV]  C=1.29154966501, penalty=l2, score=0.8065629602356407, total=   0.0s\n",
      "[CV] C=1.6681005372, penalty=l1 ......................................\n",
      "[CV]  C=1.6681005372, penalty=l1, score=0.8495009870585655, total=   0.0s\n",
      "[CV] C=1.6681005372, penalty=l1 ......................................\n",
      "[CV]  C=1.6681005372, penalty=l1, score=0.80216787307158, total=   0.1s\n",
      "[CV] C=1.6681005372, penalty=l1 ......................................\n",
      "[CV]  C=1.6681005372, penalty=l1, score=0.8556701030927836, total=   0.1s\n",
      "[CV] C=1.6681005372, penalty=l1 ......................................\n",
      "[CV]  C=1.6681005372, penalty=l1, score=0.880780559646539, total=   0.0s\n",
      "[CV] C=1.6681005372, penalty=l1 ......................................\n",
      "[CV]  C=1.6681005372, penalty=l1, score=0.8275497054491899, total=   0.0s\n",
      "[CV] C=1.6681005372, penalty=l1 ......................................\n",
      "[CV]  C=1.6681005372, penalty=l1, score=0.8286634756995582, total=   0.0s\n",
      "[CV] C=1.6681005372, penalty=l1 ......................................\n",
      "[CV]  C=1.6681005372, penalty=l1, score=0.8393777614138439, total=   0.0s\n",
      "[CV] C=1.6681005372, penalty=l1 ......................................\n",
      "[CV]  C=1.6681005372, penalty=l1, score=0.8130338733431517, total=   0.1s\n",
      "[CV] C=1.6681005372, penalty=l1 ......................................\n",
      "[CV]  C=1.6681005372, penalty=l1, score=0.8581737849779087, total=   0.0s\n",
      "[CV] C=1.6681005372, penalty=l1 ......................................\n",
      "[CV]  C=1.6681005372, penalty=l1, score=0.8067654639175257, total=   0.0s\n",
      "[CV] C=1.6681005372, penalty=l2 ......................................\n",
      "[CV]  C=1.6681005372, penalty=l2, score=0.8494095927469474, total=   0.0s\n",
      "[CV] C=1.6681005372, penalty=l2 ......................................\n",
      "[CV]  C=1.6681005372, penalty=l2, score=0.80216787307158, total=   0.0s\n",
      "[CV] C=1.6681005372, penalty=l2 ......................................\n",
      "[CV]  C=1.6681005372, penalty=l2, score=0.8557253313696613, total=   0.0s\n",
      "[CV] C=1.6681005372, penalty=l2 ......................................\n",
      "[CV]  C=1.6681005372, penalty=l2, score=0.8805964653902799, total=   0.0s\n",
      "[CV] C=1.6681005372, penalty=l2 ......................................\n",
      "[CV]  C=1.6681005372, penalty=l2, score=0.8274208394698085, total=   0.0s\n",
      "[CV] C=1.6681005372, penalty=l2 ......................................\n",
      "[CV]  C=1.6681005372, penalty=l2, score=0.8286634756995581, total=   0.0s\n",
      "[CV] C=1.6681005372, penalty=l2 ......................................\n",
      "[CV]  C=1.6681005372, penalty=l2, score=0.8394145802650957, total=   0.0s\n",
      "[CV] C=1.6681005372, penalty=l2 ......................................\n",
      "[CV]  C=1.6681005372, penalty=l2, score=0.8129234167893962, total=   0.0s\n",
      "[CV] C=1.6681005372, penalty=l2 ......................................\n",
      "[CV]  C=1.6681005372, penalty=l2, score=0.8583762886597939, total=   0.0s\n",
      "[CV] C=1.6681005372, penalty=l2 ......................................\n",
      "[CV]  C=1.6681005372, penalty=l2, score=0.8066365979381445, total=   0.0s\n",
      "[CV] C=2.15443469003, penalty=l1 .....................................\n"
     ]
    },
    {
     "name": "stdout",
     "output_type": "stream",
     "text": [
      "[CV]  C=2.15443469003, penalty=l1, score=0.8495375447832128, total=   0.0s\n",
      "[CV] C=2.15443469003, penalty=l1 .....................................\n",
      "[CV]  C=2.15443469003, penalty=l1, score=0.8022044307962273, total=   0.1s\n",
      "[CV] C=2.15443469003, penalty=l1 .....................................\n",
      "[CV]  C=2.15443469003, penalty=l1, score=0.8556332842415317, total=   0.0s\n",
      "[CV] C=2.15443469003, penalty=l1 .....................................\n",
      "[CV]  C=2.15443469003, penalty=l1, score=0.8807437407952872, total=   0.0s\n",
      "[CV] C=2.15443469003, penalty=l1 .....................................\n",
      "[CV]  C=2.15443469003, penalty=l1, score=0.8274944771723123, total=   0.0s\n",
      "[CV] C=2.15443469003, penalty=l1 .....................................\n",
      "[CV]  C=2.15443469003, penalty=l1, score=0.8287371134020619, total=   0.0s\n",
      "[CV] C=2.15443469003, penalty=l1 .....................................\n",
      "[CV]  C=2.15443469003, penalty=l1, score=0.8394145802650957, total=   0.1s\n",
      "[CV] C=2.15443469003, penalty=l1 .....................................\n",
      "[CV]  C=2.15443469003, penalty=l1, score=0.8130154639175257, total=   0.1s\n",
      "[CV] C=2.15443469003, penalty=l1 .....................................\n",
      "[CV]  C=2.15443469003, penalty=l1, score=0.8583026509572902, total=   0.0s\n",
      "[CV] C=2.15443469003, penalty=l1 .....................................\n",
      "[CV]  C=2.15443469003, penalty=l1, score=0.8067470544918999, total=   0.0s\n",
      "[CV] C=2.15443469003, penalty=l2 .....................................\n",
      "[CV]  C=2.15443469003, penalty=l2, score=0.8493547561599766, total=   0.0s\n",
      "[CV] C=2.15443469003, penalty=l2 .....................................\n",
      "[CV]  C=2.15443469003, penalty=l2, score=0.8022044307962273, total=   0.0s\n",
      "[CV] C=2.15443469003, penalty=l2 .....................................\n",
      "[CV]  C=2.15443469003, penalty=l2, score=0.8556701030927836, total=   0.0s\n",
      "[CV] C=2.15443469003, penalty=l2 .....................................\n",
      "[CV]  C=2.15443469003, penalty=l2, score=0.8806148748159058, total=   0.0s\n",
      "[CV] C=2.15443469003, penalty=l2 .....................................\n",
      "[CV]  C=2.15443469003, penalty=l2, score=0.8274024300441825, total=   0.0s\n",
      "[CV] C=2.15443469003, penalty=l2 .....................................\n",
      "[CV]  C=2.15443469003, penalty=l2, score=0.8287923416789396, total=   0.0s\n",
      "[CV] C=2.15443469003, penalty=l2 .....................................\n",
      "[CV]  C=2.15443469003, penalty=l2, score=0.8393777614138439, total=   0.0s\n",
      "[CV] C=2.15443469003, penalty=l2 .....................................\n",
      "[CV]  C=2.15443469003, penalty=l2, score=0.8128681885125184, total=   0.0s\n",
      "[CV] C=2.15443469003, penalty=l2 .....................................\n",
      "[CV]  C=2.15443469003, penalty=l2, score=0.8583210603829161, total=   0.0s\n",
      "[CV] C=2.15443469003, penalty=l2 .....................................\n",
      "[CV]  C=2.15443469003, penalty=l2, score=0.806691826215022, total=   0.0s\n",
      "[CV] C=2.78255940221, penalty=l1 .....................................\n",
      "[CV]  C=2.78255940221, penalty=l1, score=0.8495192659208891, total=   0.0s\n",
      "[CV] C=2.78255940221, penalty=l1 .....................................\n",
      "[CV]  C=2.78255940221, penalty=l1, score=0.8022227096585509, total=   0.0s\n",
      "[CV] C=2.78255940221, penalty=l1 .....................................\n",
      "[CV]  C=2.78255940221, penalty=l1, score=0.855559646539028, total=   0.0s\n",
      "[CV] C=2.78255940221, penalty=l1 .....................................\n",
      "[CV]  C=2.78255940221, penalty=l1, score=0.8806516936671577, total=   0.0s\n",
      "[CV] C=2.78255940221, penalty=l1 .....................................\n",
      "[CV]  C=2.78255940221, penalty=l1, score=0.8274576583210604, total=   0.0s\n",
      "[CV] C=2.78255940221, penalty=l1 .....................................\n",
      "[CV]  C=2.78255940221, penalty=l1, score=0.8286818851251841, total=   0.0s\n",
      "[CV] C=2.78255940221, penalty=l1 .....................................\n",
      "[CV]  C=2.78255940221, penalty=l1, score=0.8393961708394698, total=   0.0s\n",
      "[CV] C=2.78255940221, penalty=l1 .....................................\n",
      "[CV]  C=2.78255940221, penalty=l1, score=0.8129234167893962, total=   0.0s\n",
      "[CV] C=2.78255940221, penalty=l1 .....................................\n",
      "[CV]  C=2.78255940221, penalty=l1, score=0.858321060382916, total=   0.0s\n",
      "[CV] C=2.78255940221, penalty=l1 .....................................\n",
      "[CV]  C=2.78255940221, penalty=l1, score=0.8067838733431517, total=   0.0s\n",
      "[CV] C=2.78255940221, penalty=l2 .....................................\n",
      "[CV]  C=2.78255940221, penalty=l2, score=0.8493181984353294, total=   0.0s\n",
      "[CV] C=2.78255940221, penalty=l2 .....................................\n",
      "[CV]  C=2.78255940221, penalty=l2, score=0.8022409885208744, total=   0.0s\n",
      "[CV] C=2.78255940221, penalty=l2 .....................................\n",
      "[CV]  C=2.78255940221, penalty=l2, score=0.855559646539028, total=   0.0s\n",
      "[CV] C=2.78255940221, penalty=l2 .....................................\n",
      "[CV]  C=2.78255940221, penalty=l2, score=0.8806701030927835, total=   0.0s\n",
      "[CV] C=2.78255940221, penalty=l2 .....................................\n",
      "[CV]  C=2.78255940221, penalty=l2, score=0.8274024300441827, total=   0.0s\n",
      "[CV] C=2.78255940221, penalty=l2 .....................................\n",
      "[CV]  C=2.78255940221, penalty=l2, score=0.8288843888070693, total=   0.0s\n",
      "[CV] C=2.78255940221, penalty=l2 .....................................\n",
      "[CV]  C=2.78255940221, penalty=l2, score=0.8393593519882179, total=   0.0s\n",
      "[CV] C=2.78255940221, penalty=l2 .....................................\n",
      "[CV]  C=2.78255940221, penalty=l2, score=0.8128313696612667, total=   0.0s\n",
      "[CV] C=2.78255940221, penalty=l2 .....................................\n",
      "[CV]  C=2.78255940221, penalty=l2, score=0.858357879234168, total=   0.0s\n",
      "[CV] C=2.78255940221, penalty=l2 .....................................\n",
      "[CV]  C=2.78255940221, penalty=l2, score=0.8068206921944036, total=   0.0s\n",
      "[CV] C=3.5938136638, penalty=l1 ......................................\n",
      "[CV]  C=3.5938136638, penalty=l1, score=0.8494461504715946, total=   0.0s\n",
      "[CV] C=3.5938136638, penalty=l1 ......................................\n",
      "[CV]  C=3.5938136638, penalty=l1, score=0.8022409885208744, total=   0.1s\n",
      "[CV] C=3.5938136638, penalty=l1 ......................................\n",
      "[CV]  C=3.5938136638, penalty=l1, score=0.8555412371134021, total=   0.1s\n",
      "[CV] C=3.5938136638, penalty=l1 ......................................\n",
      "[CV]  C=3.5938136638, penalty=l1, score=0.8806516936671577, total=   0.1s\n",
      "[CV] C=3.5938136638, penalty=l1 ......................................\n",
      "[CV]  C=3.5938136638, penalty=l1, score=0.8274392488954345, total=   0.0s\n",
      "[CV] C=3.5938136638, penalty=l1 ......................................\n",
      "[CV]  C=3.5938136638, penalty=l1, score=0.8287555228276878, total=   0.0s\n",
      "[CV] C=3.5938136638, penalty=l1 ......................................\n",
      "[CV]  C=3.5938136638, penalty=l1, score=0.8394698085419735, total=   0.0s\n",
      "[CV] C=3.5938136638, penalty=l1 ......................................\n",
      "[CV]  C=3.5938136638, penalty=l1, score=0.8128129602356406, total=   0.0s\n",
      "[CV] C=3.5938136638, penalty=l1 ......................................\n",
      "[CV]  C=3.5938136638, penalty=l1, score=0.8583946980854197, total=   0.0s\n",
      "[CV] C=3.5938136638, penalty=l1 ......................................\n",
      "[CV]  C=3.5938136638, penalty=l1, score=0.8068022827687776, total=   0.0s\n",
      "[CV] C=3.5938136638, penalty=l2 ......................................\n",
      "[CV]  C=3.5938136638, penalty=l2, score=0.849427871609271, total=   0.0s\n",
      "[CV] C=3.5938136638, penalty=l2 ......................................\n",
      "[CV]  C=3.5938136638, penalty=l2, score=0.80216787307158, total=   0.0s\n",
      "[CV] C=3.5938136638, penalty=l2 ......................................\n",
      "[CV]  C=3.5938136638, penalty=l2, score=0.8554675994108984, total=   0.0s\n",
      "[CV] C=3.5938136638, penalty=l2 ......................................\n",
      "[CV]  C=3.5938136638, penalty=l2, score=0.8806885125184095, total=   0.0s\n",
      "[CV] C=3.5938136638, penalty=l2 ......................................\n",
      "[CV]  C=3.5938136638, penalty=l2, score=0.8274024300441826, total=   0.0s\n",
      "[CV] C=3.5938136638, penalty=l2 ......................................\n",
      "[CV]  C=3.5938136638, penalty=l2, score=0.8288291605301915, total=   0.0s\n",
      "[CV] C=3.5938136638, penalty=l2 ......................................\n",
      "[CV]  C=3.5938136638, penalty=l2, score=0.8394145802650957, total=   0.0s\n",
      "[CV] C=3.5938136638, penalty=l2 ......................................\n"
     ]
    },
    {
     "name": "stdout",
     "output_type": "stream",
     "text": [
      "[CV]  C=3.5938136638, penalty=l2, score=0.8128497790868926, total=   0.0s\n",
      "[CV] C=3.5938136638, penalty=l2 ......................................\n",
      "[CV]  C=3.5938136638, penalty=l2, score=0.8583026509572902, total=   0.0s\n",
      "[CV] C=3.5938136638, penalty=l2 ......................................\n",
      "[CV]  C=3.5938136638, penalty=l2, score=0.8068206921944036, total=   0.0s\n",
      "[CV] C=4.64158883361, penalty=l1 .....................................\n",
      "[CV]  C=4.64158883361, penalty=l1, score=0.8494461504715947, total=   0.0s\n",
      "[CV] C=4.64158883361, penalty=l1 .....................................\n",
      "[CV]  C=4.64158883361, penalty=l1, score=0.80216787307158, total=   0.0s\n",
      "[CV] C=4.64158883361, penalty=l1 .....................................\n",
      "[CV]  C=4.64158883361, penalty=l1, score=0.8554675994108984, total=   0.0s\n",
      "[CV] C=4.64158883361, penalty=l1 .....................................\n",
      "[CV]  C=4.64158883361, penalty=l1, score=0.8805596465390281, total=   0.1s\n",
      "[CV] C=4.64158883361, penalty=l1 .....................................\n",
      "[CV]  C=4.64158883361, penalty=l1, score=0.8274392488954345, total=   0.0s\n",
      "[CV] C=4.64158883361, penalty=l1 .....................................\n",
      "[CV]  C=4.64158883361, penalty=l1, score=0.8287923416789397, total=   0.0s\n",
      "[CV] C=4.64158883361, penalty=l1 .....................................\n",
      "[CV]  C=4.64158883361, penalty=l1, score=0.8394882179675994, total=   0.0s\n",
      "[CV] C=4.64158883361, penalty=l1 .....................................\n",
      "[CV]  C=4.64158883361, penalty=l1, score=0.8128497790868925, total=   0.0s\n",
      "[CV] C=4.64158883361, penalty=l1 .....................................\n",
      "[CV]  C=4.64158883361, penalty=l1, score=0.8583762886597938, total=   0.0s\n",
      "[CV] C=4.64158883361, penalty=l1 .....................................\n",
      "[CV]  C=4.64158883361, penalty=l1, score=0.8068391016200295, total=   0.0s\n",
      "[CV] C=4.64158883361, penalty=l2 .....................................\n",
      "[CV]  C=4.64158883361, penalty=l2, score=0.8495009870585656, total=   0.0s\n",
      "[CV] C=4.64158883361, penalty=l2 .....................................\n",
      "[CV]  C=4.64158883361, penalty=l2, score=0.8022044307962273, total=   0.0s\n",
      "[CV] C=4.64158883361, penalty=l2 .....................................\n",
      "[CV]  C=4.64158883361, penalty=l2, score=0.8555044182621503, total=   0.0s\n",
      "[CV] C=4.64158883361, penalty=l2 .....................................\n",
      "[CV]  C=4.64158883361, penalty=l2, score=0.8806516936671577, total=   0.0s\n",
      "[CV] C=4.64158883361, penalty=l2 .....................................\n",
      "[CV]  C=4.64158883361, penalty=l2, score=0.8274208394698086, total=   0.0s\n",
      "[CV] C=4.64158883361, penalty=l2 .....................................\n",
      "[CV]  C=4.64158883361, penalty=l2, score=0.8288291605301914, total=   0.0s\n",
      "[CV] C=4.64158883361, penalty=l2 .....................................\n",
      "[CV]  C=4.64158883361, penalty=l2, score=0.8394698085419735, total=   0.0s\n",
      "[CV] C=4.64158883361, penalty=l2 .....................................\n",
      "[CV]  C=4.64158883361, penalty=l2, score=0.8127761413843888, total=   0.0s\n",
      "[CV] C=4.64158883361, penalty=l2 .....................................\n",
      "[CV]  C=4.64158883361, penalty=l2, score=0.8582842415316643, total=   0.0s\n",
      "[CV] C=4.64158883361, penalty=l2 .....................................\n",
      "[CV]  C=4.64158883361, penalty=l2, score=0.8068206921944036, total=   0.0s\n",
      "[CV] C=5.99484250319, penalty=l1 .....................................\n",
      "[CV]  C=5.99484250319, penalty=l1, score=0.8495009870585656, total=   0.0s\n",
      "[CV] C=5.99484250319, penalty=l1 .....................................\n",
      "[CV]  C=5.99484250319, penalty=l1, score=0.8022044307962273, total=   0.0s\n",
      "[CV] C=5.99484250319, penalty=l1 .....................................\n",
      "[CV]  C=5.99484250319, penalty=l1, score=0.8554491899852725, total=   0.0s\n",
      "[CV] C=5.99484250319, penalty=l1 .....................................\n",
      "[CV]  C=5.99484250319, penalty=l1, score=0.8805044182621503, total=   0.0s\n",
      "[CV] C=5.99484250319, penalty=l1 .....................................\n",
      "[CV]  C=5.99484250319, penalty=l1, score=0.8274760677466863, total=   0.0s\n",
      "[CV] C=5.99484250319, penalty=l1 .....................................\n",
      "[CV]  C=5.99484250319, penalty=l1, score=0.8288475699558173, total=   0.0s\n",
      "[CV] C=5.99484250319, penalty=l1 .....................................\n",
      "[CV]  C=5.99484250319, penalty=l1, score=0.8394882179675994, total=   0.0s\n",
      "[CV] C=5.99484250319, penalty=l1 .....................................\n",
      "[CV]  C=5.99484250319, penalty=l1, score=0.8128497790868925, total=   0.0s\n",
      "[CV] C=5.99484250319, penalty=l1 .....................................\n",
      "[CV]  C=5.99484250319, penalty=l1, score=0.8583946980854197, total=   0.0s\n",
      "[CV] C=5.99484250319, penalty=l1 .....................................\n",
      "[CV]  C=5.99484250319, penalty=l1, score=0.8068575110456554, total=   0.1s\n",
      "[CV] C=5.99484250319, penalty=l2 .....................................\n",
      "[CV]  C=5.99484250319, penalty=l2, score=0.8494827081962419, total=   0.0s\n",
      "[CV] C=5.99484250319, penalty=l2 .....................................\n",
      "[CV]  C=5.99484250319, penalty=l2, score=0.8021861519339035, total=   0.0s\n",
      "[CV] C=5.99484250319, penalty=l2 .....................................\n",
      "[CV]  C=5.99484250319, penalty=l2, score=0.8554675994108984, total=   0.0s\n",
      "[CV] C=5.99484250319, penalty=l2 .....................................\n",
      "[CV]  C=5.99484250319, penalty=l2, score=0.8805780559646539, total=   0.0s\n",
      "[CV] C=5.99484250319, penalty=l2 .....................................\n",
      "[CV]  C=5.99484250319, penalty=l2, score=0.8274024300441827, total=   0.0s\n",
      "[CV] C=5.99484250319, penalty=l2 .....................................\n",
      "[CV]  C=5.99484250319, penalty=l2, score=0.8289027982326951, total=   0.0s\n",
      "[CV] C=5.99484250319, penalty=l2 .....................................\n",
      "[CV]  C=5.99484250319, penalty=l2, score=0.8394698085419735, total=   0.0s\n",
      "[CV] C=5.99484250319, penalty=l2 .....................................\n",
      "[CV]  C=5.99484250319, penalty=l2, score=0.8128129602356406, total=   0.0s\n",
      "[CV] C=5.99484250319, penalty=l2 .....................................\n",
      "[CV]  C=5.99484250319, penalty=l2, score=0.8583210603829161, total=   0.0s\n",
      "[CV] C=5.99484250319, penalty=l2 .....................................\n",
      "[CV]  C=5.99484250319, penalty=l2, score=0.8068206921944036, total=   0.0s\n",
      "[CV] C=7.74263682681, penalty=l1 .....................................\n",
      "[CV]  C=7.74263682681, penalty=l1, score=0.8495009870585655, total=   0.0s\n",
      "[CV] C=7.74263682681, penalty=l1 .....................................\n",
      "[CV]  C=7.74263682681, penalty=l1, score=0.8021861519339036, total=   0.1s\n",
      "[CV] C=7.74263682681, penalty=l1 .....................................\n",
      "[CV]  C=7.74263682681, penalty=l1, score=0.8554491899852725, total=   0.1s\n",
      "[CV] C=7.74263682681, penalty=l1 .....................................\n",
      "[CV]  C=7.74263682681, penalty=l1, score=0.880541237113402, total=   0.0s\n",
      "[CV] C=7.74263682681, penalty=l1 .....................................\n",
      "[CV]  C=7.74263682681, penalty=l1, score=0.8274760677466863, total=   0.0s\n",
      "[CV] C=7.74263682681, penalty=l1 .....................................\n",
      "[CV]  C=7.74263682681, penalty=l1, score=0.8288843888070692, total=   0.0s\n",
      "[CV] C=7.74263682681, penalty=l1 .....................................\n",
      "[CV]  C=7.74263682681, penalty=l1, score=0.8395250368188513, total=   0.0s\n",
      "[CV] C=7.74263682681, penalty=l1 .....................................\n",
      "[CV]  C=7.74263682681, penalty=l1, score=0.8128497790868925, total=   0.1s\n",
      "[CV] C=7.74263682681, penalty=l1 .....................................\n",
      "[CV]  C=7.74263682681, penalty=l1, score=0.8584131075110457, total=   0.0s\n",
      "[CV] C=7.74263682681, penalty=l1 .....................................\n",
      "[CV]  C=7.74263682681, penalty=l1, score=0.8068759204712813, total=   0.0s\n",
      "[CV] C=7.74263682681, penalty=l2 .....................................\n",
      "[CV]  C=7.74263682681, penalty=l2, score=0.8495192659208891, total=   0.0s\n",
      "[CV] C=7.74263682681, penalty=l2 .....................................\n",
      "[CV]  C=7.74263682681, penalty=l2, score=0.80216787307158, total=   0.0s\n",
      "[CV] C=7.74263682681, penalty=l2 .....................................\n",
      "[CV]  C=7.74263682681, penalty=l2, score=0.8554675994108984, total=   0.0s\n",
      "[CV] C=7.74263682681, penalty=l2 .....................................\n",
      "[CV]  C=7.74263682681, penalty=l2, score=0.8805780559646539, total=   0.0s\n",
      "[CV] C=7.74263682681, penalty=l2 .....................................\n",
      "[CV]  C=7.74263682681, penalty=l2, score=0.8274208394698085, total=   0.0s\n",
      "[CV] C=7.74263682681, penalty=l2 .....................................\n",
      "[CV]  C=7.74263682681, penalty=l2, score=0.8289212076583211, total=   0.0s\n",
      "[CV] C=7.74263682681, penalty=l2 .....................................\n",
      "[CV]  C=7.74263682681, penalty=l2, score=0.839580265095729, total=   0.0s\n",
      "[CV] C=7.74263682681, penalty=l2 .....................................\n",
      "[CV]  C=7.74263682681, penalty=l2, score=0.8127577319587629, total=   0.0s\n",
      "[CV] C=7.74263682681, penalty=l2 .....................................\n",
      "[CV]  C=7.74263682681, penalty=l2, score=0.858357879234168, total=   0.0s\n",
      "[CV] C=7.74263682681, penalty=l2 .....................................\n",
      "[CV]  C=7.74263682681, penalty=l2, score=0.8068759204712813, total=   0.0s\n",
      "[CV] C=10.0, penalty=l1 ..............................................\n"
     ]
    },
    {
     "name": "stdout",
     "output_type": "stream",
     "text": [
      "[CV] ..... C=10.0, penalty=l1, score=0.8495009870585655, total=   0.0s\n",
      "[CV] C=10.0, penalty=l1 ..............................................\n",
      "[CV] ..... C=10.0, penalty=l1, score=0.8021861519339036, total=   0.1s\n",
      "[CV] C=10.0, penalty=l1 ..............................................\n",
      "[CV] ..... C=10.0, penalty=l1, score=0.8554491899852725, total=   0.1s\n",
      "[CV] C=10.0, penalty=l1 ..............................................\n",
      "[CV] ..... C=10.0, penalty=l1, score=0.8805228276877761, total=   0.0s\n",
      "[CV] C=10.0, penalty=l1 ..............................................\n",
      "[CV] ..... C=10.0, penalty=l1, score=0.8274208394698086, total=   0.0s\n",
      "[CV] C=10.0, penalty=l1 ..............................................\n",
      "[CV] ..... C=10.0, penalty=l1, score=0.8289027982326951, total=   0.1s\n",
      "[CV] C=10.0, penalty=l1 ..............................................\n",
      "[CV] ..... C=10.0, penalty=l1, score=0.8395434462444772, total=   0.0s\n",
      "[CV] C=10.0, penalty=l1 ..............................................\n",
      "[CV] ..... C=10.0, penalty=l1, score=0.8128129602356406, total=   0.0s\n",
      "[CV] C=10.0, penalty=l1 ..............................................\n",
      "[CV] ..... C=10.0, penalty=l1, score=0.8584315169366716, total=   0.0s\n",
      "[CV] C=10.0, penalty=l1 ..............................................\n",
      "[CV] ..... C=10.0, penalty=l1, score=0.8068759204712813, total=   0.0s\n",
      "[CV] C=10.0, penalty=l2 ..............................................\n",
      "[CV] ..... C=10.0, penalty=l2, score=0.8495192659208892, total=   0.0s\n",
      "[CV] C=10.0, penalty=l2 ..............................................\n",
      "[CV] ..... C=10.0, penalty=l2, score=0.8021495942092565, total=   0.0s\n",
      "[CV] C=10.0, penalty=l2 ..............................................\n",
      "[CV] ..... C=10.0, penalty=l2, score=0.8554860088365244, total=   0.0s\n",
      "[CV] C=10.0, penalty=l2 ..............................................\n",
      "[CV] ..... C=10.0, penalty=l2, score=0.8805780559646539, total=   0.0s\n",
      "[CV] C=10.0, penalty=l2 ..............................................\n",
      "[CV] ..... C=10.0, penalty=l2, score=0.8274392488954344, total=   0.0s\n",
      "[CV] C=10.0, penalty=l2 ..............................................\n",
      "[CV] ..... C=10.0, penalty=l2, score=0.8289212076583211, total=   0.0s\n",
      "[CV] C=10.0, penalty=l2 ..............................................\n",
      "[CV] ..... C=10.0, penalty=l2, score=0.8395250368188513, total=   0.0s\n",
      "[CV] C=10.0, penalty=l2 ..............................................\n",
      "[CV] ..... C=10.0, penalty=l2, score=0.8127945508100147, total=   0.0s\n",
      "[CV] C=10.0, penalty=l2 ..............................................\n",
      "[CV] ..... C=10.0, penalty=l2, score=0.8583946980854198, total=   0.0s\n",
      "[CV] C=10.0, penalty=l2 ..............................................\n",
      "[CV] ..... C=10.0, penalty=l2, score=0.8069127393225332, total=   0.0s\n"
     ]
    },
    {
     "name": "stderr",
     "output_type": "stream",
     "text": [
      "[Parallel(n_jobs=1)]: Done 200 out of 200 | elapsed:    7.3s finished\n"
     ]
    }
   ],
   "source": [
    "lr_grid = LogisticRegression(random_state = 42)\n",
    "penalty = ['l1', 'l2']\n",
    "C = np.logspace(0, 1, 10, 100)\n",
    "hyperparameters = dict(C=C, penalty=penalty)\n",
    "grid_results = GridSearchCV(lr_grid, \n",
    "                            hyperparameters, \n",
    "                            verbose=3, \n",
    "                            cv=10, \n",
    "                            scoring='roc_auc').fit(X_train_std_df, y_train) #Will output the probability."
   ]
  },
  {
   "cell_type": "code",
   "execution_count": 53,
   "metadata": {},
   "outputs": [
    {
     "name": "stdout",
     "output_type": "stream",
     "text": [
      "{'C': 1.2915496650148839, 'penalty': 'l1'}\n"
     ]
    }
   ],
   "source": [
    "print(grid_results.best_params_)"
   ]
  },
  {
   "cell_type": "code",
   "execution_count": 54,
   "metadata": {},
   "outputs": [
    {
     "name": "stdout",
     "output_type": "stream",
     "text": [
      "0.836180998501\n"
     ]
    }
   ],
   "source": [
    "print(grid_results.best_score_) #It is assumed that this combination will yield the best performing model."
   ]
  },
  {
   "cell_type": "code",
   "execution_count": 55,
   "metadata": {
    "collapsed": true
   },
   "outputs": [],
   "source": [
    "y_pred_class = grid_results.predict(X_test_std_df)"
   ]
  },
  {
   "cell_type": "code",
   "execution_count": 56,
   "metadata": {},
   "outputs": [
    {
     "name": "stdout",
     "output_type": "stream",
     "text": [
      "LogisticRegression(C=1.2915496650148839, class_weight=None, dual=False,\n",
      "          fit_intercept=True, intercept_scaling=1, max_iter=100,\n",
      "          multi_class='ovr', n_jobs=1, penalty='l1', random_state=42,\n",
      "          solver='liblinear', tol=0.0001, verbose=0, warm_start=False)\n"
     ]
    }
   ],
   "source": [
    "lr_ = grid_results.best_estimator_\n",
    "print(lr_)"
   ]
  },
  {
   "cell_type": "code",
   "execution_count": 57,
   "metadata": {
    "collapsed": true
   },
   "outputs": [],
   "source": [
    "lr_tuned = LogisticRegression(C=1.2915496650148839, \n",
    "                         class_weight=None, \n",
    "                         dual=False,\n",
    "                         fit_intercept=True,\n",
    "                         intercept_scaling=1, \n",
    "                         max_iter=100,\n",
    "                         multi_class='ovr', \n",
    "                         n_jobs=1, \n",
    "                         penalty='l1', \n",
    "                         random_state=42,\n",
    "                         solver='liblinear', \n",
    "                         tol=0.0001, \n",
    "                         verbose=0, \n",
    "                         warm_start=False)"
   ]
  },
  {
   "cell_type": "code",
   "execution_count": 58,
   "metadata": {},
   "outputs": [
    {
     "name": "stdout",
     "output_type": "stream",
     "text": [
      "ROC_AUC Score: 0.6920360484396771\n",
      "---\n",
      "LR coef: [-0.00266443  0.1028986   0.         -0.12425832 -1.30598435 -0.19438785\n",
      "  0.23736199  0.24959929 -0.10429738  0.07505554  0.14155565 -0.12201355\n",
      "  0.32848029  0.3649935  -0.74494269  0.25020154 -0.19246192  0.47200792]\n",
      "---\n",
      "Confusion Matrix:\n",
      "[[1162  132]\n",
      " [ 240  227]]\n"
     ]
    }
   ],
   "source": [
    "#https://stackoverflow.com/questions/49061575/why-when-i-use-gridsearchcv-with-roc-auc-scoring-the-score-is-different-for-gri\n",
    "lr_tuned.fit(X_train_std_df, y_train)\n",
    "y_pred_class = lr_tuned.predict(X_test_std_df) #Outputs the class type and not the probabilities.\n",
    "\n",
    "print('ROC_AUC Score: {}'. format(roc_auc_score(y_test, y_pred_class)))\n",
    "print('---')\n",
    "print('LR coef: {}' .format(lr_tuned.coef_[0]))\n",
    "print('---')\n",
    "print('Confusion Matrix:')\n",
    "print('{}'.format(confusion_matrix(y_test, y_pred_class)))"
   ]
  },
  {
   "cell_type": "code",
   "execution_count": 59,
   "metadata": {},
   "outputs": [
    {
     "data": {
      "image/png": "[encoded data removed]",
      "text/plain": [
       "<matplotlib.figure.Figure at 0x1a1366f828>"
      ]
     },
     "metadata": {},
     "output_type": "display_data"
    }
   ],
   "source": [
    "auc_roc_curves(lr_tuned, X_test_std_df, y_test, 'Logistic Regression')"
   ]
  },
  {
   "cell_type": "code",
   "execution_count": 60,
   "metadata": {},
   "outputs": [
    {
     "data": {
      "image/png": "[encoded data removed]",
      "text/plain": [
       "<matplotlib.figure.Figure at 0x1a13c0ea20>"
      ]
     },
     "metadata": {},
     "output_type": "display_data"
    }
   ],
   "source": [
    "learning_curves(lr_tuned, X_train_std_df, y_train, 'Logistic Regression', 10)"
   ]
  },
  {
   "cell_type": "code",
   "execution_count": 61,
   "metadata": {},
   "outputs": [
    {
     "data": {
      "image/png": "[encoded data removed]",
      "text/plain": [
       "<matplotlib.figure.Figure at 0x1a13c6ea90>"
      ]
     },
     "metadata": {},
     "output_type": "display_data"
    }
   ],
   "source": [
    "lr_coef_curves(lr_tuned, X)"
   ]
  },
  {
   "cell_type": "code",
   "execution_count": 62,
   "metadata": {},
   "outputs": [
    {
     "name": "stdout",
     "output_type": "stream",
     "text": [
      "             precision    recall  f1-score   support\n",
      "\n",
      "          0       0.83      0.90      0.86      1294\n",
      "          1       0.63      0.49      0.55       467\n",
      "\n",
      "avg / total       0.78      0.79      0.78      1761\n",
      "\n"
     ]
    }
   ],
   "source": [
    "#Classification report of tuned model.\n",
    "print(classification_report(y_test, y_pred_class))"
   ]
  },
  {
   "cell_type": "markdown",
   "metadata": {},
   "source": [
    "# Part 2: Model development and tuning using `XBGClassifier`."
   ]
  },
  {
   "cell_type": "code",
   "execution_count": 63,
   "metadata": {},
   "outputs": [
    {
     "data": {
      "text/plain": [
       "XGBClassifier(base_score=0.5, booster='gbtree', colsample_bylevel=1,\n",
       "       colsample_bytree=1, gamma=0, learning_rate=0.1, max_delta_step=0,\n",
       "       max_depth=3, min_child_weight=1, missing=None, n_estimators=100,\n",
       "       n_jobs=1, nthread=None, objective='binary:logistic',\n",
       "       random_state=42, reg_alpha=0, reg_lambda=1, scale_pos_weight=1,\n",
       "       seed=None, silent=True, subsample=1)"
      ]
     },
     "execution_count": 63,
     "metadata": {},
     "output_type": "execute_result"
    }
   ],
   "source": [
    "#https://machinelearningmastery.com/develop-first-xgboost-model-python-scikit-learn/\n",
    "#https://github.com/dmlc/xgboost/tree/master/demo/guide-python\n",
    "\n",
    "#XGB base with standard scaler\n",
    "xgb_model = XGBClassifier(random_state=42)\n",
    "xgb_model.fit(X_train_std_df, y_train)"
   ]
  },
  {
   "cell_type": "code",
   "execution_count": 64,
   "metadata": {
    "collapsed": true
   },
   "outputs": [],
   "source": [
    "y_pred_prob = xgb_model.predict(X_test_std_df)\n",
    "y_pred_class = [round(each) for each in y_pred_prob]"
   ]
  },
  {
   "cell_type": "code",
   "execution_count": 65,
   "metadata": {},
   "outputs": [
    {
     "name": "stdout",
     "output_type": "stream",
     "text": [
      "ROC_AUC Score: 0.7013418876117412\n",
      "---\n",
      "Confusion Matrix:\n",
      "[[1175  119]\n",
      " [ 236  231]]\n"
     ]
    }
   ],
   "source": [
    "print('ROC_AUC Score: {}'. format(roc_auc_score(y_test, y_pred_class)))\n",
    "print('---')\n",
    "print('Confusion Matrix:')\n",
    "print('{}'.format(confusion_matrix(y_test, y_pred_class)))"
   ]
  },
  {
   "cell_type": "code",
   "execution_count": 66,
   "metadata": {},
   "outputs": [
    {
     "data": {
      "image/png": "[encoded data removed]",
      "text/plain": [
       "<matplotlib.figure.Figure at 0x1a13d8f4e0>"
      ]
     },
     "metadata": {},
     "output_type": "display_data"
    }
   ],
   "source": [
    "learning_curves(xgb_model, X_train_std_df, y_train, \"XGB Classifier\", 10)"
   ]
  },
  {
   "cell_type": "code",
   "execution_count": 67,
   "metadata": {},
   "outputs": [
    {
     "data": {
      "image/png": "[encoded data removed]",
      "text/plain": [
       "<matplotlib.figure.Figure at 0x1a13a64fd0>"
      ]
     },
     "metadata": {},
     "output_type": "display_data"
    }
   ],
   "source": [
    "auc_roc_curves(xgb_model, X_test_std_df, y_test, 'XGB Classifier')"
   ]
  },
  {
   "cell_type": "code",
   "execution_count": 68,
   "metadata": {
    "collapsed": true
   },
   "outputs": [],
   "source": [
    "#https://towardsdatascience.com/fine-tuning-xgboost-in-python-like-a-boss-b4543ed8b1e\n",
    "# xgb_grid = XGBClassifier(random_state=42)\n",
    "# learning_rate = [0.01, 0.1, 1, 10]\n",
    "# max_depth = [1, 3, 5, 7]\n",
    "# n_estimators = [100, 1000]\n",
    "# hyperparameters = dict(learning_rate=learning_rate, max_depth=max_depth, n_estimators=n_estimators)\n",
    "# grid_results = GridSearchCV(xgb_grid, \n",
    "#                             hyperparameters, \n",
    "#                             verbose=3, \n",
    "#                             cv=10, \n",
    "#                             scoring='roc_auc').fit(X_train_std_df, y_train) #Will output the probability."
   ]
  },
  {
   "cell_type": "code",
   "execution_count": 69,
   "metadata": {},
   "outputs": [
    {
     "name": "stdout",
     "output_type": "stream",
     "text": [
      "{'C': 1.2915496650148839, 'penalty': 'l1'}\n"
     ]
    }
   ],
   "source": [
    "print(grid_results.best_params_)"
   ]
  },
  {
   "cell_type": "code",
   "execution_count": 70,
   "metadata": {},
   "outputs": [
    {
     "name": "stdout",
     "output_type": "stream",
     "text": [
      "0.836180998501\n"
     ]
    }
   ],
   "source": [
    "print(grid_results.best_score_) #It is assumed that this combination will yield the best performing model."
   ]
  },
  {
   "cell_type": "code",
   "execution_count": 71,
   "metadata": {},
   "outputs": [
    {
     "name": "stdout",
     "output_type": "stream",
     "text": [
      "LogisticRegression(C=1.2915496650148839, class_weight=None, dual=False,\n",
      "          fit_intercept=True, intercept_scaling=1, max_iter=100,\n",
      "          multi_class='ovr', n_jobs=1, penalty='l1', random_state=42,\n",
      "          solver='liblinear', tol=0.0001, verbose=0, warm_start=False)\n"
     ]
    }
   ],
   "source": [
    "xgb_ = grid_results.best_estimator_\n",
    "print(xgb_)"
   ]
  },
  {
   "cell_type": "code",
   "execution_count": 72,
   "metadata": {
    "collapsed": true
   },
   "outputs": [],
   "source": [
    "xgb_tuned = XGBClassifier(base_score=0.5, booster='gbtree', \n",
    "                          colsample_bytree=1, gamma=0, learning_rate=0.1, max_delta_step=0,\n",
    "                          max_depth=1, min_child_weight=1, missing=None, n_estimators=1000,\n",
    "                          n_jobs=1, nthread=None, objective='binary:logistic',\n",
    "                          random_state=42, reg_alpha=0, reg_lambda=1, scale_pos_weight=1,\n",
    "                          seed=None, silent=True, subsample=1)"
   ]
  },
  {
   "cell_type": "code",
   "execution_count": 73,
   "metadata": {
    "collapsed": true
   },
   "outputs": [],
   "source": [
    "xgb_tuned.fit(X_train_std_df, y_train)\n",
    "y_pred_prob = xgb_tuned.predict(X_test_std_df)\n",
    "y_pred_class = [round(each) for each in y_pred_prob]"
   ]
  },
  {
   "cell_type": "code",
   "execution_count": 74,
   "metadata": {},
   "outputs": [
    {
     "name": "stdout",
     "output_type": "stream",
     "text": [
      "ROC_AUC Score: 0.7084501355291594\n",
      "---\n",
      "Confusion Matrix:\n",
      "[[1174  120]\n",
      " [ 229  238]]\n"
     ]
    }
   ],
   "source": [
    "print('ROC_AUC Score: {}'. format(roc_auc_score(y_test, y_pred_class)))\n",
    "print('---')\n",
    "print('Confusion Matrix:')\n",
    "print('{}'.format(confusion_matrix(y_test, y_pred_class)))"
   ]
  },
  {
   "cell_type": "code",
   "execution_count": 75,
   "metadata": {},
   "outputs": [
    {
     "data": {
      "image/png": "[encoded data removed]",
      "text/plain": [
       "<matplotlib.figure.Figure at 0x1a13f53b70>"
      ]
     },
     "metadata": {},
     "output_type": "display_data"
    }
   ],
   "source": [
    "learning_curves(xgb_tuned, X_train_std_df, y_train, \"XGB Classifier\", 10)"
   ]
  },
  {
   "cell_type": "code",
   "execution_count": 76,
   "metadata": {},
   "outputs": [
    {
     "data": {
      "image/png": "[encoded data removed]",
      "text/plain": [
       "<matplotlib.figure.Figure at 0x1a13fc5080>"
      ]
     },
     "metadata": {},
     "output_type": "display_data"
    }
   ],
   "source": [
    "auc_roc_curves(xgb_tuned, X_test_std_df, y_test, 'XGB Classifier')"
   ]
  },
  {
   "cell_type": "markdown",
   "metadata": {},
   "source": [
    "# Part 3: Model development and tuning using `SVC`."
   ]
  },
  {
   "cell_type": "code",
   "execution_count": 77,
   "metadata": {
    "collapsed": true
   },
   "outputs": [],
   "source": [
    "svc_model = SVC(random_state=42, probability=True)\n",
    "svc_model.fit(X_train_std_df, y_train)\n",
    "y_pred_class = svc_model.predict(X_test_std_df)\n",
    "#http://scikit-learn.org/stable/modules/generated/sklearn.metrics.roc_auc_score.html"
   ]
  },
  {
   "cell_type": "code",
   "execution_count": 78,
   "metadata": {},
   "outputs": [
    {
     "name": "stdout",
     "output_type": "stream",
     "text": [
      "ROC_AUC Score: 0.6925672433137293\n",
      "---\n",
      "Confusion Matrix:\n",
      "[[1180  114]\n",
      " [ 246  221]]\n"
     ]
    }
   ],
   "source": [
    "print('ROC_AUC Score: {}'. format(roc_auc_score(y_test, y_pred_class)))\n",
    "print('---')\n",
    "print('Confusion Matrix:')\n",
    "print('{}'.format(confusion_matrix(y_test, y_pred_class)))"
   ]
  },
  {
   "cell_type": "code",
   "execution_count": 79,
   "metadata": {},
   "outputs": [
    {
     "data": {
      "image/png": "[encoded data removed]",
      "text/plain": [
       "<matplotlib.figure.Figure at 0x1a13daa908>"
      ]
     },
     "metadata": {},
     "output_type": "display_data"
    }
   ],
   "source": [
    "learning_curves(svc_model, X_train_std_df, y_train, \"SVC\", 10)"
   ]
  },
  {
   "cell_type": "code",
   "execution_count": 80,
   "metadata": {},
   "outputs": [
    {
     "data": {
      "image/png": "[encoded data removed]",
      "text/plain": [
       "<matplotlib.figure.Figure at 0x1a13f7cc18>"
      ]
     },
     "metadata": {},
     "output_type": "display_data"
    }
   ],
   "source": [
    "auc_roc_curves(svc_model, X_test_std_df, y_test, 'SVC')"
   ]
  },
  {
   "cell_type": "code",
   "execution_count": 81,
   "metadata": {
    "collapsed": true
   },
   "outputs": [],
   "source": [
    "# svc_grid = SVC(random_state=42)\n",
    "# C = [0.001, 0.10, 0.1, 10, 25, 50, 100, 1000]\n",
    "# gamma = [1e-2, 1e-3, 1e-4, 1e-5]\n",
    "# kernel = ['rbf', 'poly'] \n",
    "# hyperparameters = dict(C=C, gamma=gamma, kernel=kernel)\n",
    "# grid_results = GridSearchCV(svc_grid, \n",
    "#                             hyperparameters, \n",
    "#                             verbose=3, \n",
    "#                             cv=10, \n",
    "#                             scoring='roc_auc').fit(X_train_std_df, y_train) #Will output the probability."
   ]
  },
  {
   "cell_type": "code",
   "execution_count": 82,
   "metadata": {},
   "outputs": [
    {
     "name": "stdout",
     "output_type": "stream",
     "text": [
      "{'C': 1.2915496650148839, 'penalty': 'l1'}\n"
     ]
    }
   ],
   "source": [
    "print(grid_results.best_params_)"
   ]
  },
  {
   "cell_type": "code",
   "execution_count": 83,
   "metadata": {},
   "outputs": [
    {
     "name": "stdout",
     "output_type": "stream",
     "text": [
      "0.836180998501\n"
     ]
    }
   ],
   "source": [
    "print(grid_results.best_score_) #It is assumed that this combination will yield the best performing model."
   ]
  },
  {
   "cell_type": "code",
   "execution_count": 84,
   "metadata": {},
   "outputs": [
    {
     "name": "stdout",
     "output_type": "stream",
     "text": [
      "LogisticRegression(C=1.2915496650148839, class_weight=None, dual=False,\n",
      "          fit_intercept=True, intercept_scaling=1, max_iter=100,\n",
      "          multi_class='ovr', n_jobs=1, penalty='l1', random_state=42,\n",
      "          solver='liblinear', tol=0.0001, verbose=0, warm_start=False)\n"
     ]
    }
   ],
   "source": [
    "svc_ = grid_results.best_estimator_\n",
    "print(svc_)"
   ]
  },
  {
   "cell_type": "code",
   "execution_count": 85,
   "metadata": {
    "collapsed": true
   },
   "outputs": [],
   "source": [
    "svc_tuned = SVC(C=50, cache_size=200, class_weight=None, coef0=0.0,\n",
    "                decision_function_shape='ovr', degree=3, gamma=0.001, kernel='rbf',\n",
    "                max_iter=-1, probability=True, random_state=42, shrinking=True,\n",
    "                tol=0.001, verbose=False)"
   ]
  },
  {
   "cell_type": "code",
   "execution_count": 86,
   "metadata": {},
   "outputs": [
    {
     "data": {
      "text/plain": [
       "SVC(C=50, cache_size=200, class_weight=None, coef0=0.0,\n",
       "  decision_function_shape='ovr', degree=3, gamma=0.001, kernel='rbf',\n",
       "  max_iter=-1, probability=True, random_state=42, shrinking=True,\n",
       "  tol=0.001, verbose=False)"
      ]
     },
     "execution_count": 86,
     "metadata": {},
     "output_type": "execute_result"
    }
   ],
   "source": [
    "svc_tuned.fit(X_train_std_df, y_train)"
   ]
  },
  {
   "cell_type": "code",
   "execution_count": 87,
   "metadata": {
    "collapsed": true
   },
   "outputs": [],
   "source": [
    "svc_tuned.fit(X_train_std_df, y_train)\n",
    "y_pred_class = svc_tuned.predict(X_test_std_df) #Outputs the class type and not the probabilities."
   ]
  },
  {
   "cell_type": "code",
   "execution_count": 88,
   "metadata": {},
   "outputs": [
    {
     "name": "stdout",
     "output_type": "stream",
     "text": [
      "ROC_AUC Score: 0.6971477648444973\n",
      "---\n",
      "Confusion Matrix:\n",
      "[[1178  116]\n",
      " [ 241  226]]\n"
     ]
    }
   ],
   "source": [
    "print('ROC_AUC Score: {}'. format(roc_auc_score(y_test, y_pred_class)))\n",
    "print('---')\n",
    "print('Confusion Matrix:')\n",
    "print('{}'.format(confusion_matrix(y_test, y_pred_class)))"
   ]
  },
  {
   "cell_type": "code",
   "execution_count": 89,
   "metadata": {},
   "outputs": [
    {
     "data": {
      "image/png": "[encoded data removed]",
      "text/plain": [
       "<matplotlib.figure.Figure at 0x1a14648630>"
      ]
     },
     "metadata": {},
     "output_type": "display_data"
    }
   ],
   "source": [
    "learning_curves(svc_tuned, X_train_std_df, y_train, \"SVC\", 10)"
   ]
  },
  {
   "cell_type": "code",
   "execution_count": 90,
   "metadata": {},
   "outputs": [
    {
     "data": {
      "image/png": "[encoded data removed]",
      "text/plain": [
       "<matplotlib.figure.Figure at 0x1a14583240>"
      ]
     },
     "metadata": {},
     "output_type": "display_data"
    }
   ],
   "source": [
    "auc_roc_curves(svc_tuned, X_test_std_df, y_test, 'SVC')"
   ]
  },
  {
   "cell_type": "markdown",
   "metadata": {},
   "source": [
    "# Step 4 `PCA` Analysis."
   ]
  },
  {
   "cell_type": "code",
   "execution_count": 91,
   "metadata": {
    "collapsed": true
   },
   "outputs": [],
   "source": [
    "pca = PCA(n_components=10).fit(X_std)\n",
    "pca_results = pca.transform(X_std)"
   ]
  },
  {
   "cell_type": "code",
   "execution_count": 92,
   "metadata": {},
   "outputs": [
    {
     "data": {
      "image/png": "[encoded data removed]",
      "text/plain": [
       "<matplotlib.figure.Figure at 0x1a13fd30f0>"
      ]
     },
     "metadata": {},
     "output_type": "display_data"
    }
   ],
   "source": [
    "plt.plot(pca.explained_variance_ratio_)\n",
    "plt.xlabel('Number of Principal Components', fontsize=14)\n",
    "plt.ylabel('Explained Variance', fontsize=14)\n",
    "plt.title('PCA Scree Plot', fontsize = 14)\n",
    "plt.grid(True)\n",
    "plt.show()"
   ]
  },
  {
   "cell_type": "code",
   "execution_count": 93,
   "metadata": {},
   "outputs": [
    {
     "data": {
      "text/html": [
       "<div>\n",
       "<style>\n",
       "    .dataframe thead tr:only-child th {\n",
       "        text-align: right;\n",
       "    }\n",
       "\n",
       "    .dataframe thead th {\n",
       "        text-align: left;\n",
       "    }\n",
       "\n",
       "    .dataframe tbody tr th {\n",
       "        vertical-align: top;\n",
       "    }\n",
       "</style>\n",
       "<table border=\"1\" class=\"dataframe\">\n",
       "  <thead>\n",
       "    <tr style=\"text-align: right;\">\n",
       "      <th></th>\n",
       "      <th>Dimension_1</th>\n",
       "      <th>Dimension_2</th>\n",
       "    </tr>\n",
       "  </thead>\n",
       "  <tbody>\n",
       "    <tr>\n",
       "      <th>0</th>\n",
       "      <td>-0.154326</td>\n",
       "      <td>-2.929100</td>\n",
       "    </tr>\n",
       "    <tr>\n",
       "      <th>1</th>\n",
       "      <td>-0.645360</td>\n",
       "      <td>-0.652448</td>\n",
       "    </tr>\n",
       "    <tr>\n",
       "      <th>2</th>\n",
       "      <td>-0.419775</td>\n",
       "      <td>-2.320051</td>\n",
       "    </tr>\n",
       "    <tr>\n",
       "      <th>3</th>\n",
       "      <td>-1.342366</td>\n",
       "      <td>-1.343414</td>\n",
       "    </tr>\n",
       "    <tr>\n",
       "      <th>4</th>\n",
       "      <td>0.966897</td>\n",
       "      <td>-2.114483</td>\n",
       "    </tr>\n",
       "  </tbody>\n",
       "</table>\n",
       "</div>"
      ],
      "text/plain": [
       "   Dimension_1  Dimension_2\n",
       "0    -0.154326    -2.929100\n",
       "1    -0.645360    -0.652448\n",
       "2    -0.419775    -2.320051\n",
       "3    -1.342366    -1.343414\n",
       "4     0.966897    -2.114483"
      ]
     },
     "execution_count": 93,
     "metadata": {},
     "output_type": "execute_result"
    }
   ],
   "source": [
    "pca = PCA(n_components=2).fit(X_std)\n",
    "pca_results = pca.transform(X_std)\n",
    "\n",
    "pca_reduced_df = pd.DataFrame(pca_results, columns=[\"Dimension_1\", \"Dimension_2\"])\n",
    "pca_reduced_df.head()"
   ]
  },
  {
   "cell_type": "code",
   "execution_count": 94,
   "metadata": {},
   "outputs": [
    {
     "data": {
      "text/html": [
       "<div>\n",
       "<style>\n",
       "    .dataframe thead tr:only-child th {\n",
       "        text-align: right;\n",
       "    }\n",
       "\n",
       "    .dataframe thead th {\n",
       "        text-align: left;\n",
       "    }\n",
       "\n",
       "    .dataframe tbody tr th {\n",
       "        vertical-align: top;\n",
       "    }\n",
       "</style>\n",
       "<table border=\"1\" class=\"dataframe\">\n",
       "  <thead>\n",
       "    <tr style=\"text-align: right;\">\n",
       "      <th></th>\n",
       "      <th>Explained Variance</th>\n",
       "      <th>gender</th>\n",
       "      <th>SeniorCitizen</th>\n",
       "      <th>Partner</th>\n",
       "      <th>Dependents</th>\n",
       "      <th>tenure</th>\n",
       "      <th>PhoneService</th>\n",
       "      <th>MultipleLines</th>\n",
       "      <th>InternetService</th>\n",
       "      <th>OnlineSecurity</th>\n",
       "      <th>OnlineBackup</th>\n",
       "      <th>DeviceProtection</th>\n",
       "      <th>TechSupport</th>\n",
       "      <th>StreamingTV</th>\n",
       "      <th>StreamingMovies</th>\n",
       "      <th>Contract</th>\n",
       "      <th>PaperlessBilling</th>\n",
       "      <th>PaymentMethod</th>\n",
       "      <th>TotalCharges</th>\n",
       "    </tr>\n",
       "  </thead>\n",
       "  <tbody>\n",
       "    <tr>\n",
       "      <th>Dimension 1</th>\n",
       "      <td>0.3256</td>\n",
       "      <td>-0.0046</td>\n",
       "      <td>-0.0712</td>\n",
       "      <td>-0.0714</td>\n",
       "      <td>0.0197</td>\n",
       "      <td>-0.1668</td>\n",
       "      <td>0.0659</td>\n",
       "      <td>-0.0731</td>\n",
       "      <td>0.3043</td>\n",
       "      <td>-0.3476</td>\n",
       "      <td>-0.3537</td>\n",
       "      <td>-0.361</td>\n",
       "      <td>-0.3553</td>\n",
       "      <td>-0.3564</td>\n",
       "      <td>-0.3574</td>\n",
       "      <td>-0.0354</td>\n",
       "      <td>-0.1330</td>\n",
       "      <td>-0.0202</td>\n",
       "      <td>-0.2876</td>\n",
       "    </tr>\n",
       "    <tr>\n",
       "      <th>Dimension 2</th>\n",
       "      <td>0.1543</td>\n",
       "      <td>-0.0025</td>\n",
       "      <td>-0.0804</td>\n",
       "      <td>0.3254</td>\n",
       "      <td>0.2539</td>\n",
       "      <td>0.4676</td>\n",
       "      <td>0.1977</td>\n",
       "      <td>0.2510</td>\n",
       "      <td>0.2137</td>\n",
       "      <td>-0.0599</td>\n",
       "      <td>-0.0584</td>\n",
       "      <td>-0.052</td>\n",
       "      <td>-0.0591</td>\n",
       "      <td>-0.0822</td>\n",
       "      <td>-0.0832</td>\n",
       "      <td>0.4584</td>\n",
       "      <td>-0.1087</td>\n",
       "      <td>0.2869</td>\n",
       "      <td>0.3544</td>\n",
       "    </tr>\n",
       "  </tbody>\n",
       "</table>\n",
       "</div>"
      ],
      "text/plain": [
       "             Explained Variance  gender  SeniorCitizen  Partner  Dependents  \\\n",
       "Dimension 1              0.3256 -0.0046        -0.0712  -0.0714      0.0197   \n",
       "Dimension 2              0.1543 -0.0025        -0.0804   0.3254      0.2539   \n",
       "\n",
       "             tenure  PhoneService  MultipleLines  InternetService  \\\n",
       "Dimension 1 -0.1668        0.0659        -0.0731           0.3043   \n",
       "Dimension 2  0.4676        0.1977         0.2510           0.2137   \n",
       "\n",
       "             OnlineSecurity  OnlineBackup  DeviceProtection  TechSupport  \\\n",
       "Dimension 1         -0.3476       -0.3537            -0.361      -0.3553   \n",
       "Dimension 2         -0.0599       -0.0584            -0.052      -0.0591   \n",
       "\n",
       "             StreamingTV  StreamingMovies  Contract  PaperlessBilling  \\\n",
       "Dimension 1      -0.3564          -0.3574   -0.0354           -0.1330   \n",
       "Dimension 2      -0.0822          -0.0832    0.4584           -0.1087   \n",
       "\n",
       "             PaymentMethod  TotalCharges  \n",
       "Dimension 1        -0.0202       -0.2876  \n",
       "Dimension 2         0.2869        0.3544  "
      ]
     },
     "execution_count": 94,
     "metadata": {},
     "output_type": "execute_result"
    },
    {
     "data": {
      "image/png": "[encoded data removed]",
      "text/plain": [
       "<matplotlib.figure.Figure at 0x1a145579b0>"
      ]
     },
     "metadata": {},
     "output_type": "display_data"
    }
   ],
   "source": [
    "pca_results_(X, pca)"
   ]
  },
  {
   "cell_type": "code",
   "execution_count": 95,
   "metadata": {},
   "outputs": [
    {
     "data": {
      "text/plain": [
       "<matplotlib.axes._subplots.AxesSubplot at 0x1a1366f080>"
      ]
     },
     "execution_count": 95,
     "metadata": {},
     "output_type": "execute_result"
    },
    {
     "data": {
      "image/png": "[encoded data removed]",
      "text/plain": [
       "<matplotlib.figure.Figure at 0x1a13593d68>"
      ]
     },
     "metadata": {},
     "output_type": "display_data"
    }
   ],
   "source": [
    "biplot(X, pca_reduced_df, pca)"
   ]
  },
  {
   "cell_type": "code",
   "execution_count": 96,
   "metadata": {
    "collapsed": true
   },
   "outputs": [],
   "source": [
    "#https://stats.stackexchange.com/questions/244677/how-to-decide-between-pca-and-logistic-regression"
   ]
  },
  {
   "cell_type": "code",
   "execution_count": 97,
   "metadata": {},
   "outputs": [
    {
     "data": {
      "image/png": "[encoded data removed]",
      "text/plain": [
       "<matplotlib.figure.Figure at 0x1a1454f828>"
      ]
     },
     "metadata": {},
     "output_type": "display_data"
    }
   ],
   "source": [
    "lr_coef_curves(lr_tuned, X)"
   ]
  },
  {
   "cell_type": "markdown",
   "metadata": {},
   "source": [
    "# Step 5: Run new model with the most important features (i.e., reduced feature set)."
   ]
  },
  {
   "cell_type": "code",
   "execution_count": 98,
   "metadata": {},
   "outputs": [],
   "source": [
    "df_reduced = df[['tenure','MultipleLines', 'InternetService', 'StreamingTV', 'StreamingMovies', 'Contract','PaperlessBilling','TotalCharges']]"
   ]
  },
  {
   "cell_type": "code",
   "execution_count": 99,
   "metadata": {},
   "outputs": [
    {
     "data": {
      "text/html": [
       "<div>\n",
       "<style>\n",
       "    .dataframe thead tr:only-child th {\n",
       "        text-align: right;\n",
       "    }\n",
       "\n",
       "    .dataframe thead th {\n",
       "        text-align: left;\n",
       "    }\n",
       "\n",
       "    .dataframe tbody tr th {\n",
       "        vertical-align: top;\n",
       "    }\n",
       "</style>\n",
       "<table border=\"1\" class=\"dataframe\">\n",
       "  <thead>\n",
       "    <tr style=\"text-align: right;\">\n",
       "      <th></th>\n",
       "      <th>tenure</th>\n",
       "      <th>MultipleLines</th>\n",
       "      <th>InternetService</th>\n",
       "      <th>StreamingTV</th>\n",
       "      <th>StreamingMovies</th>\n",
       "      <th>Contract</th>\n",
       "      <th>PaperlessBilling</th>\n",
       "      <th>TotalCharges</th>\n",
       "    </tr>\n",
       "  </thead>\n",
       "  <tbody>\n",
       "    <tr>\n",
       "      <th>0</th>\n",
       "      <td>1</td>\n",
       "      <td>0</td>\n",
       "      <td>0</td>\n",
       "      <td>1</td>\n",
       "      <td>1</td>\n",
       "      <td>0</td>\n",
       "      <td>1</td>\n",
       "      <td>29.85</td>\n",
       "    </tr>\n",
       "    <tr>\n",
       "      <th>1</th>\n",
       "      <td>34</td>\n",
       "      <td>1</td>\n",
       "      <td>0</td>\n",
       "      <td>1</td>\n",
       "      <td>1</td>\n",
       "      <td>1</td>\n",
       "      <td>0</td>\n",
       "      <td>1889.50</td>\n",
       "    </tr>\n",
       "    <tr>\n",
       "      <th>2</th>\n",
       "      <td>2</td>\n",
       "      <td>1</td>\n",
       "      <td>0</td>\n",
       "      <td>1</td>\n",
       "      <td>1</td>\n",
       "      <td>0</td>\n",
       "      <td>1</td>\n",
       "      <td>108.15</td>\n",
       "    </tr>\n",
       "    <tr>\n",
       "      <th>3</th>\n",
       "      <td>45</td>\n",
       "      <td>0</td>\n",
       "      <td>0</td>\n",
       "      <td>1</td>\n",
       "      <td>1</td>\n",
       "      <td>1</td>\n",
       "      <td>0</td>\n",
       "      <td>1840.75</td>\n",
       "    </tr>\n",
       "    <tr>\n",
       "      <th>4</th>\n",
       "      <td>2</td>\n",
       "      <td>1</td>\n",
       "      <td>1</td>\n",
       "      <td>1</td>\n",
       "      <td>1</td>\n",
       "      <td>0</td>\n",
       "      <td>1</td>\n",
       "      <td>151.65</td>\n",
       "    </tr>\n",
       "  </tbody>\n",
       "</table>\n",
       "</div>"
      ],
      "text/plain": [
       "   tenure  MultipleLines  InternetService  StreamingTV  StreamingMovies  \\\n",
       "0       1              0                0            1                1   \n",
       "1      34              1                0            1                1   \n",
       "2       2              1                0            1                1   \n",
       "3      45              0                0            1                1   \n",
       "4       2              1                1            1                1   \n",
       "\n",
       "   Contract  PaperlessBilling  TotalCharges  \n",
       "0         0                 1         29.85  \n",
       "1         1                 0       1889.50  \n",
       "2         0                 1        108.15  \n",
       "3         1                 0       1840.75  \n",
       "4         0                 1        151.65  "
      ]
     },
     "execution_count": 99,
     "metadata": {},
     "output_type": "execute_result"
    }
   ],
   "source": [
    "df_reduced.head()"
   ]
  },
  {
   "cell_type": "code",
   "execution_count": 100,
   "metadata": {},
   "outputs": [
    {
     "data": {
      "text/plain": [
       "(7043, 8)"
      ]
     },
     "execution_count": 100,
     "metadata": {},
     "output_type": "execute_result"
    }
   ],
   "source": [
    "X = df_reduced\n",
    "X.shape"
   ]
  },
  {
   "cell_type": "code",
   "execution_count": 101,
   "metadata": {},
   "outputs": [
    {
     "data": {
      "text/plain": [
       "(7043,)"
      ]
     },
     "execution_count": 101,
     "metadata": {},
     "output_type": "execute_result"
    }
   ],
   "source": [
    "y.shape"
   ]
  },
  {
   "cell_type": "code",
   "execution_count": 102,
   "metadata": {},
   "outputs": [],
   "source": [
    "X_train, X_test, y_train, y_test = train_test_split(X, y, \n",
    "                                                    test_size=0.25, \n",
    "                                                    random_state=42, \n",
    "                                                    shuffle=True,\n",
    "                                                    stratify=y)"
   ]
  },
  {
   "cell_type": "code",
   "execution_count": 103,
   "metadata": {},
   "outputs": [
    {
     "name": "stdout",
     "output_type": "stream",
     "text": [
      "StandardScaler(copy=True, with_mean=True, with_std=True)\n"
     ]
    }
   ],
   "source": [
    "print(standard_scaler.fit(X_train))\n",
    "X_train_std_red = standard_scaler.transform(X_train)\n",
    "X_test_std_red = standard_scaler.transform(X_test)"
   ]
  },
  {
   "cell_type": "code",
   "execution_count": 104,
   "metadata": {},
   "outputs": [
    {
     "data": {
      "text/plain": [
       "XGBClassifier(base_score=0.5, booster='gbtree', colsample_bylevel=1,\n",
       "       colsample_bytree=1, gamma=0, learning_rate=0.1, max_delta_step=0,\n",
       "       max_depth=3, min_child_weight=1, missing=None, n_estimators=100,\n",
       "       n_jobs=1, nthread=None, objective='binary:logistic',\n",
       "       random_state=42, reg_alpha=0, reg_lambda=1, scale_pos_weight=1,\n",
       "       seed=None, silent=True, subsample=1)"
      ]
     },
     "execution_count": 104,
     "metadata": {},
     "output_type": "execute_result"
    }
   ],
   "source": [
    "#XGB base with standard scaler and a reduced feature set. \n",
    "xgb_model = XGBClassifier(random_state=42)\n",
    "xgb_model.fit(X_train_std_red, y_train)"
   ]
  },
  {
   "cell_type": "code",
   "execution_count": 105,
   "metadata": {},
   "outputs": [
    {
     "name": "stdout",
     "output_type": "stream",
     "text": [
      "ROC_AUC Score: 0.7019376201807718\n",
      "---\n",
      "Confusion Matrix:\n",
      "[[1171  123]\n",
      " [ 234  233]]\n"
     ]
    }
   ],
   "source": [
    "y_pred_prob = xgb_model.predict(X_test_std_red)\n",
    "y_pred_class = [round(each) for each in y_pred_prob]\n",
    "print('ROC_AUC Score: {}'. format(roc_auc_score(y_test, y_pred_class)))\n",
    "print('---')\n",
    "print('Confusion Matrix:')\n",
    "print('{}'.format(confusion_matrix(y_test, y_pred_class)))"
   ]
  },
  {
   "cell_type": "code",
   "execution_count": 106,
   "metadata": {},
   "outputs": [
    {
     "data": {
      "image/png": "[encoded data removed]",
      "text/plain": [
       "<matplotlib.figure.Figure at 0x1a101cb048>"
      ]
     },
     "metadata": {},
     "output_type": "display_data"
    }
   ],
   "source": [
    "learning_curves(xgb_model, X_train_std_red, y_train, \"XGB Classifier\", 10)"
   ]
  },
  {
   "cell_type": "code",
   "execution_count": 107,
   "metadata": {},
   "outputs": [
    {
     "data": {
      "image/png": "[encoded data removed]",
      "text/plain": [
       "<matplotlib.figure.Figure at 0x1a13f6f7b8>"
      ]
     },
     "metadata": {},
     "output_type": "display_data"
    }
   ],
   "source": [
    "auc_roc_curves(xgb_model, X_test_std_red, y_test, 'XGB Classifier')"
   ]
  },
  {
   "cell_type": "code",
   "execution_count": 108,
   "metadata": {},
   "outputs": [],
   "source": [
    "# xgb_grid = XGBClassifier(random_state=42)\n",
    "# learning_rate = [0.01, 0.1, 1, 10]\n",
    "# max_depth = [1, 3, 5, 7]\n",
    "# n_estimators = [100, 1000]\n",
    "# hyperparameters = dict(learning_rate=learning_rate, max_depth=max_depth, n_estimators=n_estimators)\n",
    "# grid_results = GridSearchCV(xgb_grid, \n",
    "#                             hyperparameters, \n",
    "#                             verbose=3, \n",
    "#                             cv=10, \n",
    "#                             scoring='roc_auc').fit(X_train_std_df, y_train) #Will output the probability."
   ]
  },
  {
   "cell_type": "code",
   "execution_count": 109,
   "metadata": {},
   "outputs": [
    {
     "name": "stdout",
     "output_type": "stream",
     "text": [
      "{'C': 1.2915496650148839, 'penalty': 'l1'}\n"
     ]
    }
   ],
   "source": [
    "print(grid_results.best_params_)"
   ]
  },
  {
   "cell_type": "code",
   "execution_count": 110,
   "metadata": {},
   "outputs": [
    {
     "name": "stdout",
     "output_type": "stream",
     "text": [
      "0.836180998501\n"
     ]
    }
   ],
   "source": [
    "print(grid_results.best_score_) #It is assumed that this combination will yield the best performing model."
   ]
  },
  {
   "cell_type": "code",
   "execution_count": 111,
   "metadata": {},
   "outputs": [
    {
     "name": "stdout",
     "output_type": "stream",
     "text": [
      "LogisticRegression(C=1.2915496650148839, class_weight=None, dual=False,\n",
      "          fit_intercept=True, intercept_scaling=1, max_iter=100,\n",
      "          multi_class='ovr', n_jobs=1, penalty='l1', random_state=42,\n",
      "          solver='liblinear', tol=0.0001, verbose=0, warm_start=False)\n"
     ]
    }
   ],
   "source": [
    "xgb_ = grid_results.best_estimator_\n",
    "print(xgb_)"
   ]
  },
  {
   "cell_type": "code",
   "execution_count": 112,
   "metadata": {
    "collapsed": true
   },
   "outputs": [],
   "source": [
    "xgb_reduced = XGBClassifier(base_score=0.5, booster='gbtree', colsample_bylevel=1,\n",
    "                            colsample_bytree=1, gamma=0, learning_rate=0.1, max_delta_step=0,\n",
    "                            max_depth=1, min_child_weight=1, missing=None, n_estimators=1000,\n",
    "                            n_jobs=1, nthread=None, objective='binary:logistic',\n",
    "                            random_state=42, reg_alpha=0, reg_lambda=1, scale_pos_weight=1,\n",
    "                            seed=None, silent=True, subsample=1)"
   ]
  },
  {
   "cell_type": "code",
   "execution_count": 113,
   "metadata": {
    "collapsed": true
   },
   "outputs": [],
   "source": [
    "xgb_tuned.fit(X_train_std_df, y_train)\n",
    "y_pred_prob = xgb_tuned.predict(X_test_std_df)\n",
    "y_pred_class = [round(each) for each in y_pred_prob]"
   ]
  },
  {
   "cell_type": "code",
   "execution_count": 114,
   "metadata": {},
   "outputs": [
    {
     "name": "stdout",
     "output_type": "stream",
     "text": [
      "ROC_AUC Score: 0.7084501355291594\n",
      "---\n",
      "Confusion Matrix:\n",
      "[[1174  120]\n",
      " [ 229  238]]\n"
     ]
    }
   ],
   "source": [
    "print('ROC_AUC Score: {}'. format(roc_auc_score(y_test, y_pred_class)))\n",
    "print('---')\n",
    "print('Confusion Matrix:')\n",
    "print('{}'.format(confusion_matrix(y_test, y_pred_class)))"
   ]
  },
  {
   "cell_type": "code",
   "execution_count": 115,
   "metadata": {
    "collapsed": true
   },
   "outputs": [],
   "source": [
    "def xgb_boost_function(X_data, y_data):\n",
    "    \n",
    "    X_train, X_test, y_train, y_test = train_test_split(X_data, y_data, \n",
    "                                                    test_size=0.25, \n",
    "                                                    random_state=42, \n",
    "                                                    shuffle=True,\n",
    "                                                    stratify=y)\n",
    "    \n",
    "    standard_scaler.fit(X_train)\n",
    "    X_train_std_red_ = standard_scaler.transform(X_train)\n",
    "    X_test_std_red_ = standard_scaler.transform(X_test)\n",
    "    xgb_model = XGBClassifier(random_state=42)\n",
    "    xgb_model.fit(X_train_std_red_, y_train)\n",
    "    \n",
    "    y_pred_prob = xgb_model.predict(X_test_std_red_)\n",
    "    y_pred_class = [round(each) for each in y_pred_prob]\n",
    "    return roc_auc_score(y_test, y_pred_class)"
   ]
  },
  {
   "cell_type": "code",
   "execution_count": 116,
   "metadata": {},
   "outputs": [],
   "source": [
    "feature_list = ['tenure','MultipleLines', 'InternetService', 'StreamingTV', 'StreamingMovies', 'Contract','PaperlessBilling','TotalCharges']"
   ]
  },
  {
   "cell_type": "code",
   "execution_count": 117,
   "metadata": {},
   "outputs": [
    {
     "data": {
      "text/plain": [
       "[<matplotlib.lines.Line2D at 0x1a13d29080>]"
      ]
     },
     "execution_count": 117,
     "metadata": {},
     "output_type": "execute_result"
    },
    {
     "data": {
      "image/png": "[encoded data removed]",
      "text/plain": [
       "<matplotlib.figure.Figure at 0x1a144f7b00>"
      ]
     },
     "metadata": {},
     "output_type": "display_data"
    }
   ],
   "source": [
    "initial_feature_list = []\n",
    "seq_feature_list = []\n",
    "\n",
    "roc_scores = []\n",
    "for each in feature_list:\n",
    "    initial_feature_list.append(each)\n",
    "    X = df[initial_feature_list]\n",
    "    roc_scores.append(xgb_boost_function(X, y))\n",
    "    seq_feature_list.append(list(initial_feature_list))\n",
    "plt.plot(roc_scores)"
   ]
  }
 ],
 "metadata": {
  "kernelspec": {
   "display_name": "Python 3",
   "language": "python",
   "name": "python3"
  },
  "language_info": {
   "codemirror_mode": {
    "name": "ipython",
    "version": 3
   },
   "file_extension": ".py",
   "mimetype": "text/x-python",
   "name": "python",
   "nbconvert_exporter": "python",
   "pygments_lexer": "ipython3",
   "version": "3.6.3"
  }
 },
 "nbformat": 4,
 "nbformat_minor": 2
}
