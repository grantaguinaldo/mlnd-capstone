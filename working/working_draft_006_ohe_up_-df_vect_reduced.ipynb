{
 "cells": [
  {
   "cell_type": "code",
   "execution_count": 42,
   "metadata": {
    "scrolled": true
   },
   "outputs": [
    {
     "name": "stdout",
     "output_type": "stream",
     "text": [
      "Dataset Value: 1\n"
     ]
    }
   ],
   "source": [
    "import time\n",
    "start0 = time.time()\n",
    "\n",
    "import warnings\n",
    "warnings.filterwarnings(\"ignore\")\n",
    "\n",
    "import pandas as pd\n",
    "import seaborn as sns\n",
    "import matplotlib.pyplot as plt\n",
    "import numpy as np\n",
    "from xgboost import XGBClassifier\n",
    "from sklearn.preprocessing import StandardScaler, MinMaxScaler, scale\n",
    "from sklearn.linear_model import LogisticRegression\n",
    "from sklearn.metrics import confusion_matrix, accuracy_score\n",
    "from sklearn.cross_validation import cross_val_score\n",
    "from sklearn.metrics import roc_auc_score, roc_curve, classification_report\n",
    "from sklearn.model_selection import learning_curve, StratifiedShuffleSplit, GridSearchCV, train_test_split\n",
    "from sklearn.decomposition import PCA\n",
    "from sklearn.svm import SVC\n",
    "from sklearn.utils import resample\n",
    "from sklearn.feature_selection import RFE\n",
    "from collections import Counter\n",
    "from sklearn.ensemble import VotingClassifier\n",
    "\n",
    "upsample_flag = 1   #1: Minor class upsampled; 2: Major class downsampled; 3: Baseline dataset\n",
    "\n",
    "num_cv = 3\n",
    "random_state_ = 42\n",
    "test_size_ = 0.65\n",
    "\n",
    "%matplotlib inline\n",
    "print('Dataset Value: {}' .format(upsample_flag))"
   ]
  },
  {
   "cell_type": "markdown",
   "metadata": {},
   "source": [
    "Data for this project was obtained from IBM."
   ]
  },
  {
   "cell_type": "code",
   "execution_count": 43,
   "metadata": {
    "scrolled": true
   },
   "outputs": [],
   "source": [
    "url = 'df_vect.csv'\n",
    "df_raw = pd.read_csv(url)"
   ]
  },
  {
   "cell_type": "code",
   "execution_count": 44,
   "metadata": {
    "scrolled": true
   },
   "outputs": [
    {
     "data": {
      "text/html": [
       "<div>\n",
       "<style scoped>\n",
       "    .dataframe tbody tr th:only-of-type {\n",
       "        vertical-align: middle;\n",
       "    }\n",
       "\n",
       "    .dataframe tbody tr th {\n",
       "        vertical-align: top;\n",
       "    }\n",
       "\n",
       "    .dataframe thead th {\n",
       "        text-align: right;\n",
       "    }\n",
       "</style>\n",
       "<table border=\"1\" class=\"dataframe\">\n",
       "  <thead>\n",
       "    <tr style=\"text-align: right;\">\n",
       "      <th></th>\n",
       "      <th>tenure</th>\n",
       "      <th>MonthlyCharges</th>\n",
       "      <th>TotalCharges</th>\n",
       "      <th>Churn</th>\n",
       "      <th>isFemale</th>\n",
       "      <th>hasPartner</th>\n",
       "      <th>hasDependents</th>\n",
       "      <th>hasPhoneService</th>\n",
       "      <th>hasMultipleLines</th>\n",
       "      <th>hasInternetService</th>\n",
       "      <th>hasOnlineSecurity</th>\n",
       "      <th>hasOnlineBackup</th>\n",
       "      <th>hasDeviceProtection</th>\n",
       "      <th>hasTechSupport</th>\n",
       "      <th>hasStreamingTV</th>\n",
       "      <th>hasStreamingMovies</th>\n",
       "      <th>hasContract</th>\n",
       "      <th>hasPaperlessBilling</th>\n",
       "      <th>hasAutoPaymentMethod</th>\n",
       "    </tr>\n",
       "  </thead>\n",
       "  <tbody>\n",
       "    <tr>\n",
       "      <th>0</th>\n",
       "      <td>1</td>\n",
       "      <td>29.85</td>\n",
       "      <td>29.85</td>\n",
       "      <td>0</td>\n",
       "      <td>1</td>\n",
       "      <td>1</td>\n",
       "      <td>0</td>\n",
       "      <td>0</td>\n",
       "      <td>0</td>\n",
       "      <td>1</td>\n",
       "      <td>0</td>\n",
       "      <td>1</td>\n",
       "      <td>0</td>\n",
       "      <td>0</td>\n",
       "      <td>0</td>\n",
       "      <td>0</td>\n",
       "      <td>0</td>\n",
       "      <td>1</td>\n",
       "      <td>0</td>\n",
       "    </tr>\n",
       "    <tr>\n",
       "      <th>1</th>\n",
       "      <td>34</td>\n",
       "      <td>56.95</td>\n",
       "      <td>1889.50</td>\n",
       "      <td>0</td>\n",
       "      <td>0</td>\n",
       "      <td>0</td>\n",
       "      <td>0</td>\n",
       "      <td>1</td>\n",
       "      <td>0</td>\n",
       "      <td>1</td>\n",
       "      <td>1</td>\n",
       "      <td>0</td>\n",
       "      <td>1</td>\n",
       "      <td>0</td>\n",
       "      <td>0</td>\n",
       "      <td>0</td>\n",
       "      <td>1</td>\n",
       "      <td>0</td>\n",
       "      <td>0</td>\n",
       "    </tr>\n",
       "    <tr>\n",
       "      <th>2</th>\n",
       "      <td>2</td>\n",
       "      <td>53.85</td>\n",
       "      <td>108.15</td>\n",
       "      <td>1</td>\n",
       "      <td>0</td>\n",
       "      <td>0</td>\n",
       "      <td>0</td>\n",
       "      <td>1</td>\n",
       "      <td>0</td>\n",
       "      <td>1</td>\n",
       "      <td>1</td>\n",
       "      <td>1</td>\n",
       "      <td>0</td>\n",
       "      <td>0</td>\n",
       "      <td>0</td>\n",
       "      <td>0</td>\n",
       "      <td>0</td>\n",
       "      <td>1</td>\n",
       "      <td>0</td>\n",
       "    </tr>\n",
       "    <tr>\n",
       "      <th>3</th>\n",
       "      <td>45</td>\n",
       "      <td>42.30</td>\n",
       "      <td>1840.75</td>\n",
       "      <td>0</td>\n",
       "      <td>0</td>\n",
       "      <td>0</td>\n",
       "      <td>0</td>\n",
       "      <td>0</td>\n",
       "      <td>0</td>\n",
       "      <td>1</td>\n",
       "      <td>1</td>\n",
       "      <td>0</td>\n",
       "      <td>1</td>\n",
       "      <td>1</td>\n",
       "      <td>0</td>\n",
       "      <td>0</td>\n",
       "      <td>1</td>\n",
       "      <td>0</td>\n",
       "      <td>1</td>\n",
       "    </tr>\n",
       "    <tr>\n",
       "      <th>4</th>\n",
       "      <td>2</td>\n",
       "      <td>70.70</td>\n",
       "      <td>151.65</td>\n",
       "      <td>1</td>\n",
       "      <td>1</td>\n",
       "      <td>0</td>\n",
       "      <td>0</td>\n",
       "      <td>1</td>\n",
       "      <td>0</td>\n",
       "      <td>1</td>\n",
       "      <td>0</td>\n",
       "      <td>0</td>\n",
       "      <td>0</td>\n",
       "      <td>0</td>\n",
       "      <td>0</td>\n",
       "      <td>0</td>\n",
       "      <td>0</td>\n",
       "      <td>1</td>\n",
       "      <td>0</td>\n",
       "    </tr>\n",
       "  </tbody>\n",
       "</table>\n",
       "</div>"
      ],
      "text/plain": [
       "   tenure  MonthlyCharges  TotalCharges  Churn  isFemale  hasPartner  \\\n",
       "0       1           29.85         29.85      0         1           1   \n",
       "1      34           56.95       1889.50      0         0           0   \n",
       "2       2           53.85        108.15      1         0           0   \n",
       "3      45           42.30       1840.75      0         0           0   \n",
       "4       2           70.70        151.65      1         1           0   \n",
       "\n",
       "   hasDependents  hasPhoneService  hasMultipleLines  hasInternetService  \\\n",
       "0              0                0                 0                   1   \n",
       "1              0                1                 0                   1   \n",
       "2              0                1                 0                   1   \n",
       "3              0                0                 0                   1   \n",
       "4              0                1                 0                   1   \n",
       "\n",
       "   hasOnlineSecurity  hasOnlineBackup  hasDeviceProtection  hasTechSupport  \\\n",
       "0                  0                1                    0               0   \n",
       "1                  1                0                    1               0   \n",
       "2                  1                1                    0               0   \n",
       "3                  1                0                    1               1   \n",
       "4                  0                0                    0               0   \n",
       "\n",
       "   hasStreamingTV  hasStreamingMovies  hasContract  hasPaperlessBilling  \\\n",
       "0               0                   0            0                    1   \n",
       "1               0                   0            1                    0   \n",
       "2               0                   0            0                    1   \n",
       "3               0                   0            1                    0   \n",
       "4               0                   0            0                    1   \n",
       "\n",
       "   hasAutoPaymentMethod  \n",
       "0                     0  \n",
       "1                     0  \n",
       "2                     0  \n",
       "3                     1  \n",
       "4                     0  "
      ]
     },
     "execution_count": 44,
     "metadata": {},
     "output_type": "execute_result"
    }
   ],
   "source": [
    "df_raw.head()"
   ]
  },
  {
   "cell_type": "code",
   "execution_count": 45,
   "metadata": {},
   "outputs": [
    {
     "data": {
      "text/html": [
       "<div>\n",
       "<style scoped>\n",
       "    .dataframe tbody tr th:only-of-type {\n",
       "        vertical-align: middle;\n",
       "    }\n",
       "\n",
       "    .dataframe tbody tr th {\n",
       "        vertical-align: top;\n",
       "    }\n",
       "\n",
       "    .dataframe thead th {\n",
       "        text-align: right;\n",
       "    }\n",
       "</style>\n",
       "<table border=\"1\" class=\"dataframe\">\n",
       "  <thead>\n",
       "    <tr style=\"text-align: right;\">\n",
       "      <th></th>\n",
       "      <th>tenure</th>\n",
       "      <th>MonthlyCharges</th>\n",
       "      <th>hasInternetService</th>\n",
       "      <th>hasStreamingMovies</th>\n",
       "      <th>hasContract</th>\n",
       "      <th>Churn</th>\n",
       "    </tr>\n",
       "  </thead>\n",
       "  <tbody>\n",
       "    <tr>\n",
       "      <th>0</th>\n",
       "      <td>1</td>\n",
       "      <td>29.85</td>\n",
       "      <td>1</td>\n",
       "      <td>0</td>\n",
       "      <td>0</td>\n",
       "      <td>0</td>\n",
       "    </tr>\n",
       "    <tr>\n",
       "      <th>1</th>\n",
       "      <td>34</td>\n",
       "      <td>56.95</td>\n",
       "      <td>1</td>\n",
       "      <td>0</td>\n",
       "      <td>1</td>\n",
       "      <td>0</td>\n",
       "    </tr>\n",
       "    <tr>\n",
       "      <th>2</th>\n",
       "      <td>2</td>\n",
       "      <td>53.85</td>\n",
       "      <td>1</td>\n",
       "      <td>0</td>\n",
       "      <td>0</td>\n",
       "      <td>1</td>\n",
       "    </tr>\n",
       "    <tr>\n",
       "      <th>3</th>\n",
       "      <td>45</td>\n",
       "      <td>42.30</td>\n",
       "      <td>1</td>\n",
       "      <td>0</td>\n",
       "      <td>1</td>\n",
       "      <td>0</td>\n",
       "    </tr>\n",
       "    <tr>\n",
       "      <th>4</th>\n",
       "      <td>2</td>\n",
       "      <td>70.70</td>\n",
       "      <td>1</td>\n",
       "      <td>0</td>\n",
       "      <td>0</td>\n",
       "      <td>1</td>\n",
       "    </tr>\n",
       "  </tbody>\n",
       "</table>\n",
       "</div>"
      ],
      "text/plain": [
       "   tenure  MonthlyCharges  hasInternetService  hasStreamingMovies  \\\n",
       "0       1           29.85                   1                   0   \n",
       "1      34           56.95                   1                   0   \n",
       "2       2           53.85                   1                   0   \n",
       "3      45           42.30                   1                   0   \n",
       "4       2           70.70                   1                   0   \n",
       "\n",
       "   hasContract  Churn  \n",
       "0            0      0  \n",
       "1            1      0  \n",
       "2            0      1  \n",
       "3            1      0  \n",
       "4            0      1  "
      ]
     },
     "execution_count": 45,
     "metadata": {},
     "output_type": "execute_result"
    }
   ],
   "source": [
    "df = df_raw[['tenure', 'MonthlyCharges', 'hasInternetService', 'hasStreamingMovies', 'hasContract', 'Churn']]\n",
    "df.head()\n"
   ]
  },
  {
   "cell_type": "markdown",
   "metadata": {},
   "source": [
    "# Data up/down sampling"
   ]
  },
  {
   "cell_type": "code",
   "execution_count": 46,
   "metadata": {
    "collapsed": true,
    "scrolled": true
   },
   "outputs": [],
   "source": [
    "df_vect_major = df[df['Churn'] == 0]\n",
    "df_vect_minor = df[df['Churn'] == 1]"
   ]
  },
  {
   "cell_type": "code",
   "execution_count": 47,
   "metadata": {},
   "outputs": [
    {
     "data": {
      "text/html": [
       "<div>\n",
       "<style scoped>\n",
       "    .dataframe tbody tr th:only-of-type {\n",
       "        vertical-align: middle;\n",
       "    }\n",
       "\n",
       "    .dataframe tbody tr th {\n",
       "        vertical-align: top;\n",
       "    }\n",
       "\n",
       "    .dataframe thead th {\n",
       "        text-align: right;\n",
       "    }\n",
       "</style>\n",
       "<table border=\"1\" class=\"dataframe\">\n",
       "  <thead>\n",
       "    <tr style=\"text-align: right;\">\n",
       "      <th></th>\n",
       "      <th>tenure</th>\n",
       "      <th>MonthlyCharges</th>\n",
       "      <th>hasInternetService</th>\n",
       "      <th>hasStreamingMovies</th>\n",
       "      <th>hasContract</th>\n",
       "      <th>Churn</th>\n",
       "    </tr>\n",
       "  </thead>\n",
       "  <tbody>\n",
       "    <tr>\n",
       "      <th>0</th>\n",
       "      <td>1</td>\n",
       "      <td>29.85</td>\n",
       "      <td>1</td>\n",
       "      <td>0</td>\n",
       "      <td>0</td>\n",
       "      <td>0</td>\n",
       "    </tr>\n",
       "    <tr>\n",
       "      <th>1</th>\n",
       "      <td>34</td>\n",
       "      <td>56.95</td>\n",
       "      <td>1</td>\n",
       "      <td>0</td>\n",
       "      <td>1</td>\n",
       "      <td>0</td>\n",
       "    </tr>\n",
       "    <tr>\n",
       "      <th>3</th>\n",
       "      <td>45</td>\n",
       "      <td>42.30</td>\n",
       "      <td>1</td>\n",
       "      <td>0</td>\n",
       "      <td>1</td>\n",
       "      <td>0</td>\n",
       "    </tr>\n",
       "    <tr>\n",
       "      <th>6</th>\n",
       "      <td>22</td>\n",
       "      <td>89.10</td>\n",
       "      <td>1</td>\n",
       "      <td>0</td>\n",
       "      <td>0</td>\n",
       "      <td>0</td>\n",
       "    </tr>\n",
       "    <tr>\n",
       "      <th>7</th>\n",
       "      <td>10</td>\n",
       "      <td>29.75</td>\n",
       "      <td>1</td>\n",
       "      <td>0</td>\n",
       "      <td>0</td>\n",
       "      <td>0</td>\n",
       "    </tr>\n",
       "  </tbody>\n",
       "</table>\n",
       "</div>"
      ],
      "text/plain": [
       "   tenure  MonthlyCharges  hasInternetService  hasStreamingMovies  \\\n",
       "0       1           29.85                   1                   0   \n",
       "1      34           56.95                   1                   0   \n",
       "3      45           42.30                   1                   0   \n",
       "6      22           89.10                   1                   0   \n",
       "7      10           29.75                   1                   0   \n",
       "\n",
       "   hasContract  Churn  \n",
       "0            0      0  \n",
       "1            1      0  \n",
       "3            1      0  \n",
       "6            0      0  \n",
       "7            0      0  "
      ]
     },
     "execution_count": 47,
     "metadata": {},
     "output_type": "execute_result"
    }
   ],
   "source": [
    "df_vect_major.head()"
   ]
  },
  {
   "cell_type": "code",
   "execution_count": 48,
   "metadata": {},
   "outputs": [
    {
     "data": {
      "text/html": [
       "<div>\n",
       "<style scoped>\n",
       "    .dataframe tbody tr th:only-of-type {\n",
       "        vertical-align: middle;\n",
       "    }\n",
       "\n",
       "    .dataframe tbody tr th {\n",
       "        vertical-align: top;\n",
       "    }\n",
       "\n",
       "    .dataframe thead th {\n",
       "        text-align: right;\n",
       "    }\n",
       "</style>\n",
       "<table border=\"1\" class=\"dataframe\">\n",
       "  <thead>\n",
       "    <tr style=\"text-align: right;\">\n",
       "      <th></th>\n",
       "      <th>tenure</th>\n",
       "      <th>MonthlyCharges</th>\n",
       "      <th>hasInternetService</th>\n",
       "      <th>hasStreamingMovies</th>\n",
       "      <th>hasContract</th>\n",
       "      <th>Churn</th>\n",
       "    </tr>\n",
       "  </thead>\n",
       "  <tbody>\n",
       "    <tr>\n",
       "      <th>2</th>\n",
       "      <td>2</td>\n",
       "      <td>53.85</td>\n",
       "      <td>1</td>\n",
       "      <td>0</td>\n",
       "      <td>0</td>\n",
       "      <td>1</td>\n",
       "    </tr>\n",
       "    <tr>\n",
       "      <th>4</th>\n",
       "      <td>2</td>\n",
       "      <td>70.70</td>\n",
       "      <td>1</td>\n",
       "      <td>0</td>\n",
       "      <td>0</td>\n",
       "      <td>1</td>\n",
       "    </tr>\n",
       "    <tr>\n",
       "      <th>5</th>\n",
       "      <td>8</td>\n",
       "      <td>99.65</td>\n",
       "      <td>1</td>\n",
       "      <td>1</td>\n",
       "      <td>0</td>\n",
       "      <td>1</td>\n",
       "    </tr>\n",
       "    <tr>\n",
       "      <th>8</th>\n",
       "      <td>28</td>\n",
       "      <td>104.80</td>\n",
       "      <td>1</td>\n",
       "      <td>1</td>\n",
       "      <td>0</td>\n",
       "      <td>1</td>\n",
       "    </tr>\n",
       "    <tr>\n",
       "      <th>13</th>\n",
       "      <td>49</td>\n",
       "      <td>103.70</td>\n",
       "      <td>1</td>\n",
       "      <td>1</td>\n",
       "      <td>0</td>\n",
       "      <td>1</td>\n",
       "    </tr>\n",
       "  </tbody>\n",
       "</table>\n",
       "</div>"
      ],
      "text/plain": [
       "    tenure  MonthlyCharges  hasInternetService  hasStreamingMovies  \\\n",
       "2        2           53.85                   1                   0   \n",
       "4        2           70.70                   1                   0   \n",
       "5        8           99.65                   1                   1   \n",
       "8       28          104.80                   1                   1   \n",
       "13      49          103.70                   1                   1   \n",
       "\n",
       "    hasContract  Churn  \n",
       "2             0      1  \n",
       "4             0      1  \n",
       "5             0      1  \n",
       "8             0      1  \n",
       "13            0      1  "
      ]
     },
     "execution_count": 48,
     "metadata": {},
     "output_type": "execute_result"
    }
   ],
   "source": [
    "df_vect_minor.head()"
   ]
  },
  {
   "cell_type": "code",
   "execution_count": 49,
   "metadata": {
    "scrolled": true
   },
   "outputs": [
    {
     "name": "stdout",
     "output_type": "stream",
     "text": [
      "Major Class Shape: (5174, 6)\n",
      "Minor Class Shape: (1869, 6)\n"
     ]
    }
   ],
   "source": [
    "print(\"Major Class Shape: {}\" .format(df_vect_major.shape))\n",
    "print(\"Minor Class Shape: {}\" .format(df_vect_minor.shape))"
   ]
  },
  {
   "cell_type": "code",
   "execution_count": 50,
   "metadata": {
    "collapsed": true,
    "scrolled": true
   },
   "outputs": [],
   "source": [
    "df_minor_upsample = resample(df_vect_minor, replace=True, n_samples =5174, random_state=random_state_)"
   ]
  },
  {
   "cell_type": "code",
   "execution_count": 51,
   "metadata": {
    "scrolled": true
   },
   "outputs": [
    {
     "data": {
      "text/plain": [
       "(5174, 6)"
      ]
     },
     "execution_count": 51,
     "metadata": {},
     "output_type": "execute_result"
    }
   ],
   "source": [
    "df_minor_upsample.shape"
   ]
  },
  {
   "cell_type": "code",
   "execution_count": 52,
   "metadata": {
    "collapsed": true,
    "scrolled": true
   },
   "outputs": [],
   "source": [
    "df_upsampled = pd.concat([df_vect_major, df_minor_upsample])"
   ]
  },
  {
   "cell_type": "code",
   "execution_count": 53,
   "metadata": {
    "scrolled": true
   },
   "outputs": [
    {
     "data": {
      "text/plain": [
       "(10348, 6)"
      ]
     },
     "execution_count": 53,
     "metadata": {},
     "output_type": "execute_result"
    }
   ],
   "source": [
    "df_upsampled.shape"
   ]
  },
  {
   "cell_type": "code",
   "execution_count": 54,
   "metadata": {
    "scrolled": true
   },
   "outputs": [
    {
     "data": {
      "text/plain": [
       "(5174, 6)"
      ]
     },
     "execution_count": 54,
     "metadata": {},
     "output_type": "execute_result"
    }
   ],
   "source": [
    "df_upsampled[df['Churn'] == 0].shape"
   ]
  },
  {
   "cell_type": "code",
   "execution_count": 55,
   "metadata": {
    "scrolled": true
   },
   "outputs": [
    {
     "data": {
      "text/plain": [
       "(5174, 6)"
      ]
     },
     "execution_count": 55,
     "metadata": {},
     "output_type": "execute_result"
    }
   ],
   "source": [
    "df_upsampled[df['Churn'] == 1].shape"
   ]
  },
  {
   "cell_type": "code",
   "execution_count": 56,
   "metadata": {
    "scrolled": true
   },
   "outputs": [],
   "source": [
    "X = df_upsampled.drop('Churn', axis=1)\n",
    "y = df_upsampled['Churn']"
   ]
  },
  {
   "cell_type": "code",
   "execution_count": 57,
   "metadata": {
    "scrolled": true
   },
   "outputs": [
    {
     "data": {
      "text/plain": [
       "(10348, 5)"
      ]
     },
     "execution_count": 57,
     "metadata": {},
     "output_type": "execute_result"
    }
   ],
   "source": [
    "X.shape"
   ]
  },
  {
   "cell_type": "code",
   "execution_count": 58,
   "metadata": {
    "scrolled": true
   },
   "outputs": [
    {
     "data": {
      "text/plain": [
       "(10348,)"
      ]
     },
     "execution_count": 58,
     "metadata": {},
     "output_type": "execute_result"
    }
   ],
   "source": [
    "y.shape"
   ]
  },
  {
   "cell_type": "code",
   "execution_count": 59,
   "metadata": {
    "collapsed": true,
    "scrolled": true
   },
   "outputs": [],
   "source": [
    "def learning_curves(model, X_training_data, y_training_data, model_name, num_k):\n",
    "    '''\n",
    "    This function creates testing and cross validation learning curves that can be used\n",
    "    to assess the performance of a given model.\n",
    "    \n",
    "    Inputs:\n",
    "    model: This is the model object being used. \n",
    "    X_training_data: This is the training data that is used for the model training.\n",
    "    y_training_data: This is the actual response values for the training set.\n",
    "    model_name: This is the name of the model, as a text string.\n",
    "    num_k: This is the number of folks to use during the cross validation phase.\n",
    "    '''\n",
    "    plt.figure()\n",
    "\n",
    "    plt.xlabel(\"Training examples\")\n",
    "    plt.ylabel(\"Score\")\n",
    "\n",
    "    train_sizes, train_scores, test_scores = learning_curve(model, X_training_data, y_training_data, cv=num_k)\n",
    "\n",
    "    plt.title(\"Learning Curves: \" + model_name + \" With Standard Scaler\")\n",
    "\n",
    "    train_scores_mean = np.mean(train_scores, axis=1)\n",
    "    train_scores_std = np.std(train_scores, axis=1)\n",
    "    test_scores_mean = np.mean(test_scores, axis=1)\n",
    "    test_scores_std = np.std(test_scores, axis=1)\n",
    "\n",
    "    plt.grid()\n",
    "\n",
    "    plt.fill_between(train_sizes, \n",
    "                     train_scores_mean - train_scores_std,\n",
    "                     train_scores_mean + train_scores_std, \n",
    "                     alpha=0.1,\n",
    "                     color=\"r\")\n",
    "\n",
    "    plt.fill_between(train_sizes, \n",
    "                     test_scores_mean - test_scores_std,\n",
    "                     test_scores_mean + test_scores_std, \n",
    "                     alpha=0.1, color=\"b\")\n",
    "\n",
    "    plt.plot(train_sizes, \n",
    "             train_scores_mean, \n",
    "             'o-', \n",
    "             color=\"r\", \n",
    "             label=\"Training score\")\n",
    "\n",
    "    plt.plot(train_sizes, \n",
    "             test_scores_mean, \n",
    "             'o-', color=\"b\", \n",
    "             label=\"Cross-validation score\")\n",
    "\n",
    "    plt.ylim([0.0, 1.25])\n",
    "    plt.legend(loc=\"best\")\n",
    "    return plt.show()"
   ]
  },
  {
   "cell_type": "code",
   "execution_count": 60,
   "metadata": {
    "collapsed": true,
    "scrolled": true
   },
   "outputs": [],
   "source": [
    "def auc_roc_curves(model, X_test_data_, y_test_data_, model_name):\n",
    "    \n",
    "    roc_auc  = roc_auc_score(y_test_data_, model.predict(X_test_data_))\n",
    "    fpr, tpr, thresholds = roc_curve(y_test, model.predict_proba(X_test_data_)[:,1])\n",
    "    \n",
    "    plt.figure()\n",
    "\n",
    "    plt.plot(fpr, tpr, label= model_name + ' (area = %0.2f)' % roc_auc)\n",
    "    plt.plot([0, 1], [0, 1],'r--')\n",
    "    plt.xlim([0.0, 1.0])\n",
    "    plt.ylim([0.0, 1.05])\n",
    "\n",
    "    plt.xlabel('False Positive Rate')\n",
    "    plt.ylabel('True Positive Rate')\n",
    "    plt.title('Receiver operating characteristic: ' + model_name)\n",
    "    plt.legend(loc=\"lower right\")\n",
    "    return plt.show()"
   ]
  },
  {
   "cell_type": "markdown",
   "metadata": {},
   "source": [
    "# Data Scaling Using `StandardScaler`."
   ]
  },
  {
   "cell_type": "code",
   "execution_count": 61,
   "metadata": {
    "collapsed": true,
    "scrolled": true
   },
   "outputs": [],
   "source": [
    "standard_scaler = StandardScaler()"
   ]
  },
  {
   "cell_type": "code",
   "execution_count": 62,
   "metadata": {
    "scrolled": true
   },
   "outputs": [
    {
     "name": "stdout",
     "output_type": "stream",
     "text": [
      "StandardScaler(copy=True, with_mean=True, with_std=True)\n"
     ]
    }
   ],
   "source": [
    "print(standard_scaler.fit(X))\n",
    "X_std = standard_scaler.transform(X)"
   ]
  },
  {
   "cell_type": "code",
   "execution_count": 63,
   "metadata": {
    "collapsed": true,
    "scrolled": true
   },
   "outputs": [],
   "source": [
    "#https://chrisalbon.com/machine_learning/model_evaluation/split_data_into_training_and_test_sets/\n",
    "#Tl;dr: Split the data set using train_test_split first then apply standard scaler. "
   ]
  },
  {
   "cell_type": "code",
   "execution_count": 64,
   "metadata": {
    "collapsed": true,
    "scrolled": true
   },
   "outputs": [],
   "source": [
    "X_train, X_test, y_train, y_test = train_test_split(X, y, \n",
    "                                                    test_size=test_size_, \n",
    "                                                    random_state=random_state_, \n",
    "                                                    shuffle=True, \n",
    "                                                    stratify=y)\n",
    "#http://scikit-learn.org/stable/modules/generated/sklearn.model_selection.train_test_split.html\n",
    "#This means that we don't need to run Stratified_Shuffle_Split."
   ]
  },
  {
   "cell_type": "code",
   "execution_count": 65,
   "metadata": {
    "scrolled": true
   },
   "outputs": [
    {
     "name": "stdout",
     "output_type": "stream",
     "text": [
      "StandardScaler(copy=True, with_mean=True, with_std=True)\n"
     ]
    }
   ],
   "source": [
    "print(standard_scaler.fit(X_train))\n",
    "X_train_std_df = standard_scaler.transform(X_train)\n",
    "X_test_std_df = standard_scaler.transform(X_test)"
   ]
  },
  {
   "cell_type": "code",
   "execution_count": 66,
   "metadata": {
    "scrolled": true
   },
   "outputs": [
    {
     "name": "stdout",
     "output_type": "stream",
     "text": [
      "Shape of X_train: (3621, 5)\n",
      "Shape of X_test: (6727, 5)\n",
      "Shape of y_train: (3621,)\n",
      "Shape of y_test: (6727,)\n"
     ]
    }
   ],
   "source": [
    "print(\"Shape of X_train: {}\".format(X_train.shape))\n",
    "print(\"Shape of X_test: {}\".format(X_test.shape))\n",
    "print(\"Shape of y_train: {}\".format(y_train.shape))\n",
    "print(\"Shape of y_test: {}\".format(y_test.shape))"
   ]
  },
  {
   "cell_type": "markdown",
   "metadata": {},
   "source": [
    "# Part 2: Model development and tuning using `XBGClassifier`."
   ]
  },
  {
   "cell_type": "code",
   "execution_count": 67,
   "metadata": {
    "scrolled": true
   },
   "outputs": [
    {
     "data": {
      "text/plain": [
       "XGBClassifier(base_score=0.5, booster='gbtree', colsample_bylevel=1,\n",
       "       colsample_bytree=1, gamma=0, learning_rate=0.1, max_delta_step=0,\n",
       "       max_depth=3, min_child_weight=1, missing=None, n_estimators=100,\n",
       "       n_jobs=1, nthread=None, objective='binary:logistic',\n",
       "       random_state=42, reg_alpha=0, reg_lambda=1, scale_pos_weight=1,\n",
       "       seed=None, silent=True, subsample=1)"
      ]
     },
     "execution_count": 67,
     "metadata": {},
     "output_type": "execute_result"
    }
   ],
   "source": [
    "#https://machinelearningmastery.com/develop-first-xgboost-model-python-scikit-learn/\n",
    "#https://github.com/dmlc/xgboost/tree/master/demo/guide-python\n",
    "\n",
    "#XGB base with standard scaler\n",
    "xgb_model = XGBClassifier(random_state=random_state_)\n",
    "xgb_model.fit(X_train_std_df, y_train)"
   ]
  },
  {
   "cell_type": "code",
   "execution_count": 68,
   "metadata": {
    "scrolled": true
   },
   "outputs": [],
   "source": [
    "y_pred_prob = xgb_model.predict(X_test_std_df)\n",
    "y_pred_class = xgb_model.predict(X_test_std_df)"
   ]
  },
  {
   "cell_type": "code",
   "execution_count": 69,
   "metadata": {
    "scrolled": true
   },
   "outputs": [
    {
     "name": "stdout",
     "output_type": "stream",
     "text": [
      "ROC_AUC Score: 0.7648363865992194\n",
      "---\n",
      "Classification Report:\n",
      "             precision    recall  f1-score   support\n",
      "\n",
      "          0       0.80      0.71      0.75      3364\n",
      "          1       0.74      0.82      0.78      3363\n",
      "\n",
      "avg / total       0.77      0.76      0.76      6727\n",
      "\n",
      "---\n",
      "Confusion Matrix:\n",
      "[[2390  974]\n",
      " [ 608 2755]]\n"
     ]
    }
   ],
   "source": [
    "print('ROC_AUC Score: {}'. format(roc_auc_score(y_test, y_pred_class)))\n",
    "print('---')\n",
    "print('Classification Report:')\n",
    "print('{}'.format(classification_report(y_test, y_pred_class)))\n",
    "print('---')\n",
    "print('Confusion Matrix:')\n",
    "print('{}'.format(confusion_matrix(y_test, y_pred_class)))"
   ]
  },
  {
   "cell_type": "code",
   "execution_count": 70,
   "metadata": {
    "scrolled": true
   },
   "outputs": [
    {
     "data": {
      "image/png": "[encoded data removed]",
      "text/plain": [
       "<Figure size 432x288 with 1 Axes>"
      ]
     },
     "metadata": {},
     "output_type": "display_data"
    }
   ],
   "source": [
    "learning_curves(xgb_model, X_train_std_df, y_train, \"XGB Classifier\", 10)"
   ]
  },
  {
   "cell_type": "code",
   "execution_count": 71,
   "metadata": {
    "scrolled": false
   },
   "outputs": [
    {
     "data": {
      "image/png": "[encoded data removed]",
      "text/plain": [
       "<Figure size 432x288 with 1 Axes>"
      ]
     },
     "metadata": {},
     "output_type": "display_data"
    }
   ],
   "source": [
    "auc_roc_curves(xgb_model, X_test_std_df, y_test, 'XGB Classifier')"
   ]
  },
  {
   "cell_type": "code",
   "execution_count": 72,
   "metadata": {
    "scrolled": true
   },
   "outputs": [
    {
     "name": "stdout",
     "output_type": "stream",
     "text": [
      "Fitting 3 folds for each of 24 candidates, totalling 72 fits\n",
      "[CV] learning_rate=0.01, max_depth=1, n_estimators=100 ...............\n",
      "[CV]  learning_rate=0.01, max_depth=1, n_estimators=100, score=0.8675496688741722, total=   0.1s\n",
      "[CV] learning_rate=0.01, max_depth=1, n_estimators=100 ...............\n",
      "[CV]  learning_rate=0.01, max_depth=1, n_estimators=100, score=0.8692052980132451, total=   0.0s\n",
      "[CV] learning_rate=0.01, max_depth=1, n_estimators=100 ...............\n",
      "[CV]  learning_rate=0.01, max_depth=1, n_estimators=100, score=0.8855721393034826, total=   0.0s\n",
      "[CV] learning_rate=0.01, max_depth=1, n_estimators=1000 ..............\n"
     ]
    },
    {
     "name": "stderr",
     "output_type": "stream",
     "text": [
      "[Parallel(n_jobs=1)]: Done   1 out of   1 | elapsed:    0.1s remaining:    0.0s\n",
      "[Parallel(n_jobs=1)]: Done   2 out of   2 | elapsed:    0.1s remaining:    0.0s\n"
     ]
    },
    {
     "name": "stdout",
     "output_type": "stream",
     "text": [
      "[CV]  learning_rate=0.01, max_depth=1, n_estimators=1000, score=0.8195364238410596, total=   0.3s\n",
      "[CV] learning_rate=0.01, max_depth=1, n_estimators=1000 ..............\n",
      "[CV]  learning_rate=0.01, max_depth=1, n_estimators=1000, score=0.7897350993377483, total=   0.3s\n",
      "[CV] learning_rate=0.01, max_depth=1, n_estimators=1000 ..............\n",
      "[CV]  learning_rate=0.01, max_depth=1, n_estimators=1000, score=0.8590381426202321, total=   0.3s\n",
      "[CV] learning_rate=0.01, max_depth=3, n_estimators=100 ...............\n",
      "[CV]  learning_rate=0.01, max_depth=3, n_estimators=100, score=0.8211920529801324, total=   0.1s\n",
      "[CV] learning_rate=0.01, max_depth=3, n_estimators=100 ...............\n",
      "[CV]  learning_rate=0.01, max_depth=3, n_estimators=100, score=0.7682119205298014, total=   0.1s\n",
      "[CV] learning_rate=0.01, max_depth=3, n_estimators=100 ...............\n",
      "[CV]  learning_rate=0.01, max_depth=3, n_estimators=100, score=0.8076285240464345, total=   0.1s\n",
      "[CV] learning_rate=0.01, max_depth=3, n_estimators=1000 ..............\n",
      "[CV]  learning_rate=0.01, max_depth=3, n_estimators=1000, score=0.8096026490066225, total=   0.7s\n",
      "[CV] learning_rate=0.01, max_depth=3, n_estimators=1000 ..............\n",
      "[CV]  learning_rate=0.01, max_depth=3, n_estimators=1000, score=0.7996688741721855, total=   0.7s\n",
      "[CV] learning_rate=0.01, max_depth=3, n_estimators=1000 ..............\n",
      "[CV]  learning_rate=0.01, max_depth=3, n_estimators=1000, score=0.835820895522388, total=   0.7s\n",
      "[CV] learning_rate=0.01, max_depth=5, n_estimators=100 ...............\n",
      "[CV]  learning_rate=0.01, max_depth=5, n_estimators=100, score=0.8228476821192053, total=   0.1s\n",
      "[CV] learning_rate=0.01, max_depth=5, n_estimators=100 ...............\n",
      "[CV]  learning_rate=0.01, max_depth=5, n_estimators=100, score=0.7748344370860927, total=   0.1s\n",
      "[CV] learning_rate=0.01, max_depth=5, n_estimators=100 ...............\n",
      "[CV]  learning_rate=0.01, max_depth=5, n_estimators=100, score=0.8208955223880597, total=   0.1s\n",
      "[CV] learning_rate=0.01, max_depth=5, n_estimators=1000 ..............\n",
      "[CV]  learning_rate=0.01, max_depth=5, n_estimators=1000, score=0.8079470198675497, total=   1.1s\n",
      "[CV] learning_rate=0.01, max_depth=5, n_estimators=1000 ..............\n",
      "[CV]  learning_rate=0.01, max_depth=5, n_estimators=1000, score=0.804635761589404, total=   1.1s\n",
      "[CV] learning_rate=0.01, max_depth=5, n_estimators=1000 ..............\n",
      "[CV]  learning_rate=0.01, max_depth=5, n_estimators=1000, score=0.8325041459369817, total=   1.1s\n",
      "[CV] learning_rate=0.01, max_depth=7, n_estimators=100 ...............\n",
      "[CV]  learning_rate=0.01, max_depth=7, n_estimators=100, score=0.8360927152317881, total=   0.2s\n",
      "[CV] learning_rate=0.01, max_depth=7, n_estimators=100 ...............\n",
      "[CV]  learning_rate=0.01, max_depth=7, n_estimators=100, score=0.8162251655629139, total=   0.2s\n",
      "[CV] learning_rate=0.01, max_depth=7, n_estimators=100 ...............\n",
      "[CV]  learning_rate=0.01, max_depth=7, n_estimators=100, score=0.8225538971807629, total=   0.2s\n",
      "[CV] learning_rate=0.01, max_depth=7, n_estimators=1000 ..............\n",
      "[CV]  learning_rate=0.01, max_depth=7, n_estimators=1000, score=0.8195364238410596, total=   1.5s\n",
      "[CV] learning_rate=0.01, max_depth=7, n_estimators=1000 ..............\n",
      "[CV]  learning_rate=0.01, max_depth=7, n_estimators=1000, score=0.8029801324503312, total=   1.5s\n",
      "[CV] learning_rate=0.01, max_depth=7, n_estimators=1000 ..............\n",
      "[CV]  learning_rate=0.01, max_depth=7, n_estimators=1000, score=0.8225538971807629, total=   1.5s\n",
      "[CV] learning_rate=0.1, max_depth=1, n_estimators=100 ................\n",
      "[CV]  learning_rate=0.1, max_depth=1, n_estimators=100, score=0.8211920529801324, total=   0.0s\n",
      "[CV] learning_rate=0.1, max_depth=1, n_estimators=100 ................\n",
      "[CV]  learning_rate=0.1, max_depth=1, n_estimators=100, score=0.7897350993377483, total=   0.0s\n",
      "[CV] learning_rate=0.1, max_depth=1, n_estimators=100 ................\n",
      "[CV]  learning_rate=0.1, max_depth=1, n_estimators=100, score=0.8590381426202321, total=   0.0s\n",
      "[CV] learning_rate=0.1, max_depth=1, n_estimators=1000 ...............\n",
      "[CV]  learning_rate=0.1, max_depth=1, n_estimators=1000, score=0.8162251655629139, total=   0.3s\n",
      "[CV] learning_rate=0.1, max_depth=1, n_estimators=1000 ...............\n",
      "[CV]  learning_rate=0.1, max_depth=1, n_estimators=1000, score=0.8112582781456954, total=   0.3s\n",
      "[CV] learning_rate=0.1, max_depth=1, n_estimators=1000 ...............\n",
      "[CV]  learning_rate=0.1, max_depth=1, n_estimators=1000, score=0.8325041459369817, total=   0.3s\n",
      "[CV] learning_rate=0.1, max_depth=3, n_estimators=100 ................\n",
      "[CV]  learning_rate=0.1, max_depth=3, n_estimators=100, score=0.8162251655629139, total=   0.1s\n",
      "[CV] learning_rate=0.1, max_depth=3, n_estimators=100 ................\n",
      "[CV]  learning_rate=0.1, max_depth=3, n_estimators=100, score=0.7996688741721855, total=   0.1s\n",
      "[CV] learning_rate=0.1, max_depth=3, n_estimators=100 ................\n",
      "[CV]  learning_rate=0.1, max_depth=3, n_estimators=100, score=0.8325041459369817, total=   0.1s\n",
      "[CV] learning_rate=0.1, max_depth=3, n_estimators=1000 ...............\n",
      "[CV]  learning_rate=0.1, max_depth=3, n_estimators=1000, score=0.8311258278145696, total=   0.7s\n",
      "[CV] learning_rate=0.1, max_depth=3, n_estimators=1000 ...............\n",
      "[CV]  learning_rate=0.1, max_depth=3, n_estimators=1000, score=0.8029801324503312, total=   0.7s\n",
      "[CV] learning_rate=0.1, max_depth=3, n_estimators=1000 ...............\n",
      "[CV]  learning_rate=0.1, max_depth=3, n_estimators=1000, score=0.8374792703150912, total=   0.7s\n",
      "[CV] learning_rate=0.1, max_depth=5, n_estimators=100 ................\n",
      "[CV]  learning_rate=0.1, max_depth=5, n_estimators=100, score=0.8195364238410596, total=   0.1s\n",
      "[CV] learning_rate=0.1, max_depth=5, n_estimators=100 ................\n",
      "[CV]  learning_rate=0.1, max_depth=5, n_estimators=100, score=0.7963576158940397, total=   0.1s\n",
      "[CV] learning_rate=0.1, max_depth=5, n_estimators=100 ................\n",
      "[CV]  learning_rate=0.1, max_depth=5, n_estimators=100, score=0.8424543946932007, total=   0.1s\n",
      "[CV] learning_rate=0.1, max_depth=5, n_estimators=1000 ...............\n",
      "[CV]  learning_rate=0.1, max_depth=5, n_estimators=1000, score=0.8344370860927153, total=   1.0s\n",
      "[CV] learning_rate=0.1, max_depth=5, n_estimators=1000 ...............\n",
      "[CV]  learning_rate=0.1, max_depth=5, n_estimators=1000, score=0.8245033112582781, total=   1.0s\n",
      "[CV] learning_rate=0.1, max_depth=5, n_estimators=1000 ...............\n",
      "[CV]  learning_rate=0.1, max_depth=5, n_estimators=1000, score=0.814262023217247, total=   1.1s\n",
      "[CV] learning_rate=0.1, max_depth=7, n_estimators=100 ................\n",
      "[CV]  learning_rate=0.1, max_depth=7, n_estimators=100, score=0.8145695364238411, total=   0.2s\n",
      "[CV] learning_rate=0.1, max_depth=7, n_estimators=100 ................\n",
      "[CV]  learning_rate=0.1, max_depth=7, n_estimators=100, score=0.7947019867549668, total=   0.2s\n",
      "[CV] learning_rate=0.1, max_depth=7, n_estimators=100 ................\n",
      "[CV]  learning_rate=0.1, max_depth=7, n_estimators=100, score=0.814262023217247, total=   0.2s\n",
      "[CV] learning_rate=0.1, max_depth=7, n_estimators=1000 ...............\n",
      "[CV]  learning_rate=0.1, max_depth=7, n_estimators=1000, score=0.8178807947019867, total=   1.4s\n",
      "[CV] learning_rate=0.1, max_depth=7, n_estimators=1000 ...............\n",
      "[CV]  learning_rate=0.1, max_depth=7, n_estimators=1000, score=0.8410596026490066, total=   1.4s\n",
      "[CV] learning_rate=0.1, max_depth=7, n_estimators=1000 ...............\n",
      "[CV]  learning_rate=0.1, max_depth=7, n_estimators=1000, score=0.8076285240464345, total=   1.4s\n",
      "[CV] learning_rate=1, max_depth=1, n_estimators=100 ..................\n",
      "[CV]  learning_rate=1, max_depth=1, n_estimators=100, score=0.8112582781456954, total=   0.0s\n",
      "[CV] learning_rate=1, max_depth=1, n_estimators=100 ..................\n",
      "[CV]  learning_rate=1, max_depth=1, n_estimators=100, score=0.8062913907284768, total=   0.0s\n",
      "[CV] learning_rate=1, max_depth=1, n_estimators=100 ..................\n",
      "[CV]  learning_rate=1, max_depth=1, n_estimators=100, score=0.8291873963515755, total=   0.0s\n",
      "[CV] learning_rate=1, max_depth=1, n_estimators=1000 .................\n",
      "[CV]  learning_rate=1, max_depth=1, n_estimators=1000, score=0.7996688741721855, total=   0.3s\n",
      "[CV] learning_rate=1, max_depth=1, n_estimators=1000 .................\n"
     ]
    },
    {
     "name": "stdout",
     "output_type": "stream",
     "text": [
      "[CV]  learning_rate=1, max_depth=1, n_estimators=1000, score=0.7913907284768212, total=   0.3s\n",
      "[CV] learning_rate=1, max_depth=1, n_estimators=1000 .................\n",
      "[CV]  learning_rate=1, max_depth=1, n_estimators=1000, score=0.8308457711442786, total=   0.4s\n",
      "[CV] learning_rate=1, max_depth=3, n_estimators=100 ..................\n",
      "[CV]  learning_rate=1, max_depth=3, n_estimators=100, score=0.8178807947019867, total=   0.1s\n",
      "[CV] learning_rate=1, max_depth=3, n_estimators=100 ..................\n",
      "[CV]  learning_rate=1, max_depth=3, n_estimators=100, score=0.8096026490066225, total=   0.1s\n",
      "[CV] learning_rate=1, max_depth=3, n_estimators=100 ..................\n",
      "[CV]  learning_rate=1, max_depth=3, n_estimators=100, score=0.8175787728026535, total=   0.1s\n",
      "[CV] learning_rate=1, max_depth=3, n_estimators=1000 .................\n",
      "[CV]  learning_rate=1, max_depth=3, n_estimators=1000, score=0.8195364238410596, total=   0.7s\n",
      "[CV] learning_rate=1, max_depth=3, n_estimators=1000 .................\n",
      "[CV]  learning_rate=1, max_depth=3, n_estimators=1000, score=0.8311258278145696, total=   0.7s\n",
      "[CV] learning_rate=1, max_depth=3, n_estimators=1000 .................\n",
      "[CV]  learning_rate=1, max_depth=3, n_estimators=1000, score=0.7993366500829188, total=   0.7s\n",
      "[CV] learning_rate=1, max_depth=5, n_estimators=100 ..................\n",
      "[CV]  learning_rate=1, max_depth=5, n_estimators=100, score=0.8178807947019867, total=   0.1s\n",
      "[CV] learning_rate=1, max_depth=5, n_estimators=100 ..................\n",
      "[CV]  learning_rate=1, max_depth=5, n_estimators=100, score=0.8509933774834437, total=   0.1s\n",
      "[CV] learning_rate=1, max_depth=5, n_estimators=100 ..................\n",
      "[CV]  learning_rate=1, max_depth=5, n_estimators=100, score=0.7877280265339967, total=   0.1s\n",
      "[CV] learning_rate=1, max_depth=5, n_estimators=1000 .................\n",
      "[CV]  learning_rate=1, max_depth=5, n_estimators=1000, score=0.8228476821192053, total=   1.1s\n",
      "[CV] learning_rate=1, max_depth=5, n_estimators=1000 .................\n",
      "[CV]  learning_rate=1, max_depth=5, n_estimators=1000, score=0.8278145695364238, total=   1.1s\n",
      "[CV] learning_rate=1, max_depth=5, n_estimators=1000 .................\n",
      "[CV]  learning_rate=1, max_depth=5, n_estimators=1000, score=0.7893864013266998, total=   1.1s\n",
      "[CV] learning_rate=1, max_depth=7, n_estimators=100 ..................\n",
      "[CV]  learning_rate=1, max_depth=7, n_estimators=100, score=0.8145695364238411, total=   0.1s\n",
      "[CV] learning_rate=1, max_depth=7, n_estimators=100 ..................\n",
      "[CV]  learning_rate=1, max_depth=7, n_estimators=100, score=0.8427152317880795, total=   0.1s\n",
      "[CV] learning_rate=1, max_depth=7, n_estimators=100 ..................\n",
      "[CV]  learning_rate=1, max_depth=7, n_estimators=100, score=0.8059701492537313, total=   0.1s\n",
      "[CV] learning_rate=1, max_depth=7, n_estimators=1000 .................\n",
      "[CV]  learning_rate=1, max_depth=7, n_estimators=1000, score=0.8096026490066225, total=   1.4s\n",
      "[CV] learning_rate=1, max_depth=7, n_estimators=1000 .................\n",
      "[CV]  learning_rate=1, max_depth=7, n_estimators=1000, score=0.8344370860927153, total=   1.5s\n",
      "[CV] learning_rate=1, max_depth=7, n_estimators=1000 .................\n",
      "[CV]  learning_rate=1, max_depth=7, n_estimators=1000, score=0.8009950248756219, total=   1.4s\n"
     ]
    },
    {
     "name": "stderr",
     "output_type": "stream",
     "text": [
      "[Parallel(n_jobs=1)]: Done  72 out of  72 | elapsed:   38.5s finished\n"
     ]
    }
   ],
   "source": [
    "# https://towardsdatascience.com/fine-tuning-xgboost-in-python-like-a-boss-b4543ed8b1e\n",
    "xgb_grid = XGBClassifier(random_state=random_state_)\n",
    "learning_rate = [0.01, 0.1, 1]\n",
    "max_depth = [1, 3, 5, 7]\n",
    "n_estimators = [100, 1000]\n",
    "hyperparameters = dict(learning_rate=learning_rate, max_depth=max_depth, n_estimators=n_estimators)\n",
    "grid_results = GridSearchCV(xgb_grid, \n",
    "                            hyperparameters, \n",
    "                            verbose=3, \n",
    "                            cv=3, \n",
    "                            scoring='recall').fit(X_train_std_df, y_train) #Will output the probability."
   ]
  },
  {
   "cell_type": "code",
   "execution_count": 73,
   "metadata": {
    "scrolled": true
   },
   "outputs": [
    {
     "name": "stdout",
     "output_type": "stream",
     "text": [
      "{'learning_rate': 0.01, 'max_depth': 1, 'n_estimators': 100}\n"
     ]
    }
   ],
   "source": [
    "print(grid_results.best_params_)"
   ]
  },
  {
   "cell_type": "code",
   "execution_count": 74,
   "metadata": {
    "scrolled": true
   },
   "outputs": [
    {
     "name": "stdout",
     "output_type": "stream",
     "text": [
      "0.8741040581888945\n"
     ]
    }
   ],
   "source": [
    "print(grid_results.best_score_) #It is assumed that this combination will yield the best performing model."
   ]
  },
  {
   "cell_type": "code",
   "execution_count": 75,
   "metadata": {
    "scrolled": false
   },
   "outputs": [
    {
     "name": "stdout",
     "output_type": "stream",
     "text": [
      "XGBClassifier(base_score=0.5, booster='gbtree', colsample_bylevel=1,\n",
      "       colsample_bytree=1, gamma=0, learning_rate=0.01, max_delta_step=0,\n",
      "       max_depth=1, min_child_weight=1, missing=None, n_estimators=100,\n",
      "       n_jobs=1, nthread=None, objective='binary:logistic',\n",
      "       random_state=42, reg_alpha=0, reg_lambda=1, scale_pos_weight=1,\n",
      "       seed=None, silent=True, subsample=1)\n"
     ]
    }
   ],
   "source": [
    "xgb_ = grid_results.best_estimator_\n",
    "print(xgb_)"
   ]
  },
  {
   "cell_type": "code",
   "execution_count": 76,
   "metadata": {
    "collapsed": true,
    "scrolled": true
   },
   "outputs": [],
   "source": [
    "xgb_tuned = grid_results.best_estimator_"
   ]
  },
  {
   "cell_type": "code",
   "execution_count": 77,
   "metadata": {
    "scrolled": true
   },
   "outputs": [],
   "source": [
    "xgb_tuned.fit(X_train_std_df, y_train)\n",
    "y_pred_class = xgb_tuned.predict(X_test_std_df)"
   ]
  },
  {
   "cell_type": "code",
   "execution_count": 78,
   "metadata": {
    "scrolled": true
   },
   "outputs": [
    {
     "name": "stdout",
     "output_type": "stream",
     "text": [
      "ROC_AUC Score: 0.7273920254797698\n",
      "---\n",
      "Classification Report:\n",
      "             precision    recall  f1-score   support\n",
      "\n",
      "          0       0.84      0.56      0.67      3364\n",
      "          1       0.67      0.89      0.77      3363\n",
      "\n",
      "avg / total       0.76      0.73      0.72      6727\n",
      "\n",
      "---\n",
      "Confusion Matrix:\n",
      "[[1888 1476]\n",
      " [ 358 3005]]\n"
     ]
    }
   ],
   "source": [
    "print('ROC_AUC Score: {}'. format(roc_auc_score(y_test, y_pred_class)))\n",
    "print('---')\n",
    "print('Classification Report:')\n",
    "print('{}'.format(classification_report(y_test, y_pred_class)))\n",
    "print('---')\n",
    "print('Confusion Matrix:')\n",
    "print('{}'.format(confusion_matrix(y_test, y_pred_class)))"
   ]
  },
  {
   "cell_type": "code",
   "execution_count": 79,
   "metadata": {
    "scrolled": true
   },
   "outputs": [
    {
     "data": {
      "image/png": "[encoded data removed]",
      "text/plain": [
       "<Figure size 432x288 with 1 Axes>"
      ]
     },
     "metadata": {},
     "output_type": "display_data"
    }
   ],
   "source": [
    "learning_curves(xgb_tuned, X_train_std_df, y_train, \"XGB Classifier\", 3)"
   ]
  },
  {
   "cell_type": "code",
   "execution_count": 80,
   "metadata": {
    "scrolled": true
   },
   "outputs": [
    {
     "data": {
      "image/png": "[encoded data removed]",
      "text/plain": [
       "<Figure size 432x288 with 1 Axes>"
      ]
     },
     "metadata": {},
     "output_type": "display_data"
    }
   ],
   "source": [
    "auc_roc_curves(xgb_tuned, X_test_std_df, y_test, 'XGB Classifier')"
   ]
  },
  {
   "cell_type": "code",
   "execution_count": 81,
   "metadata": {},
   "outputs": [
    {
     "data": {
      "image/png": "[encoded data removed]",
      "text/plain": [
       "<Figure size 432x288 with 1 Axes>"
      ]
     },
     "metadata": {},
     "output_type": "display_data"
    }
   ],
   "source": [
    "from xgboost import plot_tree\n",
    "plot_tree(xgb_tuned, num_trees=4, rankdir='LR')\n",
    "plt.show()"
   ]
  },
  {
   "cell_type": "code",
   "execution_count": 82,
   "metadata": {},
   "outputs": [
    {
     "name": "stdout",
     "output_type": "stream",
     "text": [
      "Elapsed Time 43.76379680633545\n"
     ]
    }
   ],
   "source": [
    "end0 = time.time()\n",
    "print('Elapsed Time {}'.format(end0 - start0))"
   ]
  }
 ],
 "metadata": {
  "kernelspec": {
   "display_name": "Python 3",
   "language": "python",
   "name": "python3"
  },
  "language_info": {
   "codemirror_mode": {
    "name": "ipython",
    "version": 3
   },
   "file_extension": ".py",
   "mimetype": "text/x-python",
   "name": "python",
   "nbconvert_exporter": "python",
   "pygments_lexer": "ipython3",
   "version": "3.6.3"
  }
 },
 "nbformat": 4,
 "nbformat_minor": 2
}
